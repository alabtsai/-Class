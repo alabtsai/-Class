{
 "cells": [
  {
   "cell_type": "markdown",
   "metadata": {},
   "source": [
    "#  練習題  ( 03/21)\n",
    "#  請執行 jupyter notebook 求出下面結果\n",
    "##  (1) 請問以下哪些變數的命名是Python **不能** 接受的? \n",
    "##   a_\n",
    "##   1a\n",
    "##   __1\n",
    "##   return \n",
    "##   a1\n",
    "\n"
   ]
  },
  {
   "cell_type": "markdown",
   "metadata": {},
   "source": [
    "# (2) 根據 13=3*4+1  請問下列 Python 運算結果為何? \n",
    "## 13//4  = ? \n",
    "## 13%4 = ?"
   ]
  },
  {
   "cell_type": "markdown",
   "metadata": {},
   "source": [
    "# (3) 有關  string : \n",
    "##  print(\"ABC\",\"def\") ? \n",
    "##  print(\"ABC\"+\"def\")? \n",
    "***"
   ]
  },
  {
   "cell_type": "markdown",
   "metadata": {},
   "source": [
    "## 上課教材網址　：　https://github.com/alabtsai/FGU-Class"
   ]
  },
  {
   "cell_type": "markdown",
   "metadata": {},
   "source": [
    "# Good reference for Python web:\n",
    "##  文件 : https://docs.python.org/3/library/functions.html　\n",
    "##  文件 : https://docs.python.org/3\n",
    "## (or google  python3 教學)\n",
    "***\n",
    "\n",
    "# Using jupyter notebook:\n",
    "## https://www.youtube.com/watch?v=HW29067qVWk\n"
   ]
  },
  {
   "cell_type": "code",
   "execution_count": null,
   "metadata": {},
   "outputs": [],
   "source": []
  }
 ],
 "metadata": {
  "kernelspec": {
   "display_name": "Python 3",
   "language": "python",
   "name": "python3"
  },
  "language_info": {
   "codemirror_mode": {
    "name": "ipython",
    "version": 3
   },
   "file_extension": ".py",
   "mimetype": "text/x-python",
   "name": "python",
   "nbconvert_exporter": "python",
   "pygments_lexer": "ipython3",
   "version": "3.6.4"
  }
 },
 "nbformat": 4,
 "nbformat_minor": 2
}
