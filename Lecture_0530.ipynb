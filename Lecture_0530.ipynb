{
 "cells": [
  {
   "cell_type": "code",
   "execution_count": 1,
   "metadata": {
    "collapsed": true
   },
   "outputs": [],
   "source": [
    "import json\n",
    "import requests\n",
    "res=requests.get(\"https://od.cdc.gov.tw/eic/NHI_EnteroviralInfection.json\")"
   ]
  },
  {
   "cell_type": "code",
   "execution_count": 2,
   "metadata": {
    "collapsed": true
   },
   "outputs": [],
   "source": [
    "result=json.loads(res.text)"
   ]
  },
  {
   "cell_type": "code",
   "execution_count": 3,
   "metadata": {
    "collapsed": true
   },
   "outputs": [],
   "source": [
    "import pandas as pd\n",
    "df=pd.DataFrame(result)"
   ]
  },
  {
   "cell_type": "code",
   "execution_count": 4,
   "metadata": {},
   "outputs": [
    {
     "name": "stdout",
     "output_type": "stream",
     "text": [
      "<class 'pandas.core.frame.DataFrame'>\n",
      "RangeIndex: 112173 entries, 0 to 112172\n",
      "Data columns (total 7 columns):\n",
      "健保就診總人次      112173 non-null object\n",
      "就診類別         112173 non-null object\n",
      "年            112173 non-null object\n",
      "年齡別          112173 non-null object\n",
      "縣市           112173 non-null object\n",
      "腸病毒健保就診人次    112173 non-null object\n",
      "週            112173 non-null object\n",
      "dtypes: object(7)\n",
      "memory usage: 6.0+ MB\n"
     ]
    }
   ],
   "source": [
    "df.info()"
   ]
  },
  {
   "cell_type": "code",
   "execution_count": 5,
   "metadata": {
    "collapsed": true
   },
   "outputs": [],
   "source": [
    "df['腸病毒健保就診人次'] = df['腸病毒健保就診人次'].astype(int)"
   ]
  },
  {
   "cell_type": "code",
   "execution_count": 6,
   "metadata": {},
   "outputs": [
    {
     "name": "stdout",
     "output_type": "stream",
     "text": [
      "<class 'pandas.core.frame.DataFrame'>\n",
      "RangeIndex: 112173 entries, 0 to 112172\n",
      "Data columns (total 7 columns):\n",
      "健保就診總人次      112173 non-null object\n",
      "就診類別         112173 non-null object\n",
      "年            112173 non-null object\n",
      "年齡別          112173 non-null object\n",
      "縣市           112173 non-null object\n",
      "腸病毒健保就診人次    112173 non-null int64\n",
      "週            112173 non-null object\n",
      "dtypes: int64(1), object(6)\n",
      "memory usage: 6.0+ MB\n"
     ]
    }
   ],
   "source": [
    "df.info()"
   ]
  },
  {
   "cell_type": "code",
   "execution_count": 7,
   "metadata": {},
   "outputs": [
    {
     "data": {
      "text/plain": [
       "年\n",
       "2008    360000\n",
       "2009    270178\n",
       "2010    855397\n",
       "2011    409542\n",
       "2012    483404\n",
       "2013    578879\n",
       "2014    503170\n",
       "2015    535773\n",
       "2016    590212\n",
       "2017    455533\n",
       "2018     90356\n",
       "Name: 腸病毒健保就診人次, dtype: int64"
      ]
     },
     "execution_count": 7,
     "metadata": {},
     "output_type": "execute_result"
    }
   ],
   "source": [
    "df.groupby('年')['腸病毒健保就診人次'].sum()"
   ]
  },
  {
   "cell_type": "code",
   "execution_count": 8,
   "metadata": {},
   "outputs": [
    {
     "name": "stdout",
     "output_type": "stream",
     "text": [
      "<class 'pandas.core.series.Series'>\n"
     ]
    }
   ],
   "source": [
    "print(type(df.groupby('年')['腸病毒健保就診人次'].sum()))"
   ]
  },
  {
   "cell_type": "code",
   "execution_count": 9,
   "metadata": {
    "collapsed": true
   },
   "outputs": [],
   "source": [
    "se1=df.groupby('年')['腸病毒健保就診人次'].sum()"
   ]
  },
  {
   "cell_type": "code",
   "execution_count": 10,
   "metadata": {},
   "outputs": [
    {
     "data": {
      "text/plain": [
       "Index(['2008', '2009', '2010', '2011', '2012', '2013', '2014', '2015', '2016',\n",
       "       '2017', '2018'],\n",
       "      dtype='object', name='年')"
      ]
     },
     "execution_count": 10,
     "metadata": {},
     "output_type": "execute_result"
    }
   ],
   "source": [
    "se1.index"
   ]
  },
  {
   "cell_type": "code",
   "execution_count": 11,
   "metadata": {},
   "outputs": [
    {
     "data": {
      "text/plain": [
       "array([360000, 270178, 855397, 409542, 483404, 578879, 503170, 535773,\n",
       "       590212, 455533,  90356])"
      ]
     },
     "execution_count": 11,
     "metadata": {},
     "output_type": "execute_result"
    }
   ],
   "source": [
    "se1.values"
   ]
  },
  {
   "cell_type": "code",
   "execution_count": 12,
   "metadata": {
    "collapsed": true
   },
   "outputs": [],
   "source": [
    "%matplotlib inline\n",
    "import matplotlib.pyplot as plt"
   ]
  },
  {
   "cell_type": "code",
   "execution_count": 61,
   "metadata": {},
   "outputs": [
    {
     "data": {
      "text/plain": [
       "Text(0,0.5,'num of people getting Enterovirus')"
      ]
     },
     "execution_count": 61,
     "metadata": {},
     "output_type": "execute_result"
    },
    {
     "data": {
      "image/png": "[encoded data removed]",
      "text/plain": [
       "<matplotlib.figure.Figure at 0x7fe415b66048>"
      ]
     },
     "metadata": {},
     "output_type": "display_data"
    }
   ],
   "source": [
    "plt.figure(figsize=(6,4))\n",
    "\n",
    "plt.plot(se1.index,   se1.values,  'o-', color='red')\n",
    "plt.title(\"People in Taiwan with Enterovirus\")\n",
    "plt.xlabel('Year')\n",
    "plt.ylabel(\"num of people getting Enterovirus\")"
   ]
  },
  {
   "cell_type": "code",
   "execution_count": 65,
   "metadata": {
    "collapsed": true
   },
   "outputs": [],
   "source": [
    "ta1=df.groupby('年')[['腸病毒健保就診人次']].sum()"
   ]
  },
  {
   "cell_type": "code",
   "execution_count": 66,
   "metadata": {},
   "outputs": [
    {
     "name": "stdout",
     "output_type": "stream",
     "text": [
      "<class 'pandas.core.frame.DataFrame'>\n"
     ]
    }
   ],
   "source": [
    "print(type(ta1))"
   ]
  },
  {
   "cell_type": "code",
   "execution_count": 67,
   "metadata": {},
   "outputs": [
    {
     "data": {
      "text/html": [
       "<div>\n",
       "<style>\n",
       "    .dataframe thead tr:only-child th {\n",
       "        text-align: right;\n",
       "    }\n",
       "\n",
       "    .dataframe thead th {\n",
       "        text-align: left;\n",
       "    }\n",
       "\n",
       "    .dataframe tbody tr th {\n",
       "        vertical-align: top;\n",
       "    }\n",
       "</style>\n",
       "<table border=\"1\" class=\"dataframe\">\n",
       "  <thead>\n",
       "    <tr style=\"text-align: right;\">\n",
       "      <th></th>\n",
       "      <th>腸病毒健保就診人次</th>\n",
       "    </tr>\n",
       "    <tr>\n",
       "      <th>年</th>\n",
       "      <th></th>\n",
       "    </tr>\n",
       "  </thead>\n",
       "  <tbody>\n",
       "    <tr>\n",
       "      <th>2008</th>\n",
       "      <td>360000</td>\n",
       "    </tr>\n",
       "    <tr>\n",
       "      <th>2009</th>\n",
       "      <td>270178</td>\n",
       "    </tr>\n",
       "    <tr>\n",
       "      <th>2010</th>\n",
       "      <td>855397</td>\n",
       "    </tr>\n",
       "    <tr>\n",
       "      <th>2011</th>\n",
       "      <td>409542</td>\n",
       "    </tr>\n",
       "    <tr>\n",
       "      <th>2012</th>\n",
       "      <td>483404</td>\n",
       "    </tr>\n",
       "    <tr>\n",
       "      <th>2013</th>\n",
       "      <td>578879</td>\n",
       "    </tr>\n",
       "    <tr>\n",
       "      <th>2014</th>\n",
       "      <td>503170</td>\n",
       "    </tr>\n",
       "    <tr>\n",
       "      <th>2015</th>\n",
       "      <td>535773</td>\n",
       "    </tr>\n",
       "    <tr>\n",
       "      <th>2016</th>\n",
       "      <td>590212</td>\n",
       "    </tr>\n",
       "    <tr>\n",
       "      <th>2017</th>\n",
       "      <td>455533</td>\n",
       "    </tr>\n",
       "    <tr>\n",
       "      <th>2018</th>\n",
       "      <td>90356</td>\n",
       "    </tr>\n",
       "  </tbody>\n",
       "</table>\n",
       "</div>"
      ],
      "text/plain": [
       "      腸病毒健保就診人次\n",
       "年              \n",
       "2008     360000\n",
       "2009     270178\n",
       "2010     855397\n",
       "2011     409542\n",
       "2012     483404\n",
       "2013     578879\n",
       "2014     503170\n",
       "2015     535773\n",
       "2016     590212\n",
       "2017     455533\n",
       "2018      90356"
      ]
     },
     "execution_count": 67,
     "metadata": {},
     "output_type": "execute_result"
    }
   ],
   "source": [
    "ta1"
   ]
  },
  {
   "cell_type": "code",
   "execution_count": 68,
   "metadata": {},
   "outputs": [
    {
     "data": {
      "text/plain": [
       "<matplotlib.axes._subplots.AxesSubplot at 0x7fe415aab9e8>"
      ]
     },
     "execution_count": 68,
     "metadata": {},
     "output_type": "execute_result"
    },
    {
     "data": {
      "image/png": "[encoded data removed]",
      "text/plain": [
       "<matplotlib.figure.Figure at 0x7fe415af2550>"
      ]
     },
     "metadata": {},
     "output_type": "display_data"
    }
   ],
   "source": [
    "ta1.plot()"
   ]
  },
  {
   "cell_type": "code",
   "execution_count": 25,
   "metadata": {},
   "outputs": [],
   "source": [
    "dfm=df.pivot_table(values='腸病毒健保就診人次',index=['年'],columns='縣市',aggfunc='sum')\n"
   ]
  },
  {
   "cell_type": "code",
   "execution_count": 26,
   "metadata": {},
   "outputs": [
    {
     "data": {
      "text/html": [
       "<div>\n",
       "<style>\n",
       "    .dataframe thead tr:only-child th {\n",
       "        text-align: right;\n",
       "    }\n",
       "\n",
       "    .dataframe thead th {\n",
       "        text-align: left;\n",
       "    }\n",
       "\n",
       "    .dataframe tbody tr th {\n",
       "        vertical-align: top;\n",
       "    }\n",
       "</style>\n",
       "<table border=\"1\" class=\"dataframe\">\n",
       "  <thead>\n",
       "    <tr style=\"text-align: right;\">\n",
       "      <th>縣市</th>\n",
       "      <th>南投縣</th>\n",
       "      <th>台中市</th>\n",
       "      <th>台北市</th>\n",
       "      <th>台南市</th>\n",
       "      <th>台東縣</th>\n",
       "      <th>嘉義市</th>\n",
       "      <th>嘉義縣</th>\n",
       "      <th>基隆市</th>\n",
       "      <th>宜蘭縣</th>\n",
       "      <th>屏東縣</th>\n",
       "      <th>...</th>\n",
       "      <th>新竹市</th>\n",
       "      <th>新竹縣</th>\n",
       "      <th>桃園市</th>\n",
       "      <th>澎湖縣</th>\n",
       "      <th>花蓮縣</th>\n",
       "      <th>苗栗縣</th>\n",
       "      <th>連江縣</th>\n",
       "      <th>金門縣</th>\n",
       "      <th>雲林縣</th>\n",
       "      <th>高雄市</th>\n",
       "    </tr>\n",
       "    <tr>\n",
       "      <th>年</th>\n",
       "      <th></th>\n",
       "      <th></th>\n",
       "      <th></th>\n",
       "      <th></th>\n",
       "      <th></th>\n",
       "      <th></th>\n",
       "      <th></th>\n",
       "      <th></th>\n",
       "      <th></th>\n",
       "      <th></th>\n",
       "      <th></th>\n",
       "      <th></th>\n",
       "      <th></th>\n",
       "      <th></th>\n",
       "      <th></th>\n",
       "      <th></th>\n",
       "      <th></th>\n",
       "      <th></th>\n",
       "      <th></th>\n",
       "      <th></th>\n",
       "      <th></th>\n",
       "    </tr>\n",
       "  </thead>\n",
       "  <tbody>\n",
       "    <tr>\n",
       "      <th>2008</th>\n",
       "      <td>10070</td>\n",
       "      <td>55893</td>\n",
       "      <td>27644</td>\n",
       "      <td>41518</td>\n",
       "      <td>2940</td>\n",
       "      <td>8285</td>\n",
       "      <td>4046</td>\n",
       "      <td>4838</td>\n",
       "      <td>7301</td>\n",
       "      <td>8328</td>\n",
       "      <td>...</td>\n",
       "      <td>8022</td>\n",
       "      <td>10343</td>\n",
       "      <td>35016</td>\n",
       "      <td>1526</td>\n",
       "      <td>2665</td>\n",
       "      <td>10263</td>\n",
       "      <td>82</td>\n",
       "      <td>1741</td>\n",
       "      <td>14903</td>\n",
       "      <td>35102</td>\n",
       "    </tr>\n",
       "    <tr>\n",
       "      <th>2009</th>\n",
       "      <td>6798</td>\n",
       "      <td>47000</td>\n",
       "      <td>18645</td>\n",
       "      <td>25028</td>\n",
       "      <td>2865</td>\n",
       "      <td>6965</td>\n",
       "      <td>3185</td>\n",
       "      <td>4353</td>\n",
       "      <td>7339</td>\n",
       "      <td>7894</td>\n",
       "      <td>...</td>\n",
       "      <td>5783</td>\n",
       "      <td>7810</td>\n",
       "      <td>25310</td>\n",
       "      <td>2211</td>\n",
       "      <td>3289</td>\n",
       "      <td>7719</td>\n",
       "      <td>90</td>\n",
       "      <td>1475</td>\n",
       "      <td>11105</td>\n",
       "      <td>24356</td>\n",
       "    </tr>\n",
       "    <tr>\n",
       "      <th>2010</th>\n",
       "      <td>23820</td>\n",
       "      <td>139973</td>\n",
       "      <td>71167</td>\n",
       "      <td>72514</td>\n",
       "      <td>4589</td>\n",
       "      <td>19743</td>\n",
       "      <td>9300</td>\n",
       "      <td>13845</td>\n",
       "      <td>15705</td>\n",
       "      <td>19837</td>\n",
       "      <td>...</td>\n",
       "      <td>23591</td>\n",
       "      <td>26961</td>\n",
       "      <td>86691</td>\n",
       "      <td>2582</td>\n",
       "      <td>6537</td>\n",
       "      <td>19306</td>\n",
       "      <td>143</td>\n",
       "      <td>3123</td>\n",
       "      <td>30872</td>\n",
       "      <td>80403</td>\n",
       "    </tr>\n",
       "    <tr>\n",
       "      <th>2011</th>\n",
       "      <td>8923</td>\n",
       "      <td>56156</td>\n",
       "      <td>35338</td>\n",
       "      <td>36270</td>\n",
       "      <td>2434</td>\n",
       "      <td>10290</td>\n",
       "      <td>5518</td>\n",
       "      <td>6787</td>\n",
       "      <td>7550</td>\n",
       "      <td>9593</td>\n",
       "      <td>...</td>\n",
       "      <td>10802</td>\n",
       "      <td>11285</td>\n",
       "      <td>46764</td>\n",
       "      <td>1119</td>\n",
       "      <td>3658</td>\n",
       "      <td>8641</td>\n",
       "      <td>20</td>\n",
       "      <td>1091</td>\n",
       "      <td>19556</td>\n",
       "      <td>35403</td>\n",
       "    </tr>\n",
       "    <tr>\n",
       "      <th>2012</th>\n",
       "      <td>8896</td>\n",
       "      <td>69643</td>\n",
       "      <td>45551</td>\n",
       "      <td>39939</td>\n",
       "      <td>2407</td>\n",
       "      <td>8394</td>\n",
       "      <td>4054</td>\n",
       "      <td>8654</td>\n",
       "      <td>10368</td>\n",
       "      <td>11873</td>\n",
       "      <td>...</td>\n",
       "      <td>13996</td>\n",
       "      <td>14115</td>\n",
       "      <td>50126</td>\n",
       "      <td>1037</td>\n",
       "      <td>4223</td>\n",
       "      <td>12465</td>\n",
       "      <td>27</td>\n",
       "      <td>930</td>\n",
       "      <td>15872</td>\n",
       "      <td>40008</td>\n",
       "    </tr>\n",
       "    <tr>\n",
       "      <th>2013</th>\n",
       "      <td>15951</td>\n",
       "      <td>92019</td>\n",
       "      <td>46780</td>\n",
       "      <td>51551</td>\n",
       "      <td>3986</td>\n",
       "      <td>10599</td>\n",
       "      <td>5562</td>\n",
       "      <td>7625</td>\n",
       "      <td>11486</td>\n",
       "      <td>15471</td>\n",
       "      <td>...</td>\n",
       "      <td>14698</td>\n",
       "      <td>14295</td>\n",
       "      <td>53771</td>\n",
       "      <td>2435</td>\n",
       "      <td>6225</td>\n",
       "      <td>12173</td>\n",
       "      <td>260</td>\n",
       "      <td>3730</td>\n",
       "      <td>22513</td>\n",
       "      <td>54794</td>\n",
       "    </tr>\n",
       "    <tr>\n",
       "      <th>2014</th>\n",
       "      <td>12582</td>\n",
       "      <td>74662</td>\n",
       "      <td>46438</td>\n",
       "      <td>36303</td>\n",
       "      <td>2721</td>\n",
       "      <td>10651</td>\n",
       "      <td>6354</td>\n",
       "      <td>8199</td>\n",
       "      <td>11816</td>\n",
       "      <td>12271</td>\n",
       "      <td>...</td>\n",
       "      <td>14776</td>\n",
       "      <td>13737</td>\n",
       "      <td>53009</td>\n",
       "      <td>2318</td>\n",
       "      <td>3485</td>\n",
       "      <td>9710</td>\n",
       "      <td>77</td>\n",
       "      <td>2948</td>\n",
       "      <td>18784</td>\n",
       "      <td>43369</td>\n",
       "    </tr>\n",
       "    <tr>\n",
       "      <th>2015</th>\n",
       "      <td>11099</td>\n",
       "      <td>81918</td>\n",
       "      <td>47871</td>\n",
       "      <td>39942</td>\n",
       "      <td>2849</td>\n",
       "      <td>9871</td>\n",
       "      <td>6601</td>\n",
       "      <td>9259</td>\n",
       "      <td>11529</td>\n",
       "      <td>14713</td>\n",
       "      <td>...</td>\n",
       "      <td>17839</td>\n",
       "      <td>15029</td>\n",
       "      <td>52724</td>\n",
       "      <td>946</td>\n",
       "      <td>5792</td>\n",
       "      <td>10727</td>\n",
       "      <td>70</td>\n",
       "      <td>1676</td>\n",
       "      <td>17767</td>\n",
       "      <td>48594</td>\n",
       "    </tr>\n",
       "    <tr>\n",
       "      <th>2016</th>\n",
       "      <td>14219</td>\n",
       "      <td>98011</td>\n",
       "      <td>49906</td>\n",
       "      <td>51576</td>\n",
       "      <td>3470</td>\n",
       "      <td>8734</td>\n",
       "      <td>6251</td>\n",
       "      <td>8948</td>\n",
       "      <td>11781</td>\n",
       "      <td>13441</td>\n",
       "      <td>...</td>\n",
       "      <td>17708</td>\n",
       "      <td>14039</td>\n",
       "      <td>57241</td>\n",
       "      <td>2717</td>\n",
       "      <td>5543</td>\n",
       "      <td>13219</td>\n",
       "      <td>153</td>\n",
       "      <td>2517</td>\n",
       "      <td>17566</td>\n",
       "      <td>55025</td>\n",
       "    </tr>\n",
       "    <tr>\n",
       "      <th>2017</th>\n",
       "      <td>9309</td>\n",
       "      <td>66735</td>\n",
       "      <td>45752</td>\n",
       "      <td>28227</td>\n",
       "      <td>3094</td>\n",
       "      <td>6375</td>\n",
       "      <td>4517</td>\n",
       "      <td>7547</td>\n",
       "      <td>10905</td>\n",
       "      <td>9967</td>\n",
       "      <td>...</td>\n",
       "      <td>13650</td>\n",
       "      <td>10882</td>\n",
       "      <td>50620</td>\n",
       "      <td>844</td>\n",
       "      <td>4435</td>\n",
       "      <td>9199</td>\n",
       "      <td>66</td>\n",
       "      <td>1129</td>\n",
       "      <td>13792</td>\n",
       "      <td>44417</td>\n",
       "    </tr>\n",
       "    <tr>\n",
       "      <th>2018</th>\n",
       "      <td>1926</td>\n",
       "      <td>12356</td>\n",
       "      <td>8143</td>\n",
       "      <td>7330</td>\n",
       "      <td>757</td>\n",
       "      <td>1573</td>\n",
       "      <td>1316</td>\n",
       "      <td>2399</td>\n",
       "      <td>1892</td>\n",
       "      <td>1855</td>\n",
       "      <td>...</td>\n",
       "      <td>3307</td>\n",
       "      <td>2951</td>\n",
       "      <td>9227</td>\n",
       "      <td>162</td>\n",
       "      <td>899</td>\n",
       "      <td>1635</td>\n",
       "      <td>38</td>\n",
       "      <td>531</td>\n",
       "      <td>2593</td>\n",
       "      <td>8460</td>\n",
       "    </tr>\n",
       "  </tbody>\n",
       "</table>\n",
       "<p>11 rows × 22 columns</p>\n",
       "</div>"
      ],
      "text/plain": [
       "縣市      南投縣     台中市    台北市    台南市   台東縣    嘉義市   嘉義縣    基隆市    宜蘭縣    屏東縣  \\\n",
       "年                                                                           \n",
       "2008  10070   55893  27644  41518  2940   8285  4046   4838   7301   8328   \n",
       "2009   6798   47000  18645  25028  2865   6965  3185   4353   7339   7894   \n",
       "2010  23820  139973  71167  72514  4589  19743  9300  13845  15705  19837   \n",
       "2011   8923   56156  35338  36270  2434  10290  5518   6787   7550   9593   \n",
       "2012   8896   69643  45551  39939  2407   8394  4054   8654  10368  11873   \n",
       "2013  15951   92019  46780  51551  3986  10599  5562   7625  11486  15471   \n",
       "2014  12582   74662  46438  36303  2721  10651  6354   8199  11816  12271   \n",
       "2015  11099   81918  47871  39942  2849   9871  6601   9259  11529  14713   \n",
       "2016  14219   98011  49906  51576  3470   8734  6251   8948  11781  13441   \n",
       "2017   9309   66735  45752  28227  3094   6375  4517   7547  10905   9967   \n",
       "2018   1926   12356   8143   7330   757   1573  1316   2399   1892   1855   \n",
       "\n",
       "縣市    ...      新竹市    新竹縣    桃園市   澎湖縣   花蓮縣    苗栗縣  連江縣   金門縣    雲林縣    高雄市  \n",
       "年     ...                                                                     \n",
       "2008  ...     8022  10343  35016  1526  2665  10263   82  1741  14903  35102  \n",
       "2009  ...     5783   7810  25310  2211  3289   7719   90  1475  11105  24356  \n",
       "2010  ...    23591  26961  86691  2582  6537  19306  143  3123  30872  80403  \n",
       "2011  ...    10802  11285  46764  1119  3658   8641   20  1091  19556  35403  \n",
       "2012  ...    13996  14115  50126  1037  4223  12465   27   930  15872  40008  \n",
       "2013  ...    14698  14295  53771  2435  6225  12173  260  3730  22513  54794  \n",
       "2014  ...    14776  13737  53009  2318  3485   9710   77  2948  18784  43369  \n",
       "2015  ...    17839  15029  52724   946  5792  10727   70  1676  17767  48594  \n",
       "2016  ...    17708  14039  57241  2717  5543  13219  153  2517  17566  55025  \n",
       "2017  ...    13650  10882  50620   844  4435   9199   66  1129  13792  44417  \n",
       "2018  ...     3307   2951   9227   162   899   1635   38   531   2593   8460  \n",
       "\n",
       "[11 rows x 22 columns]"
      ]
     },
     "execution_count": 26,
     "metadata": {},
     "output_type": "execute_result"
    }
   ],
   "source": [
    "dfm"
   ]
  },
  {
   "cell_type": "code",
   "execution_count": 30,
   "metadata": {},
   "outputs": [
    {
     "data": {
      "text/html": [
       "<div>\n",
       "<style>\n",
       "    .dataframe thead tr:only-child th {\n",
       "        text-align: right;\n",
       "    }\n",
       "\n",
       "    .dataframe thead th {\n",
       "        text-align: left;\n",
       "    }\n",
       "\n",
       "    .dataframe tbody tr th {\n",
       "        vertical-align: top;\n",
       "    }\n",
       "</style>\n",
       "<table border=\"1\" class=\"dataframe\">\n",
       "  <thead>\n",
       "    <tr style=\"text-align: right;\">\n",
       "      <th>縣市</th>\n",
       "      <th>宜蘭縣</th>\n",
       "      <th>花蓮縣</th>\n",
       "    </tr>\n",
       "    <tr>\n",
       "      <th>年</th>\n",
       "      <th></th>\n",
       "      <th></th>\n",
       "    </tr>\n",
       "  </thead>\n",
       "  <tbody>\n",
       "    <tr>\n",
       "      <th>2008</th>\n",
       "      <td>7301</td>\n",
       "      <td>2665</td>\n",
       "    </tr>\n",
       "    <tr>\n",
       "      <th>2009</th>\n",
       "      <td>7339</td>\n",
       "      <td>3289</td>\n",
       "    </tr>\n",
       "    <tr>\n",
       "      <th>2010</th>\n",
       "      <td>15705</td>\n",
       "      <td>6537</td>\n",
       "    </tr>\n",
       "    <tr>\n",
       "      <th>2011</th>\n",
       "      <td>7550</td>\n",
       "      <td>3658</td>\n",
       "    </tr>\n",
       "    <tr>\n",
       "      <th>2012</th>\n",
       "      <td>10368</td>\n",
       "      <td>4223</td>\n",
       "    </tr>\n",
       "    <tr>\n",
       "      <th>2013</th>\n",
       "      <td>11486</td>\n",
       "      <td>6225</td>\n",
       "    </tr>\n",
       "    <tr>\n",
       "      <th>2014</th>\n",
       "      <td>11816</td>\n",
       "      <td>3485</td>\n",
       "    </tr>\n",
       "    <tr>\n",
       "      <th>2015</th>\n",
       "      <td>11529</td>\n",
       "      <td>5792</td>\n",
       "    </tr>\n",
       "    <tr>\n",
       "      <th>2016</th>\n",
       "      <td>11781</td>\n",
       "      <td>5543</td>\n",
       "    </tr>\n",
       "    <tr>\n",
       "      <th>2017</th>\n",
       "      <td>10905</td>\n",
       "      <td>4435</td>\n",
       "    </tr>\n",
       "    <tr>\n",
       "      <th>2018</th>\n",
       "      <td>1892</td>\n",
       "      <td>899</td>\n",
       "    </tr>\n",
       "  </tbody>\n",
       "</table>\n",
       "</div>"
      ],
      "text/plain": [
       "縣市      宜蘭縣   花蓮縣\n",
       "年                \n",
       "2008   7301  2665\n",
       "2009   7339  3289\n",
       "2010  15705  6537\n",
       "2011   7550  3658\n",
       "2012  10368  4223\n",
       "2013  11486  6225\n",
       "2014  11816  3485\n",
       "2015  11529  5792\n",
       "2016  11781  5543\n",
       "2017  10905  4435\n",
       "2018   1892   899"
      ]
     },
     "execution_count": 30,
     "metadata": {},
     "output_type": "execute_result"
    }
   ],
   "source": [
    "dfm1=dfm[['宜蘭縣','花蓮縣']]\n",
    "dfm1"
   ]
  },
  {
   "cell_type": "code",
   "execution_count": 64,
   "metadata": {},
   "outputs": [
    {
     "data": {
      "text/plain": [
       "Index(['2008', '2009', '2010', '2011', '2012', '2013', '2014', '2015', '2016',\n",
       "       '2017', '2018'],\n",
       "      dtype='object', name='年')"
      ]
     },
     "execution_count": 64,
     "metadata": {},
     "output_type": "execute_result"
    }
   ],
   "source": [
    "dfm1.index"
   ]
  },
  {
   "cell_type": "code",
   "execution_count": 35,
   "metadata": {
    "collapsed": true
   },
   "outputs": [],
   "source": [
    "import matplotlib"
   ]
  },
  {
   "cell_type": "code",
   "execution_count": 62,
   "metadata": {},
   "outputs": [],
   "source": [
    "#t1=[f.name for f in matplotlib.font_manager.fontManager.ttflist]\n",
    "#print(t1)\n",
    "#for item in t1:\n",
    "#    if item[:3]=='Sim':\n",
    "#        print(item)"
   ]
  },
  {
   "cell_type": "code",
   "execution_count": 63,
   "metadata": {},
   "outputs": [
    {
     "data": {
      "text/plain": [
       "<matplotlib.axes._subplots.AxesSubplot at 0x7fe415b313c8>"
      ]
     },
     "execution_count": 63,
     "metadata": {},
     "output_type": "execute_result"
    },
    {
     "data": {
      "image/png": "[encoded data removed]",
      "text/plain": [
       "<matplotlib.figure.Figure at 0x7fe415be5240>"
      ]
     },
     "metadata": {},
     "output_type": "display_data"
    }
   ],
   "source": [
    "#plt.rcParams['font.family']='DFKai-SB'\n",
    "#plt.rcParams['font.family']='Liberation Serif'\n",
    "dfm1.plot(kind='bar')"
   ]
  },
  {
   "cell_type": "code",
   "execution_count": 9,
   "metadata": {
    "collapsed": true
   },
   "outputs": [],
   "source": [
    "import seaborn as sns\n",
    "titanic=sns.load_dataset('titanic')"
   ]
  },
  {
   "cell_type": "code",
   "execution_count": 10,
   "metadata": {},
   "outputs": [
    {
     "name": "stdout",
     "output_type": "stream",
     "text": [
      "<class 'pandas.core.frame.DataFrame'>\n",
      "RangeIndex: 891 entries, 0 to 890\n",
      "Data columns (total 15 columns):\n",
      "survived       891 non-null int64\n",
      "pclass         891 non-null int64\n",
      "sex            891 non-null object\n",
      "age            714 non-null float64\n",
      "sibsp          891 non-null int64\n",
      "parch          891 non-null int64\n",
      "fare           891 non-null float64\n",
      "embarked       889 non-null object\n",
      "class          891 non-null category\n",
      "who            891 non-null object\n",
      "adult_male     891 non-null bool\n",
      "deck           203 non-null category\n",
      "embark_town    889 non-null object\n",
      "alive          891 non-null object\n",
      "alone          891 non-null bool\n",
      "dtypes: bool(2), category(2), float64(2), int64(4), object(5)\n",
      "memory usage: 80.6+ KB\n"
     ]
    }
   ],
   "source": [
    "titanic.info()"
   ]
  },
  {
   "cell_type": "code",
   "execution_count": 11,
   "metadata": {
    "collapsed": true
   },
   "outputs": [],
   "source": [
    "ser_age=titanic['age']"
   ]
  },
  {
   "cell_type": "code",
   "execution_count": 14,
   "metadata": {},
   "outputs": [
    {
     "name": "stdout",
     "output_type": "stream",
     "text": [
      "0      22.0\n",
      "1      38.0\n",
      "2      26.0\n",
      "3      35.0\n",
      "4      35.0\n",
      "5       NaN\n",
      "6      54.0\n",
      "7       2.0\n",
      "8      27.0\n",
      "9      14.0\n",
      "10      4.0\n",
      "11     58.0\n",
      "12     20.0\n",
      "13     39.0\n",
      "14     14.0\n",
      "15     55.0\n",
      "16      2.0\n",
      "17      NaN\n",
      "18     31.0\n",
      "19      NaN\n",
      "20     35.0\n",
      "21     34.0\n",
      "22     15.0\n",
      "23     28.0\n",
      "24      8.0\n",
      "25     38.0\n",
      "26      NaN\n",
      "27     19.0\n",
      "28      NaN\n",
      "29      NaN\n",
      "       ... \n",
      "861    21.0\n",
      "862    48.0\n",
      "863     NaN\n",
      "864    24.0\n",
      "865    42.0\n",
      "866    27.0\n",
      "867    31.0\n",
      "868     NaN\n",
      "869     4.0\n",
      "870    26.0\n",
      "871    47.0\n",
      "872    33.0\n",
      "873    47.0\n",
      "874    28.0\n",
      "875    15.0\n",
      "876    20.0\n",
      "877    19.0\n",
      "878     NaN\n",
      "879    56.0\n",
      "880    25.0\n",
      "881    33.0\n",
      "882    22.0\n",
      "883    28.0\n",
      "884    25.0\n",
      "885    39.0\n",
      "886    27.0\n",
      "887    19.0\n",
      "888     NaN\n",
      "889    26.0\n",
      "890    32.0\n",
      "Name: age, Length: 891, dtype: float64\n"
     ]
    }
   ],
   "source": [
    "print(ser_age)"
   ]
  },
  {
   "cell_type": "code",
   "execution_count": 15,
   "metadata": {},
   "outputs": [
    {
     "name": "stdout",
     "output_type": "stream",
     "text": [
      "<class 'pandas.core.series.Series'>\n"
     ]
    }
   ],
   "source": [
    "age_test=ser_age.isnull()\n",
    "print(type(age_test))"
   ]
  },
  {
   "cell_type": "code",
   "execution_count": 16,
   "metadata": {},
   "outputs": [
    {
     "data": {
      "text/plain": [
       "0      False\n",
       "1      False\n",
       "2      False\n",
       "3      False\n",
       "4      False\n",
       "5       True\n",
       "6      False\n",
       "7      False\n",
       "8      False\n",
       "9      False\n",
       "10     False\n",
       "11     False\n",
       "12     False\n",
       "13     False\n",
       "14     False\n",
       "15     False\n",
       "16     False\n",
       "17      True\n",
       "18     False\n",
       "19      True\n",
       "20     False\n",
       "21     False\n",
       "22     False\n",
       "23     False\n",
       "24     False\n",
       "25     False\n",
       "26      True\n",
       "27     False\n",
       "28      True\n",
       "29      True\n",
       "       ...  \n",
       "861    False\n",
       "862    False\n",
       "863     True\n",
       "864    False\n",
       "865    False\n",
       "866    False\n",
       "867    False\n",
       "868     True\n",
       "869    False\n",
       "870    False\n",
       "871    False\n",
       "872    False\n",
       "873    False\n",
       "874    False\n",
       "875    False\n",
       "876    False\n",
       "877    False\n",
       "878     True\n",
       "879    False\n",
       "880    False\n",
       "881    False\n",
       "882    False\n",
       "883    False\n",
       "884    False\n",
       "885    False\n",
       "886    False\n",
       "887    False\n",
       "888     True\n",
       "889    False\n",
       "890    False\n",
       "Name: age, Length: 891, dtype: bool"
      ]
     },
     "execution_count": 16,
     "metadata": {},
     "output_type": "execute_result"
    }
   ],
   "source": [
    "age_test"
   ]
  },
  {
   "cell_type": "code",
   "execution_count": 17,
   "metadata": {},
   "outputs": [
    {
     "name": "stdout",
     "output_type": "stream",
     "text": [
      "[5, 17, 19, 26, 28, 29, 31, 32, 36, 42, 45, 46, 47, 48, 55, 64, 65, 76, 77, 82, 87, 95, 101, 107, 109, 121, 126, 128, 140, 154, 158, 159, 166, 168, 176, 180, 181, 185, 186, 196, 198, 201, 214, 223, 229, 235, 240, 241, 250, 256, 260, 264, 270, 274, 277, 284, 295, 298, 300, 301, 303, 304, 306, 324, 330, 334, 335, 347, 351, 354, 358, 359, 364, 367, 368, 375, 384, 388, 409, 410, 411, 413, 415, 420, 425, 428, 431, 444, 451, 454, 457, 459, 464, 466, 468, 470, 475, 481, 485, 490, 495, 497, 502, 507, 511, 517, 522, 524, 527, 531, 533, 538, 547, 552, 557, 560, 563, 564, 568, 573, 578, 584, 589, 593, 596, 598, 601, 602, 611, 612, 613, 629, 633, 639, 643, 648, 650, 653, 656, 667, 669, 674, 680, 692, 697, 709, 711, 718, 727, 732, 738, 739, 740, 760, 766, 768, 773, 776, 778, 783, 790, 792, 793, 815, 825, 826, 828, 832, 837, 839, 846, 849, 859, 863, 868, 878, 888]\n"
     ]
    }
   ],
   "source": [
    "null_where=[]\n",
    "leng=len(age_test)\n",
    "for i in range(leng):\n",
    "    if age_test[i] == True:\n",
    "        null_where.append(i)\n",
    "print(null_where)"
   ]
  },
  {
   "cell_type": "code",
   "execution_count": 18,
   "metadata": {},
   "outputs": [
    {
     "data": {
      "text/plain": [
       "177"
      ]
     },
     "execution_count": 18,
     "metadata": {},
     "output_type": "execute_result"
    }
   ],
   "source": [
    "len(null_where)"
   ]
  },
  {
   "cell_type": "code",
   "execution_count": 19,
   "metadata": {},
   "outputs": [
    {
     "data": {
      "text/plain": [
       "714"
      ]
     },
     "execution_count": 19,
     "metadata": {},
     "output_type": "execute_result"
    }
   ],
   "source": [
    "891-177"
   ]
  },
  {
   "cell_type": "code",
   "execution_count": null,
   "metadata": {
    "collapsed": true
   },
   "outputs": [],
   "source": []
  }
 ],
 "metadata": {
  "kernelspec": {
   "display_name": "Python 3",
   "language": "python",
   "name": "python3"
  },
  "language_info": {
   "codemirror_mode": {
    "name": "ipython",
    "version": 3
   },
   "file_extension": ".py",
   "mimetype": "text/x-python",
   "name": "python",
   "nbconvert_exporter": "python",
   "pygments_lexer": "ipython3",
   "version": "3.6.3"
  }
 },
 "nbformat": 4,
 "nbformat_minor": 2
}
