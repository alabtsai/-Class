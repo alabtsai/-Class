{
 "cells": [
  {
   "cell_type": "code",
   "execution_count": 1,
   "metadata": {},
   "outputs": [],
   "source": [
    "import matplotlib.pyplot as plt"
   ]
  },
  {
   "cell_type": "markdown",
   "metadata": {},
   "source": [
    "## 使用 ggplot 風格"
   ]
  },
  {
   "cell_type": "code",
   "execution_count": 2,
   "metadata": {},
   "outputs": [],
   "source": [
    "plt.style.use('ggplot')"
   ]
  },
  {
   "cell_type": "markdown",
   "metadata": {},
   "source": [
    "##  %matplotlin inline lead to static images embeded in the notebook"
   ]
  },
  {
   "cell_type": "code",
   "execution_count": 3,
   "metadata": {},
   "outputs": [],
   "source": [
    "%matplotlib inline"
   ]
  },
  {
   "cell_type": "markdown",
   "metadata": {},
   "source": [
    "## 更改全部中文字體"
   ]
  },
  {
   "cell_type": "markdown",
   "metadata": {},
   "source": [
    "## 中文字體: DFKai-SB(win10), Microsoft YaHei (Win7) \n",
    "##  Microsoft MHei(Windows), SimHei (Mac) "
   ]
  },
  {
   "cell_type": "code",
   "execution_count": 4,
   "metadata": {},
   "outputs": [],
   "source": [
    "plt.rcParams['font.family']='DFKai-SB'"
   ]
  },
  {
   "cell_type": "markdown",
   "metadata": {},
   "source": [
    "## Project example :\n",
    "## 新竹市不動產實價登錄資訊-買賣案件\n",
    "## https://data.gov.tw/dataset/67502\n",
    "## 鄉鎮市區、交易標的、土地區段位置/建物區段門牌、土地移轉總面積[平方公尺]、使用分區或編定、非都市土地使用分區、非都市土地使用地、交易年月、交易筆棟數、移轉層次、總樓層數、建物型態、主要用途、主要建材、建築完成年月、建物移轉總面積[平方公尺]、現況格局-房、現況格局-廳、現況格局-衛、現況格局-隔間、有無管理組織、總價[元]、單價[元/平方公尺]、車位...¶"
   ]
  },
  {
   "cell_type": "code",
   "execution_count": 5,
   "metadata": {},
   "outputs": [],
   "source": [
    "import numpy as np\n",
    "import pandas as pd"
   ]
  },
  {
   "cell_type": "code",
   "execution_count": 6,
   "metadata": {},
   "outputs": [],
   "source": [
    "df=pd.read_csv(\"hsin.csv\")"
   ]
  },
  {
   "cell_type": "code",
   "execution_count": 7,
   "metadata": {},
   "outputs": [
    {
     "name": "stdout",
     "output_type": "stream",
     "text": [
      "<class 'pandas.core.frame.DataFrame'>\n",
      "RangeIndex: 43456 entries, 0 to 43455\n",
      "Data columns (total 27 columns):\n",
      "P1LA_CF46         42881 non-null object\n",
      "P1MA_CASEFLAG     43456 non-null object\n",
      "P1MA_DD09         43456 non-null object\n",
      "P1LA_CArea        43456 non-null float64\n",
      "P1LA_C11_1        37214 non-null object\n",
      "P1LA_C12_1        5986 non-null object\n",
      "P1LA_C12_2        5794 non-null object\n",
      "(沒有資料行名稱)         43456 non-null int64\n",
      "(沒有資料行名稱)1        43456 non-null object\n",
      "P1JD_14_1         36516 non-null object\n",
      "P1LA_F13          37664 non-null object\n",
      "P1MA_BUILD5       43456 non-null object\n",
      "P1LA_F11          37566 non-null object\n",
      "P1LA_F12          37659 non-null object\n",
      "(沒有資料行名稱)2        35754 non-null float64\n",
      "P1LA_FArea        43456 non-null float64\n",
      "P1MA_BUILD1       35252 non-null object\n",
      "P1MA_BUILD2       34042 non-null object\n",
      "P1MA_BUILD3       35494 non-null object\n",
      "P1MA_BUILD4       43456 non-null object\n",
      "P1MA_MANAGE       43456 non-null object\n",
      "P1MA_TOTPRICE     43456 non-null int64\n",
      "MeanPrice         43456 non-null int64\n",
      "P1PA_PARK_1       21905 non-null object\n",
      "P1PA_PARKAREA     43456 non-null float64\n",
      "P1PA_PARKPRICE    43456 non-null int64\n",
      "P1MA_NOTE         43456 non-null object\n",
      "dtypes: float64(4), int64(4), object(19)\n",
      "memory usage: 9.0+ MB\n"
     ]
    }
   ],
   "source": [
    "df.info()"
   ]
  },
  {
   "cell_type": "markdown",
   "metadata": {},
   "source": [
    "## 看一下 first five rows"
   ]
  },
  {
   "cell_type": "code",
   "execution_count": 9,
   "metadata": {},
   "outputs": [
    {
     "data": {
      "text/html": [
       "<div>\n",
       "<style scoped>\n",
       "    .dataframe tbody tr th:only-of-type {\n",
       "        vertical-align: middle;\n",
       "    }\n",
       "\n",
       "    .dataframe tbody tr th {\n",
       "        vertical-align: top;\n",
       "    }\n",
       "\n",
       "    .dataframe thead th {\n",
       "        text-align: right;\n",
       "    }\n",
       "</style>\n",
       "<table border=\"1\" class=\"dataframe\">\n",
       "  <thead>\n",
       "    <tr style=\"text-align: right;\">\n",
       "      <th></th>\n",
       "      <th>P1LA_CF46</th>\n",
       "      <th>P1MA_CASEFLAG</th>\n",
       "      <th>P1MA_DD09</th>\n",
       "      <th>P1LA_CArea</th>\n",
       "      <th>P1LA_C11_1</th>\n",
       "      <th>P1LA_C12_1</th>\n",
       "      <th>P1LA_C12_2</th>\n",
       "      <th>(沒有資料行名稱)</th>\n",
       "      <th>(沒有資料行名稱)1</th>\n",
       "      <th>P1JD_14_1</th>\n",
       "      <th>...</th>\n",
       "      <th>P1MA_BUILD2</th>\n",
       "      <th>P1MA_BUILD3</th>\n",
       "      <th>P1MA_BUILD4</th>\n",
       "      <th>P1MA_MANAGE</th>\n",
       "      <th>P1MA_TOTPRICE</th>\n",
       "      <th>MeanPrice</th>\n",
       "      <th>P1PA_PARK_1</th>\n",
       "      <th>P1PA_PARKAREA</th>\n",
       "      <th>P1PA_PARKPRICE</th>\n",
       "      <th>P1MA_NOTE</th>\n",
       "    </tr>\n",
       "  </thead>\n",
       "  <tbody>\n",
       "    <tr>\n",
       "      <th>0</th>\n",
       "      <td>香山區</td>\n",
       "      <td>地+建</td>\n",
       "      <td>牛埔北路１９６巷1～30號</td>\n",
       "      <td>351.436</td>\n",
       "      <td>NaN</td>\n",
       "      <td>鄉村區</td>\n",
       "      <td>乙建351.436</td>\n",
       "      <td>10107</td>\n",
       "      <td>土地2建物1</td>\n",
       "      <td>A一層=49.29，二層=65.57</td>\n",
       "      <td>...</td>\n",
       "      <td>1廳</td>\n",
       "      <td>1衛</td>\n",
       "      <td>有隔間</td>\n",
       "      <td>無管理組織</td>\n",
       "      <td>8500000</td>\n",
       "      <td>244638</td>\n",
       "      <td>NaN</td>\n",
       "      <td>0.00</td>\n",
       "      <td>0</td>\n",
       "      <td>權利人有二人</td>\n",
       "    </tr>\n",
       "    <tr>\n",
       "      <th>1</th>\n",
       "      <td>東區</td>\n",
       "      <td>地+建</td>\n",
       "      <td>建功一路５３巷1～30號</td>\n",
       "      <td>22.200</td>\n",
       "      <td>住22.2</td>\n",
       "      <td>NaN</td>\n",
       "      <td>NaN</td>\n",
       "      <td>10106</td>\n",
       "      <td>土地1建物1</td>\n",
       "      <td>A三層=75.90</td>\n",
       "      <td>...</td>\n",
       "      <td>2廳</td>\n",
       "      <td>1衛</td>\n",
       "      <td>有隔間</td>\n",
       "      <td>無管理組織</td>\n",
       "      <td>5408000</td>\n",
       "      <td>235543</td>\n",
       "      <td>NaN</td>\n",
       "      <td>0.00</td>\n",
       "      <td>0</td>\n",
       "      <td>無</td>\n",
       "    </tr>\n",
       "    <tr>\n",
       "      <th>2</th>\n",
       "      <td>東區</td>\n",
       "      <td>土地</td>\n",
       "      <td>前溪段151～180地號</td>\n",
       "      <td>769.753</td>\n",
       "      <td>農769.753</td>\n",
       "      <td>特定農業區</td>\n",
       "      <td>NaN</td>\n",
       "      <td>10107</td>\n",
       "      <td>土地1</td>\n",
       "      <td>NaN</td>\n",
       "      <td>...</td>\n",
       "      <td>NaN</td>\n",
       "      <td>NaN</td>\n",
       "      <td>有隔間</td>\n",
       "      <td>無管理組織</td>\n",
       "      <td>13770000</td>\n",
       "      <td>59137</td>\n",
       "      <td>NaN</td>\n",
       "      <td>0.00</td>\n",
       "      <td>0</td>\n",
       "      <td>無</td>\n",
       "    </tr>\n",
       "    <tr>\n",
       "      <th>3</th>\n",
       "      <td>東區</td>\n",
       "      <td>地+建+車</td>\n",
       "      <td>中央路２４５巷31～60號</td>\n",
       "      <td>9.485</td>\n",
       "      <td>住9.485</td>\n",
       "      <td>NaN</td>\n",
       "      <td>NaN</td>\n",
       "      <td>10106</td>\n",
       "      <td>土地1建物1車位1</td>\n",
       "      <td>A四層=40.07</td>\n",
       "      <td>...</td>\n",
       "      <td>1廳</td>\n",
       "      <td>1衛</td>\n",
       "      <td>有隔間</td>\n",
       "      <td>有管理組織</td>\n",
       "      <td>6900000</td>\n",
       "      <td>260953</td>\n",
       "      <td>坡道平面</td>\n",
       "      <td>34.81</td>\n",
       "      <td>1450000</td>\n",
       "      <td>無</td>\n",
       "    </tr>\n",
       "    <tr>\n",
       "      <th>4</th>\n",
       "      <td>香山區</td>\n",
       "      <td>地+建</td>\n",
       "      <td>至善街３１巷1～30號</td>\n",
       "      <td>14.698</td>\n",
       "      <td>NaN</td>\n",
       "      <td>山坡地保育區</td>\n",
       "      <td>丙建14.698</td>\n",
       "      <td>10107</td>\n",
       "      <td>土地2建物1</td>\n",
       "      <td>A四層=17.00</td>\n",
       "      <td>...</td>\n",
       "      <td>NaN</td>\n",
       "      <td>1衛</td>\n",
       "      <td>有隔間</td>\n",
       "      <td>有管理組織</td>\n",
       "      <td>520000</td>\n",
       "      <td>60545</td>\n",
       "      <td>NaN</td>\n",
       "      <td>0.00</td>\n",
       "      <td>0</td>\n",
       "      <td>無</td>\n",
       "    </tr>\n",
       "  </tbody>\n",
       "</table>\n",
       "<p>5 rows × 27 columns</p>\n",
       "</div>"
      ],
      "text/plain": [
       "  P1LA_CF46 P1MA_CASEFLAG      P1MA_DD09  P1LA_CArea P1LA_C11_1 P1LA_C12_1  \\\n",
       "0       香山區           地+建  牛埔北路１９６巷1～30號     351.436        NaN        鄉村區   \n",
       "1        東區           地+建   建功一路５３巷1～30號      22.200      住22.2        NaN   \n",
       "2        東區            土地   前溪段151～180地號     769.753   農769.753      特定農業區   \n",
       "3        東區         地+建+車  中央路２４５巷31～60號       9.485     住9.485        NaN   \n",
       "4       香山區           地+建    至善街３１巷1～30號      14.698        NaN     山坡地保育區   \n",
       "\n",
       "  P1LA_C12_2  (沒有資料行名稱) (沒有資料行名稱)1           P1JD_14_1    ...    P1MA_BUILD2  \\\n",
       "0  乙建351.436      10107     土地2建物1  A一層=49.29，二層=65.57    ...             1廳   \n",
       "1        NaN      10106     土地1建物1           A三層=75.90    ...             2廳   \n",
       "2        NaN      10107        土地1                 NaN    ...            NaN   \n",
       "3        NaN      10106  土地1建物1車位1           A四層=40.07    ...             1廳   \n",
       "4   丙建14.698      10107     土地2建物1           A四層=17.00    ...            NaN   \n",
       "\n",
       "  P1MA_BUILD3 P1MA_BUILD4 P1MA_MANAGE  P1MA_TOTPRICE  MeanPrice P1PA_PARK_1  \\\n",
       "0          1衛         有隔間       無管理組織        8500000     244638         NaN   \n",
       "1          1衛         有隔間       無管理組織        5408000     235543         NaN   \n",
       "2         NaN         有隔間       無管理組織       13770000      59137         NaN   \n",
       "3          1衛         有隔間       有管理組織        6900000     260953        坡道平面   \n",
       "4          1衛         有隔間       有管理組織         520000      60545         NaN   \n",
       "\n",
       "  P1PA_PARKAREA P1PA_PARKPRICE P1MA_NOTE  \n",
       "0          0.00              0    權利人有二人  \n",
       "1          0.00              0         無  \n",
       "2          0.00              0         無  \n",
       "3         34.81        1450000         無  \n",
       "4          0.00              0         無  \n",
       "\n",
       "[5 rows x 27 columns]"
      ]
     },
     "execution_count": 9,
     "metadata": {},
     "output_type": "execute_result"
    }
   ],
   "source": [
    "df[:5]"
   ]
  },
  {
   "cell_type": "markdown",
   "metadata": {},
   "source": [
    "## 用 df.loc  看一下 其他 columns"
   ]
  },
  {
   "cell_type": "code",
   "execution_count": 8,
   "metadata": {},
   "outputs": [
    {
     "data": {
      "text/html": [
       "<div>\n",
       "<style scoped>\n",
       "    .dataframe tbody tr th:only-of-type {\n",
       "        vertical-align: middle;\n",
       "    }\n",
       "\n",
       "    .dataframe tbody tr th {\n",
       "        vertical-align: top;\n",
       "    }\n",
       "\n",
       "    .dataframe thead th {\n",
       "        text-align: right;\n",
       "    }\n",
       "</style>\n",
       "<table border=\"1\" class=\"dataframe\">\n",
       "  <thead>\n",
       "    <tr style=\"text-align: right;\">\n",
       "      <th></th>\n",
       "      <th>(沒有資料行名稱)</th>\n",
       "      <th>(沒有資料行名稱)1</th>\n",
       "      <th>P1JD_14_1</th>\n",
       "      <th>P1LA_F13</th>\n",
       "      <th>P1MA_BUILD5</th>\n",
       "      <th>P1LA_F11</th>\n",
       "      <th>P1LA_F12</th>\n",
       "      <th>(沒有資料行名稱)2</th>\n",
       "      <th>P1LA_FArea</th>\n",
       "      <th>P1MA_BUILD1</th>\n",
       "      <th>P1MA_BUILD2</th>\n",
       "    </tr>\n",
       "  </thead>\n",
       "  <tbody>\n",
       "    <tr>\n",
       "      <th>0</th>\n",
       "      <td>10107</td>\n",
       "      <td>土地2建物1</td>\n",
       "      <td>A一層=49.29，二層=65.57</td>\n",
       "      <td>2層</td>\n",
       "      <td>透天厝</td>\n",
       "      <td>住家用</td>\n",
       "      <td>加強磚造</td>\n",
       "      <td>7209.0</td>\n",
       "      <td>114.860</td>\n",
       "      <td>3房</td>\n",
       "      <td>1廳</td>\n",
       "    </tr>\n",
       "    <tr>\n",
       "      <th>1</th>\n",
       "      <td>10106</td>\n",
       "      <td>土地1建物1</td>\n",
       "      <td>A三層=75.90</td>\n",
       "      <td>3層</td>\n",
       "      <td>公寓</td>\n",
       "      <td>國民住宅</td>\n",
       "      <td>鋼筋混凝土造</td>\n",
       "      <td>NaN</td>\n",
       "      <td>75.900</td>\n",
       "      <td>3房</td>\n",
       "      <td>2廳</td>\n",
       "    </tr>\n",
       "    <tr>\n",
       "      <th>2</th>\n",
       "      <td>10107</td>\n",
       "      <td>土地1</td>\n",
       "      <td>NaN</td>\n",
       "      <td>NaN</td>\n",
       "      <td>土地</td>\n",
       "      <td>NaN</td>\n",
       "      <td>NaN</td>\n",
       "      <td>NaN</td>\n",
       "      <td>0.000</td>\n",
       "      <td>NaN</td>\n",
       "      <td>NaN</td>\n",
       "    </tr>\n",
       "    <tr>\n",
       "      <th>3</th>\n",
       "      <td>10106</td>\n",
       "      <td>土地1建物1車位1</td>\n",
       "      <td>A四層=40.07</td>\n",
       "      <td>11層</td>\n",
       "      <td>套房</td>\n",
       "      <td>見其他登記事項，共同使用部份</td>\n",
       "      <td>鋼筋混凝土造</td>\n",
       "      <td>10102.0</td>\n",
       "      <td>103.851</td>\n",
       "      <td>1房</td>\n",
       "      <td>1廳</td>\n",
       "    </tr>\n",
       "    <tr>\n",
       "      <th>4</th>\n",
       "      <td>10107</td>\n",
       "      <td>土地2建物1</td>\n",
       "      <td>A四層=17.00</td>\n",
       "      <td>10層</td>\n",
       "      <td>套房</td>\n",
       "      <td>住家用，見其他登記事項</td>\n",
       "      <td>鋼筋混凝土造</td>\n",
       "      <td>8705.0</td>\n",
       "      <td>28.392</td>\n",
       "      <td>1房</td>\n",
       "      <td>NaN</td>\n",
       "    </tr>\n",
       "    <tr>\n",
       "      <th>5</th>\n",
       "      <td>10106</td>\n",
       "      <td>土地1建物1</td>\n",
       "      <td>A一層=55.20，二層=55.20</td>\n",
       "      <td>2層</td>\n",
       "      <td>透天厝</td>\n",
       "      <td>住家用</td>\n",
       "      <td>加強磚造</td>\n",
       "      <td>7106.0</td>\n",
       "      <td>110.400</td>\n",
       "      <td>4房</td>\n",
       "      <td>2廳</td>\n",
       "    </tr>\n",
       "  </tbody>\n",
       "</table>\n",
       "</div>"
      ],
      "text/plain": [
       "   (沒有資料行名稱) (沒有資料行名稱)1           P1JD_14_1 P1LA_F13 P1MA_BUILD5  \\\n",
       "0      10107     土地2建物1  A一層=49.29，二層=65.57       2層         透天厝   \n",
       "1      10106     土地1建物1           A三層=75.90       3層          公寓   \n",
       "2      10107        土地1                 NaN      NaN          土地   \n",
       "3      10106  土地1建物1車位1           A四層=40.07      11層          套房   \n",
       "4      10107     土地2建物1           A四層=17.00      10層          套房   \n",
       "5      10106     土地1建物1  A一層=55.20，二層=55.20       2層         透天厝   \n",
       "\n",
       "         P1LA_F11 P1LA_F12  (沒有資料行名稱)2  P1LA_FArea P1MA_BUILD1 P1MA_BUILD2  \n",
       "0             住家用     加強磚造      7209.0     114.860          3房          1廳  \n",
       "1            國民住宅   鋼筋混凝土造         NaN      75.900          3房          2廳  \n",
       "2             NaN      NaN         NaN       0.000         NaN         NaN  \n",
       "3  見其他登記事項，共同使用部份   鋼筋混凝土造     10102.0     103.851          1房          1廳  \n",
       "4     住家用，見其他登記事項   鋼筋混凝土造      8705.0      28.392          1房         NaN  \n",
       "5             住家用     加強磚造      7106.0     110.400          4房          2廳  "
      ]
     },
     "execution_count": 8,
     "metadata": {},
     "output_type": "execute_result"
    }
   ],
   "source": [
    "df.loc[:5,\"(沒有資料行名稱)\":\"P1MA_BUILD2\"]"
   ]
  },
  {
   "cell_type": "markdown",
   "metadata": {},
   "source": [
    "## 取有興趣的欄位"
   ]
  },
  {
   "cell_type": "code",
   "execution_count": 9,
   "metadata": {},
   "outputs": [],
   "source": [
    "dfmo=df[[\"P1LA_CF46\",\"(沒有資料行名稱)2\",\"P1LA_FArea\",\"P1MA_BUILD1\",\"P1MA_BUILD2\",\"P1MA_BUILD3\",\"P1MA_TOTPRICE\",\"P1MA_BUILD5\" ]]"
   ]
  },
  {
   "cell_type": "code",
   "execution_count": 10,
   "metadata": {},
   "outputs": [
    {
     "name": "stdout",
     "output_type": "stream",
     "text": [
      "<class 'pandas.core.frame.DataFrame'>\n",
      "RangeIndex: 43456 entries, 0 to 43455\n",
      "Data columns (total 8 columns):\n",
      "P1LA_CF46        42881 non-null object\n",
      "(沒有資料行名稱)2       35754 non-null float64\n",
      "P1LA_FArea       43456 non-null float64\n",
      "P1MA_BUILD1      35252 non-null object\n",
      "P1MA_BUILD2      34042 non-null object\n",
      "P1MA_BUILD3      35494 non-null object\n",
      "P1MA_TOTPRICE    43456 non-null int64\n",
      "P1MA_BUILD5      43456 non-null object\n",
      "dtypes: float64(2), int64(1), object(5)\n",
      "memory usage: 2.7+ MB\n"
     ]
    }
   ],
   "source": [
    "dfmo.info()"
   ]
  },
  {
   "cell_type": "code",
   "execution_count": 11,
   "metadata": {},
   "outputs": [
    {
     "data": {
      "text/html": [
       "<div>\n",
       "<style scoped>\n",
       "    .dataframe tbody tr th:only-of-type {\n",
       "        vertical-align: middle;\n",
       "    }\n",
       "\n",
       "    .dataframe tbody tr th {\n",
       "        vertical-align: top;\n",
       "    }\n",
       "\n",
       "    .dataframe thead th {\n",
       "        text-align: right;\n",
       "    }\n",
       "</style>\n",
       "<table border=\"1\" class=\"dataframe\">\n",
       "  <thead>\n",
       "    <tr style=\"text-align: right;\">\n",
       "      <th></th>\n",
       "      <th>P1LA_CF46</th>\n",
       "      <th>(沒有資料行名稱)2</th>\n",
       "      <th>P1LA_FArea</th>\n",
       "      <th>P1MA_BUILD1</th>\n",
       "      <th>P1MA_BUILD2</th>\n",
       "      <th>P1MA_BUILD3</th>\n",
       "      <th>P1MA_TOTPRICE</th>\n",
       "      <th>P1MA_BUILD5</th>\n",
       "    </tr>\n",
       "  </thead>\n",
       "  <tbody>\n",
       "    <tr>\n",
       "      <th>0</th>\n",
       "      <td>香山區</td>\n",
       "      <td>7209.0</td>\n",
       "      <td>114.860</td>\n",
       "      <td>3房</td>\n",
       "      <td>1廳</td>\n",
       "      <td>1衛</td>\n",
       "      <td>8500000</td>\n",
       "      <td>透天厝</td>\n",
       "    </tr>\n",
       "    <tr>\n",
       "      <th>1</th>\n",
       "      <td>東區</td>\n",
       "      <td>NaN</td>\n",
       "      <td>75.900</td>\n",
       "      <td>3房</td>\n",
       "      <td>2廳</td>\n",
       "      <td>1衛</td>\n",
       "      <td>5408000</td>\n",
       "      <td>公寓</td>\n",
       "    </tr>\n",
       "    <tr>\n",
       "      <th>2</th>\n",
       "      <td>東區</td>\n",
       "      <td>NaN</td>\n",
       "      <td>0.000</td>\n",
       "      <td>NaN</td>\n",
       "      <td>NaN</td>\n",
       "      <td>NaN</td>\n",
       "      <td>13770000</td>\n",
       "      <td>土地</td>\n",
       "    </tr>\n",
       "    <tr>\n",
       "      <th>3</th>\n",
       "      <td>東區</td>\n",
       "      <td>10102.0</td>\n",
       "      <td>103.851</td>\n",
       "      <td>1房</td>\n",
       "      <td>1廳</td>\n",
       "      <td>1衛</td>\n",
       "      <td>6900000</td>\n",
       "      <td>套房</td>\n",
       "    </tr>\n",
       "    <tr>\n",
       "      <th>4</th>\n",
       "      <td>香山區</td>\n",
       "      <td>8705.0</td>\n",
       "      <td>28.392</td>\n",
       "      <td>1房</td>\n",
       "      <td>NaN</td>\n",
       "      <td>1衛</td>\n",
       "      <td>520000</td>\n",
       "      <td>套房</td>\n",
       "    </tr>\n",
       "  </tbody>\n",
       "</table>\n",
       "</div>"
      ],
      "text/plain": [
       "  P1LA_CF46  (沒有資料行名稱)2  P1LA_FArea P1MA_BUILD1 P1MA_BUILD2 P1MA_BUILD3  \\\n",
       "0       香山區      7209.0     114.860          3房          1廳          1衛   \n",
       "1        東區         NaN      75.900          3房          2廳          1衛   \n",
       "2        東區         NaN       0.000         NaN         NaN         NaN   \n",
       "3        東區     10102.0     103.851          1房          1廳          1衛   \n",
       "4       香山區      8705.0      28.392          1房         NaN          1衛   \n",
       "\n",
       "   P1MA_TOTPRICE P1MA_BUILD5  \n",
       "0        8500000         透天厝  \n",
       "1        5408000          公寓  \n",
       "2       13770000          土地  \n",
       "3        6900000          套房  \n",
       "4         520000          套房  "
      ]
     },
     "execution_count": 11,
     "metadata": {},
     "output_type": "execute_result"
    }
   ],
   "source": [
    "dfmo[:5]"
   ]
  },
  {
   "cell_type": "markdown",
   "metadata": {},
   "source": [
    "## 用 value_counts() 去看有哪些,及有多少個."
   ]
  },
  {
   "cell_type": "code",
   "execution_count": 12,
   "metadata": {
    "scrolled": true
   },
   "outputs": [
    {
     "data": {
      "text/plain": [
       "東區     23329\n",
       "北區     12013\n",
       "香山區     7539\n",
       "Name: P1LA_CF46, dtype: int64"
      ]
     },
     "execution_count": 12,
     "metadata": {},
     "output_type": "execute_result"
    }
   ],
   "source": [
    "dfmo[\"P1LA_CF46\"].value_counts()"
   ]
  },
  {
   "cell_type": "code",
   "execution_count": 13,
   "metadata": {},
   "outputs": [
    {
     "data": {
      "text/plain": [
       "42881"
      ]
     },
     "execution_count": 13,
     "metadata": {},
     "output_type": "execute_result"
    }
   ],
   "source": [
    "23329+12013+7539"
   ]
  },
  {
   "cell_type": "code",
   "execution_count": 14,
   "metadata": {},
   "outputs": [
    {
     "data": {
      "text/plain": [
       "住宅大樓      17158\n",
       "透天厝        6448\n",
       "華廈         6065\n",
       "土地         5776\n",
       "套房         3340\n",
       "公寓         2551\n",
       "店面          747\n",
       "車位          624\n",
       "辦公商業大樓      519\n",
       "其他           70\n",
       "廠辦           63\n",
       "工廠           57\n",
       "農舍           37\n",
       "倉庫            1\n",
       "Name: P1MA_BUILD5, dtype: int64"
      ]
     },
     "execution_count": 14,
     "metadata": {},
     "output_type": "execute_result"
    }
   ],
   "source": [
    "dfmo[\"P1MA_BUILD5\"].value_counts()"
   ]
  },
  {
   "cell_type": "markdown",
   "metadata": {},
   "source": [
    "## 修改欄位名稱"
   ]
  },
  {
   "cell_type": "code",
   "execution_count": 15,
   "metadata": {},
   "outputs": [
    {
     "data": {
      "text/html": [
       "<div>\n",
       "<style scoped>\n",
       "    .dataframe tbody tr th:only-of-type {\n",
       "        vertical-align: middle;\n",
       "    }\n",
       "\n",
       "    .dataframe tbody tr th {\n",
       "        vertical-align: top;\n",
       "    }\n",
       "\n",
       "    .dataframe thead th {\n",
       "        text-align: right;\n",
       "    }\n",
       "</style>\n",
       "<table border=\"1\" class=\"dataframe\">\n",
       "  <thead>\n",
       "    <tr style=\"text-align: right;\">\n",
       "      <th></th>\n",
       "      <th>鄉鎮市區</th>\n",
       "      <th>建築完成年月</th>\n",
       "      <th>建物移轉總面積[平方公尺]</th>\n",
       "      <th>P1MA_BUILD1</th>\n",
       "      <th>P1MA_BUILD2</th>\n",
       "      <th>P1MA_BUILD3</th>\n",
       "      <th>P1MA_TOTPRICE</th>\n",
       "      <th>建物型態</th>\n",
       "    </tr>\n",
       "  </thead>\n",
       "  <tbody>\n",
       "    <tr>\n",
       "      <th>0</th>\n",
       "      <td>香山區</td>\n",
       "      <td>7209.0</td>\n",
       "      <td>114.860</td>\n",
       "      <td>3房</td>\n",
       "      <td>1廳</td>\n",
       "      <td>1衛</td>\n",
       "      <td>8500000</td>\n",
       "      <td>透天厝</td>\n",
       "    </tr>\n",
       "    <tr>\n",
       "      <th>1</th>\n",
       "      <td>東區</td>\n",
       "      <td>NaN</td>\n",
       "      <td>75.900</td>\n",
       "      <td>3房</td>\n",
       "      <td>2廳</td>\n",
       "      <td>1衛</td>\n",
       "      <td>5408000</td>\n",
       "      <td>公寓</td>\n",
       "    </tr>\n",
       "    <tr>\n",
       "      <th>2</th>\n",
       "      <td>東區</td>\n",
       "      <td>NaN</td>\n",
       "      <td>0.000</td>\n",
       "      <td>NaN</td>\n",
       "      <td>NaN</td>\n",
       "      <td>NaN</td>\n",
       "      <td>13770000</td>\n",
       "      <td>土地</td>\n",
       "    </tr>\n",
       "    <tr>\n",
       "      <th>3</th>\n",
       "      <td>東區</td>\n",
       "      <td>10102.0</td>\n",
       "      <td>103.851</td>\n",
       "      <td>1房</td>\n",
       "      <td>1廳</td>\n",
       "      <td>1衛</td>\n",
       "      <td>6900000</td>\n",
       "      <td>套房</td>\n",
       "    </tr>\n",
       "    <tr>\n",
       "      <th>4</th>\n",
       "      <td>香山區</td>\n",
       "      <td>8705.0</td>\n",
       "      <td>28.392</td>\n",
       "      <td>1房</td>\n",
       "      <td>NaN</td>\n",
       "      <td>1衛</td>\n",
       "      <td>520000</td>\n",
       "      <td>套房</td>\n",
       "    </tr>\n",
       "    <tr>\n",
       "      <th>5</th>\n",
       "      <td>東區</td>\n",
       "      <td>7106.0</td>\n",
       "      <td>110.400</td>\n",
       "      <td>4房</td>\n",
       "      <td>2廳</td>\n",
       "      <td>1衛</td>\n",
       "      <td>5428000</td>\n",
       "      <td>透天厝</td>\n",
       "    </tr>\n",
       "  </tbody>\n",
       "</table>\n",
       "</div>"
      ],
      "text/plain": [
       "  鄉鎮市區   建築完成年月  建物移轉總面積[平方公尺] P1MA_BUILD1 P1MA_BUILD2 P1MA_BUILD3  \\\n",
       "0  香山區   7209.0        114.860          3房          1廳          1衛   \n",
       "1   東區      NaN         75.900          3房          2廳          1衛   \n",
       "2   東區      NaN          0.000         NaN         NaN         NaN   \n",
       "3   東區  10102.0        103.851          1房          1廳          1衛   \n",
       "4  香山區   8705.0         28.392          1房         NaN          1衛   \n",
       "5   東區   7106.0        110.400          4房          2廳          1衛   \n",
       "\n",
       "   P1MA_TOTPRICE 建物型態  \n",
       "0        8500000  透天厝  \n",
       "1        5408000   公寓  \n",
       "2       13770000   土地  \n",
       "3        6900000   套房  \n",
       "4         520000   套房  \n",
       "5        5428000  透天厝  "
      ]
     },
     "execution_count": 15,
     "metadata": {},
     "output_type": "execute_result"
    }
   ],
   "source": [
    "dfmo=dfmo.rename(columns={'P1LA_CF46':'鄉鎮市區', \n",
    "                          '(沒有資料行名稱)2':'建築完成年月',\n",
    "                          'P1LA_FArea':'建物移轉總面積[平方公尺]',\n",
    "                           \"P1MA_BUILD5\":'建物型態'})\n",
    "dfmo[:6]"
   ]
  },
  {
   "cell_type": "markdown",
   "metadata": {},
   "source": [
    "## 其中 欄位資料 有  Nan !! 表示有  missing value (遺失值) !!\n",
    "## missing data : NaN (Not a number) ,  type(Nan) is float \n",
    "## 用 series.isnull 找遺失值"
   ]
  },
  {
   "cell_type": "code",
   "execution_count": 21,
   "metadata": {},
   "outputs": [
    {
     "name": "stdout",
     "output_type": "stream",
     "text": [
      "鄉鎮市區共有 NaN :  575\n"
     ]
    }
   ],
   "source": [
    "data_room=dfmo['鄉鎮市區']\n",
    "# 用 df.isnull()找遺失值所在\n",
    "ck=data_room.isnull()\n",
    "cnt=0\n",
    "row=0\n",
    "location=[]# 找出 Nan 在哪一筆資料\n",
    "for item in ck:\n",
    "    if item:\n",
    "        cnt=cnt+1\n",
    "        location.append(row)\n",
    "    row=row+1\n",
    "print(\"鄉鎮市區共有 NaN : \",cnt)\n",
    "#print(\"Nan 位置在:\",location)\n",
    "#dfmo['鄉鎮市區'][60:70]"
   ]
  },
  {
   "cell_type": "code",
   "execution_count": 17,
   "metadata": {},
   "outputs": [
    {
     "name": "stdout",
     "output_type": "stream",
     "text": [
      "nan\n"
     ]
    },
    {
     "data": {
      "text/plain": [
       "float"
      ]
     },
     "execution_count": 17,
     "metadata": {},
     "output_type": "execute_result"
    }
   ],
   "source": [
    "print(dfmo.loc[2,\"P1MA_BUILD1\"])\n",
    "type(dfmo.loc[2,\"P1MA_BUILD1\"])"
   ]
  },
  {
   "cell_type": "code",
   "execution_count": 18,
   "metadata": {},
   "outputs": [
    {
     "name": "stdout",
     "output_type": "stream",
     "text": [
      "nan\n"
     ]
    },
    {
     "data": {
      "text/plain": [
       "float"
      ]
     },
     "execution_count": 18,
     "metadata": {},
     "output_type": "execute_result"
    }
   ],
   "source": [
    "print(dfmo.iloc[2,3])\n",
    "type(dfmo.iloc[2,3])"
   ]
  },
  {
   "cell_type": "code",
   "execution_count": 19,
   "metadata": {},
   "outputs": [
    {
     "data": {
      "text/plain": [
       "True"
      ]
     },
     "execution_count": 19,
     "metadata": {},
     "output_type": "execute_result"
    }
   ],
   "source": [
    "dfmo.iloc[2,3]  is    dfmo.loc[2,\"P1MA_BUILD1\"]"
   ]
  },
  {
   "cell_type": "code",
   "execution_count": 22,
   "metadata": {},
   "outputs": [
    {
     "name": "stdout",
     "output_type": "stream",
     "text": [
      "P1MA_BUILD1  共有 NaN: 8204\n"
     ]
    }
   ],
   "source": [
    "data_room=dfmo['P1MA_BUILD1']\n",
    "ck=data_room.isnull()\n",
    "cnt=0\n",
    "row=0\n",
    "location=[]# 找出 Nan 在哪一筆資料\n",
    "for item in ck:\n",
    "    if item:\n",
    "        cnt=cnt+1\n",
    "        location.append(row)\n",
    "    row=row+1\n",
    "print(\"P1MA_BUILD1  共有 NaN:\",cnt)\n",
    "#print(\"Nan 位置在:\",location)\n",
    "#dfmo['鄉鎮市區'][60:70]"
   ]
  },
  {
   "cell_type": "markdown",
   "metadata": {},
   "source": [
    "## 有 data,  其type 為 str.   若無data, missing value :Nan,  type 為 float \n",
    "## 看一下 row index=5 , 欄位:\"P1MA_BUILD1\"  "
   ]
  },
  {
   "cell_type": "code",
   "execution_count": 23,
   "metadata": {},
   "outputs": [
    {
     "name": "stdout",
     "output_type": "stream",
     "text": [
      "4房\n"
     ]
    },
    {
     "data": {
      "text/plain": [
       "str"
      ]
     },
     "execution_count": 23,
     "metadata": {},
     "output_type": "execute_result"
    }
   ],
   "source": [
    "print(dfmo.loc[5,\"P1MA_BUILD1\"])\n",
    "type(dfmo.loc[5,\"P1MA_BUILD1\"])"
   ]
  },
  {
   "cell_type": "markdown",
   "metadata": {},
   "source": [
    "## 如何 將  string:'4房' 中 的 4 取出 轉為 int 呢?"
   ]
  },
  {
   "cell_type": "code",
   "execution_count": 31,
   "metadata": {},
   "outputs": [
    {
     "data": {
      "text/plain": [
       "'4'"
      ]
     },
     "execution_count": 31,
     "metadata": {},
     "output_type": "execute_result"
    }
   ],
   "source": [
    "dfmo.loc[5,\"P1MA_BUILD1\"][0:-1]"
   ]
  },
  {
   "cell_type": "code",
   "execution_count": 32,
   "metadata": {},
   "outputs": [
    {
     "data": {
      "text/plain": [
       "4"
      ]
     },
     "execution_count": 32,
     "metadata": {},
     "output_type": "execute_result"
    }
   ],
   "source": [
    "int(dfmo.loc[5,\"P1MA_BUILD1\"][0:-1])"
   ]
  },
  {
   "cell_type": "code",
   "execution_count": 33,
   "metadata": {},
   "outputs": [],
   "source": [
    "## review string sliceing "
   ]
  },
  {
   "cell_type": "code",
   "execution_count": 34,
   "metadata": {},
   "outputs": [],
   "source": [
    "a='3erq房'"
   ]
  },
  {
   "cell_type": "code",
   "execution_count": 35,
   "metadata": {},
   "outputs": [],
   "source": [
    "a=a[0:-1]"
   ]
  },
  {
   "cell_type": "code",
   "execution_count": 36,
   "metadata": {},
   "outputs": [
    {
     "data": {
      "text/plain": [
       "'3erq'"
      ]
     },
     "execution_count": 36,
     "metadata": {},
     "output_type": "execute_result"
    }
   ],
   "source": [
    "a"
   ]
  },
  {
   "cell_type": "code",
   "execution_count": 37,
   "metadata": {},
   "outputs": [
    {
     "data": {
      "text/plain": [
       "43456"
      ]
     },
     "execution_count": 37,
     "metadata": {},
     "output_type": "execute_result"
    }
   ],
   "source": [
    "len(dfmo['P1MA_BUILD1'])"
   ]
  },
  {
   "cell_type": "code",
   "execution_count": 38,
   "metadata": {},
   "outputs": [
    {
     "data": {
      "text/plain": [
       "43456"
      ]
     },
     "execution_count": 38,
     "metadata": {},
     "output_type": "execute_result"
    }
   ],
   "source": [
    "total_num_row=len(dfmo['P1MA_BUILD1'])\n",
    "total_num_row"
   ]
  },
  {
   "cell_type": "code",
   "execution_count": 41,
   "metadata": {},
   "outputs": [
    {
     "name": "stdout",
     "output_type": "stream",
     "text": [
      "The  P1MA_BUILD1 column has   35252  筆non-null 資料 and has  8204 NaN(空資料)\n",
      "total data: 43456\n"
     ]
    }
   ],
   "source": [
    "count=0\n",
    "t_room=[] # 空 list \n",
    "for i in range(total_num_row):\n",
    "    if isinstance(dfmo.loc[i,\"P1MA_BUILD1\"],str):             # 如果 為 str 即有真正資料\n",
    "        t_room.append( int(dfmo.loc[i,\"P1MA_BUILD1\"][0:-1]) ) # 轉成 int 再用 append 加進  list   \n",
    "        count=count+1\n",
    "    else:# 為 Nan \n",
    "        t_room.append( 0 )\n",
    "print(\"The  P1MA_BUILD1 column has  \",count, \" 筆non-null 資料\", \"and has \", total_num_row-count,\"NaN(空資料)\")\n",
    "print(\"total data:\",total_num_row )"
   ]
  },
  {
   "cell_type": "code",
   "execution_count": 42,
   "metadata": {},
   "outputs": [
    {
     "data": {
      "text/plain": [
       "[3, 3, 0, 1, 1, 4, 1, 1, 1, 4]"
      ]
     },
     "execution_count": 42,
     "metadata": {},
     "output_type": "execute_result"
    }
   ],
   "source": [
    "t_room[:10]"
   ]
  },
  {
   "cell_type": "markdown",
   "metadata": {},
   "source": [
    "## 參考 FGU-Class/Lecture_0509.ipynb\n",
    "## add a column"
   ]
  },
  {
   "cell_type": "code",
   "execution_count": 44,
   "metadata": {},
   "outputs": [
    {
     "name": "stdout",
     "output_type": "stream",
     "text": [
      "<class 'list'>\n",
      "43456\n"
     ]
    }
   ],
   "source": [
    "print(type(t_room))\n",
    "print(len(t_room))"
   ]
  },
  {
   "cell_type": "code",
   "execution_count": 46,
   "metadata": {},
   "outputs": [],
   "source": [
    "dfmo['現況格局-房']=t_room"
   ]
  },
  {
   "cell_type": "code",
   "execution_count": 47,
   "metadata": {},
   "outputs": [
    {
     "data": {
      "text/html": [
       "<div>\n",
       "<style scoped>\n",
       "    .dataframe tbody tr th:only-of-type {\n",
       "        vertical-align: middle;\n",
       "    }\n",
       "\n",
       "    .dataframe tbody tr th {\n",
       "        vertical-align: top;\n",
       "    }\n",
       "\n",
       "    .dataframe thead th {\n",
       "        text-align: right;\n",
       "    }\n",
       "</style>\n",
       "<table border=\"1\" class=\"dataframe\">\n",
       "  <thead>\n",
       "    <tr style=\"text-align: right;\">\n",
       "      <th></th>\n",
       "      <th>鄉鎮市區</th>\n",
       "      <th>建築完成年月</th>\n",
       "      <th>建物移轉總面積[平方公尺]</th>\n",
       "      <th>P1MA_BUILD1</th>\n",
       "      <th>P1MA_BUILD2</th>\n",
       "      <th>P1MA_BUILD3</th>\n",
       "      <th>P1MA_TOTPRICE</th>\n",
       "      <th>建物型態</th>\n",
       "      <th>現況格局-房</th>\n",
       "    </tr>\n",
       "  </thead>\n",
       "  <tbody>\n",
       "    <tr>\n",
       "      <th>0</th>\n",
       "      <td>香山區</td>\n",
       "      <td>7209.0</td>\n",
       "      <td>114.860</td>\n",
       "      <td>3房</td>\n",
       "      <td>1廳</td>\n",
       "      <td>1衛</td>\n",
       "      <td>8500000</td>\n",
       "      <td>透天厝</td>\n",
       "      <td>3</td>\n",
       "    </tr>\n",
       "    <tr>\n",
       "      <th>1</th>\n",
       "      <td>東區</td>\n",
       "      <td>NaN</td>\n",
       "      <td>75.900</td>\n",
       "      <td>3房</td>\n",
       "      <td>2廳</td>\n",
       "      <td>1衛</td>\n",
       "      <td>5408000</td>\n",
       "      <td>公寓</td>\n",
       "      <td>3</td>\n",
       "    </tr>\n",
       "    <tr>\n",
       "      <th>2</th>\n",
       "      <td>東區</td>\n",
       "      <td>NaN</td>\n",
       "      <td>0.000</td>\n",
       "      <td>NaN</td>\n",
       "      <td>NaN</td>\n",
       "      <td>NaN</td>\n",
       "      <td>13770000</td>\n",
       "      <td>土地</td>\n",
       "      <td>0</td>\n",
       "    </tr>\n",
       "    <tr>\n",
       "      <th>3</th>\n",
       "      <td>東區</td>\n",
       "      <td>10102.0</td>\n",
       "      <td>103.851</td>\n",
       "      <td>1房</td>\n",
       "      <td>1廳</td>\n",
       "      <td>1衛</td>\n",
       "      <td>6900000</td>\n",
       "      <td>套房</td>\n",
       "      <td>1</td>\n",
       "    </tr>\n",
       "    <tr>\n",
       "      <th>4</th>\n",
       "      <td>香山區</td>\n",
       "      <td>8705.0</td>\n",
       "      <td>28.392</td>\n",
       "      <td>1房</td>\n",
       "      <td>NaN</td>\n",
       "      <td>1衛</td>\n",
       "      <td>520000</td>\n",
       "      <td>套房</td>\n",
       "      <td>1</td>\n",
       "    </tr>\n",
       "  </tbody>\n",
       "</table>\n",
       "</div>"
      ],
      "text/plain": [
       "  鄉鎮市區   建築完成年月  建物移轉總面積[平方公尺] P1MA_BUILD1 P1MA_BUILD2 P1MA_BUILD3  \\\n",
       "0  香山區   7209.0        114.860          3房          1廳          1衛   \n",
       "1   東區      NaN         75.900          3房          2廳          1衛   \n",
       "2   東區      NaN          0.000         NaN         NaN         NaN   \n",
       "3   東區  10102.0        103.851          1房          1廳          1衛   \n",
       "4  香山區   8705.0         28.392          1房         NaN          1衛   \n",
       "\n",
       "   P1MA_TOTPRICE 建物型態  現況格局-房  \n",
       "0        8500000  透天厝       3  \n",
       "1        5408000   公寓       3  \n",
       "2       13770000   土地       0  \n",
       "3        6900000   套房       1  \n",
       "4         520000   套房       1  "
      ]
     },
     "execution_count": 47,
     "metadata": {},
     "output_type": "execute_result"
    }
   ],
   "source": [
    "dfmo[:5]"
   ]
  },
  {
   "cell_type": "code",
   "execution_count": 49,
   "metadata": {},
   "outputs": [
    {
     "name": "stdout",
     "output_type": "stream",
     "text": [
      "<class 'pandas.core.frame.DataFrame'>\n",
      "RangeIndex: 43456 entries, 0 to 43455\n",
      "Data columns (total 9 columns):\n",
      "鄉鎮市區             42881 non-null object\n",
      "建築完成年月           35754 non-null float64\n",
      "建物移轉總面積[平方公尺]    43456 non-null float64\n",
      "P1MA_BUILD1      35252 non-null object\n",
      "P1MA_BUILD2      34042 non-null object\n",
      "P1MA_BUILD3      35494 non-null object\n",
      "P1MA_TOTPRICE    43456 non-null int64\n",
      "建物型態             43456 non-null object\n",
      "現況格局-房           43456 non-null int64\n",
      "dtypes: float64(2), int64(2), object(5)\n",
      "memory usage: 3.0+ MB\n"
     ]
    }
   ],
   "source": [
    "dfmo.info()"
   ]
  },
  {
   "cell_type": "markdown",
   "metadata": {},
   "source": [
    "## 比較 現況格局- 房 與 P1MA_BUILD1 欄位 : 是 否轉成 int 成功 ?\n",
    "## 刪除 P1MA_BUILD1 欄位 "
   ]
  },
  {
   "cell_type": "code",
   "execution_count": 50,
   "metadata": {},
   "outputs": [],
   "source": [
    "dfmo=dfmo.drop('P1MA_BUILD1',axis=1)"
   ]
  },
  {
   "cell_type": "code",
   "execution_count": 51,
   "metadata": {},
   "outputs": [
    {
     "data": {
      "text/html": [
       "<div>\n",
       "<style scoped>\n",
       "    .dataframe tbody tr th:only-of-type {\n",
       "        vertical-align: middle;\n",
       "    }\n",
       "\n",
       "    .dataframe tbody tr th {\n",
       "        vertical-align: top;\n",
       "    }\n",
       "\n",
       "    .dataframe thead th {\n",
       "        text-align: right;\n",
       "    }\n",
       "</style>\n",
       "<table border=\"1\" class=\"dataframe\">\n",
       "  <thead>\n",
       "    <tr style=\"text-align: right;\">\n",
       "      <th></th>\n",
       "      <th>鄉鎮市區</th>\n",
       "      <th>建築完成年月</th>\n",
       "      <th>建物移轉總面積[平方公尺]</th>\n",
       "      <th>P1MA_BUILD2</th>\n",
       "      <th>P1MA_BUILD3</th>\n",
       "      <th>P1MA_TOTPRICE</th>\n",
       "      <th>建物型態</th>\n",
       "      <th>現況格局-房</th>\n",
       "    </tr>\n",
       "  </thead>\n",
       "  <tbody>\n",
       "    <tr>\n",
       "      <th>0</th>\n",
       "      <td>香山區</td>\n",
       "      <td>7209.0</td>\n",
       "      <td>114.860</td>\n",
       "      <td>1廳</td>\n",
       "      <td>1衛</td>\n",
       "      <td>8500000</td>\n",
       "      <td>透天厝</td>\n",
       "      <td>3</td>\n",
       "    </tr>\n",
       "    <tr>\n",
       "      <th>1</th>\n",
       "      <td>東區</td>\n",
       "      <td>NaN</td>\n",
       "      <td>75.900</td>\n",
       "      <td>2廳</td>\n",
       "      <td>1衛</td>\n",
       "      <td>5408000</td>\n",
       "      <td>公寓</td>\n",
       "      <td>3</td>\n",
       "    </tr>\n",
       "    <tr>\n",
       "      <th>2</th>\n",
       "      <td>東區</td>\n",
       "      <td>NaN</td>\n",
       "      <td>0.000</td>\n",
       "      <td>NaN</td>\n",
       "      <td>NaN</td>\n",
       "      <td>13770000</td>\n",
       "      <td>土地</td>\n",
       "      <td>0</td>\n",
       "    </tr>\n",
       "    <tr>\n",
       "      <th>3</th>\n",
       "      <td>東區</td>\n",
       "      <td>10102.0</td>\n",
       "      <td>103.851</td>\n",
       "      <td>1廳</td>\n",
       "      <td>1衛</td>\n",
       "      <td>6900000</td>\n",
       "      <td>套房</td>\n",
       "      <td>1</td>\n",
       "    </tr>\n",
       "    <tr>\n",
       "      <th>4</th>\n",
       "      <td>香山區</td>\n",
       "      <td>8705.0</td>\n",
       "      <td>28.392</td>\n",
       "      <td>NaN</td>\n",
       "      <td>1衛</td>\n",
       "      <td>520000</td>\n",
       "      <td>套房</td>\n",
       "      <td>1</td>\n",
       "    </tr>\n",
       "    <tr>\n",
       "      <th>5</th>\n",
       "      <td>東區</td>\n",
       "      <td>7106.0</td>\n",
       "      <td>110.400</td>\n",
       "      <td>2廳</td>\n",
       "      <td>1衛</td>\n",
       "      <td>5428000</td>\n",
       "      <td>透天厝</td>\n",
       "      <td>4</td>\n",
       "    </tr>\n",
       "    <tr>\n",
       "      <th>6</th>\n",
       "      <td>東區</td>\n",
       "      <td>10102.0</td>\n",
       "      <td>65.804</td>\n",
       "      <td>1廳</td>\n",
       "      <td>1衛</td>\n",
       "      <td>5300000</td>\n",
       "      <td>套房</td>\n",
       "      <td>1</td>\n",
       "    </tr>\n",
       "    <tr>\n",
       "      <th>7</th>\n",
       "      <td>東區</td>\n",
       "      <td>10102.0</td>\n",
       "      <td>65.804</td>\n",
       "      <td>1廳</td>\n",
       "      <td>1衛</td>\n",
       "      <td>5630000</td>\n",
       "      <td>套房</td>\n",
       "      <td>1</td>\n",
       "    </tr>\n",
       "    <tr>\n",
       "      <th>8</th>\n",
       "      <td>東區</td>\n",
       "      <td>10102.0</td>\n",
       "      <td>88.335</td>\n",
       "      <td>1廳</td>\n",
       "      <td>1衛</td>\n",
       "      <td>6550000</td>\n",
       "      <td>套房</td>\n",
       "      <td>1</td>\n",
       "    </tr>\n",
       "    <tr>\n",
       "      <th>9</th>\n",
       "      <td>東區</td>\n",
       "      <td>5912.0</td>\n",
       "      <td>72.000</td>\n",
       "      <td>1廳</td>\n",
       "      <td>2衛</td>\n",
       "      <td>5100000</td>\n",
       "      <td>透天厝</td>\n",
       "      <td>4</td>\n",
       "    </tr>\n",
       "  </tbody>\n",
       "</table>\n",
       "</div>"
      ],
      "text/plain": [
       "  鄉鎮市區   建築完成年月  建物移轉總面積[平方公尺] P1MA_BUILD2 P1MA_BUILD3  P1MA_TOTPRICE 建物型態  \\\n",
       "0  香山區   7209.0        114.860          1廳          1衛        8500000  透天厝   \n",
       "1   東區      NaN         75.900          2廳          1衛        5408000   公寓   \n",
       "2   東區      NaN          0.000         NaN         NaN       13770000   土地   \n",
       "3   東區  10102.0        103.851          1廳          1衛        6900000   套房   \n",
       "4  香山區   8705.0         28.392         NaN          1衛         520000   套房   \n",
       "5   東區   7106.0        110.400          2廳          1衛        5428000  透天厝   \n",
       "6   東區  10102.0         65.804          1廳          1衛        5300000   套房   \n",
       "7   東區  10102.0         65.804          1廳          1衛        5630000   套房   \n",
       "8   東區  10102.0         88.335          1廳          1衛        6550000   套房   \n",
       "9   東區   5912.0         72.000          1廳          2衛        5100000  透天厝   \n",
       "\n",
       "   現況格局-房  \n",
       "0       3  \n",
       "1       3  \n",
       "2       0  \n",
       "3       1  \n",
       "4       1  \n",
       "5       4  \n",
       "6       1  \n",
       "7       1  \n",
       "8       1  \n",
       "9       4  "
      ]
     },
     "execution_count": 51,
     "metadata": {},
     "output_type": "execute_result"
    }
   ],
   "source": [
    "dfmo[:10]"
   ]
  },
  {
   "cell_type": "markdown",
   "metadata": {},
   "source": [
    "## 換轉 P1MA_BUILD2 ( 現況格局-廳  ) 成為 int  "
   ]
  },
  {
   "cell_type": "code",
   "execution_count": 52,
   "metadata": {},
   "outputs": [
    {
     "data": {
      "text/plain": [
       "43456"
      ]
     },
     "execution_count": 52,
     "metadata": {},
     "output_type": "execute_result"
    }
   ],
   "source": [
    "total_num_row=len(dfmo['P1MA_BUILD2'])\n",
    "total_num_row"
   ]
  },
  {
   "cell_type": "code",
   "execution_count": 53,
   "metadata": {},
   "outputs": [
    {
     "name": "stdout",
     "output_type": "stream",
     "text": [
      "The  P1MA_BUILD2  column has   34042  筆資料 and has  9414 NaN(空資料)\n",
      "total data: 43456\n"
     ]
    }
   ],
   "source": [
    "count=0\n",
    "t_living_room=[]\n",
    "for i in range(total_num_row):\n",
    "    if isinstance(dfmo.loc[i,\"P1MA_BUILD2\"],str):# 如果 為 str 即有真正資料\n",
    "        t_living_room.append( int(dfmo.loc[i,\"P1MA_BUILD2\"][0:-1]) )\n",
    "        count=count+1\n",
    "    else:# 為 Nan \n",
    "        t_living_room.append( 0 )\n",
    "print(\"The  P1MA_BUILD2  column has  \",count, \" 筆資料\", \"and has \", total_num_row-count,\"NaN(空資料)\")\n",
    "print(\"total data:\",total_num_row )"
   ]
  },
  {
   "cell_type": "code",
   "execution_count": 54,
   "metadata": {},
   "outputs": [
    {
     "data": {
      "text/plain": [
       "[1, 2, 0, 1, 0, 2, 1, 1, 1, 1]"
      ]
     },
     "execution_count": 54,
     "metadata": {},
     "output_type": "execute_result"
    }
   ],
   "source": [
    "t_living_room[:10]"
   ]
  },
  {
   "cell_type": "code",
   "execution_count": 55,
   "metadata": {},
   "outputs": [
    {
     "data": {
      "text/plain": [
       "43456"
      ]
     },
     "execution_count": 55,
     "metadata": {},
     "output_type": "execute_result"
    }
   ],
   "source": [
    "len(t_living_room)"
   ]
  },
  {
   "cell_type": "markdown",
   "metadata": {},
   "source": [
    "## 新增欄位 : 現況格局-廳"
   ]
  },
  {
   "cell_type": "code",
   "execution_count": 57,
   "metadata": {},
   "outputs": [],
   "source": [
    "dfmo['現況格局-廳']=t_living_room"
   ]
  },
  {
   "cell_type": "code",
   "execution_count": 58,
   "metadata": {},
   "outputs": [
    {
     "data": {
      "text/html": [
       "<div>\n",
       "<style scoped>\n",
       "    .dataframe tbody tr th:only-of-type {\n",
       "        vertical-align: middle;\n",
       "    }\n",
       "\n",
       "    .dataframe tbody tr th {\n",
       "        vertical-align: top;\n",
       "    }\n",
       "\n",
       "    .dataframe thead th {\n",
       "        text-align: right;\n",
       "    }\n",
       "</style>\n",
       "<table border=\"1\" class=\"dataframe\">\n",
       "  <thead>\n",
       "    <tr style=\"text-align: right;\">\n",
       "      <th></th>\n",
       "      <th>鄉鎮市區</th>\n",
       "      <th>建築完成年月</th>\n",
       "      <th>建物移轉總面積[平方公尺]</th>\n",
       "      <th>P1MA_BUILD2</th>\n",
       "      <th>P1MA_BUILD3</th>\n",
       "      <th>P1MA_TOTPRICE</th>\n",
       "      <th>建物型態</th>\n",
       "      <th>現況格局-房</th>\n",
       "      <th>現況格局-廳</th>\n",
       "    </tr>\n",
       "  </thead>\n",
       "  <tbody>\n",
       "    <tr>\n",
       "      <th>0</th>\n",
       "      <td>香山區</td>\n",
       "      <td>7209.0</td>\n",
       "      <td>114.860</td>\n",
       "      <td>1廳</td>\n",
       "      <td>1衛</td>\n",
       "      <td>8500000</td>\n",
       "      <td>透天厝</td>\n",
       "      <td>3</td>\n",
       "      <td>1</td>\n",
       "    </tr>\n",
       "    <tr>\n",
       "      <th>1</th>\n",
       "      <td>東區</td>\n",
       "      <td>NaN</td>\n",
       "      <td>75.900</td>\n",
       "      <td>2廳</td>\n",
       "      <td>1衛</td>\n",
       "      <td>5408000</td>\n",
       "      <td>公寓</td>\n",
       "      <td>3</td>\n",
       "      <td>2</td>\n",
       "    </tr>\n",
       "    <tr>\n",
       "      <th>2</th>\n",
       "      <td>東區</td>\n",
       "      <td>NaN</td>\n",
       "      <td>0.000</td>\n",
       "      <td>NaN</td>\n",
       "      <td>NaN</td>\n",
       "      <td>13770000</td>\n",
       "      <td>土地</td>\n",
       "      <td>0</td>\n",
       "      <td>0</td>\n",
       "    </tr>\n",
       "    <tr>\n",
       "      <th>3</th>\n",
       "      <td>東區</td>\n",
       "      <td>10102.0</td>\n",
       "      <td>103.851</td>\n",
       "      <td>1廳</td>\n",
       "      <td>1衛</td>\n",
       "      <td>6900000</td>\n",
       "      <td>套房</td>\n",
       "      <td>1</td>\n",
       "      <td>1</td>\n",
       "    </tr>\n",
       "    <tr>\n",
       "      <th>4</th>\n",
       "      <td>香山區</td>\n",
       "      <td>8705.0</td>\n",
       "      <td>28.392</td>\n",
       "      <td>NaN</td>\n",
       "      <td>1衛</td>\n",
       "      <td>520000</td>\n",
       "      <td>套房</td>\n",
       "      <td>1</td>\n",
       "      <td>0</td>\n",
       "    </tr>\n",
       "    <tr>\n",
       "      <th>5</th>\n",
       "      <td>東區</td>\n",
       "      <td>7106.0</td>\n",
       "      <td>110.400</td>\n",
       "      <td>2廳</td>\n",
       "      <td>1衛</td>\n",
       "      <td>5428000</td>\n",
       "      <td>透天厝</td>\n",
       "      <td>4</td>\n",
       "      <td>2</td>\n",
       "    </tr>\n",
       "    <tr>\n",
       "      <th>6</th>\n",
       "      <td>東區</td>\n",
       "      <td>10102.0</td>\n",
       "      <td>65.804</td>\n",
       "      <td>1廳</td>\n",
       "      <td>1衛</td>\n",
       "      <td>5300000</td>\n",
       "      <td>套房</td>\n",
       "      <td>1</td>\n",
       "      <td>1</td>\n",
       "    </tr>\n",
       "    <tr>\n",
       "      <th>7</th>\n",
       "      <td>東區</td>\n",
       "      <td>10102.0</td>\n",
       "      <td>65.804</td>\n",
       "      <td>1廳</td>\n",
       "      <td>1衛</td>\n",
       "      <td>5630000</td>\n",
       "      <td>套房</td>\n",
       "      <td>1</td>\n",
       "      <td>1</td>\n",
       "    </tr>\n",
       "    <tr>\n",
       "      <th>8</th>\n",
       "      <td>東區</td>\n",
       "      <td>10102.0</td>\n",
       "      <td>88.335</td>\n",
       "      <td>1廳</td>\n",
       "      <td>1衛</td>\n",
       "      <td>6550000</td>\n",
       "      <td>套房</td>\n",
       "      <td>1</td>\n",
       "      <td>1</td>\n",
       "    </tr>\n",
       "    <tr>\n",
       "      <th>9</th>\n",
       "      <td>東區</td>\n",
       "      <td>5912.0</td>\n",
       "      <td>72.000</td>\n",
       "      <td>1廳</td>\n",
       "      <td>2衛</td>\n",
       "      <td>5100000</td>\n",
       "      <td>透天厝</td>\n",
       "      <td>4</td>\n",
       "      <td>1</td>\n",
       "    </tr>\n",
       "  </tbody>\n",
       "</table>\n",
       "</div>"
      ],
      "text/plain": [
       "  鄉鎮市區   建築完成年月  建物移轉總面積[平方公尺] P1MA_BUILD2 P1MA_BUILD3  P1MA_TOTPRICE 建物型態  \\\n",
       "0  香山區   7209.0        114.860          1廳          1衛        8500000  透天厝   \n",
       "1   東區      NaN         75.900          2廳          1衛        5408000   公寓   \n",
       "2   東區      NaN          0.000         NaN         NaN       13770000   土地   \n",
       "3   東區  10102.0        103.851          1廳          1衛        6900000   套房   \n",
       "4  香山區   8705.0         28.392         NaN          1衛         520000   套房   \n",
       "5   東區   7106.0        110.400          2廳          1衛        5428000  透天厝   \n",
       "6   東區  10102.0         65.804          1廳          1衛        5300000   套房   \n",
       "7   東區  10102.0         65.804          1廳          1衛        5630000   套房   \n",
       "8   東區  10102.0         88.335          1廳          1衛        6550000   套房   \n",
       "9   東區   5912.0         72.000          1廳          2衛        5100000  透天厝   \n",
       "\n",
       "   現況格局-房  現況格局-廳  \n",
       "0       3       1  \n",
       "1       3       2  \n",
       "2       0       0  \n",
       "3       1       1  \n",
       "4       1       0  \n",
       "5       4       2  \n",
       "6       1       1  \n",
       "7       1       1  \n",
       "8       1       1  \n",
       "9       4       1  "
      ]
     },
     "execution_count": 58,
     "metadata": {},
     "output_type": "execute_result"
    }
   ],
   "source": [
    "dfmo[:10]"
   ]
  },
  {
   "cell_type": "code",
   "execution_count": 59,
   "metadata": {},
   "outputs": [],
   "source": [
    "dfmo=dfmo.drop('P1MA_BUILD2',axis=1)"
   ]
  },
  {
   "cell_type": "code",
   "execution_count": 61,
   "metadata": {},
   "outputs": [
    {
     "data": {
      "text/html": [
       "<div>\n",
       "<style scoped>\n",
       "    .dataframe tbody tr th:only-of-type {\n",
       "        vertical-align: middle;\n",
       "    }\n",
       "\n",
       "    .dataframe tbody tr th {\n",
       "        vertical-align: top;\n",
       "    }\n",
       "\n",
       "    .dataframe thead th {\n",
       "        text-align: right;\n",
       "    }\n",
       "</style>\n",
       "<table border=\"1\" class=\"dataframe\">\n",
       "  <thead>\n",
       "    <tr style=\"text-align: right;\">\n",
       "      <th></th>\n",
       "      <th>鄉鎮市區</th>\n",
       "      <th>建築完成年月</th>\n",
       "      <th>建物移轉總面積[平方公尺]</th>\n",
       "      <th>P1MA_BUILD3</th>\n",
       "      <th>P1MA_TOTPRICE</th>\n",
       "      <th>建物型態</th>\n",
       "      <th>現況格局-房</th>\n",
       "      <th>現況格局-廳</th>\n",
       "    </tr>\n",
       "  </thead>\n",
       "  <tbody>\n",
       "    <tr>\n",
       "      <th>0</th>\n",
       "      <td>香山區</td>\n",
       "      <td>7209.0</td>\n",
       "      <td>114.860</td>\n",
       "      <td>1衛</td>\n",
       "      <td>8500000</td>\n",
       "      <td>透天厝</td>\n",
       "      <td>3</td>\n",
       "      <td>1</td>\n",
       "    </tr>\n",
       "    <tr>\n",
       "      <th>1</th>\n",
       "      <td>東區</td>\n",
       "      <td>NaN</td>\n",
       "      <td>75.900</td>\n",
       "      <td>1衛</td>\n",
       "      <td>5408000</td>\n",
       "      <td>公寓</td>\n",
       "      <td>3</td>\n",
       "      <td>2</td>\n",
       "    </tr>\n",
       "    <tr>\n",
       "      <th>2</th>\n",
       "      <td>東區</td>\n",
       "      <td>NaN</td>\n",
       "      <td>0.000</td>\n",
       "      <td>NaN</td>\n",
       "      <td>13770000</td>\n",
       "      <td>土地</td>\n",
       "      <td>0</td>\n",
       "      <td>0</td>\n",
       "    </tr>\n",
       "    <tr>\n",
       "      <th>3</th>\n",
       "      <td>東區</td>\n",
       "      <td>10102.0</td>\n",
       "      <td>103.851</td>\n",
       "      <td>1衛</td>\n",
       "      <td>6900000</td>\n",
       "      <td>套房</td>\n",
       "      <td>1</td>\n",
       "      <td>1</td>\n",
       "    </tr>\n",
       "    <tr>\n",
       "      <th>4</th>\n",
       "      <td>香山區</td>\n",
       "      <td>8705.0</td>\n",
       "      <td>28.392</td>\n",
       "      <td>1衛</td>\n",
       "      <td>520000</td>\n",
       "      <td>套房</td>\n",
       "      <td>1</td>\n",
       "      <td>0</td>\n",
       "    </tr>\n",
       "  </tbody>\n",
       "</table>\n",
       "</div>"
      ],
      "text/plain": [
       "  鄉鎮市區   建築完成年月  建物移轉總面積[平方公尺] P1MA_BUILD3  P1MA_TOTPRICE 建物型態  現況格局-房  現況格局-廳\n",
       "0  香山區   7209.0        114.860          1衛        8500000  透天厝       3       1\n",
       "1   東區      NaN         75.900          1衛        5408000   公寓       3       2\n",
       "2   東區      NaN          0.000         NaN       13770000   土地       0       0\n",
       "3   東區  10102.0        103.851          1衛        6900000   套房       1       1\n",
       "4  香山區   8705.0         28.392          1衛         520000   套房       1       0"
      ]
     },
     "execution_count": 61,
     "metadata": {},
     "output_type": "execute_result"
    }
   ],
   "source": [
    "dfmo[:5]"
   ]
  },
  {
   "cell_type": "markdown",
   "metadata": {},
   "source": [
    "## 換轉 P1MA_BUILD3 ( 現況格局-衛) 成為 int"
   ]
  },
  {
   "cell_type": "code",
   "execution_count": 62,
   "metadata": {},
   "outputs": [
    {
     "data": {
      "text/plain": [
       "43456"
      ]
     },
     "execution_count": 62,
     "metadata": {},
     "output_type": "execute_result"
    }
   ],
   "source": [
    "total_num_row=len(dfmo['P1MA_BUILD3'])\n",
    "total_num_row"
   ]
  },
  {
   "cell_type": "code",
   "execution_count": 63,
   "metadata": {},
   "outputs": [
    {
     "name": "stdout",
     "output_type": "stream",
     "text": [
      "The  P1MA_BUILD3  column has   35494  筆資料 and has  7962 NaN(空資料)\n",
      "total data: 43456\n"
     ]
    }
   ],
   "source": [
    "count=0\n",
    "t_bath_room=[]\n",
    "for i in range(total_num_row):\n",
    "    if isinstance(dfmo.loc[i,\"P1MA_BUILD3\"],str):# 如果 為 str 即有真正資料\n",
    "        t_bath_room.append( int(dfmo.loc[i,\"P1MA_BUILD3\"][0:-1]) )\n",
    "        count=count+1\n",
    "    else:# 為 Nan \n",
    "        t_bath_room.append( 0 )\n",
    "print(\"The  P1MA_BUILD3  column has  \",count, \" 筆資料\", \"and has \", total_num_row-count,\"NaN(空資料)\")\n",
    "print(\"total data:\",total_num_row )"
   ]
  },
  {
   "cell_type": "code",
   "execution_count": 64,
   "metadata": {},
   "outputs": [
    {
     "name": "stdout",
     "output_type": "stream",
     "text": [
      "[1, 1, 0, 1, 1, 1, 1, 1, 1, 2]\n",
      "43456\n"
     ]
    }
   ],
   "source": [
    "print( t_bath_room[:10] ) \n",
    "print(len(t_bath_room) )\n",
    "dfmo['現況格局-衛']=t_bath_room"
   ]
  },
  {
   "cell_type": "code",
   "execution_count": 65,
   "metadata": {},
   "outputs": [
    {
     "data": {
      "text/html": [
       "<div>\n",
       "<style scoped>\n",
       "    .dataframe tbody tr th:only-of-type {\n",
       "        vertical-align: middle;\n",
       "    }\n",
       "\n",
       "    .dataframe tbody tr th {\n",
       "        vertical-align: top;\n",
       "    }\n",
       "\n",
       "    .dataframe thead th {\n",
       "        text-align: right;\n",
       "    }\n",
       "</style>\n",
       "<table border=\"1\" class=\"dataframe\">\n",
       "  <thead>\n",
       "    <tr style=\"text-align: right;\">\n",
       "      <th></th>\n",
       "      <th>鄉鎮市區</th>\n",
       "      <th>建築完成年月</th>\n",
       "      <th>建物移轉總面積[平方公尺]</th>\n",
       "      <th>P1MA_BUILD3</th>\n",
       "      <th>P1MA_TOTPRICE</th>\n",
       "      <th>建物型態</th>\n",
       "      <th>現況格局-房</th>\n",
       "      <th>現況格局-廳</th>\n",
       "      <th>現況格局-衛</th>\n",
       "    </tr>\n",
       "  </thead>\n",
       "  <tbody>\n",
       "    <tr>\n",
       "      <th>0</th>\n",
       "      <td>香山區</td>\n",
       "      <td>7209.0</td>\n",
       "      <td>114.860</td>\n",
       "      <td>1衛</td>\n",
       "      <td>8500000</td>\n",
       "      <td>透天厝</td>\n",
       "      <td>3</td>\n",
       "      <td>1</td>\n",
       "      <td>1</td>\n",
       "    </tr>\n",
       "    <tr>\n",
       "      <th>1</th>\n",
       "      <td>東區</td>\n",
       "      <td>NaN</td>\n",
       "      <td>75.900</td>\n",
       "      <td>1衛</td>\n",
       "      <td>5408000</td>\n",
       "      <td>公寓</td>\n",
       "      <td>3</td>\n",
       "      <td>2</td>\n",
       "      <td>1</td>\n",
       "    </tr>\n",
       "    <tr>\n",
       "      <th>2</th>\n",
       "      <td>東區</td>\n",
       "      <td>NaN</td>\n",
       "      <td>0.000</td>\n",
       "      <td>NaN</td>\n",
       "      <td>13770000</td>\n",
       "      <td>土地</td>\n",
       "      <td>0</td>\n",
       "      <td>0</td>\n",
       "      <td>0</td>\n",
       "    </tr>\n",
       "    <tr>\n",
       "      <th>3</th>\n",
       "      <td>東區</td>\n",
       "      <td>10102.0</td>\n",
       "      <td>103.851</td>\n",
       "      <td>1衛</td>\n",
       "      <td>6900000</td>\n",
       "      <td>套房</td>\n",
       "      <td>1</td>\n",
       "      <td>1</td>\n",
       "      <td>1</td>\n",
       "    </tr>\n",
       "    <tr>\n",
       "      <th>4</th>\n",
       "      <td>香山區</td>\n",
       "      <td>8705.0</td>\n",
       "      <td>28.392</td>\n",
       "      <td>1衛</td>\n",
       "      <td>520000</td>\n",
       "      <td>套房</td>\n",
       "      <td>1</td>\n",
       "      <td>0</td>\n",
       "      <td>1</td>\n",
       "    </tr>\n",
       "    <tr>\n",
       "      <th>5</th>\n",
       "      <td>東區</td>\n",
       "      <td>7106.0</td>\n",
       "      <td>110.400</td>\n",
       "      <td>1衛</td>\n",
       "      <td>5428000</td>\n",
       "      <td>透天厝</td>\n",
       "      <td>4</td>\n",
       "      <td>2</td>\n",
       "      <td>1</td>\n",
       "    </tr>\n",
       "    <tr>\n",
       "      <th>6</th>\n",
       "      <td>東區</td>\n",
       "      <td>10102.0</td>\n",
       "      <td>65.804</td>\n",
       "      <td>1衛</td>\n",
       "      <td>5300000</td>\n",
       "      <td>套房</td>\n",
       "      <td>1</td>\n",
       "      <td>1</td>\n",
       "      <td>1</td>\n",
       "    </tr>\n",
       "    <tr>\n",
       "      <th>7</th>\n",
       "      <td>東區</td>\n",
       "      <td>10102.0</td>\n",
       "      <td>65.804</td>\n",
       "      <td>1衛</td>\n",
       "      <td>5630000</td>\n",
       "      <td>套房</td>\n",
       "      <td>1</td>\n",
       "      <td>1</td>\n",
       "      <td>1</td>\n",
       "    </tr>\n",
       "    <tr>\n",
       "      <th>8</th>\n",
       "      <td>東區</td>\n",
       "      <td>10102.0</td>\n",
       "      <td>88.335</td>\n",
       "      <td>1衛</td>\n",
       "      <td>6550000</td>\n",
       "      <td>套房</td>\n",
       "      <td>1</td>\n",
       "      <td>1</td>\n",
       "      <td>1</td>\n",
       "    </tr>\n",
       "    <tr>\n",
       "      <th>9</th>\n",
       "      <td>東區</td>\n",
       "      <td>5912.0</td>\n",
       "      <td>72.000</td>\n",
       "      <td>2衛</td>\n",
       "      <td>5100000</td>\n",
       "      <td>透天厝</td>\n",
       "      <td>4</td>\n",
       "      <td>1</td>\n",
       "      <td>2</td>\n",
       "    </tr>\n",
       "  </tbody>\n",
       "</table>\n",
       "</div>"
      ],
      "text/plain": [
       "  鄉鎮市區   建築完成年月  建物移轉總面積[平方公尺] P1MA_BUILD3  P1MA_TOTPRICE 建物型態  現況格局-房  \\\n",
       "0  香山區   7209.0        114.860          1衛        8500000  透天厝       3   \n",
       "1   東區      NaN         75.900          1衛        5408000   公寓       3   \n",
       "2   東區      NaN          0.000         NaN       13770000   土地       0   \n",
       "3   東區  10102.0        103.851          1衛        6900000   套房       1   \n",
       "4  香山區   8705.0         28.392          1衛         520000   套房       1   \n",
       "5   東區   7106.0        110.400          1衛        5428000  透天厝       4   \n",
       "6   東區  10102.0         65.804          1衛        5300000   套房       1   \n",
       "7   東區  10102.0         65.804          1衛        5630000   套房       1   \n",
       "8   東區  10102.0         88.335          1衛        6550000   套房       1   \n",
       "9   東區   5912.0         72.000          2衛        5100000  透天厝       4   \n",
       "\n",
       "   現況格局-廳  現況格局-衛  \n",
       "0       1       1  \n",
       "1       2       1  \n",
       "2       0       0  \n",
       "3       1       1  \n",
       "4       0       1  \n",
       "5       2       1  \n",
       "6       1       1  \n",
       "7       1       1  \n",
       "8       1       1  \n",
       "9       1       2  "
      ]
     },
     "execution_count": 65,
     "metadata": {},
     "output_type": "execute_result"
    }
   ],
   "source": [
    "dfmo[:10]"
   ]
  },
  {
   "cell_type": "code",
   "execution_count": 67,
   "metadata": {},
   "outputs": [],
   "source": [
    "dfmo=dfmo.drop('P1MA_BUILD3',axis=1)"
   ]
  },
  {
   "cell_type": "code",
   "execution_count": 68,
   "metadata": {},
   "outputs": [
    {
     "data": {
      "text/html": [
       "<div>\n",
       "<style scoped>\n",
       "    .dataframe tbody tr th:only-of-type {\n",
       "        vertical-align: middle;\n",
       "    }\n",
       "\n",
       "    .dataframe tbody tr th {\n",
       "        vertical-align: top;\n",
       "    }\n",
       "\n",
       "    .dataframe thead th {\n",
       "        text-align: right;\n",
       "    }\n",
       "</style>\n",
       "<table border=\"1\" class=\"dataframe\">\n",
       "  <thead>\n",
       "    <tr style=\"text-align: right;\">\n",
       "      <th></th>\n",
       "      <th>鄉鎮市區</th>\n",
       "      <th>建築完成年月</th>\n",
       "      <th>建物移轉總面積[平方公尺]</th>\n",
       "      <th>P1MA_TOTPRICE</th>\n",
       "      <th>建物型態</th>\n",
       "      <th>現況格局-房</th>\n",
       "      <th>現況格局-廳</th>\n",
       "      <th>現況格局-衛</th>\n",
       "    </tr>\n",
       "  </thead>\n",
       "  <tbody>\n",
       "    <tr>\n",
       "      <th>0</th>\n",
       "      <td>香山區</td>\n",
       "      <td>7209.0</td>\n",
       "      <td>114.860</td>\n",
       "      <td>8500000</td>\n",
       "      <td>透天厝</td>\n",
       "      <td>3</td>\n",
       "      <td>1</td>\n",
       "      <td>1</td>\n",
       "    </tr>\n",
       "    <tr>\n",
       "      <th>1</th>\n",
       "      <td>東區</td>\n",
       "      <td>NaN</td>\n",
       "      <td>75.900</td>\n",
       "      <td>5408000</td>\n",
       "      <td>公寓</td>\n",
       "      <td>3</td>\n",
       "      <td>2</td>\n",
       "      <td>1</td>\n",
       "    </tr>\n",
       "    <tr>\n",
       "      <th>2</th>\n",
       "      <td>東區</td>\n",
       "      <td>NaN</td>\n",
       "      <td>0.000</td>\n",
       "      <td>13770000</td>\n",
       "      <td>土地</td>\n",
       "      <td>0</td>\n",
       "      <td>0</td>\n",
       "      <td>0</td>\n",
       "    </tr>\n",
       "    <tr>\n",
       "      <th>3</th>\n",
       "      <td>東區</td>\n",
       "      <td>10102.0</td>\n",
       "      <td>103.851</td>\n",
       "      <td>6900000</td>\n",
       "      <td>套房</td>\n",
       "      <td>1</td>\n",
       "      <td>1</td>\n",
       "      <td>1</td>\n",
       "    </tr>\n",
       "    <tr>\n",
       "      <th>4</th>\n",
       "      <td>香山區</td>\n",
       "      <td>8705.0</td>\n",
       "      <td>28.392</td>\n",
       "      <td>520000</td>\n",
       "      <td>套房</td>\n",
       "      <td>1</td>\n",
       "      <td>0</td>\n",
       "      <td>1</td>\n",
       "    </tr>\n",
       "  </tbody>\n",
       "</table>\n",
       "</div>"
      ],
      "text/plain": [
       "  鄉鎮市區   建築完成年月  建物移轉總面積[平方公尺]  P1MA_TOTPRICE 建物型態  現況格局-房  現況格局-廳  現況格局-衛\n",
       "0  香山區   7209.0        114.860        8500000  透天厝       3       1       1\n",
       "1   東區      NaN         75.900        5408000   公寓       3       2       1\n",
       "2   東區      NaN          0.000       13770000   土地       0       0       0\n",
       "3   東區  10102.0        103.851        6900000   套房       1       1       1\n",
       "4  香山區   8705.0         28.392         520000   套房       1       0       1"
      ]
     },
     "execution_count": 68,
     "metadata": {},
     "output_type": "execute_result"
    }
   ],
   "source": [
    "dfmo[:5]"
   ]
  },
  {
   "cell_type": "code",
   "execution_count": 56,
   "metadata": {},
   "outputs": [
    {
     "name": "stdout",
     "output_type": "stream",
     "text": [
      "<class 'pandas.core.frame.DataFrame'>\n",
      "RangeIndex: 43456 entries, 0 to 43455\n",
      "Data columns (total 8 columns):\n",
      "鄉鎮市區             42881 non-null object\n",
      "建築完成年月           35754 non-null float64\n",
      "建物移轉總面積[平方公尺]    43456 non-null float64\n",
      "P1MA_TOTPRICE    43456 non-null int64\n",
      "建物型態             43456 non-null object\n",
      "現況格局-房           43456 non-null int64\n",
      "現況格局-廳           43456 non-null int64\n",
      "現況格局-衛           43456 non-null int64\n",
      "dtypes: float64(2), int64(4), object(2)\n",
      "memory usage: 2.7+ MB\n"
     ]
    }
   ],
   "source": [
    "dfmo.info()"
   ]
  },
  {
   "cell_type": "markdown",
   "metadata": {},
   "source": [
    "## 修改欄位名稱"
   ]
  },
  {
   "cell_type": "code",
   "execution_count": 70,
   "metadata": {
    "scrolled": true
   },
   "outputs": [
    {
     "data": {
      "text/html": [
       "<div>\n",
       "<style scoped>\n",
       "    .dataframe tbody tr th:only-of-type {\n",
       "        vertical-align: middle;\n",
       "    }\n",
       "\n",
       "    .dataframe tbody tr th {\n",
       "        vertical-align: top;\n",
       "    }\n",
       "\n",
       "    .dataframe thead th {\n",
       "        text-align: right;\n",
       "    }\n",
       "</style>\n",
       "<table border=\"1\" class=\"dataframe\">\n",
       "  <thead>\n",
       "    <tr style=\"text-align: right;\">\n",
       "      <th></th>\n",
       "      <th>鄉鎮市區</th>\n",
       "      <th>建築完成年月</th>\n",
       "      <th>建物移轉總面積[平方公尺]</th>\n",
       "      <th>總價[元]</th>\n",
       "      <th>建物型態</th>\n",
       "      <th>現況格局-房</th>\n",
       "      <th>現況格局-廳</th>\n",
       "      <th>現況格局-衛</th>\n",
       "    </tr>\n",
       "  </thead>\n",
       "  <tbody>\n",
       "    <tr>\n",
       "      <th>0</th>\n",
       "      <td>香山區</td>\n",
       "      <td>7209.0</td>\n",
       "      <td>114.860</td>\n",
       "      <td>8500000</td>\n",
       "      <td>透天厝</td>\n",
       "      <td>3</td>\n",
       "      <td>1</td>\n",
       "      <td>1</td>\n",
       "    </tr>\n",
       "    <tr>\n",
       "      <th>1</th>\n",
       "      <td>東區</td>\n",
       "      <td>NaN</td>\n",
       "      <td>75.900</td>\n",
       "      <td>5408000</td>\n",
       "      <td>公寓</td>\n",
       "      <td>3</td>\n",
       "      <td>2</td>\n",
       "      <td>1</td>\n",
       "    </tr>\n",
       "    <tr>\n",
       "      <th>2</th>\n",
       "      <td>東區</td>\n",
       "      <td>NaN</td>\n",
       "      <td>0.000</td>\n",
       "      <td>13770000</td>\n",
       "      <td>土地</td>\n",
       "      <td>0</td>\n",
       "      <td>0</td>\n",
       "      <td>0</td>\n",
       "    </tr>\n",
       "    <tr>\n",
       "      <th>3</th>\n",
       "      <td>東區</td>\n",
       "      <td>10102.0</td>\n",
       "      <td>103.851</td>\n",
       "      <td>6900000</td>\n",
       "      <td>套房</td>\n",
       "      <td>1</td>\n",
       "      <td>1</td>\n",
       "      <td>1</td>\n",
       "    </tr>\n",
       "    <tr>\n",
       "      <th>4</th>\n",
       "      <td>香山區</td>\n",
       "      <td>8705.0</td>\n",
       "      <td>28.392</td>\n",
       "      <td>520000</td>\n",
       "      <td>套房</td>\n",
       "      <td>1</td>\n",
       "      <td>0</td>\n",
       "      <td>1</td>\n",
       "    </tr>\n",
       "    <tr>\n",
       "      <th>5</th>\n",
       "      <td>東區</td>\n",
       "      <td>7106.0</td>\n",
       "      <td>110.400</td>\n",
       "      <td>5428000</td>\n",
       "      <td>透天厝</td>\n",
       "      <td>4</td>\n",
       "      <td>2</td>\n",
       "      <td>1</td>\n",
       "    </tr>\n",
       "    <tr>\n",
       "      <th>6</th>\n",
       "      <td>東區</td>\n",
       "      <td>10102.0</td>\n",
       "      <td>65.804</td>\n",
       "      <td>5300000</td>\n",
       "      <td>套房</td>\n",
       "      <td>1</td>\n",
       "      <td>1</td>\n",
       "      <td>1</td>\n",
       "    </tr>\n",
       "    <tr>\n",
       "      <th>7</th>\n",
       "      <td>東區</td>\n",
       "      <td>10102.0</td>\n",
       "      <td>65.804</td>\n",
       "      <td>5630000</td>\n",
       "      <td>套房</td>\n",
       "      <td>1</td>\n",
       "      <td>1</td>\n",
       "      <td>1</td>\n",
       "    </tr>\n",
       "    <tr>\n",
       "      <th>8</th>\n",
       "      <td>東區</td>\n",
       "      <td>10102.0</td>\n",
       "      <td>88.335</td>\n",
       "      <td>6550000</td>\n",
       "      <td>套房</td>\n",
       "      <td>1</td>\n",
       "      <td>1</td>\n",
       "      <td>1</td>\n",
       "    </tr>\n",
       "    <tr>\n",
       "      <th>9</th>\n",
       "      <td>東區</td>\n",
       "      <td>5912.0</td>\n",
       "      <td>72.000</td>\n",
       "      <td>5100000</td>\n",
       "      <td>透天厝</td>\n",
       "      <td>4</td>\n",
       "      <td>1</td>\n",
       "      <td>2</td>\n",
       "    </tr>\n",
       "  </tbody>\n",
       "</table>\n",
       "</div>"
      ],
      "text/plain": [
       "  鄉鎮市區   建築完成年月  建物移轉總面積[平方公尺]     總價[元] 建物型態  現況格局-房  現況格局-廳  現況格局-衛\n",
       "0  香山區   7209.0        114.860   8500000  透天厝       3       1       1\n",
       "1   東區      NaN         75.900   5408000   公寓       3       2       1\n",
       "2   東區      NaN          0.000  13770000   土地       0       0       0\n",
       "3   東區  10102.0        103.851   6900000   套房       1       1       1\n",
       "4  香山區   8705.0         28.392    520000   套房       1       0       1\n",
       "5   東區   7106.0        110.400   5428000  透天厝       4       2       1\n",
       "6   東區  10102.0         65.804   5300000   套房       1       1       1\n",
       "7   東區  10102.0         65.804   5630000   套房       1       1       1\n",
       "8   東區  10102.0         88.335   6550000   套房       1       1       1\n",
       "9   東區   5912.0         72.000   5100000  透天厝       4       1       2"
      ]
     },
     "execution_count": 70,
     "metadata": {},
     "output_type": "execute_result"
    }
   ],
   "source": [
    "dfmo=dfmo.rename(      columns={  'P1MA_TOTPRICE'  :  '總價[元]'  }     )\n",
    "dfmo[:10]"
   ]
  },
  {
   "cell_type": "code",
   "execution_count": 58,
   "metadata": {},
   "outputs": [
    {
     "name": "stdout",
     "output_type": "stream",
     "text": [
      "<class 'pandas.core.frame.DataFrame'>\n",
      "RangeIndex: 43456 entries, 0 to 43455\n",
      "Data columns (total 8 columns):\n",
      "鄉鎮市區             42881 non-null object\n",
      "建築完成年月           35754 non-null float64\n",
      "建物移轉總面積[平方公尺]    43456 non-null float64\n",
      "總價[元]            43456 non-null int64\n",
      "建物型態             43456 non-null object\n",
      "現況格局-房           43456 non-null int64\n",
      "現況格局-廳           43456 non-null int64\n",
      "現況格局-衛           43456 non-null int64\n",
      "dtypes: float64(2), int64(4), object(2)\n",
      "memory usage: 2.7+ MB\n"
     ]
    }
   ],
   "source": [
    "dfmo.info()"
   ]
  },
  {
   "cell_type": "code",
   "execution_count": 71,
   "metadata": {},
   "outputs": [
    {
     "data": {
      "text/html": [
       "<div>\n",
       "<style scoped>\n",
       "    .dataframe tbody tr th:only-of-type {\n",
       "        vertical-align: middle;\n",
       "    }\n",
       "\n",
       "    .dataframe tbody tr th {\n",
       "        vertical-align: top;\n",
       "    }\n",
       "\n",
       "    .dataframe thead th {\n",
       "        text-align: right;\n",
       "    }\n",
       "</style>\n",
       "<table border=\"1\" class=\"dataframe\">\n",
       "  <thead>\n",
       "    <tr style=\"text-align: right;\">\n",
       "      <th></th>\n",
       "      <th>建築完成年月</th>\n",
       "      <th>建物移轉總面積[平方公尺]</th>\n",
       "      <th>總價[元]</th>\n",
       "      <th>現況格局-房</th>\n",
       "      <th>現況格局-廳</th>\n",
       "      <th>現況格局-衛</th>\n",
       "    </tr>\n",
       "  </thead>\n",
       "  <tbody>\n",
       "    <tr>\n",
       "      <th>count</th>\n",
       "      <td>35754.000000</td>\n",
       "      <td>43456.000000</td>\n",
       "      <td>4.345600e+04</td>\n",
       "      <td>43456.00000</td>\n",
       "      <td>43456.000000</td>\n",
       "      <td>43456.000000</td>\n",
       "    </tr>\n",
       "    <tr>\n",
       "      <th>mean</th>\n",
       "      <td>9434.007244</td>\n",
       "      <td>153.013497</td>\n",
       "      <td>1.095019e+07</td>\n",
       "      <td>2.65121</td>\n",
       "      <td>1.471488</td>\n",
       "      <td>1.848237</td>\n",
       "    </tr>\n",
       "    <tr>\n",
       "      <th>std</th>\n",
       "      <td>1145.957581</td>\n",
       "      <td>549.742850</td>\n",
       "      <td>2.901826e+07</td>\n",
       "      <td>2.26749</td>\n",
       "      <td>0.966171</td>\n",
       "      <td>2.014332</td>\n",
       "    </tr>\n",
       "    <tr>\n",
       "      <th>min</th>\n",
       "      <td>0.000000</td>\n",
       "      <td>0.000000</td>\n",
       "      <td>0.000000e+00</td>\n",
       "      <td>0.00000</td>\n",
       "      <td>0.000000</td>\n",
       "      <td>0.000000</td>\n",
       "    </tr>\n",
       "    <tr>\n",
       "      <th>25%</th>\n",
       "      <td>8605.000000</td>\n",
       "      <td>72.120000</td>\n",
       "      <td>4.250000e+06</td>\n",
       "      <td>1.00000</td>\n",
       "      <td>1.000000</td>\n",
       "      <td>1.000000</td>\n",
       "    </tr>\n",
       "    <tr>\n",
       "      <th>50%</th>\n",
       "      <td>9908.000000</td>\n",
       "      <td>140.680000</td>\n",
       "      <td>7.750000e+06</td>\n",
       "      <td>3.00000</td>\n",
       "      <td>2.000000</td>\n",
       "      <td>2.000000</td>\n",
       "    </tr>\n",
       "    <tr>\n",
       "      <th>75%</th>\n",
       "      <td>10305.000000</td>\n",
       "      <td>196.956000</td>\n",
       "      <td>1.306000e+07</td>\n",
       "      <td>4.00000</td>\n",
       "      <td>2.000000</td>\n",
       "      <td>2.000000</td>\n",
       "    </tr>\n",
       "    <tr>\n",
       "      <th>max</th>\n",
       "      <td>77101.000000</td>\n",
       "      <td>70414.550000</td>\n",
       "      <td>3.310000e+09</td>\n",
       "      <td>88.00000</td>\n",
       "      <td>58.000000</td>\n",
       "      <td>88.000000</td>\n",
       "    </tr>\n",
       "  </tbody>\n",
       "</table>\n",
       "</div>"
      ],
      "text/plain": [
       "             建築完成年月  建物移轉總面積[平方公尺]         總價[元]       現況格局-房        現況格局-廳  \\\n",
       "count  35754.000000   43456.000000  4.345600e+04  43456.00000  43456.000000   \n",
       "mean    9434.007244     153.013497  1.095019e+07      2.65121      1.471488   \n",
       "std     1145.957581     549.742850  2.901826e+07      2.26749      0.966171   \n",
       "min        0.000000       0.000000  0.000000e+00      0.00000      0.000000   \n",
       "25%     8605.000000      72.120000  4.250000e+06      1.00000      1.000000   \n",
       "50%     9908.000000     140.680000  7.750000e+06      3.00000      2.000000   \n",
       "75%    10305.000000     196.956000  1.306000e+07      4.00000      2.000000   \n",
       "max    77101.000000   70414.550000  3.310000e+09     88.00000     58.000000   \n",
       "\n",
       "             現況格局-衛  \n",
       "count  43456.000000  \n",
       "mean       1.848237  \n",
       "std        2.014332  \n",
       "min        0.000000  \n",
       "25%        1.000000  \n",
       "50%        2.000000  \n",
       "75%        2.000000  \n",
       "max       88.000000  "
      ]
     },
     "execution_count": 71,
     "metadata": {},
     "output_type": "execute_result"
    }
   ],
   "source": [
    "dfmo.describe()"
   ]
  },
  {
   "cell_type": "code",
   "execution_count": 72,
   "metadata": {},
   "outputs": [],
   "source": [
    "dfmo[\"總價[百萬元]\"]=dfmo[\"總價[元]\"]/1000000"
   ]
  },
  {
   "cell_type": "code",
   "execution_count": 73,
   "metadata": {},
   "outputs": [
    {
     "data": {
      "text/html": [
       "<div>\n",
       "<style scoped>\n",
       "    .dataframe tbody tr th:only-of-type {\n",
       "        vertical-align: middle;\n",
       "    }\n",
       "\n",
       "    .dataframe tbody tr th {\n",
       "        vertical-align: top;\n",
       "    }\n",
       "\n",
       "    .dataframe thead th {\n",
       "        text-align: right;\n",
       "    }\n",
       "</style>\n",
       "<table border=\"1\" class=\"dataframe\">\n",
       "  <thead>\n",
       "    <tr style=\"text-align: right;\">\n",
       "      <th></th>\n",
       "      <th>鄉鎮市區</th>\n",
       "      <th>建築完成年月</th>\n",
       "      <th>建物移轉總面積[平方公尺]</th>\n",
       "      <th>總價[元]</th>\n",
       "      <th>建物型態</th>\n",
       "      <th>現況格局-房</th>\n",
       "      <th>現況格局-廳</th>\n",
       "      <th>現況格局-衛</th>\n",
       "      <th>總價[百萬元]</th>\n",
       "    </tr>\n",
       "  </thead>\n",
       "  <tbody>\n",
       "    <tr>\n",
       "      <th>0</th>\n",
       "      <td>香山區</td>\n",
       "      <td>7209.0</td>\n",
       "      <td>114.860</td>\n",
       "      <td>8500000</td>\n",
       "      <td>透天厝</td>\n",
       "      <td>3</td>\n",
       "      <td>1</td>\n",
       "      <td>1</td>\n",
       "      <td>8.500</td>\n",
       "    </tr>\n",
       "    <tr>\n",
       "      <th>1</th>\n",
       "      <td>東區</td>\n",
       "      <td>NaN</td>\n",
       "      <td>75.900</td>\n",
       "      <td>5408000</td>\n",
       "      <td>公寓</td>\n",
       "      <td>3</td>\n",
       "      <td>2</td>\n",
       "      <td>1</td>\n",
       "      <td>5.408</td>\n",
       "    </tr>\n",
       "    <tr>\n",
       "      <th>2</th>\n",
       "      <td>東區</td>\n",
       "      <td>NaN</td>\n",
       "      <td>0.000</td>\n",
       "      <td>13770000</td>\n",
       "      <td>土地</td>\n",
       "      <td>0</td>\n",
       "      <td>0</td>\n",
       "      <td>0</td>\n",
       "      <td>13.770</td>\n",
       "    </tr>\n",
       "    <tr>\n",
       "      <th>3</th>\n",
       "      <td>東區</td>\n",
       "      <td>10102.0</td>\n",
       "      <td>103.851</td>\n",
       "      <td>6900000</td>\n",
       "      <td>套房</td>\n",
       "      <td>1</td>\n",
       "      <td>1</td>\n",
       "      <td>1</td>\n",
       "      <td>6.900</td>\n",
       "    </tr>\n",
       "    <tr>\n",
       "      <th>4</th>\n",
       "      <td>香山區</td>\n",
       "      <td>8705.0</td>\n",
       "      <td>28.392</td>\n",
       "      <td>520000</td>\n",
       "      <td>套房</td>\n",
       "      <td>1</td>\n",
       "      <td>0</td>\n",
       "      <td>1</td>\n",
       "      <td>0.520</td>\n",
       "    </tr>\n",
       "    <tr>\n",
       "      <th>5</th>\n",
       "      <td>東區</td>\n",
       "      <td>7106.0</td>\n",
       "      <td>110.400</td>\n",
       "      <td>5428000</td>\n",
       "      <td>透天厝</td>\n",
       "      <td>4</td>\n",
       "      <td>2</td>\n",
       "      <td>1</td>\n",
       "      <td>5.428</td>\n",
       "    </tr>\n",
       "    <tr>\n",
       "      <th>6</th>\n",
       "      <td>東區</td>\n",
       "      <td>10102.0</td>\n",
       "      <td>65.804</td>\n",
       "      <td>5300000</td>\n",
       "      <td>套房</td>\n",
       "      <td>1</td>\n",
       "      <td>1</td>\n",
       "      <td>1</td>\n",
       "      <td>5.300</td>\n",
       "    </tr>\n",
       "    <tr>\n",
       "      <th>7</th>\n",
       "      <td>東區</td>\n",
       "      <td>10102.0</td>\n",
       "      <td>65.804</td>\n",
       "      <td>5630000</td>\n",
       "      <td>套房</td>\n",
       "      <td>1</td>\n",
       "      <td>1</td>\n",
       "      <td>1</td>\n",
       "      <td>5.630</td>\n",
       "    </tr>\n",
       "    <tr>\n",
       "      <th>8</th>\n",
       "      <td>東區</td>\n",
       "      <td>10102.0</td>\n",
       "      <td>88.335</td>\n",
       "      <td>6550000</td>\n",
       "      <td>套房</td>\n",
       "      <td>1</td>\n",
       "      <td>1</td>\n",
       "      <td>1</td>\n",
       "      <td>6.550</td>\n",
       "    </tr>\n",
       "    <tr>\n",
       "      <th>9</th>\n",
       "      <td>東區</td>\n",
       "      <td>5912.0</td>\n",
       "      <td>72.000</td>\n",
       "      <td>5100000</td>\n",
       "      <td>透天厝</td>\n",
       "      <td>4</td>\n",
       "      <td>1</td>\n",
       "      <td>2</td>\n",
       "      <td>5.100</td>\n",
       "    </tr>\n",
       "    <tr>\n",
       "      <th>10</th>\n",
       "      <td>東區</td>\n",
       "      <td>NaN</td>\n",
       "      <td>0.000</td>\n",
       "      <td>25600000</td>\n",
       "      <td>土地</td>\n",
       "      <td>0</td>\n",
       "      <td>0</td>\n",
       "      <td>0</td>\n",
       "      <td>25.600</td>\n",
       "    </tr>\n",
       "    <tr>\n",
       "      <th>11</th>\n",
       "      <td>東區</td>\n",
       "      <td>6701.0</td>\n",
       "      <td>112.940</td>\n",
       "      <td>9300000</td>\n",
       "      <td>透天厝</td>\n",
       "      <td>3</td>\n",
       "      <td>2</td>\n",
       "      <td>2</td>\n",
       "      <td>9.300</td>\n",
       "    </tr>\n",
       "    <tr>\n",
       "      <th>12</th>\n",
       "      <td>北區</td>\n",
       "      <td>7909.0</td>\n",
       "      <td>35.173</td>\n",
       "      <td>900000</td>\n",
       "      <td>套房</td>\n",
       "      <td>1</td>\n",
       "      <td>0</td>\n",
       "      <td>1</td>\n",
       "      <td>0.900</td>\n",
       "    </tr>\n",
       "    <tr>\n",
       "      <th>13</th>\n",
       "      <td>北區</td>\n",
       "      <td>8703.0</td>\n",
       "      <td>126.111</td>\n",
       "      <td>5400000</td>\n",
       "      <td>住宅大樓</td>\n",
       "      <td>3</td>\n",
       "      <td>2</td>\n",
       "      <td>2</td>\n",
       "      <td>5.400</td>\n",
       "    </tr>\n",
       "    <tr>\n",
       "      <th>14</th>\n",
       "      <td>東區</td>\n",
       "      <td>7407.0</td>\n",
       "      <td>81.143</td>\n",
       "      <td>3000000</td>\n",
       "      <td>公寓</td>\n",
       "      <td>3</td>\n",
       "      <td>2</td>\n",
       "      <td>1</td>\n",
       "      <td>3.000</td>\n",
       "    </tr>\n",
       "  </tbody>\n",
       "</table>\n",
       "</div>"
      ],
      "text/plain": [
       "   鄉鎮市區   建築完成年月  建物移轉總面積[平方公尺]     總價[元]  建物型態  現況格局-房  現況格局-廳  現況格局-衛  \\\n",
       "0   香山區   7209.0        114.860   8500000   透天厝       3       1       1   \n",
       "1    東區      NaN         75.900   5408000    公寓       3       2       1   \n",
       "2    東區      NaN          0.000  13770000    土地       0       0       0   \n",
       "3    東區  10102.0        103.851   6900000    套房       1       1       1   \n",
       "4   香山區   8705.0         28.392    520000    套房       1       0       1   \n",
       "5    東區   7106.0        110.400   5428000   透天厝       4       2       1   \n",
       "6    東區  10102.0         65.804   5300000    套房       1       1       1   \n",
       "7    東區  10102.0         65.804   5630000    套房       1       1       1   \n",
       "8    東區  10102.0         88.335   6550000    套房       1       1       1   \n",
       "9    東區   5912.0         72.000   5100000   透天厝       4       1       2   \n",
       "10   東區      NaN          0.000  25600000    土地       0       0       0   \n",
       "11   東區   6701.0        112.940   9300000   透天厝       3       2       2   \n",
       "12   北區   7909.0         35.173    900000    套房       1       0       1   \n",
       "13   北區   8703.0        126.111   5400000  住宅大樓       3       2       2   \n",
       "14   東區   7407.0         81.143   3000000    公寓       3       2       1   \n",
       "\n",
       "    總價[百萬元]  \n",
       "0     8.500  \n",
       "1     5.408  \n",
       "2    13.770  \n",
       "3     6.900  \n",
       "4     0.520  \n",
       "5     5.428  \n",
       "6     5.300  \n",
       "7     5.630  \n",
       "8     6.550  \n",
       "9     5.100  \n",
       "10   25.600  \n",
       "11    9.300  \n",
       "12    0.900  \n",
       "13    5.400  \n",
       "14    3.000  "
      ]
     },
     "execution_count": 73,
     "metadata": {},
     "output_type": "execute_result"
    }
   ],
   "source": [
    "dfmo[:15]"
   ]
  },
  {
   "cell_type": "code",
   "execution_count": 74,
   "metadata": {},
   "outputs": [
    {
     "name": "stdout",
     "output_type": "stream",
     "text": [
      "nan\n"
     ]
    },
    {
     "data": {
      "text/plain": [
       "numpy.float64"
      ]
     },
     "execution_count": 74,
     "metadata": {},
     "output_type": "execute_result"
    }
   ],
   "source": [
    "print(dfmo.loc[1,\"建築完成年月\"])\n",
    "type(dfmo.loc[1,\"建築完成年月\"])"
   ]
  },
  {
   "cell_type": "code",
   "execution_count": 75,
   "metadata": {},
   "outputs": [
    {
     "name": "stdout",
     "output_type": "stream",
     "text": [
      "10102.0\n"
     ]
    },
    {
     "data": {
      "text/plain": [
       "numpy.float64"
      ]
     },
     "execution_count": 75,
     "metadata": {},
     "output_type": "execute_result"
    }
   ],
   "source": [
    "print(dfmo.loc[3,\"建築完成年月\"])\n",
    "type(dfmo.loc[3,\"建築完成年月\"])"
   ]
  },
  {
   "cell_type": "code",
   "execution_count": 76,
   "metadata": {},
   "outputs": [
    {
     "name": "stdout",
     "output_type": "stream",
     "text": [
      "<class 'pandas.core.frame.DataFrame'>\n",
      "RangeIndex: 43456 entries, 0 to 43455\n",
      "Data columns (total 9 columns):\n",
      "鄉鎮市區             42881 non-null object\n",
      "建築完成年月           35754 non-null float64\n",
      "建物移轉總面積[平方公尺]    43456 non-null float64\n",
      "總價[元]            43456 non-null int64\n",
      "建物型態             43456 non-null object\n",
      "現況格局-房           43456 non-null int64\n",
      "現況格局-廳           43456 non-null int64\n",
      "現況格局-衛           43456 non-null int64\n",
      "總價[百萬元]          43456 non-null float64\n",
      "dtypes: float64(3), int64(4), object(2)\n",
      "memory usage: 3.0+ MB\n"
     ]
    }
   ],
   "source": [
    "dfmo.info()"
   ]
  },
  {
   "cell_type": "markdown",
   "metadata": {},
   "source": [
    "## 刪除所有 Nan 的列 "
   ]
  },
  {
   "cell_type": "code",
   "execution_count": 77,
   "metadata": {},
   "outputs": [],
   "source": [
    "dfmo1=dfmo.dropna()"
   ]
  },
  {
   "cell_type": "code",
   "execution_count": 78,
   "metadata": {},
   "outputs": [
    {
     "name": "stdout",
     "output_type": "stream",
     "text": [
      "<class 'pandas.core.frame.DataFrame'>\n",
      "Int64Index: 35586 entries, 0 to 43448\n",
      "Data columns (total 9 columns):\n",
      "鄉鎮市區             35586 non-null object\n",
      "建築完成年月           35586 non-null float64\n",
      "建物移轉總面積[平方公尺]    35586 non-null float64\n",
      "總價[元]            35586 non-null int64\n",
      "建物型態             35586 non-null object\n",
      "現況格局-房           35586 non-null int64\n",
      "現況格局-廳           35586 non-null int64\n",
      "現況格局-衛           35586 non-null int64\n",
      "總價[百萬元]          35586 non-null float64\n",
      "dtypes: float64(3), int64(4), object(2)\n",
      "memory usage: 2.7+ MB\n"
     ]
    }
   ],
   "source": [
    "dfmo1.info()"
   ]
  },
  {
   "cell_type": "code",
   "execution_count": 79,
   "metadata": {},
   "outputs": [
    {
     "data": {
      "text/html": [
       "<div>\n",
       "<style scoped>\n",
       "    .dataframe tbody tr th:only-of-type {\n",
       "        vertical-align: middle;\n",
       "    }\n",
       "\n",
       "    .dataframe tbody tr th {\n",
       "        vertical-align: top;\n",
       "    }\n",
       "\n",
       "    .dataframe thead th {\n",
       "        text-align: right;\n",
       "    }\n",
       "</style>\n",
       "<table border=\"1\" class=\"dataframe\">\n",
       "  <thead>\n",
       "    <tr style=\"text-align: right;\">\n",
       "      <th></th>\n",
       "      <th>鄉鎮市區</th>\n",
       "      <th>建築完成年月</th>\n",
       "      <th>建物移轉總面積[平方公尺]</th>\n",
       "      <th>總價[元]</th>\n",
       "      <th>建物型態</th>\n",
       "      <th>現況格局-房</th>\n",
       "      <th>現況格局-廳</th>\n",
       "      <th>現況格局-衛</th>\n",
       "      <th>總價[百萬元]</th>\n",
       "    </tr>\n",
       "  </thead>\n",
       "  <tbody>\n",
       "    <tr>\n",
       "      <th>0</th>\n",
       "      <td>香山區</td>\n",
       "      <td>7209.0</td>\n",
       "      <td>114.860</td>\n",
       "      <td>8500000</td>\n",
       "      <td>透天厝</td>\n",
       "      <td>3</td>\n",
       "      <td>1</td>\n",
       "      <td>1</td>\n",
       "      <td>8.500</td>\n",
       "    </tr>\n",
       "    <tr>\n",
       "      <th>3</th>\n",
       "      <td>東區</td>\n",
       "      <td>10102.0</td>\n",
       "      <td>103.851</td>\n",
       "      <td>6900000</td>\n",
       "      <td>套房</td>\n",
       "      <td>1</td>\n",
       "      <td>1</td>\n",
       "      <td>1</td>\n",
       "      <td>6.900</td>\n",
       "    </tr>\n",
       "    <tr>\n",
       "      <th>4</th>\n",
       "      <td>香山區</td>\n",
       "      <td>8705.0</td>\n",
       "      <td>28.392</td>\n",
       "      <td>520000</td>\n",
       "      <td>套房</td>\n",
       "      <td>1</td>\n",
       "      <td>0</td>\n",
       "      <td>1</td>\n",
       "      <td>0.520</td>\n",
       "    </tr>\n",
       "    <tr>\n",
       "      <th>5</th>\n",
       "      <td>東區</td>\n",
       "      <td>7106.0</td>\n",
       "      <td>110.400</td>\n",
       "      <td>5428000</td>\n",
       "      <td>透天厝</td>\n",
       "      <td>4</td>\n",
       "      <td>2</td>\n",
       "      <td>1</td>\n",
       "      <td>5.428</td>\n",
       "    </tr>\n",
       "    <tr>\n",
       "      <th>6</th>\n",
       "      <td>東區</td>\n",
       "      <td>10102.0</td>\n",
       "      <td>65.804</td>\n",
       "      <td>5300000</td>\n",
       "      <td>套房</td>\n",
       "      <td>1</td>\n",
       "      <td>1</td>\n",
       "      <td>1</td>\n",
       "      <td>5.300</td>\n",
       "    </tr>\n",
       "    <tr>\n",
       "      <th>7</th>\n",
       "      <td>東區</td>\n",
       "      <td>10102.0</td>\n",
       "      <td>65.804</td>\n",
       "      <td>5630000</td>\n",
       "      <td>套房</td>\n",
       "      <td>1</td>\n",
       "      <td>1</td>\n",
       "      <td>1</td>\n",
       "      <td>5.630</td>\n",
       "    </tr>\n",
       "    <tr>\n",
       "      <th>8</th>\n",
       "      <td>東區</td>\n",
       "      <td>10102.0</td>\n",
       "      <td>88.335</td>\n",
       "      <td>6550000</td>\n",
       "      <td>套房</td>\n",
       "      <td>1</td>\n",
       "      <td>1</td>\n",
       "      <td>1</td>\n",
       "      <td>6.550</td>\n",
       "    </tr>\n",
       "    <tr>\n",
       "      <th>9</th>\n",
       "      <td>東區</td>\n",
       "      <td>5912.0</td>\n",
       "      <td>72.000</td>\n",
       "      <td>5100000</td>\n",
       "      <td>透天厝</td>\n",
       "      <td>4</td>\n",
       "      <td>1</td>\n",
       "      <td>2</td>\n",
       "      <td>5.100</td>\n",
       "    </tr>\n",
       "    <tr>\n",
       "      <th>11</th>\n",
       "      <td>東區</td>\n",
       "      <td>6701.0</td>\n",
       "      <td>112.940</td>\n",
       "      <td>9300000</td>\n",
       "      <td>透天厝</td>\n",
       "      <td>3</td>\n",
       "      <td>2</td>\n",
       "      <td>2</td>\n",
       "      <td>9.300</td>\n",
       "    </tr>\n",
       "    <tr>\n",
       "      <th>12</th>\n",
       "      <td>北區</td>\n",
       "      <td>7909.0</td>\n",
       "      <td>35.173</td>\n",
       "      <td>900000</td>\n",
       "      <td>套房</td>\n",
       "      <td>1</td>\n",
       "      <td>0</td>\n",
       "      <td>1</td>\n",
       "      <td>0.900</td>\n",
       "    </tr>\n",
       "    <tr>\n",
       "      <th>13</th>\n",
       "      <td>北區</td>\n",
       "      <td>8703.0</td>\n",
       "      <td>126.111</td>\n",
       "      <td>5400000</td>\n",
       "      <td>住宅大樓</td>\n",
       "      <td>3</td>\n",
       "      <td>2</td>\n",
       "      <td>2</td>\n",
       "      <td>5.400</td>\n",
       "    </tr>\n",
       "    <tr>\n",
       "      <th>14</th>\n",
       "      <td>東區</td>\n",
       "      <td>7407.0</td>\n",
       "      <td>81.143</td>\n",
       "      <td>3000000</td>\n",
       "      <td>公寓</td>\n",
       "      <td>3</td>\n",
       "      <td>2</td>\n",
       "      <td>1</td>\n",
       "      <td>3.000</td>\n",
       "    </tr>\n",
       "    <tr>\n",
       "      <th>16</th>\n",
       "      <td>北區</td>\n",
       "      <td>8005.0</td>\n",
       "      <td>173.805</td>\n",
       "      <td>5730000</td>\n",
       "      <td>住宅大樓</td>\n",
       "      <td>4</td>\n",
       "      <td>2</td>\n",
       "      <td>3</td>\n",
       "      <td>5.730</td>\n",
       "    </tr>\n",
       "    <tr>\n",
       "      <th>18</th>\n",
       "      <td>北區</td>\n",
       "      <td>8410.0</td>\n",
       "      <td>200.880</td>\n",
       "      <td>7300000</td>\n",
       "      <td>透天厝</td>\n",
       "      <td>4</td>\n",
       "      <td>3</td>\n",
       "      <td>5</td>\n",
       "      <td>7.300</td>\n",
       "    </tr>\n",
       "    <tr>\n",
       "      <th>19</th>\n",
       "      <td>東區</td>\n",
       "      <td>9908.0</td>\n",
       "      <td>43.280</td>\n",
       "      <td>4400000</td>\n",
       "      <td>辦公商業大樓</td>\n",
       "      <td>1</td>\n",
       "      <td>1</td>\n",
       "      <td>1</td>\n",
       "      <td>4.400</td>\n",
       "    </tr>\n",
       "    <tr>\n",
       "      <th>21</th>\n",
       "      <td>北區</td>\n",
       "      <td>8012.0</td>\n",
       "      <td>72.078</td>\n",
       "      <td>2100000</td>\n",
       "      <td>華廈</td>\n",
       "      <td>2</td>\n",
       "      <td>1</td>\n",
       "      <td>2</td>\n",
       "      <td>2.100</td>\n",
       "    </tr>\n",
       "    <tr>\n",
       "      <th>22</th>\n",
       "      <td>東區</td>\n",
       "      <td>8607.0</td>\n",
       "      <td>75.938</td>\n",
       "      <td>2250000</td>\n",
       "      <td>華廈</td>\n",
       "      <td>2</td>\n",
       "      <td>2</td>\n",
       "      <td>1</td>\n",
       "      <td>2.250</td>\n",
       "    </tr>\n",
       "    <tr>\n",
       "      <th>23</th>\n",
       "      <td>東區</td>\n",
       "      <td>6701.0</td>\n",
       "      <td>57.280</td>\n",
       "      <td>4300000</td>\n",
       "      <td>公寓</td>\n",
       "      <td>5</td>\n",
       "      <td>1</td>\n",
       "      <td>1</td>\n",
       "      <td>4.300</td>\n",
       "    </tr>\n",
       "    <tr>\n",
       "      <th>24</th>\n",
       "      <td>東區</td>\n",
       "      <td>6707.0</td>\n",
       "      <td>80.640</td>\n",
       "      <td>4200000</td>\n",
       "      <td>公寓</td>\n",
       "      <td>3</td>\n",
       "      <td>2</td>\n",
       "      <td>1</td>\n",
       "      <td>4.200</td>\n",
       "    </tr>\n",
       "    <tr>\n",
       "      <th>26</th>\n",
       "      <td>東區</td>\n",
       "      <td>8603.0</td>\n",
       "      <td>116.742</td>\n",
       "      <td>5800000</td>\n",
       "      <td>住宅大樓</td>\n",
       "      <td>3</td>\n",
       "      <td>2</td>\n",
       "      <td>1</td>\n",
       "      <td>5.800</td>\n",
       "    </tr>\n",
       "  </tbody>\n",
       "</table>\n",
       "</div>"
      ],
      "text/plain": [
       "   鄉鎮市區   建築完成年月  建物移轉總面積[平方公尺]    總價[元]    建物型態  現況格局-房  現況格局-廳  現況格局-衛  \\\n",
       "0   香山區   7209.0        114.860  8500000     透天厝       3       1       1   \n",
       "3    東區  10102.0        103.851  6900000      套房       1       1       1   \n",
       "4   香山區   8705.0         28.392   520000      套房       1       0       1   \n",
       "5    東區   7106.0        110.400  5428000     透天厝       4       2       1   \n",
       "6    東區  10102.0         65.804  5300000      套房       1       1       1   \n",
       "7    東區  10102.0         65.804  5630000      套房       1       1       1   \n",
       "8    東區  10102.0         88.335  6550000      套房       1       1       1   \n",
       "9    東區   5912.0         72.000  5100000     透天厝       4       1       2   \n",
       "11   東區   6701.0        112.940  9300000     透天厝       3       2       2   \n",
       "12   北區   7909.0         35.173   900000      套房       1       0       1   \n",
       "13   北區   8703.0        126.111  5400000    住宅大樓       3       2       2   \n",
       "14   東區   7407.0         81.143  3000000      公寓       3       2       1   \n",
       "16   北區   8005.0        173.805  5730000    住宅大樓       4       2       3   \n",
       "18   北區   8410.0        200.880  7300000     透天厝       4       3       5   \n",
       "19   東區   9908.0         43.280  4400000  辦公商業大樓       1       1       1   \n",
       "21   北區   8012.0         72.078  2100000      華廈       2       1       2   \n",
       "22   東區   8607.0         75.938  2250000      華廈       2       2       1   \n",
       "23   東區   6701.0         57.280  4300000      公寓       5       1       1   \n",
       "24   東區   6707.0         80.640  4200000      公寓       3       2       1   \n",
       "26   東區   8603.0        116.742  5800000    住宅大樓       3       2       1   \n",
       "\n",
       "    總價[百萬元]  \n",
       "0     8.500  \n",
       "3     6.900  \n",
       "4     0.520  \n",
       "5     5.428  \n",
       "6     5.300  \n",
       "7     5.630  \n",
       "8     6.550  \n",
       "9     5.100  \n",
       "11    9.300  \n",
       "12    0.900  \n",
       "13    5.400  \n",
       "14    3.000  \n",
       "16    5.730  \n",
       "18    7.300  \n",
       "19    4.400  \n",
       "21    2.100  \n",
       "22    2.250  \n",
       "23    4.300  \n",
       "24    4.200  \n",
       "26    5.800  "
      ]
     },
     "execution_count": 79,
     "metadata": {},
     "output_type": "execute_result"
    }
   ],
   "source": [
    "dfmo1[:20]"
   ]
  },
  {
   "cell_type": "code",
   "execution_count": 80,
   "metadata": {},
   "outputs": [],
   "source": [
    "dfmo1=dfmo1.reset_index(drop=True) "
   ]
  },
  {
   "cell_type": "code",
   "execution_count": 81,
   "metadata": {},
   "outputs": [
    {
     "data": {
      "text/html": [
       "<div>\n",
       "<style scoped>\n",
       "    .dataframe tbody tr th:only-of-type {\n",
       "        vertical-align: middle;\n",
       "    }\n",
       "\n",
       "    .dataframe tbody tr th {\n",
       "        vertical-align: top;\n",
       "    }\n",
       "\n",
       "    .dataframe thead th {\n",
       "        text-align: right;\n",
       "    }\n",
       "</style>\n",
       "<table border=\"1\" class=\"dataframe\">\n",
       "  <thead>\n",
       "    <tr style=\"text-align: right;\">\n",
       "      <th></th>\n",
       "      <th>鄉鎮市區</th>\n",
       "      <th>建築完成年月</th>\n",
       "      <th>建物移轉總面積[平方公尺]</th>\n",
       "      <th>總價[元]</th>\n",
       "      <th>建物型態</th>\n",
       "      <th>現況格局-房</th>\n",
       "      <th>現況格局-廳</th>\n",
       "      <th>現況格局-衛</th>\n",
       "      <th>總價[百萬元]</th>\n",
       "    </tr>\n",
       "  </thead>\n",
       "  <tbody>\n",
       "    <tr>\n",
       "      <th>0</th>\n",
       "      <td>香山區</td>\n",
       "      <td>7209.0</td>\n",
       "      <td>114.860</td>\n",
       "      <td>8500000</td>\n",
       "      <td>透天厝</td>\n",
       "      <td>3</td>\n",
       "      <td>1</td>\n",
       "      <td>1</td>\n",
       "      <td>8.500</td>\n",
       "    </tr>\n",
       "    <tr>\n",
       "      <th>1</th>\n",
       "      <td>東區</td>\n",
       "      <td>10102.0</td>\n",
       "      <td>103.851</td>\n",
       "      <td>6900000</td>\n",
       "      <td>套房</td>\n",
       "      <td>1</td>\n",
       "      <td>1</td>\n",
       "      <td>1</td>\n",
       "      <td>6.900</td>\n",
       "    </tr>\n",
       "    <tr>\n",
       "      <th>2</th>\n",
       "      <td>香山區</td>\n",
       "      <td>8705.0</td>\n",
       "      <td>28.392</td>\n",
       "      <td>520000</td>\n",
       "      <td>套房</td>\n",
       "      <td>1</td>\n",
       "      <td>0</td>\n",
       "      <td>1</td>\n",
       "      <td>0.520</td>\n",
       "    </tr>\n",
       "    <tr>\n",
       "      <th>3</th>\n",
       "      <td>東區</td>\n",
       "      <td>7106.0</td>\n",
       "      <td>110.400</td>\n",
       "      <td>5428000</td>\n",
       "      <td>透天厝</td>\n",
       "      <td>4</td>\n",
       "      <td>2</td>\n",
       "      <td>1</td>\n",
       "      <td>5.428</td>\n",
       "    </tr>\n",
       "    <tr>\n",
       "      <th>4</th>\n",
       "      <td>東區</td>\n",
       "      <td>10102.0</td>\n",
       "      <td>65.804</td>\n",
       "      <td>5300000</td>\n",
       "      <td>套房</td>\n",
       "      <td>1</td>\n",
       "      <td>1</td>\n",
       "      <td>1</td>\n",
       "      <td>5.300</td>\n",
       "    </tr>\n",
       "    <tr>\n",
       "      <th>5</th>\n",
       "      <td>東區</td>\n",
       "      <td>10102.0</td>\n",
       "      <td>65.804</td>\n",
       "      <td>5630000</td>\n",
       "      <td>套房</td>\n",
       "      <td>1</td>\n",
       "      <td>1</td>\n",
       "      <td>1</td>\n",
       "      <td>5.630</td>\n",
       "    </tr>\n",
       "    <tr>\n",
       "      <th>6</th>\n",
       "      <td>東區</td>\n",
       "      <td>10102.0</td>\n",
       "      <td>88.335</td>\n",
       "      <td>6550000</td>\n",
       "      <td>套房</td>\n",
       "      <td>1</td>\n",
       "      <td>1</td>\n",
       "      <td>1</td>\n",
       "      <td>6.550</td>\n",
       "    </tr>\n",
       "    <tr>\n",
       "      <th>7</th>\n",
       "      <td>東區</td>\n",
       "      <td>5912.0</td>\n",
       "      <td>72.000</td>\n",
       "      <td>5100000</td>\n",
       "      <td>透天厝</td>\n",
       "      <td>4</td>\n",
       "      <td>1</td>\n",
       "      <td>2</td>\n",
       "      <td>5.100</td>\n",
       "    </tr>\n",
       "    <tr>\n",
       "      <th>8</th>\n",
       "      <td>東區</td>\n",
       "      <td>6701.0</td>\n",
       "      <td>112.940</td>\n",
       "      <td>9300000</td>\n",
       "      <td>透天厝</td>\n",
       "      <td>3</td>\n",
       "      <td>2</td>\n",
       "      <td>2</td>\n",
       "      <td>9.300</td>\n",
       "    </tr>\n",
       "    <tr>\n",
       "      <th>9</th>\n",
       "      <td>北區</td>\n",
       "      <td>7909.0</td>\n",
       "      <td>35.173</td>\n",
       "      <td>900000</td>\n",
       "      <td>套房</td>\n",
       "      <td>1</td>\n",
       "      <td>0</td>\n",
       "      <td>1</td>\n",
       "      <td>0.900</td>\n",
       "    </tr>\n",
       "    <tr>\n",
       "      <th>10</th>\n",
       "      <td>北區</td>\n",
       "      <td>8703.0</td>\n",
       "      <td>126.111</td>\n",
       "      <td>5400000</td>\n",
       "      <td>住宅大樓</td>\n",
       "      <td>3</td>\n",
       "      <td>2</td>\n",
       "      <td>2</td>\n",
       "      <td>5.400</td>\n",
       "    </tr>\n",
       "    <tr>\n",
       "      <th>11</th>\n",
       "      <td>東區</td>\n",
       "      <td>7407.0</td>\n",
       "      <td>81.143</td>\n",
       "      <td>3000000</td>\n",
       "      <td>公寓</td>\n",
       "      <td>3</td>\n",
       "      <td>2</td>\n",
       "      <td>1</td>\n",
       "      <td>3.000</td>\n",
       "    </tr>\n",
       "    <tr>\n",
       "      <th>12</th>\n",
       "      <td>北區</td>\n",
       "      <td>8005.0</td>\n",
       "      <td>173.805</td>\n",
       "      <td>5730000</td>\n",
       "      <td>住宅大樓</td>\n",
       "      <td>4</td>\n",
       "      <td>2</td>\n",
       "      <td>3</td>\n",
       "      <td>5.730</td>\n",
       "    </tr>\n",
       "    <tr>\n",
       "      <th>13</th>\n",
       "      <td>北區</td>\n",
       "      <td>8410.0</td>\n",
       "      <td>200.880</td>\n",
       "      <td>7300000</td>\n",
       "      <td>透天厝</td>\n",
       "      <td>4</td>\n",
       "      <td>3</td>\n",
       "      <td>5</td>\n",
       "      <td>7.300</td>\n",
       "    </tr>\n",
       "    <tr>\n",
       "      <th>14</th>\n",
       "      <td>東區</td>\n",
       "      <td>9908.0</td>\n",
       "      <td>43.280</td>\n",
       "      <td>4400000</td>\n",
       "      <td>辦公商業大樓</td>\n",
       "      <td>1</td>\n",
       "      <td>1</td>\n",
       "      <td>1</td>\n",
       "      <td>4.400</td>\n",
       "    </tr>\n",
       "    <tr>\n",
       "      <th>15</th>\n",
       "      <td>北區</td>\n",
       "      <td>8012.0</td>\n",
       "      <td>72.078</td>\n",
       "      <td>2100000</td>\n",
       "      <td>華廈</td>\n",
       "      <td>2</td>\n",
       "      <td>1</td>\n",
       "      <td>2</td>\n",
       "      <td>2.100</td>\n",
       "    </tr>\n",
       "    <tr>\n",
       "      <th>16</th>\n",
       "      <td>東區</td>\n",
       "      <td>8607.0</td>\n",
       "      <td>75.938</td>\n",
       "      <td>2250000</td>\n",
       "      <td>華廈</td>\n",
       "      <td>2</td>\n",
       "      <td>2</td>\n",
       "      <td>1</td>\n",
       "      <td>2.250</td>\n",
       "    </tr>\n",
       "    <tr>\n",
       "      <th>17</th>\n",
       "      <td>東區</td>\n",
       "      <td>6701.0</td>\n",
       "      <td>57.280</td>\n",
       "      <td>4300000</td>\n",
       "      <td>公寓</td>\n",
       "      <td>5</td>\n",
       "      <td>1</td>\n",
       "      <td>1</td>\n",
       "      <td>4.300</td>\n",
       "    </tr>\n",
       "    <tr>\n",
       "      <th>18</th>\n",
       "      <td>東區</td>\n",
       "      <td>6707.0</td>\n",
       "      <td>80.640</td>\n",
       "      <td>4200000</td>\n",
       "      <td>公寓</td>\n",
       "      <td>3</td>\n",
       "      <td>2</td>\n",
       "      <td>1</td>\n",
       "      <td>4.200</td>\n",
       "    </tr>\n",
       "    <tr>\n",
       "      <th>19</th>\n",
       "      <td>東區</td>\n",
       "      <td>8603.0</td>\n",
       "      <td>116.742</td>\n",
       "      <td>5800000</td>\n",
       "      <td>住宅大樓</td>\n",
       "      <td>3</td>\n",
       "      <td>2</td>\n",
       "      <td>1</td>\n",
       "      <td>5.800</td>\n",
       "    </tr>\n",
       "  </tbody>\n",
       "</table>\n",
       "</div>"
      ],
      "text/plain": [
       "   鄉鎮市區   建築完成年月  建物移轉總面積[平方公尺]    總價[元]    建物型態  現況格局-房  現況格局-廳  現況格局-衛  \\\n",
       "0   香山區   7209.0        114.860  8500000     透天厝       3       1       1   \n",
       "1    東區  10102.0        103.851  6900000      套房       1       1       1   \n",
       "2   香山區   8705.0         28.392   520000      套房       1       0       1   \n",
       "3    東區   7106.0        110.400  5428000     透天厝       4       2       1   \n",
       "4    東區  10102.0         65.804  5300000      套房       1       1       1   \n",
       "5    東區  10102.0         65.804  5630000      套房       1       1       1   \n",
       "6    東區  10102.0         88.335  6550000      套房       1       1       1   \n",
       "7    東區   5912.0         72.000  5100000     透天厝       4       1       2   \n",
       "8    東區   6701.0        112.940  9300000     透天厝       3       2       2   \n",
       "9    北區   7909.0         35.173   900000      套房       1       0       1   \n",
       "10   北區   8703.0        126.111  5400000    住宅大樓       3       2       2   \n",
       "11   東區   7407.0         81.143  3000000      公寓       3       2       1   \n",
       "12   北區   8005.0        173.805  5730000    住宅大樓       4       2       3   \n",
       "13   北區   8410.0        200.880  7300000     透天厝       4       3       5   \n",
       "14   東區   9908.0         43.280  4400000  辦公商業大樓       1       1       1   \n",
       "15   北區   8012.0         72.078  2100000      華廈       2       1       2   \n",
       "16   東區   8607.0         75.938  2250000      華廈       2       2       1   \n",
       "17   東區   6701.0         57.280  4300000      公寓       5       1       1   \n",
       "18   東區   6707.0         80.640  4200000      公寓       3       2       1   \n",
       "19   東區   8603.0        116.742  5800000    住宅大樓       3       2       1   \n",
       "\n",
       "    總價[百萬元]  \n",
       "0     8.500  \n",
       "1     6.900  \n",
       "2     0.520  \n",
       "3     5.428  \n",
       "4     5.300  \n",
       "5     5.630  \n",
       "6     6.550  \n",
       "7     5.100  \n",
       "8     9.300  \n",
       "9     0.900  \n",
       "10    5.400  \n",
       "11    3.000  \n",
       "12    5.730  \n",
       "13    7.300  \n",
       "14    4.400  \n",
       "15    2.100  \n",
       "16    2.250  \n",
       "17    4.300  \n",
       "18    4.200  \n",
       "19    5.800  "
      ]
     },
     "execution_count": 81,
     "metadata": {},
     "output_type": "execute_result"
    }
   ],
   "source": [
    "dfmo1[0:20] "
   ]
  },
  {
   "cell_type": "code",
   "execution_count": 82,
   "metadata": {
    "scrolled": true
   },
   "outputs": [
    {
     "name": "stdout",
     "output_type": "stream",
     "text": [
      "<class 'pandas.core.frame.DataFrame'>\n",
      "RangeIndex: 35586 entries, 0 to 35585\n",
      "Data columns (total 9 columns):\n",
      "鄉鎮市區             35586 non-null object\n",
      "建築完成年月           35586 non-null float64\n",
      "建物移轉總面積[平方公尺]    35586 non-null float64\n",
      "總價[元]            35586 non-null int64\n",
      "建物型態             35586 non-null object\n",
      "現況格局-房           35586 non-null int64\n",
      "現況格局-廳           35586 non-null int64\n",
      "現況格局-衛           35586 non-null int64\n",
      "總價[百萬元]          35586 non-null float64\n",
      "dtypes: float64(3), int64(4), object(2)\n",
      "memory usage: 2.4+ MB\n"
     ]
    }
   ],
   "source": [
    "dfmo1.info()"
   ]
  },
  {
   "cell_type": "markdown",
   "metadata": {},
   "source": [
    "## 分析：每年Taiwan（~民國107年 ) 每年每月買賣不動產建築之數目是多少?"
   ]
  },
  {
   "cell_type": "code",
   "execution_count": 95,
   "metadata": {},
   "outputs": [
    {
     "data": {
      "text/html": [
       "<div>\n",
       "<style scoped>\n",
       "    .dataframe tbody tr th:only-of-type {\n",
       "        vertical-align: middle;\n",
       "    }\n",
       "\n",
       "    .dataframe tbody tr th {\n",
       "        vertical-align: top;\n",
       "    }\n",
       "\n",
       "    .dataframe thead th {\n",
       "        text-align: right;\n",
       "    }\n",
       "</style>\n",
       "<table border=\"1\" class=\"dataframe\">\n",
       "  <thead>\n",
       "    <tr style=\"text-align: right;\">\n",
       "      <th></th>\n",
       "      <th>建物型態</th>\n",
       "    </tr>\n",
       "    <tr>\n",
       "      <th>建築完成年月</th>\n",
       "      <th></th>\n",
       "    </tr>\n",
       "  </thead>\n",
       "  <tbody>\n",
       "    <tr>\n",
       "      <th>1811.0</th>\n",
       "      <td>1</td>\n",
       "    </tr>\n",
       "    <tr>\n",
       "      <th>2204.0</th>\n",
       "      <td>3</td>\n",
       "    </tr>\n",
       "    <tr>\n",
       "      <th>3107.0</th>\n",
       "      <td>2</td>\n",
       "    </tr>\n",
       "    <tr>\n",
       "      <th>3401.0</th>\n",
       "      <td>1</td>\n",
       "    </tr>\n",
       "    <tr>\n",
       "      <th>3806.0</th>\n",
       "      <td>1</td>\n",
       "    </tr>\n",
       "    <tr>\n",
       "      <th>4108.0</th>\n",
       "      <td>1</td>\n",
       "    </tr>\n",
       "    <tr>\n",
       "      <th>4303.0</th>\n",
       "      <td>1</td>\n",
       "    </tr>\n",
       "    <tr>\n",
       "      <th>4308.0</th>\n",
       "      <td>1</td>\n",
       "    </tr>\n",
       "    <tr>\n",
       "      <th>4401.0</th>\n",
       "      <td>1</td>\n",
       "    </tr>\n",
       "    <tr>\n",
       "      <th>4404.0</th>\n",
       "      <td>1</td>\n",
       "    </tr>\n",
       "    <tr>\n",
       "      <th>4406.0</th>\n",
       "      <td>1</td>\n",
       "    </tr>\n",
       "    <tr>\n",
       "      <th>4407.0</th>\n",
       "      <td>1</td>\n",
       "    </tr>\n",
       "    <tr>\n",
       "      <th>4501.0</th>\n",
       "      <td>1</td>\n",
       "    </tr>\n",
       "    <tr>\n",
       "      <th>4602.0</th>\n",
       "      <td>1</td>\n",
       "    </tr>\n",
       "    <tr>\n",
       "      <th>4612.0</th>\n",
       "      <td>1</td>\n",
       "    </tr>\n",
       "    <tr>\n",
       "      <th>4703.0</th>\n",
       "      <td>1</td>\n",
       "    </tr>\n",
       "    <tr>\n",
       "      <th>4707.0</th>\n",
       "      <td>2</td>\n",
       "    </tr>\n",
       "    <tr>\n",
       "      <th>4712.0</th>\n",
       "      <td>1</td>\n",
       "    </tr>\n",
       "    <tr>\n",
       "      <th>4811.0</th>\n",
       "      <td>1</td>\n",
       "    </tr>\n",
       "    <tr>\n",
       "      <th>4908.0</th>\n",
       "      <td>3</td>\n",
       "    </tr>\n",
       "    <tr>\n",
       "      <th>5007.0</th>\n",
       "      <td>1</td>\n",
       "    </tr>\n",
       "    <tr>\n",
       "      <th>5301.0</th>\n",
       "      <td>1</td>\n",
       "    </tr>\n",
       "    <tr>\n",
       "      <th>5310.0</th>\n",
       "      <td>1</td>\n",
       "    </tr>\n",
       "    <tr>\n",
       "      <th>5401.0</th>\n",
       "      <td>1</td>\n",
       "    </tr>\n",
       "    <tr>\n",
       "      <th>5411.0</th>\n",
       "      <td>1</td>\n",
       "    </tr>\n",
       "    <tr>\n",
       "      <th>5412.0</th>\n",
       "      <td>1</td>\n",
       "    </tr>\n",
       "    <tr>\n",
       "      <th>5502.0</th>\n",
       "      <td>1</td>\n",
       "    </tr>\n",
       "    <tr>\n",
       "      <th>5504.0</th>\n",
       "      <td>2</td>\n",
       "    </tr>\n",
       "    <tr>\n",
       "      <th>5505.0</th>\n",
       "      <td>1</td>\n",
       "    </tr>\n",
       "    <tr>\n",
       "      <th>5506.0</th>\n",
       "      <td>1</td>\n",
       "    </tr>\n",
       "    <tr>\n",
       "      <th>...</th>\n",
       "      <td>...</td>\n",
       "    </tr>\n",
       "    <tr>\n",
       "      <th>10407.0</th>\n",
       "      <td>149</td>\n",
       "    </tr>\n",
       "    <tr>\n",
       "      <th>10408.0</th>\n",
       "      <td>252</td>\n",
       "    </tr>\n",
       "    <tr>\n",
       "      <th>10409.0</th>\n",
       "      <td>223</td>\n",
       "    </tr>\n",
       "    <tr>\n",
       "      <th>10410.0</th>\n",
       "      <td>275</td>\n",
       "    </tr>\n",
       "    <tr>\n",
       "      <th>10411.0</th>\n",
       "      <td>94</td>\n",
       "    </tr>\n",
       "    <tr>\n",
       "      <th>10412.0</th>\n",
       "      <td>771</td>\n",
       "    </tr>\n",
       "    <tr>\n",
       "      <th>10501.0</th>\n",
       "      <td>910</td>\n",
       "    </tr>\n",
       "    <tr>\n",
       "      <th>10503.0</th>\n",
       "      <td>35</td>\n",
       "    </tr>\n",
       "    <tr>\n",
       "      <th>10504.0</th>\n",
       "      <td>188</td>\n",
       "    </tr>\n",
       "    <tr>\n",
       "      <th>10505.0</th>\n",
       "      <td>437</td>\n",
       "    </tr>\n",
       "    <tr>\n",
       "      <th>10506.0</th>\n",
       "      <td>68</td>\n",
       "    </tr>\n",
       "    <tr>\n",
       "      <th>10507.0</th>\n",
       "      <td>204</td>\n",
       "    </tr>\n",
       "    <tr>\n",
       "      <th>10508.0</th>\n",
       "      <td>31</td>\n",
       "    </tr>\n",
       "    <tr>\n",
       "      <th>10509.0</th>\n",
       "      <td>201</td>\n",
       "    </tr>\n",
       "    <tr>\n",
       "      <th>10510.0</th>\n",
       "      <td>124</td>\n",
       "    </tr>\n",
       "    <tr>\n",
       "      <th>10511.0</th>\n",
       "      <td>26</td>\n",
       "    </tr>\n",
       "    <tr>\n",
       "      <th>10512.0</th>\n",
       "      <td>27</td>\n",
       "    </tr>\n",
       "    <tr>\n",
       "      <th>10601.0</th>\n",
       "      <td>166</td>\n",
       "    </tr>\n",
       "    <tr>\n",
       "      <th>10602.0</th>\n",
       "      <td>46</td>\n",
       "    </tr>\n",
       "    <tr>\n",
       "      <th>10603.0</th>\n",
       "      <td>8</td>\n",
       "    </tr>\n",
       "    <tr>\n",
       "      <th>10604.0</th>\n",
       "      <td>27</td>\n",
       "    </tr>\n",
       "    <tr>\n",
       "      <th>10605.0</th>\n",
       "      <td>32</td>\n",
       "    </tr>\n",
       "    <tr>\n",
       "      <th>10606.0</th>\n",
       "      <td>43</td>\n",
       "    </tr>\n",
       "    <tr>\n",
       "      <th>10607.0</th>\n",
       "      <td>29</td>\n",
       "    </tr>\n",
       "    <tr>\n",
       "      <th>10608.0</th>\n",
       "      <td>60</td>\n",
       "    </tr>\n",
       "    <tr>\n",
       "      <th>10609.0</th>\n",
       "      <td>28</td>\n",
       "    </tr>\n",
       "    <tr>\n",
       "      <th>10610.0</th>\n",
       "      <td>85</td>\n",
       "    </tr>\n",
       "    <tr>\n",
       "      <th>10611.0</th>\n",
       "      <td>15</td>\n",
       "    </tr>\n",
       "    <tr>\n",
       "      <th>10612.0</th>\n",
       "      <td>270</td>\n",
       "    </tr>\n",
       "    <tr>\n",
       "      <th>10701.0</th>\n",
       "      <td>2</td>\n",
       "    </tr>\n",
       "  </tbody>\n",
       "</table>\n",
       "<p>608 rows × 1 columns</p>\n",
       "</div>"
      ],
      "text/plain": [
       "         建物型態\n",
       "建築完成年月       \n",
       "1811.0      1\n",
       "2204.0      3\n",
       "3107.0      2\n",
       "3401.0      1\n",
       "3806.0      1\n",
       "4108.0      1\n",
       "4303.0      1\n",
       "4308.0      1\n",
       "4401.0      1\n",
       "4404.0      1\n",
       "4406.0      1\n",
       "4407.0      1\n",
       "4501.0      1\n",
       "4602.0      1\n",
       "4612.0      1\n",
       "4703.0      1\n",
       "4707.0      2\n",
       "4712.0      1\n",
       "4811.0      1\n",
       "4908.0      3\n",
       "5007.0      1\n",
       "5301.0      1\n",
       "5310.0      1\n",
       "5401.0      1\n",
       "5411.0      1\n",
       "5412.0      1\n",
       "5502.0      1\n",
       "5504.0      2\n",
       "5505.0      1\n",
       "5506.0      1\n",
       "...       ...\n",
       "10407.0   149\n",
       "10408.0   252\n",
       "10409.0   223\n",
       "10410.0   275\n",
       "10411.0    94\n",
       "10412.0   771\n",
       "10501.0   910\n",
       "10503.0    35\n",
       "10504.0   188\n",
       "10505.0   437\n",
       "10506.0    68\n",
       "10507.0   204\n",
       "10508.0    31\n",
       "10509.0   201\n",
       "10510.0   124\n",
       "10511.0    26\n",
       "10512.0    27\n",
       "10601.0   166\n",
       "10602.0    46\n",
       "10603.0     8\n",
       "10604.0    27\n",
       "10605.0    32\n",
       "10606.0    43\n",
       "10607.0    29\n",
       "10608.0    60\n",
       "10609.0    28\n",
       "10610.0    85\n",
       "10611.0    15\n",
       "10612.0   270\n",
       "10701.0     2\n",
       "\n",
       "[608 rows x 1 columns]"
      ]
     },
     "execution_count": 95,
     "metadata": {},
     "output_type": "execute_result"
    }
   ],
   "source": [
    "dfmo1.groupby('建築完成年月')[['建物型態']].count()"
   ]
  },
  {
   "cell_type": "code",
   "execution_count": 96,
   "metadata": {},
   "outputs": [
    {
     "name": "stdout",
     "output_type": "stream",
     "text": [
      "共有 : 0  strange data !! \n",
      "strange data 位置在: []\n"
     ]
    }
   ],
   "source": [
    "date_room=dfmo1['建築完成年月']\n",
    "cnt=0\n",
    "row=0\n",
    "location=[]# 找出哪一筆資料\n",
    "for item in date_room:\n",
    "    if item==0.0 or item==1.0 or item==77101.0 or item==103.0:\n",
    "        cnt=cnt+1\n",
    "        location.append(row)\n",
    "    row=row+1\n",
    "print(\"共有 :\",cnt, \" strange data !! \")\n",
    "print(\"strange data 位置在:\",location)\n",
    "#dfmo['鄉鎮市區'][60:70]"
   ]
  },
  {
   "cell_type": "markdown",
   "metadata": {},
   "source": [
    "## 刪除 strange data !! "
   ]
  },
  {
   "cell_type": "code",
   "execution_count": 97,
   "metadata": {},
   "outputs": [],
   "source": [
    "dfmo1=dfmo1.drop(location)"
   ]
  },
  {
   "cell_type": "code",
   "execution_count": 98,
   "metadata": {},
   "outputs": [],
   "source": [
    "dfmo1=dfmo1.reset_index(drop=True) "
   ]
  },
  {
   "cell_type": "markdown",
   "metadata": {},
   "source": [
    "## 用 plt.plot to get a feel of the data !!¶"
   ]
  },
  {
   "cell_type": "code",
   "execution_count": 118,
   "metadata": {},
   "outputs": [],
   "source": [
    "dfmo1.groupby('建築完成年月')['建物型態'].count()\n",
    "df_data1=dfmo1.groupby('建築完成年月')['建物型態'].count()"
   ]
  },
  {
   "cell_type": "code",
   "execution_count": 138,
   "metadata": {},
   "outputs": [
    {
     "name": "stdout",
     "output_type": "stream",
     "text": [
      "<class 'pandas.core.series.Series'>\n",
      "<class 'pandas.core.indexes.numeric.Float64Index'>\n",
      "<class 'numpy.ndarray'>\n"
     ]
    }
   ],
   "source": [
    "print(type(df_data1))\n",
    "print(type(df_data1.index))\n",
    "print(type(df_data1.values))"
   ]
  },
  {
   "cell_type": "code",
   "execution_count": 141,
   "metadata": {},
   "outputs": [
    {
     "name": "stdout",
     "output_type": "stream",
     "text": [
      "Float64Index([ 1811.0,  2204.0,  3107.0,  3401.0,  3806.0,  4108.0,  4303.0,\n",
      "               4308.0,  4401.0,  4404.0,\n",
      "              ...\n",
      "              10604.0, 10605.0, 10606.0, 10607.0, 10608.0, 10609.0, 10610.0,\n",
      "              10611.0, 10612.0, 10701.0],\n",
      "             dtype='float64', name='建築完成年月', length=608)\n",
      "[  1   3   2   1   1   1   1   1   1   1   1   1   1   1   1   1   2   1\n",
      "   1   3   1   1   1   1   1   1   1   2   1   1   2   1   1   2   1   1\n",
      "   2   2   1   2   1   1   2   2   1   3   1   1   1   4   3   3   4   2\n",
      "   2   3   9   4   5   9  12   9   9   6   8   3   4   7   7   8   9   5\n",
      "   7   4  11   6   8   2   9   8   4   2   4   6   3   5   8   4   1   3\n",
      "   9   7  13   3   6   4   5  27  19   2   1   5  10   2   8   9   7  13\n",
      "   6   8  10   4  12   2   3   2  14   4   9   3   1   5   6   2   7   6\n",
      "   7   7   6   9   9   6  16  12   4   7   5   6   7  15  14   7   2  11\n",
      "  18  15   7  10  11   6  16  18  30  17   9  19   9   6  13   2  29  61\n",
      "   5  15  33   1  19  36  14  20   7   2  21  31  29  15  29  21  33   7\n",
      " 136  10  15   3  21   6  47   4  15   9  18  20   9   3  31   1  19   8\n",
      "  39   1   6  28   5  24   6   4   9  43  10  14   4  40  11  18  10   3\n",
      "  16   2  17  10   6  11  17   7   7   6   9  14  13   6   7  10   4   8\n",
      "   3  20   5  14   9   8  14   1   4   3  14   3   6   4   5   9  12  10\n",
      "  14  12  17  20  27  17  10  15  25  29  71   6  26  26  23  17  11  38\n",
      "   6  29  37  17  16  23   3  10  15  39  53  11  56  23  12  43 122  18\n",
      "  66  38  86  42 100  64  25  26  25  93  93  14  73  18  17  45  26  37\n",
      "  17  83  48  43  39  18  19  45  98  86  38 101  77 105 201 116  96  57\n",
      " 112  92 120  94  52  52  55  74 218  61 155  47  39  36 102  60 168  91\n",
      " 183 157  74  90 156  59  73  49 105  21  70  97  77  21 218  90  64 120\n",
      "  12  57 178  18 272  40  16  91 133  80  83   8 115 159 114 503  88  69\n",
      "  12  38  36  83  81  13  48  27   3  20  28  55   5  17  36  56  20  22\n",
      "  55 139 132  46  17   1  99  80   2   7   3  14   5  30  95   9   6  17\n",
      "   5   5  20   5  31   2  10   5   5  10  42   2   2   2   4 101   5   4\n",
      "   8  14   2   2  11   8  28  40  10  10  69  18   8  14   6   4  16  68\n",
      "  27   6  12  16 231  23   1  33  45   8  27  32  22 107   7  16  33   7\n",
      "  57 104  17  97  12   6  51  97 229  17  20 114  51  43 209 196  18  29\n",
      "  80 123 157 212  30   7  42 304   6 148  63 195 127 145 109  16 369  20\n",
      "  11 148  87   6 140  48  55  16  16   1  32   6  26  51  47 206  19   3\n",
      "   2  87  19  15 124  17 115  23 874   4  11  89 212  32   5 174  22  66\n",
      " 113 323 424 534 117 685 115  72 286  42  25 824 331 280 284  64 844 219\n",
      " 302 543 141  49 139 129 119 222 114 523 144 353 639 594 501 100  56  59\n",
      " 505 197 149 252 223 275  94 771 910  35 188 437  68 204  31 201 124  26\n",
      "  27 166  46   8  27  32  43  29  60  28  85  15 270   2]\n"
     ]
    }
   ],
   "source": [
    "print(df_data1.index)\n",
    "print(df_data1.values)"
   ]
  },
  {
   "cell_type": "code",
   "execution_count": 131,
   "metadata": {},
   "outputs": [
    {
     "data": {
      "text/plain": [
       "Text(0,0.5,'買賣不動產建築之數目')"
      ]
     },
     "execution_count": 131,
     "metadata": {},
     "output_type": "execute_result"
    },
    {
     "data": {
      "image/png": "[encoded data removed]",
      "text/plain": [
       "<matplotlib.figure.Figure at 0x19c492f85f8>"
      ]
     },
     "metadata": {},
     "output_type": "display_data"
    }
   ],
   "source": [
    "plt.figure(figsize=(10,5))\n",
    "plt.plot(df_data1.index, df_data1.values )\n",
    "plt.title('每年Taiwan（~民國107年 ) 每年每月買賣不動產建築之數目',color='black',size=20)\n",
    "plt.xlabel('年月',size=20,color='black')\n",
    "plt.ylabel('買賣不動產建築之數目',color='black',size=20)"
   ]
  },
  {
   "cell_type": "code",
   "execution_count": 132,
   "metadata": {},
   "outputs": [
    {
     "data": {
      "text/plain": [
       "Text(0,0.5,'買賣不動產建築之數目')"
      ]
     },
     "execution_count": 132,
     "metadata": {},
     "output_type": "execute_result"
    },
    {
     "data": {
      "image/png": "[encoded data removed]",
      "text/plain": [
       "<matplotlib.figure.Figure at 0x19c49a5fcf8>"
      ]
     },
     "metadata": {},
     "output_type": "display_data"
    }
   ],
   "source": [
    "plt.figure(figsize=(10,5))\n",
    "plt.scatter(x=df_data1.index, y=df_data1.values)\n",
    "plt.title('每年Taiwan（~民國107年 ) 每年每月買賣不動產建築之數目',color='black',size=20)\n",
    "plt.xlabel('年月',size=20,color='black')\n",
    "plt.ylabel('買賣不動產建築之數目',color='black',size=20)\n"
   ]
  },
  {
   "cell_type": "markdown",
   "metadata": {},
   "source": [
    "## 用 histogram to get a feel of the data !! "
   ]
  },
  {
   "cell_type": "code",
   "execution_count": 71,
   "metadata": {},
   "outputs": [],
   "source": [
    "bins=np.linspace(0, 900, num=100)"
   ]
  },
  {
   "cell_type": "code",
   "execution_count": 72,
   "metadata": {},
   "outputs": [
    {
     "data": {
      "text/plain": [
       "(0, 2000)"
      ]
     },
     "execution_count": 72,
     "metadata": {},
     "output_type": "execute_result"
    },
    {
     "data": {
      "image/png": "[encoded data removed]",
      "text/plain": [
       "<matplotlib.figure.Figure at 0x2a815f8d320>"
      ]
     },
     "metadata": {},
     "output_type": "display_data"
    }
   ],
   "source": [
    "plt.hist(dfmo['建物移轉總面積[平方公尺]'],bins)\n",
    "\n",
    "plt.title(\"建物移轉總面積[平方公尺]:  150平方公尺最多 \",color='black',loc='right',size=20)\n",
    "plt.xlabel('建物移轉總面積[平方公尺]',size=20,color='black')\n",
    "plt.ylabel('個數, count',color='black',size=20)\n",
    "plt.xlim(0,500)\n",
    "plt.ylim(0,2000)"
   ]
  },
  {
   "cell_type": "code",
   "execution_count": 73,
   "metadata": {},
   "outputs": [
    {
     "data": {
      "text/plain": [
       "(0, 10)"
      ]
     },
     "execution_count": 73,
     "metadata": {},
     "output_type": "execute_result"
    },
    {
     "data": {
      "image/png": "[encoded data removed]",
      "text/plain": [
       "<matplotlib.figure.Figure at 0x2a81726eb70>"
      ]
     },
     "metadata": {},
     "output_type": "display_data"
    }
   ],
   "source": [
    "plt.hist(dfmo['現況格局-房'],bins=list(range(90)))\n",
    "\n",
    "plt.title(\"現況格局-房:3~4 房最多\",color='black',loc='right',size=20)\n",
    "plt.xlabel('現況格局-房',size=20,color='black')\n",
    "plt.ylabel('個數, count',color='black',size=20)\n",
    "plt.xlim(0,10)"
   ]
  },
  {
   "cell_type": "code",
   "execution_count": 74,
   "metadata": {},
   "outputs": [],
   "source": [
    "import numpy as np\n",
    "bins=np.linspace(0, 100, num=100)"
   ]
  },
  {
   "cell_type": "code",
   "execution_count": 75,
   "metadata": {},
   "outputs": [
    {
     "data": {
      "text/plain": [
       "(0, 60)"
      ]
     },
     "execution_count": 75,
     "metadata": {},
     "output_type": "execute_result"
    },
    {
     "data": {
      "image/png": "[encoded data removed]",
      "text/plain": [
       "<matplotlib.figure.Figure at 0x2a815f8d128>"
      ]
     },
     "metadata": {},
     "output_type": "display_data"
    }
   ],
   "source": [
    "plt.hist(dfmo['總價[百萬元]'],bins)\n",
    "\n",
    "plt.title(\"總價[百萬元]:5百萬房子最多\",color='black',loc='right',size=20)\n",
    "plt.xlabel('總價[百萬元]',size=20,color='black')\n",
    "plt.ylabel('個數, count',color='black',size=20)\n",
    "plt.xlim(0,60)"
   ]
  },
  {
   "cell_type": "markdown",
   "metadata": {},
   "source": [
    "## 用 scatter plot  畫圖比較欄位之間的相關性"
   ]
  },
  {
   "cell_type": "code",
   "execution_count": 76,
   "metadata": {},
   "outputs": [
    {
     "data": {
      "text/plain": [
       "Text(0,0.5,'總價[百萬元]')"
      ]
     },
     "execution_count": 76,
     "metadata": {},
     "output_type": "execute_result"
    },
    {
     "data": {
      "image/png": "[encoded data removed]",
      "text/plain": [
       "<matplotlib.figure.Figure at 0x2a817a40780>"
      ]
     },
     "metadata": {},
     "output_type": "display_data"
    }
   ],
   "source": [
    "dfmo.plot(kind='scatter',x='建物移轉總面積[平方公尺]'  ,y='總價[百萬元]' , figsize=(8,6),alpha=0.2)\n",
    "plt.xlim(0,200)\n",
    "plt.ylim(0,50)\n",
    "plt.title('中低度正相關 : r=0.3 ',color='black',size=20)\n",
    "plt.xlabel('建物移轉總面積[平方公尺]',size=20,color='black')\n",
    "plt.ylabel('總價[百萬元]',color='black',size=20)"
   ]
  },
  {
   "cell_type": "code",
   "execution_count": 77,
   "metadata": {},
   "outputs": [
    {
     "data": {
      "text/plain": [
       "Text(0,0.5,'現況格局-衛')"
      ]
     },
     "execution_count": 77,
     "metadata": {},
     "output_type": "execute_result"
    },
    {
     "data": {
      "image/png": "[encoded data removed]",
      "text/plain": [
       "<matplotlib.figure.Figure at 0x2a818b5f630>"
      ]
     },
     "metadata": {},
     "output_type": "display_data"
    }
   ],
   "source": [
    "dfmo.plot(kind='scatter',x='現況格局-房'  ,y='現況格局-衛' , figsize=(6,4),alpha=0.2)\n",
    "plt.title('高度正相關: r=0.9',color='black',size=20)\n",
    "plt.xlabel('現況格局-房',size=20,color='black')\n",
    "plt.ylabel('現況格局-衛',color='black',size=20)"
   ]
  },
  {
   "cell_type": "code",
   "execution_count": 78,
   "metadata": {},
   "outputs": [
    {
     "data": {
      "text/plain": [
       "(0, 500)"
      ]
     },
     "execution_count": 78,
     "metadata": {},
     "output_type": "execute_result"
    },
    {
     "data": {
      "image/png": "[encoded data removed]",
      "text/plain": [
       "<matplotlib.figure.Figure at 0x2a818b6bb00>"
      ]
     },
     "metadata": {},
     "output_type": "display_data"
    }
   ],
   "source": [
    "dfmo.plot(kind='scatter',x='現況格局-房'  ,y='總價[百萬元]' , figsize=(6,4),alpha=0.2)\n",
    "plt.title('低度正相關: r=0',color='black',size=20)\n",
    "plt.xlabel('現況格局-房',size=20,color='black')\n",
    "plt.ylabel('總價[百萬元]',color='black',size=20)\n",
    "plt.ylim(0,500)"
   ]
  },
  {
   "cell_type": "markdown",
   "metadata": {},
   "source": [
    "## 取出欲做　correlation coefficient 的欄位"
   ]
  },
  {
   "cell_type": "code",
   "execution_count": 79,
   "metadata": {},
   "outputs": [],
   "source": [
    "dfmo_conv=dfmo[[\"現況格局-房\",\"建物移轉總面積[平方公尺]\",\"現況格局-廳\",\"現況格局-衛\",\"總價[百萬元]\"]]"
   ]
  },
  {
   "cell_type": "code",
   "execution_count": 80,
   "metadata": {},
   "outputs": [
    {
     "data": {
      "text/html": [
       "<div>\n",
       "<style scoped>\n",
       "    .dataframe tbody tr th:only-of-type {\n",
       "        vertical-align: middle;\n",
       "    }\n",
       "\n",
       "    .dataframe tbody tr th {\n",
       "        vertical-align: top;\n",
       "    }\n",
       "\n",
       "    .dataframe thead th {\n",
       "        text-align: right;\n",
       "    }\n",
       "</style>\n",
       "<table border=\"1\" class=\"dataframe\">\n",
       "  <thead>\n",
       "    <tr style=\"text-align: right;\">\n",
       "      <th></th>\n",
       "      <th>現況格局-房</th>\n",
       "      <th>建物移轉總面積[平方公尺]</th>\n",
       "      <th>現況格局-廳</th>\n",
       "      <th>現況格局-衛</th>\n",
       "      <th>總價[百萬元]</th>\n",
       "    </tr>\n",
       "  </thead>\n",
       "  <tbody>\n",
       "    <tr>\n",
       "      <th>0</th>\n",
       "      <td>3</td>\n",
       "      <td>114.860</td>\n",
       "      <td>1</td>\n",
       "      <td>1</td>\n",
       "      <td>8.500</td>\n",
       "    </tr>\n",
       "    <tr>\n",
       "      <th>1</th>\n",
       "      <td>3</td>\n",
       "      <td>75.900</td>\n",
       "      <td>2</td>\n",
       "      <td>1</td>\n",
       "      <td>5.408</td>\n",
       "    </tr>\n",
       "    <tr>\n",
       "      <th>2</th>\n",
       "      <td>0</td>\n",
       "      <td>0.000</td>\n",
       "      <td>0</td>\n",
       "      <td>0</td>\n",
       "      <td>13.770</td>\n",
       "    </tr>\n",
       "    <tr>\n",
       "      <th>3</th>\n",
       "      <td>1</td>\n",
       "      <td>103.851</td>\n",
       "      <td>1</td>\n",
       "      <td>1</td>\n",
       "      <td>6.900</td>\n",
       "    </tr>\n",
       "    <tr>\n",
       "      <th>4</th>\n",
       "      <td>1</td>\n",
       "      <td>28.392</td>\n",
       "      <td>0</td>\n",
       "      <td>1</td>\n",
       "      <td>0.520</td>\n",
       "    </tr>\n",
       "    <tr>\n",
       "      <th>5</th>\n",
       "      <td>4</td>\n",
       "      <td>110.400</td>\n",
       "      <td>2</td>\n",
       "      <td>1</td>\n",
       "      <td>5.428</td>\n",
       "    </tr>\n",
       "    <tr>\n",
       "      <th>6</th>\n",
       "      <td>1</td>\n",
       "      <td>65.804</td>\n",
       "      <td>1</td>\n",
       "      <td>1</td>\n",
       "      <td>5.300</td>\n",
       "    </tr>\n",
       "    <tr>\n",
       "      <th>7</th>\n",
       "      <td>1</td>\n",
       "      <td>65.804</td>\n",
       "      <td>1</td>\n",
       "      <td>1</td>\n",
       "      <td>5.630</td>\n",
       "    </tr>\n",
       "    <tr>\n",
       "      <th>8</th>\n",
       "      <td>1</td>\n",
       "      <td>88.335</td>\n",
       "      <td>1</td>\n",
       "      <td>1</td>\n",
       "      <td>6.550</td>\n",
       "    </tr>\n",
       "    <tr>\n",
       "      <th>9</th>\n",
       "      <td>4</td>\n",
       "      <td>72.000</td>\n",
       "      <td>1</td>\n",
       "      <td>2</td>\n",
       "      <td>5.100</td>\n",
       "    </tr>\n",
       "  </tbody>\n",
       "</table>\n",
       "</div>"
      ],
      "text/plain": [
       "   現況格局-房  建物移轉總面積[平方公尺]  現況格局-廳  現況格局-衛  總價[百萬元]\n",
       "0       3        114.860       1       1    8.500\n",
       "1       3         75.900       2       1    5.408\n",
       "2       0          0.000       0       0   13.770\n",
       "3       1        103.851       1       1    6.900\n",
       "4       1         28.392       0       1    0.520\n",
       "5       4        110.400       2       1    5.428\n",
       "6       1         65.804       1       1    5.300\n",
       "7       1         65.804       1       1    5.630\n",
       "8       1         88.335       1       1    6.550\n",
       "9       4         72.000       1       2    5.100"
      ]
     },
     "execution_count": 80,
     "metadata": {},
     "output_type": "execute_result"
    }
   ],
   "source": [
    "dfmo_conv[:10]"
   ]
  },
  {
   "cell_type": "code",
   "execution_count": 81,
   "metadata": {},
   "outputs": [],
   "source": [
    "corr_matrix=dfmo_conv.corr()"
   ]
  },
  {
   "cell_type": "code",
   "execution_count": 82,
   "metadata": {},
   "outputs": [
    {
     "name": "stdout",
     "output_type": "stream",
     "text": [
      "                 現況格局-房  建物移轉總面積[平方公尺]    現況格局-廳    現況格局-衛   總價[百萬元]\n",
      "現況格局-房         1.000000       0.087764  0.527007  0.909033  0.036570\n",
      "建物移轉總面積[平方公尺]  0.087764       1.000000  0.067843  0.079066  0.310652\n",
      "現況格局-廳         0.527007       0.067843  1.000000  0.377910 -0.022321\n",
      "現況格局-衛         0.909033       0.079066  0.377910  1.000000  0.047050\n",
      "總價[百萬元]        0.036570       0.310652 -0.022321  0.047050  1.000000\n"
     ]
    }
   ],
   "source": [
    "print(corr_matrix)"
   ]
  },
  {
   "cell_type": "code",
   "execution_count": 83,
   "metadata": {},
   "outputs": [
    {
     "name": "stdout",
     "output_type": "stream",
     "text": [
      "<class 'pandas.core.frame.DataFrame'>\n",
      "RangeIndex: 43456 entries, 0 to 43455\n",
      "Data columns (total 27 columns):\n",
      "P1LA_CF46         42881 non-null object\n",
      "P1MA_CASEFLAG     43456 non-null object\n",
      "P1MA_DD09         43456 non-null object\n",
      "P1LA_CArea        43456 non-null float64\n",
      "P1LA_C11_1        37214 non-null object\n",
      "P1LA_C12_1        5986 non-null object\n",
      "P1LA_C12_2        5794 non-null object\n",
      "(沒有資料行名稱)         43456 non-null int64\n",
      "(沒有資料行名稱)1        43456 non-null object\n",
      "P1JD_14_1         36516 non-null object\n",
      "P1LA_F13          37664 non-null object\n",
      "P1MA_BUILD5       43456 non-null object\n",
      "P1LA_F11          37566 non-null object\n",
      "P1LA_F12          37659 non-null object\n",
      "(沒有資料行名稱)2        35754 non-null float64\n",
      "P1LA_FArea        43456 non-null float64\n",
      "P1MA_BUILD1       35252 non-null object\n",
      "P1MA_BUILD2       34042 non-null object\n",
      "P1MA_BUILD3       35494 non-null object\n",
      "P1MA_BUILD4       43456 non-null object\n",
      "P1MA_MANAGE       43456 non-null object\n",
      "P1MA_TOTPRICE     43456 non-null int64\n",
      "MeanPrice         43456 non-null int64\n",
      "P1PA_PARK_1       21905 non-null object\n",
      "P1PA_PARKAREA     43456 non-null float64\n",
      "P1PA_PARKPRICE    43456 non-null int64\n",
      "P1MA_NOTE         43456 non-null object\n",
      "dtypes: float64(4), int64(4), object(19)\n",
      "memory usage: 9.0+ MB\n"
     ]
    }
   ],
   "source": [
    "df.info()"
   ]
  },
  {
   "cell_type": "code",
   "execution_count": null,
   "metadata": {},
   "outputs": [],
   "source": []
  }
 ],
 "metadata": {
  "kernelspec": {
   "display_name": "Python 3",
   "language": "python",
   "name": "python3"
  },
  "language_info": {
   "codemirror_mode": {
    "name": "ipython",
    "version": 3
   },
   "file_extension": ".py",
   "mimetype": "text/x-python",
   "name": "python",
   "nbconvert_exporter": "python",
   "pygments_lexer": "ipython3",
   "version": "3.6.4"
  }
 },
 "nbformat": 4,
 "nbformat_minor": 2
}
