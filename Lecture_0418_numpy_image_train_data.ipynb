{
 "cells": [
  {
   "cell_type": "markdown",
   "metadata": {},
   "source": [
    "##  Use numpy array and Tensorflow to generate a data set"
   ]
  },
  {
   "cell_type": "markdown",
   "metadata": {},
   "source": [
    "### we can reshape the one-dim array into two-dim by the reshape method"
   ]
  },
  {
   "cell_type": "code",
   "execution_count": 40,
   "metadata": {},
   "outputs": [
    {
     "name": "stdout",
     "output_type": "stream",
     "text": [
      "<class 'numpy.ndarray'>\n",
      "[[0.30090974 0.66177577 0.2326442  0.82224535 0.78979423 0.00153662\n",
      "  0.9340471  0.25567293 0.37711603]\n",
      " [0.08741331 0.63506048 0.91768136 0.45141664 0.32954384 0.79426063\n",
      "  0.87688937 0.50462156 0.80824563]\n",
      " [0.79503082 0.21400871 0.71030488 0.82862563 0.74212822 0.20940816\n",
      "  0.7980455  0.98982218 0.36254475]]\n",
      "2\n",
      "(3, 9)\n"
     ]
    }
   ],
   "source": [
    "a1=np.random.rand(1,27)\n",
    "a2=a1.reshape(3,9)\n",
    "print(type(a2))\n",
    "print(a2)\n",
    "print(a2.ndim)\n",
    "print(a2.shape)"
   ]
  },
  {
   "cell_type": "code",
   "execution_count": 41,
   "metadata": {},
   "outputs": [
    {
     "name": "stdout",
     "output_type": "stream",
     "text": [
      "<class 'numpy.ndarray'>\n",
      "[[0 1 0 0 0]\n",
      " [1 0 0 0 0]\n",
      " [0 0 1 0 0]]\n",
      "int64\n",
      "2\n",
      "(3, 5)\n",
      "15\n",
      "0\n"
     ]
    }
   ],
   "source": [
    "row0=[0,1  , 0,0,0   ]\n",
    "row1=[1,0  , 0,0,0   ]\n",
    "row2=[0,0  , 1,0,0   ]\n",
    "\n",
    "ary_2D=np.array([row0,row1,row2])\n",
    "print(type(ary_2D))\n",
    "print(ary_2D)\n",
    "print(ary_2D.dtype)\n",
    "print(ary_2D.ndim)\n",
    "print(ary_2D.shape)\n",
    "print(ary_2D.size)\n",
    "print(ary_2D[1,1])"
   ]
  },
  {
   "cell_type": "code",
   "execution_count": 43,
   "metadata": {},
   "outputs": [],
   "source": [
    "train=a2,ary_2D"
   ]
  },
  {
   "cell_type": "code",
   "execution_count": 44,
   "metadata": {},
   "outputs": [
    {
     "name": "stdout",
     "output_type": "stream",
     "text": [
      "<class 'tuple'>\n"
     ]
    }
   ],
   "source": [
    "print(type(train))"
   ]
  },
  {
   "cell_type": "code",
   "execution_count": 48,
   "metadata": {},
   "outputs": [
    {
     "data": {
      "text/plain": [
       "array([[0.30090974, 0.66177577, 0.2326442 , 0.82224535, 0.78979423,\n",
       "        0.00153662, 0.9340471 , 0.25567293, 0.37711603],\n",
       "       [0.08741331, 0.63506048, 0.91768136, 0.45141664, 0.32954384,\n",
       "        0.79426063, 0.87688937, 0.50462156, 0.80824563],\n",
       "       [0.79503082, 0.21400871, 0.71030488, 0.82862563, 0.74212822,\n",
       "        0.20940816, 0.7980455 , 0.98982218, 0.36254475]])"
      ]
     },
     "execution_count": 48,
     "metadata": {},
     "output_type": "execute_result"
    }
   ],
   "source": [
    "train[0]"
   ]
  },
  {
   "cell_type": "code",
   "execution_count": 49,
   "metadata": {},
   "outputs": [],
   "source": [
    "import tensorflow as tf"
   ]
  },
  {
   "cell_type": "code",
   "execution_count": 50,
   "metadata": {},
   "outputs": [],
   "source": [
    "train_data = tf.data.Dataset.from_tensor_slices(train)"
   ]
  },
  {
   "cell_type": "code",
   "execution_count": 51,
   "metadata": {},
   "outputs": [
    {
     "name": "stdout",
     "output_type": "stream",
     "text": [
      "(tf.float64, tf.int64)\n",
      "(TensorShape([Dimension(9)]), TensorShape([Dimension(5)]))\n"
     ]
    }
   ],
   "source": [
    "print(train_data.output_types)\n",
    "print(train_data.output_shapes)"
   ]
  },
  {
   "cell_type": "code",
   "execution_count": 52,
   "metadata": {},
   "outputs": [],
   "source": [
    "iterator = tf.data.Iterator.from_structure(train_data.output_types,\n",
    "                                           train_data.output_shapes)"
   ]
  },
  {
   "cell_type": "code",
   "execution_count": 54,
   "metadata": {},
   "outputs": [],
   "source": [
    "train_init = iterator.make_initializer(train_data)"
   ]
  },
  {
   "cell_type": "code",
   "execution_count": 55,
   "metadata": {},
   "outputs": [],
   "source": [
    "img, label = iterator.get_next()"
   ]
  },
  {
   "cell_type": "code",
   "execution_count": 61,
   "metadata": {},
   "outputs": [
    {
     "name": "stdout",
     "output_type": "stream",
     "text": [
      "[array([0.30090974, 0.66177577, 0.2326442 , 0.82224535, 0.78979423,\n",
      "       0.00153662, 0.9340471 , 0.25567293, 0.37711603]), array([0, 1, 0, 0, 0])]\n",
      "[array([0.08741331, 0.63506048, 0.91768136, 0.45141664, 0.32954384,\n",
      "       0.79426063, 0.87688937, 0.50462156, 0.80824563]), array([1, 0, 0, 0, 0])]\n",
      "[array([0.79503082, 0.21400871, 0.71030488, 0.82862563, 0.74212822,\n",
      "       0.20940816, 0.7980455 , 0.98982218, 0.36254475]), array([0, 0, 1, 0, 0])]\n"
     ]
    }
   ],
   "source": [
    "with tf.Session() as sess:\n",
    "    sess.run(train_init)    # drawing samples from train_data\n",
    "    print(sess.run([img,label]))\n",
    "    print(sess.run([img,label]))\n",
    "    print(sess.run([img,label]))"
   ]
  },
  {
   "cell_type": "code",
   "execution_count": null,
   "metadata": {},
   "outputs": [],
   "source": []
  },
  {
   "cell_type": "code",
   "execution_count": null,
   "metadata": {
    "collapsed": true
   },
   "outputs": [],
   "source": []
  }
 ],
 "metadata": {
  "kernelspec": {
   "display_name": "Python 3",
   "language": "python",
   "name": "python3"
  },
  "language_info": {
   "codemirror_mode": {
    "name": "ipython",
    "version": 3
   },
   "file_extension": ".py",
   "mimetype": "text/x-python",
   "name": "python",
   "nbconvert_exporter": "python",
   "pygments_lexer": "ipython3",
   "version": "3.6.7"
  }
 },
 "nbformat": 4,
 "nbformat_minor": 2
}
