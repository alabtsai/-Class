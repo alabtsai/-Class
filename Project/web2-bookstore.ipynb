{
 "cells": [
  {
   "cell_type": "markdown",
   "metadata": {},
   "source": [
    "## This project needs to add each book item into a Series"
   ]
  },
  {
   "cell_type": "code",
   "execution_count": 1,
   "metadata": {
    "collapsed": true
   },
   "outputs": [],
   "source": [
    "import requests"
   ]
  },
  {
   "cell_type": "markdown",
   "metadata": {},
   "source": [
    "## The requests module provides a function called 'get' that creats a Response object "
   ]
  },
  {
   "cell_type": "code",
   "execution_count": 2,
   "metadata": {
    "collapsed": true
   },
   "outputs": [],
   "source": [
    "res=requests.get('http://search.books.com.tw/search/query/key/python/cat/all')"
   ]
  },
  {
   "cell_type": "code",
   "execution_count": 3,
   "metadata": {},
   "outputs": [
    {
     "data": {
      "text/plain": [
       "<module 'requests' from '/home/how/anaconda3/lib/python3.6/site-packages/requests/__init__.py'>"
      ]
     },
     "execution_count": 3,
     "metadata": {},
     "output_type": "execute_result"
    }
   ],
   "source": [
    "requests"
   ]
  },
  {
   "cell_type": "code",
   "execution_count": 4,
   "metadata": {},
   "outputs": [
    {
     "name": "stdout",
     "output_type": "stream",
     "text": [
      "<function get at 0x7f7cf9e7ea60>\n"
     ]
    }
   ],
   "source": [
    "print(requests.get)"
   ]
  },
  {
   "cell_type": "code",
   "execution_count": 5,
   "metadata": {},
   "outputs": [
    {
     "name": "stdout",
     "output_type": "stream",
     "text": [
      "<class 'module'>\n",
      "<class 'requests.models.Response'>\n"
     ]
    }
   ],
   "source": [
    "print(type(requests))\n",
    "print(type(res))"
   ]
  },
  {
   "cell_type": "code",
   "execution_count": 6,
   "metadata": {},
   "outputs": [
    {
     "name": "stdout",
     "output_type": "stream",
     "text": [
      "<class 'str'>\n"
     ]
    }
   ],
   "source": [
    "print(type(res.text))"
   ]
  },
  {
   "cell_type": "code",
   "execution_count": 7,
   "metadata": {},
   "outputs": [
    {
     "name": "stdout",
     "output_type": "stream",
     "text": [
      "http://search.books.com.tw/search/query/key/python/cat/all\n"
     ]
    }
   ],
   "source": [
    "print(res.url)"
   ]
  },
  {
   "cell_type": "code",
   "execution_count": 8,
   "metadata": {},
   "outputs": [
    {
     "data": {
      "text/plain": [
       "200"
      ]
     },
     "execution_count": 8,
     "metadata": {},
     "output_type": "execute_result"
    }
   ],
   "source": [
    "res.status_code"
   ]
  },
  {
   "cell_type": "code",
   "execution_count": 9,
   "metadata": {},
   "outputs": [
    {
     "data": {
      "text/plain": [
       "{'Date': 'Wed, 18 Apr 2018 06:02:25 GMT', 'Server': 'Apache', 'Set-Cookie': 'bid=5ad6df715869c; expires=Fri, 17-Apr-2020 06:02:25 GMT; Max-Age=63072000; path=/; domain=books.com.tw, ssid=5ad6df715869c.1524031345; expires=Wed, 18-Apr-2018 06:32:25 GMT; Max-Age=1800; path=/; domain=books.com.tw, bt=p7da41; expires=Wed, 18-Apr-2018 06:07:25 GMT; Max-Age=300; path=/; domain=books.com.tw, key_history=deleted; expires=Thu, 01-Jan-1970 00:00:01 GMT; Max-Age=0; path=/; domain=books.com.tw, key_history=%7B%221524031345%22%3A%22python%22%7D; expires=Fri, 18-May-2018 06:02:25 GMT; Max-Age=2592000; path=/; domain=search.books.com.tw', 'Vary': 'Accept-Encoding,User-Agent', 'Content-Encoding': 'gzip', 'Cache-Control': 'max-age=0, private, no-store, no-cache, must-revalidate', 'Content-Length': '17683', 'Keep-Alive': 'timeout=5, max=100', 'Connection': 'Keep-Alive', 'Content-Type': 'text/html; charset=UTF-8'}"
      ]
     },
     "execution_count": 9,
     "metadata": {},
     "output_type": "execute_result"
    }
   ],
   "source": [
    "res.headers"
   ]
  },
  {
   "cell_type": "code",
   "execution_count": 10,
   "metadata": {},
   "outputs": [
    {
     "name": "stdout",
     "output_type": "stream",
     "text": [
      "博客來-目前您搜尋的關鍵字為: python\n"
     ]
    }
   ],
   "source": [
    "from bs4 import BeautifulSoup\n",
    "soup=BeautifulSoup(res.text,'html.parser')\n",
    "print(soup.title.string)"
   ]
  },
  {
   "cell_type": "code",
   "execution_count": 11,
   "metadata": {},
   "outputs": [
    {
     "name": "stdout",
     "output_type": "stream",
     "text": [
      "<class 'bs4.BeautifulSoup'>\n"
     ]
    }
   ],
   "source": [
    "print(type(soup))"
   ]
  },
  {
   "cell_type": "code",
   "execution_count": 12,
   "metadata": {},
   "outputs": [
    {
     "name": "stdout",
     "output_type": "stream",
     "text": [
      "<img alt=\"Deep Learning：用Python進行深度學習的基礎理論實作\" class=\"itemcov\" data-original=\"http://im1.book.com.tw/image/getImage?i=http://www.books.com.tw/img/001/076/17/0010761759.jpg&amp;w=85&amp;h=120&amp;v=59893e71\" height=\"120\" width=\"85\"/>\n"
     ]
    }
   ],
   "source": [
    "print(soup.img)"
   ]
  },
  {
   "cell_type": "code",
   "execution_count": 13,
   "metadata": {},
   "outputs": [
    {
     "data": {
      "text/plain": [
       "[<strong>1</strong>,\n",
       " <strong><b>79</b> 折</strong>,\n",
       " <strong><b>458</b> 元</strong>,\n",
       " <strong><b>79</b> 折</strong>,\n",
       " <strong><b>552</b> 元</strong>,\n",
       " <strong><b>79</b> 折</strong>,\n",
       " <strong><b>537</b> 元</strong>,\n",
       " <strong><b>79</b> 折</strong>,\n",
       " <strong><b>379</b> 元</strong>,\n",
       " <strong><b>79</b> 折</strong>,\n",
       " <strong><b>300</b> 元</strong>,\n",
       " <strong><b>79</b> 折</strong>,\n",
       " <strong><b>308</b> 元</strong>,\n",
       " <strong><b>79</b> 折</strong>,\n",
       " <strong><b>616</b> 元</strong>,\n",
       " <strong><b>79</b> 折</strong>,\n",
       " <strong><b>514</b> 元</strong>,\n",
       " <strong><b>79</b> 折</strong>,\n",
       " <strong><b>490</b> 元</strong>,\n",
       " <strong><b>79</b> 折</strong>,\n",
       " <strong><b>616</b> 元</strong>,\n",
       " <strong><b>79</b> 折</strong>,\n",
       " <strong><b>395</b> 元</strong>,\n",
       " <strong><b>79</b> 折</strong>,\n",
       " <strong><b>411</b> 元</strong>,\n",
       " <strong><b>79</b> 折</strong>,\n",
       " <strong><b>395</b> 元</strong>,\n",
       " <strong><b>79</b> 折</strong>,\n",
       " <strong><b>695</b> 元</strong>,\n",
       " <strong><b>79</b> 折</strong>,\n",
       " <strong><b>458</b> 元</strong>,\n",
       " <strong><b>79</b> 折</strong>,\n",
       " <strong><b>356</b> 元</strong>,\n",
       " <strong><b>79</b> 折</strong>,\n",
       " <strong><b>435</b> 元</strong>,\n",
       " <strong><b>95</b> 折</strong>,\n",
       " <strong><b>561</b> 元</strong>,\n",
       " <strong><b>79</b> 折</strong>,\n",
       " <strong><b>119</b> 元</strong>,\n",
       " <strong><b>79</b> 折</strong>,\n",
       " <strong><b>458</b> 元</strong>,\n",
       " <strong><a href=\"#\" onclick=\"collapse(this, 1)\" ref=\"display_cat_all\">看全館分類</a></strong>]"
      ]
     },
     "execution_count": 13,
     "metadata": {},
     "output_type": "execute_result"
    }
   ],
   "source": [
    "soup.select(\"strong\")"
   ]
  },
  {
   "cell_type": "code",
   "execution_count": 14,
   "metadata": {},
   "outputs": [
    {
     "data": {
      "text/plain": [
       "[<img alt=\"Deep Learning：用Python進行深度學習的基礎理論實作\" class=\"itemcov\" data-original=\"http://im1.book.com.tw/image/getImage?i=http://www.books.com.tw/img/001/076/17/0010761759.jpg&amp;w=85&amp;h=120&amp;v=59893e71\" height=\"120\" width=\"85\"/>,\n",
       " <img alt=\"Python入門邁向高手之路王者歸來(附光碟)\" class=\"itemcov\" data-original=\"http://im1.book.com.tw/image/getImage?i=http://www.books.com.tw/img/001/077/31/0010773177.jpg&amp;w=85&amp;h=120&amp;v=5a27c6d4\" height=\"120\" width=\"85\"/>,\n",
       " <img alt=\"Python網頁程式交易APP實作：Web + MySQL + Django\" class=\"itemcov\" data-original=\"http://im1.book.com.tw/image/getImage?i=http://www.books.com.tw/img/001/078/14/0010781465.jpg&amp;w=85&amp;h=120&amp;v=5a9fbf6b\" height=\"120\" width=\"85\"/>,\n",
       " <img alt=\"Python初學特訓班(增訂版)(附250分鐘影音教學/範例程式)\" class=\"itemcov\" data-original=\"http://im1.book.com.tw/image/getImage?i=http://www.books.com.tw/img/001/075/77/0010757756.jpg&amp;w=85&amp;h=120&amp;v=59562879\" height=\"120\" width=\"85\"/>,\n",
       " <img alt=\"圖說演算法：使用Python\" class=\"itemcov\" data-original=\"http://im1.book.com.tw/image/getImage?i=http://www.books.com.tw/img/001/077/94/0010779462.jpg&amp;w=85&amp;h=120&amp;v=5a798440\" height=\"120\" width=\"85\"/>,\n",
       " <img alt=\"Python零基礎入門班：一次打好程式設計與邏輯訓練基本功!(附120分鐘影音教學/範例程式)\" class=\"itemcov\" data-original=\"http://im1.book.com.tw/image/getImage?i=http://www.books.com.tw/img/001/076/84/0010768474.jpg&amp;w=85&amp;h=120&amp;v=59e5dbaa\" height=\"120\" width=\"85\"/>,\n",
       " <img alt=\"精通 Python：運用簡單的套件進行現代運算\" class=\"itemcov\" data-original=\"http://im1.book.com.tw/image/getImage?i=http://www.books.com.tw/img/001/069/00/0010690075.jpg&amp;w=85&amp;h=120&amp;v=55f2adde\" height=\"120\" width=\"85\"/>,\n",
       " <img alt=\"金融科技實戰：Python與量化投資\" class=\"itemcov\" data-original=\"http://im1.book.com.tw/image/getImage?i=http://www.books.com.tw/img/001/077/46/0010774605.jpg&amp;w=85&amp;h=120&amp;v=5a3b8d69\" height=\"120\" width=\"85\"/>,\n",
       " <img alt=\"Python深度學習\" class=\"itemcov\" data-original=\"http://im1.book.com.tw/image/getImage?i=http://www.books.com.tw/img/001/077/50/0010775076.jpg&amp;w=85&amp;h=120&amp;v=5a4224c5\" height=\"120\" width=\"85\"/>,\n",
       " <img alt=\"Python資料科學學習手冊\" class=\"itemcov\" data-original=\"http://im1.book.com.tw/image/getImage?i=http://www.books.com.tw/img/001/077/43/0010774364.jpg&amp;w=85&amp;h=120&amp;v=5a3a3bd4\" height=\"120\" width=\"85\"/>,\n",
       " <img alt=\"Python：期貨演算法交易實務121個關鍵技巧詳解\" class=\"itemcov\" data-original=\"http://im1.book.com.tw/image/getImage?i=http://www.books.com.tw/img/001/077/03/0010770395.jpg&amp;w=85&amp;h=120&amp;v=59fc4537\" height=\"120\" width=\"85\"/>,\n",
       " <img alt=\"特洛伊木馬病毒程式設計：使用Python\" class=\"itemcov\" data-original=\"http://im1.book.com.tw/image/getImage?i=http://www.books.com.tw/img/001/077/83/0010778326.jpg&amp;w=85&amp;h=120&amp;v=5a6ef805\" height=\"120\" width=\"85\"/>,\n",
       " <img alt=\"Python 自動化的樂趣：搞定重複瑣碎&amp;單調無聊的工作\" class=\"itemcov\" data-original=\"http://im1.book.com.tw/image/getImage?i=http://www.books.com.tw/img/001/073/93/0010739372.jpg&amp;w=85&amp;h=120&amp;v=585a59ac\" height=\"120\" width=\"85\"/>,\n",
       " <img alt=\"Python 技術手冊(第三版)\" class=\"itemcov\" data-original=\"http://im1.book.com.tw/image/getImage?i=http://www.books.com.tw/img/001/077/57/0010775718.jpg&amp;w=85&amp;h=120&amp;v=5a4cb0ba\" height=\"120\" width=\"85\"/>,\n",
       " <img alt=\"網站擷取：使用Python\" class=\"itemcov\" data-original=\"http://im1.book.com.tw/image/getImage?i=http://www.books.com.tw/img/001/073/06/0010730640.jpg&amp;w=85&amp;h=120&amp;v=57e8f8c6\" height=\"120\" width=\"85\"/>,\n",
       " <img alt=\"Python架站特訓班：Django最強實戰\" class=\"itemcov\" data-original=\"http://im1.book.com.tw/image/getImage?i=http://www.books.com.tw/img/001/076/28/0010762818.jpg&amp;w=85&amp;h=120&amp;v=599ab636\" height=\"120\" width=\"85\"/>,\n",
       " <img alt=\"Python程式設計的樂趣：範例實作與專題研究的20堂程式設計課\" class=\"itemcov\" data-original=\"http://im1.book.com.tw/image/getImage?i=http://www.books.com.tw/img/001/077/85/0010778539.jpg&amp;w=85&amp;h=120&amp;v=5a704949\" height=\"120\" width=\"85\"/>,\n",
       " <img alt=\"Python 資料運算與分析實戰：一次搞懂 NumPy•SciPy•Matplotlib•pandas 最強套件\" class=\"itemcov\" data-original=\"http://im1.book.com.tw/image/getImage?i=http://www.books.com.tw/img/001/077/80/0010778000.jpg&amp;w=85&amp;h=120&amp;v=5a69b1dd\" height=\"120\" width=\"85\"/>,\n",
       " <img alt=\"輕課程 micro:bit 微型電腦帶著走：使用Python輕鬆玩\" class=\"itemcov\" data-original=\"http://im1.book.com.tw/image/getImage?i=http://www.books.com.tw/img/001/077/03/0010770392.jpg&amp;w=85&amp;h=120&amp;v=59fc4586\" height=\"120\" width=\"85\"/>,\n",
       " <img alt=\"Data Science from Scratch中文版：用Python學資料科學\" class=\"itemcov\" data-original=\"http://im1.book.com.tw/image/getImage?i=http://www.books.com.tw/img/001/073/33/0010733378.jpg&amp;w=85&amp;h=120&amp;v=58089ce0\" height=\"120\" width=\"85\"/>]"
      ]
     },
     "execution_count": 14,
     "metadata": {},
     "output_type": "execute_result"
    }
   ],
   "source": [
    "soup.select(\"img[class='itemcov']\")"
   ]
  },
  {
   "cell_type": "code",
   "execution_count": 15,
   "metadata": {},
   "outputs": [
    {
     "name": "stdout",
     "output_type": "stream",
     "text": [
      "<class 'list'>\n",
      "<img alt=\"Deep Learning：用Python進行深度學習的基礎理論實作\" class=\"itemcov\" data-original=\"http://im1.book.com.tw/image/getImage?i=http://www.books.com.tw/img/001/076/17/0010761759.jpg&amp;w=85&amp;h=120&amp;v=59893e71\" height=\"120\" width=\"85\"/>\n"
     ]
    }
   ],
   "source": [
    "print(type(soup.select(\"img[class='itemcov']\")))\n",
    "print(soup.select(\"img[class='itemcov']\")[0])\n"
   ]
  },
  {
   "cell_type": "code",
   "execution_count": 16,
   "metadata": {},
   "outputs": [
    {
     "name": "stdout",
     "output_type": "stream",
     "text": [
      "<img alt=\"Python入門邁向高手之路王者歸來(附光碟)\" class=\"itemcov\" data-original=\"http://im1.book.com.tw/image/getImage?i=http://www.books.com.tw/img/001/077/31/0010773177.jpg&amp;w=85&amp;h=120&amp;v=5a27c6d4\" height=\"120\" width=\"85\"/>\n"
     ]
    }
   ],
   "source": [
    "print(soup.select(\"img[class='itemcov']\")[1])"
   ]
  },
  {
   "cell_type": "markdown",
   "metadata": {},
   "source": [
    "## every list item is a Tag, [ tag, tag, tag,...]"
   ]
  },
  {
   "cell_type": "code",
   "execution_count": 17,
   "metadata": {},
   "outputs": [
    {
     "name": "stdout",
     "output_type": "stream",
     "text": [
      "<class 'bs4.element.Tag'>\n"
     ]
    }
   ],
   "source": [
    "print( type( soup.select(\"img[class='itemcov']\")[0] )      )"
   ]
  },
  {
   "cell_type": "code",
   "execution_count": 18,
   "metadata": {},
   "outputs": [
    {
     "data": {
      "text/plain": [
       "'Deep Learning：用Python進行深度學習的基礎理論實作'"
      ]
     },
     "execution_count": 18,
     "metadata": {},
     "output_type": "execute_result"
    }
   ],
   "source": [
    "soup.select(\"img[class='itemcov']\")[0]['alt']"
   ]
  },
  {
   "cell_type": "code",
   "execution_count": 19,
   "metadata": {},
   "outputs": [
    {
     "name": "stdout",
     "output_type": "stream",
     "text": [
      "<class 'str'>\n"
     ]
    }
   ],
   "source": [
    "print(type( soup.select(\"img[class='itemcov']\")[0]['alt']))"
   ]
  },
  {
   "cell_type": "code",
   "execution_count": 20,
   "metadata": {},
   "outputs": [
    {
     "data": {
      "text/plain": [
       "[<span class=\"price\">\n",
       " \t                        \t\t\t\t\t\t\t\t\t\t\t\t\t\t\t\t優惠價: <strong><b>79</b> 折</strong>, <strong><b>458</b> 元</strong>\n",
       " <button class=\"btn_type01\" id=\"mid_cart\" onclick=\"redirect('http://search.books.com.tw/redirect/move/key/python/area/mid_cart/item/0010761759/page/1/cart/1/idx/1/cat/001/pdf/1');return false;\">放入購物車</button>\n",
       " <button class=\"btn_type01 btn_font1\" id=\"mid_epub\" onclick=\"rewopen('http://search.books.com.tw/redirect/move/key/python/area/mid_epub/item/0010761759/page/1/epub/1/idx/1/cat/001/pdf/1', '_blank');return false;\">試閱</button>\n",
       " </span>, <span class=\"price\">\n",
       " \t                        \t\t\t\t\t\t\t\t\t\t\t\t\t\t\t\t優惠價: <strong><b>79</b> 折</strong>, <strong><b>552</b> 元</strong>\n",
       " <button class=\"btn_type01\" id=\"mid_cart\" onclick=\"redirect('http://search.books.com.tw/redirect/move/key/python/area/mid_cart/item/0010773177/page/1/cart/1/idx/2/cat/001/pdf/1');return false;\">放入購物車</button>\n",
       " <button class=\"btn_type01 btn_font1\" id=\"mid_epub\" onclick=\"rewopen('http://search.books.com.tw/redirect/move/key/python/area/mid_epub/item/0010773177/page/1/epub/1/idx/2/cat/001/pdf/1', '_blank');return false;\">試閱</button>\n",
       " </span>, <span class=\"price\">\n",
       " \t                        \t\t\t\t\t\t\t\t\t\t\t\t\t\t\t\t優惠價: <strong><b>79</b> 折</strong>, <strong><b>537</b> 元</strong>\n",
       " <button class=\"btn_type01\" id=\"mid_cart\" onclick=\"redirect('http://search.books.com.tw/redirect/move/key/python/area/mid_cart/item/0010781465/page/1/cart/1/idx/3/cat/001/pdf/1');return false;\">放入購物車</button>\n",
       " <button class=\"btn_type01 btn_font1\" id=\"mid_epub\" onclick=\"rewopen('http://search.books.com.tw/redirect/move/key/python/area/mid_epub/item/0010781465/page/1/epub/1/idx/3/cat/001/pdf/1', '_blank');return false;\">試閱</button>\n",
       " </span>, <span class=\"price\">\n",
       " \t                        \t\t\t\t\t\t\t\t\t\t\t\t\t\t\t\t優惠價: <strong><b>79</b> 折</strong>, <strong><b>379</b> 元</strong>\n",
       " <button class=\"btn_type01\" id=\"mid_cart\" onclick=\"redirect('http://search.books.com.tw/redirect/move/key/python/area/mid_cart/item/0010757756/page/1/cart/1/idx/4/cat/001/pdf/1');return false;\">放入購物車</button>\n",
       " <button class=\"btn_type01 btn_font1\" id=\"mid_epub\" onclick=\"rewopen('http://search.books.com.tw/redirect/move/key/python/area/mid_epub/item/0010757756/page/1/epub/1/idx/4/cat/001/pdf/1', '_blank');return false;\">試閱</button>\n",
       " </span>, <span class=\"price\">\n",
       " \t                        \t\t\t\t\t\t\t\t\t\t\t\t\t\t\t\t優惠價: <strong><b>79</b> 折</strong>, <strong><b>300</b> 元</strong>\n",
       " <button class=\"btn_type01\" id=\"mid_cart\" onclick=\"redirect('http://search.books.com.tw/redirect/move/key/python/area/mid_cart/item/0010779462/page/1/cart/1/idx/5/cat/001/pdf/1');return false;\">放入購物車</button>\n",
       " <button class=\"btn_type01 btn_font1\" id=\"mid_epub\" onclick=\"rewopen('http://search.books.com.tw/redirect/move/key/python/area/mid_epub/item/0010779462/page/1/epub/1/idx/5/cat/001/pdf/1', '_blank');return false;\">試閱</button>\n",
       " </span>, <span class=\"price\">\n",
       " \t                        \t\t\t\t\t\t\t\t\t\t\t\t\t\t\t\t優惠價: <strong><b>79</b> 折</strong>, <strong><b>308</b> 元</strong>\n",
       " <button class=\"btn_type01\" id=\"mid_cart\" onclick=\"redirect('http://search.books.com.tw/redirect/move/key/python/area/mid_cart/item/0010768474/page/1/cart/1/idx/6/cat/001/pdf/1');return false;\">放入購物車</button>\n",
       " <button class=\"btn_type01 btn_font1\" id=\"mid_epub\" onclick=\"rewopen('http://search.books.com.tw/redirect/move/key/python/area/mid_epub/item/0010768474/page/1/epub/1/idx/6/cat/001/pdf/1', '_blank');return false;\">試閱</button>\n",
       " </span>, <span class=\"price\">\n",
       " \t                        \t\t\t\t\t\t\t\t\t\t\t\t\t\t\t\t優惠價: <strong><b>79</b> 折</strong>, <strong><b>616</b> 元</strong>\n",
       " <button class=\"btn_type01\" id=\"mid_cart\" onclick=\"redirect('http://search.books.com.tw/redirect/move/key/python/area/mid_cart/item/0010690075/page/1/cart/1/idx/7/cat/001/pdf/1');return false;\">放入購物車</button>\n",
       " <button class=\"btn_type01 btn_font1\" id=\"mid_epub\" onclick=\"rewopen('http://search.books.com.tw/redirect/move/key/python/area/mid_epub/item/0010690075/page/1/epub/1/idx/7/cat/001/pdf/1', '_blank');return false;\">試閱</button>\n",
       " </span>, <span class=\"price\">\n",
       " \t                        \t\t\t\t\t\t\t\t\t\t\t\t\t\t\t\t優惠價: <strong><b>79</b> 折</strong>, <strong><b>514</b> 元</strong>\n",
       " <button class=\"btn_type01\" id=\"mid_cart\" onclick=\"redirect('http://search.books.com.tw/redirect/move/key/python/area/mid_cart/item/0010774605/page/1/cart/1/idx/8/cat/001/pdf/1');return false;\">放入購物車</button>\n",
       " <button class=\"btn_type01 btn_font1\" id=\"mid_epub\" onclick=\"rewopen('http://search.books.com.tw/redirect/move/key/python/area/mid_epub/item/0010774605/page/1/epub/1/idx/8/cat/001/pdf/1', '_blank');return false;\">試閱</button>\n",
       " </span>, <span class=\"price\">\n",
       " \t                        \t\t\t\t\t\t\t\t\t\t\t\t\t\t\t\t優惠價: <strong><b>79</b> 折</strong>, <strong><b>490</b> 元</strong>\n",
       " <button class=\"btn_type01\" id=\"mid_cart\" onclick=\"redirect('http://search.books.com.tw/redirect/move/key/python/area/mid_cart/item/0010775076/page/1/cart/1/idx/9/cat/001/pdf/1');return false;\">放入購物車</button>\n",
       " <button class=\"btn_type01 btn_font1\" id=\"mid_epub\" onclick=\"rewopen('http://search.books.com.tw/redirect/move/key/python/area/mid_epub/item/0010775076/page/1/epub/1/idx/9/cat/001/pdf/1', '_blank');return false;\">試閱</button>\n",
       " </span>, <span class=\"price\">\n",
       " \t                        \t\t\t\t\t\t\t\t\t\t\t\t\t\t\t\t優惠價: <strong><b>79</b> 折</strong>, <strong><b>616</b> 元</strong>\n",
       " <button class=\"btn_type01\" id=\"mid_cart\" onclick=\"redirect('http://search.books.com.tw/redirect/move/key/python/area/mid_cart/item/0010774364/page/1/cart/1/idx/10/cat/001/pdf/1');return false;\">放入購物車</button>\n",
       " <button class=\"btn_type01 btn_font1\" id=\"mid_epub\" onclick=\"rewopen('http://search.books.com.tw/redirect/move/key/python/area/mid_epub/item/0010774364/page/1/epub/1/idx/10/cat/001/pdf/1', '_blank');return false;\">試閱</button>\n",
       " </span>, <span class=\"price\">\n",
       " \t                        \t\t\t\t\t\t\t\t\t\t\t\t\t\t\t\t優惠價: <strong><b>79</b> 折</strong>, <strong><b>395</b> 元</strong>\n",
       " <button class=\"btn_type01\" id=\"mid_cart\" onclick=\"redirect('http://search.books.com.tw/redirect/move/key/python/area/mid_cart/item/0010770395/page/1/cart/1/idx/11/cat/001/pdf/1');return false;\">放入購物車</button>\n",
       " <button class=\"btn_type01 btn_font1\" id=\"mid_epub\" onclick=\"rewopen('http://search.books.com.tw/redirect/move/key/python/area/mid_epub/item/0010770395/page/1/epub/1/idx/11/cat/001/pdf/1', '_blank');return false;\">試閱</button>\n",
       " </span>, <span class=\"price\">\n",
       " \t                        \t\t\t\t\t\t\t\t\t\t\t\t\t\t\t\t優惠價: <strong><b>79</b> 折</strong>, <strong><b>411</b> 元</strong>\n",
       " <button class=\"btn_type01\" id=\"mid_cart\" onclick=\"redirect('http://search.books.com.tw/redirect/move/key/python/area/mid_cart/item/0010778326/page/1/cart/1/idx/12/cat/001/pdf/1');return false;\">放入購物車</button>\n",
       " <button class=\"btn_type01 btn_font1\" id=\"mid_epub\" onclick=\"rewopen('http://search.books.com.tw/redirect/move/key/python/area/mid_epub/item/0010778326/page/1/epub/1/idx/12/cat/001/pdf/1', '_blank');return false;\">試閱</button>\n",
       " </span>, <span class=\"price\">\n",
       " \t                        \t\t\t\t\t\t\t\t\t\t\t\t\t\t\t\t優惠價: <strong><b>79</b> 折</strong>, <strong><b>395</b> 元</strong>\n",
       " <button class=\"btn_type01\" id=\"mid_cart\" onclick=\"redirect('http://search.books.com.tw/redirect/move/key/python/area/mid_cart/item/0010739372/page/1/cart/1/idx/13/cat/001/pdf/1');return false;\">放入購物車</button>\n",
       " <button class=\"btn_type01 btn_font1\" id=\"mid_epub\" onclick=\"rewopen('http://search.books.com.tw/redirect/move/key/python/area/mid_epub/item/0010739372/page/1/epub/1/idx/13/cat/001/pdf/1', '_blank');return false;\">試閱</button>\n",
       " </span>, <span class=\"price\">\n",
       " \t                        \t\t\t\t\t\t\t\t\t\t\t\t\t\t\t\t優惠價: <strong><b>79</b> 折</strong>, <strong><b>695</b> 元</strong>\n",
       " <button class=\"btn_type01\" id=\"mid_cart\" onclick=\"redirect('http://search.books.com.tw/redirect/move/key/python/area/mid_cart/item/0010775718/page/1/cart/1/idx/14/cat/001/pdf/1');return false;\">放入購物車</button>\n",
       " <button class=\"btn_type01 btn_font1\" id=\"mid_epub\" onclick=\"rewopen('http://search.books.com.tw/redirect/move/key/python/area/mid_epub/item/0010775718/page/1/epub/1/idx/14/cat/001/pdf/1', '_blank');return false;\">試閱</button>\n",
       " </span>, <span class=\"price\">\n",
       " \t                        \t\t\t\t\t\t\t\t\t\t\t\t\t\t\t\t優惠價: <strong><b>79</b> 折</strong>, <strong><b>458</b> 元</strong>\n",
       " <button class=\"btn_type01\" id=\"mid_cart\" onclick=\"redirect('http://search.books.com.tw/redirect/move/key/python/area/mid_cart/item/0010730640/page/1/cart/1/idx/15/cat/001/pdf/1');return false;\">放入購物車</button>\n",
       " <button class=\"btn_type01 btn_font1\" id=\"mid_epub\" onclick=\"rewopen('http://search.books.com.tw/redirect/move/key/python/area/mid_epub/item/0010730640/page/1/epub/1/idx/15/cat/001/pdf/1', '_blank');return false;\">試閱</button>\n",
       " </span>, <span class=\"price\">\n",
       " \t                        \t\t\t\t\t\t\t\t\t\t\t\t\t\t\t\t優惠價: <strong><b>79</b> 折</strong>, <strong><b>356</b> 元</strong>\n",
       " <button class=\"btn_type01\" id=\"mid_cart\" onclick=\"redirect('http://search.books.com.tw/redirect/move/key/python/area/mid_cart/item/0010762818/page/1/cart/1/idx/16/cat/001/pdf/1');return false;\">放入購物車</button>\n",
       " <button class=\"btn_type01 btn_font1\" id=\"mid_epub\" onclick=\"rewopen('http://search.books.com.tw/redirect/move/key/python/area/mid_epub/item/0010762818/page/1/epub/1/idx/16/cat/001/pdf/1', '_blank');return false;\">試閱</button>\n",
       " </span>, <span class=\"price\">\n",
       " \t                        \t\t\t\t\t\t\t\t\t\t\t\t\t\t\t\t優惠價: <strong><b>79</b> 折</strong>, <strong><b>435</b> 元</strong>\n",
       " <button class=\"btn_type01\" id=\"mid_cart\" onclick=\"redirect('http://search.books.com.tw/redirect/move/key/python/area/mid_cart/item/0010778539/page/1/cart/1/idx/17/cat/001/pdf/1');return false;\">放入購物車</button>\n",
       " <button class=\"btn_type01 btn_font1\" id=\"mid_epub\" onclick=\"rewopen('http://search.books.com.tw/redirect/move/key/python/area/mid_epub/item/0010778539/page/1/epub/1/idx/17/cat/001/pdf/1', '_blank');return false;\">試閱</button>\n",
       " </span>, <span class=\"price\">\n",
       " \t                        \t\t\t\t\t\t\t\t\t\t\t\t\t\t\t\t優惠價: <strong><b>95</b> 折</strong>, <strong><b>561</b> 元</strong>\n",
       " <button class=\"btn_type01\" id=\"mid_cart\" onclick=\"redirect('http://search.books.com.tw/redirect/move/key/python/area/mid_cart/item/0010778000/page/1/cart/1/idx/18/cat/001/pdf/1');return false;\">放入購物車</button>\n",
       " <button class=\"btn_type01 btn_font1\" id=\"mid_epub\" onclick=\"rewopen('http://search.books.com.tw/redirect/move/key/python/area/mid_epub/item/0010778000/page/1/epub/1/idx/18/cat/001/pdf/1', '_blank');return false;\">試閱</button>\n",
       " </span>, <span class=\"price\">\n",
       " \t                        \t\t\t\t\t\t\t\t\t\t\t\t\t\t\t\t優惠價: <strong><b>79</b> 折</strong>, <strong><b>119</b> 元</strong>\n",
       " <button class=\"btn_type01\" id=\"mid_cart\" onclick=\"redirect('http://search.books.com.tw/redirect/move/key/python/area/mid_cart/item/0010770392/page/1/cart/1/idx/19/cat/001/pdf/1');return false;\">放入購物車</button>\n",
       " </span>, <span class=\"price\">\n",
       " \t                        \t\t\t\t\t\t\t\t\t\t\t\t\t\t\t\t優惠價: <strong><b>79</b> 折</strong>, <strong><b>458</b> 元</strong>\n",
       " <button class=\"btn_type01\" id=\"mid_cart\" onclick=\"redirect('http://search.books.com.tw/redirect/move/key/python/area/mid_cart/item/0010733378/page/1/cart/1/idx/20/cat/001/pdf/1');return false;\">放入購物車</button>\n",
       " <button class=\"btn_type01 btn_font1\" id=\"mid_epub\" onclick=\"rewopen('http://search.books.com.tw/redirect/move/key/python/area/mid_epub/item/0010733378/page/1/epub/1/idx/20/cat/001/pdf/1', '_blank');return false;\">試閱</button>\n",
       " </span>, <span class=\"price\">優惠價: <b>79</b> 折, <b>458</b> 元</span>, <span class=\"price\">優惠價: <b>9</b> 折, <b>252</b> 元</span>, <span class=\"price\">優惠價: <b>79</b> 折, <b>356</b> 元</span>, <span class=\"price\">優惠價: <b>79</b> 折, <b>316</b> 元</span>, <span class=\"price\">優惠價: <b>59</b> 折, <b>289</b> 元</span>]"
      ]
     },
     "execution_count": 20,
     "metadata": {},
     "output_type": "execute_result"
    }
   ],
   "source": [
    "soup.select(\"span[class='price']\")"
   ]
  },
  {
   "cell_type": "code",
   "execution_count": 21,
   "metadata": {},
   "outputs": [
    {
     "name": "stdout",
     "output_type": "stream",
     "text": [
      "Series([], dtype: float64)\n",
      "Deep Learning：用Python進行深度學習的基礎理論實作\n",
      "<class 'str'>\n",
      "Python入門邁向高手之路王者歸來(附光碟)\n",
      "<class 'str'>\n",
      "Python網頁程式交易APP實作：Web + MySQL + Django\n",
      "<class 'str'>\n",
      "Python初學特訓班(增訂版)(附250分鐘影音教學/範例程式)\n",
      "<class 'str'>\n",
      "圖說演算法：使用Python\n",
      "<class 'str'>\n",
      "Python零基礎入門班：一次打好程式設計與邏輯訓練基本功!(附120分鐘影音教學/範例程式)\n",
      "<class 'str'>\n",
      "精通 Python：運用簡單的套件進行現代運算\n",
      "<class 'str'>\n",
      "金融科技實戰：Python與量化投資\n",
      "<class 'str'>\n",
      "Python深度學習\n",
      "<class 'str'>\n",
      "Python資料科學學習手冊\n",
      "<class 'str'>\n",
      "Python：期貨演算法交易實務121個關鍵技巧詳解\n",
      "<class 'str'>\n",
      "特洛伊木馬病毒程式設計：使用Python\n",
      "<class 'str'>\n",
      "Python 自動化的樂趣：搞定重複瑣碎&單調無聊的工作\n",
      "<class 'str'>\n",
      "Python 技術手冊(第三版)\n",
      "<class 'str'>\n",
      "網站擷取：使用Python\n",
      "<class 'str'>\n",
      "Python架站特訓班：Django最強實戰\n",
      "<class 'str'>\n",
      "Python程式設計的樂趣：範例實作與專題研究的20堂程式設計課\n",
      "<class 'str'>\n",
      "Python 資料運算與分析實戰：一次搞懂 NumPy•SciPy•Matplotlib•pandas 最強套件\n",
      "<class 'str'>\n",
      "輕課程 micro:bit 微型電腦帶著走：使用Python輕鬆玩\n",
      "<class 'str'>\n",
      "Data Science from Scratch中文版：用Python學資料科學\n",
      "<class 'str'>\n"
     ]
    }
   ],
   "source": [
    "import pandas as pd \n",
    "books=pd.Series()\n",
    "print(books)\n",
    "for book in soup.select(\"img[class='itemcov']\"):\n",
    "    print(book['alt'])\n",
    "    print(type(book['alt']))\n",
    "    books = books.append(pd.Series(book['alt']))"
   ]
  },
  {
   "cell_type": "code",
   "execution_count": 22,
   "metadata": {},
   "outputs": [
    {
     "name": "stdout",
     "output_type": "stream",
     "text": [
      "Series([], dtype: float64)\n",
      "<class 'bs4.element.Tag'>\n",
      "Deep Learning：用Python進行深度學習的基礎理論實作\n",
      "<class 'bs4.element.Tag'>\n",
      "Python入門邁向高手之路王者歸來(附光碟)\n",
      "<class 'bs4.element.Tag'>\n",
      "Python網頁程式交易APP實作：Web + MySQL + Django\n",
      "<class 'bs4.element.Tag'>\n",
      "Python初學特訓班(增訂版)(附250分鐘影音教學/範例程式)\n",
      "<class 'bs4.element.Tag'>\n",
      "圖說演算法：使用Python\n",
      "<class 'bs4.element.Tag'>\n",
      "Python零基礎入門班：一次打好程式設計與邏輯訓練基本功!(附120分鐘影音教學/範例程式)\n",
      "<class 'bs4.element.Tag'>\n",
      "精通 Python：運用簡單的套件進行現代運算\n",
      "<class 'bs4.element.Tag'>\n",
      "金融科技實戰：Python與量化投資\n",
      "<class 'bs4.element.Tag'>\n",
      "Python深度學習\n",
      "<class 'bs4.element.Tag'>\n",
      "Python資料科學學習手冊\n",
      "<class 'bs4.element.Tag'>\n",
      "Python：期貨演算法交易實務121個關鍵技巧詳解\n",
      "<class 'bs4.element.Tag'>\n",
      "特洛伊木馬病毒程式設計：使用Python\n",
      "<class 'bs4.element.Tag'>\n",
      "Python 自動化的樂趣：搞定重複瑣碎&單調無聊的工作\n",
      "<class 'bs4.element.Tag'>\n",
      "Python 技術手冊(第三版)\n",
      "<class 'bs4.element.Tag'>\n",
      "網站擷取：使用Python\n",
      "<class 'bs4.element.Tag'>\n",
      "Python架站特訓班：Django最強實戰\n",
      "<class 'bs4.element.Tag'>\n",
      "Python程式設計的樂趣：範例實作與專題研究的20堂程式設計課\n",
      "<class 'bs4.element.Tag'>\n",
      "Python 資料運算與分析實戰：一次搞懂 NumPy•SciPy•Matplotlib•pandas 最強套件\n",
      "<class 'bs4.element.Tag'>\n",
      "輕課程 micro:bit 微型電腦帶著走：使用Python輕鬆玩\n",
      "<class 'bs4.element.Tag'>\n",
      "Data Science from Scratch中文版：用Python學資料科學\n"
     ]
    }
   ],
   "source": [
    "import pandas as pd \n",
    "books=pd.Series()\n",
    "print(books)\n",
    "for book in soup.select(\"img[class='itemcov']\"):\n",
    "    print(type(book))\n",
    "    print(book['alt'])\n",
    "    #print(type(book['alt']))\n",
    "    books = books.append(pd.Series(book['alt'])).reset_index(drop=True)"
   ]
  },
  {
   "cell_type": "code",
   "execution_count": 23,
   "metadata": {},
   "outputs": [
    {
     "data": {
      "text/plain": [
       "0                    Deep Learning：用Python進行深度學習的基礎理論實作\n",
       "1                               Python入門邁向高手之路王者歸來(附光碟)\n",
       "2                Python網頁程式交易APP實作：Web + MySQL + Django\n",
       "3                     Python初學特訓班(增訂版)(附250分鐘影音教學/範例程式)\n",
       "4                                        圖說演算法：使用Python\n",
       "5       Python零基礎入門班：一次打好程式設計與邏輯訓練基本功!(附120分鐘影音教學/範例程式)\n",
       "6                               精通 Python：運用簡單的套件進行現代運算\n",
       "7                                    金融科技實戰：Python與量化投資\n",
       "8                                            Python深度學習\n",
       "9                                        Python資料科學學習手冊\n",
       "10                           Python：期貨演算法交易實務121個關鍵技巧詳解\n",
       "11                                 特洛伊木馬病毒程式設計：使用Python\n",
       "12                         Python 自動化的樂趣：搞定重複瑣碎&單調無聊的工作\n",
       "13                                     Python 技術手冊(第三版)\n",
       "14                                        網站擷取：使用Python\n",
       "15                               Python架站特訓班：Django最強實戰\n",
       "16                     Python程式設計的樂趣：範例實作與專題研究的20堂程式設計課\n",
       "17    Python 資料運算與分析實戰：一次搞懂 NumPy•SciPy•Matplotlib•p...\n",
       "18                    輕課程 micro:bit 微型電腦帶著走：使用Python輕鬆玩\n",
       "19            Data Science from Scratch中文版：用Python學資料科學\n",
       "dtype: object"
      ]
     },
     "execution_count": 23,
     "metadata": {},
     "output_type": "execute_result"
    }
   ],
   "source": [
    "books"
   ]
  },
  {
   "cell_type": "code",
   "execution_count": 24,
   "metadata": {},
   "outputs": [
    {
     "data": {
      "text/plain": [
       "20"
      ]
     },
     "execution_count": 24,
     "metadata": {},
     "output_type": "execute_result"
    }
   ],
   "source": [
    "books.size"
   ]
  },
  {
   "cell_type": "code",
   "execution_count": 25,
   "metadata": {},
   "outputs": [
    {
     "name": "stdout",
     "output_type": "stream",
     "text": [
      "<class 'bs4.element.Tag'>\n",
      "[<b>79</b>, <b>458</b>]\n",
      "<class 'bs4.element.Tag'>\n",
      "[<b>79</b>, <b>552</b>]\n",
      "<class 'bs4.element.Tag'>\n",
      "[<b>79</b>, <b>537</b>]\n",
      "<class 'bs4.element.Tag'>\n",
      "[<b>79</b>, <b>379</b>]\n",
      "<class 'bs4.element.Tag'>\n",
      "[<b>79</b>, <b>300</b>]\n",
      "<class 'bs4.element.Tag'>\n",
      "[<b>79</b>, <b>308</b>]\n",
      "<class 'bs4.element.Tag'>\n",
      "[<b>79</b>, <b>616</b>]\n",
      "<class 'bs4.element.Tag'>\n",
      "[<b>79</b>, <b>514</b>]\n",
      "<class 'bs4.element.Tag'>\n",
      "[<b>79</b>, <b>490</b>]\n",
      "<class 'bs4.element.Tag'>\n",
      "[<b>79</b>, <b>616</b>]\n",
      "<class 'bs4.element.Tag'>\n",
      "[<b>79</b>, <b>395</b>]\n",
      "<class 'bs4.element.Tag'>\n",
      "[<b>79</b>, <b>411</b>]\n",
      "<class 'bs4.element.Tag'>\n",
      "[<b>79</b>, <b>395</b>]\n",
      "<class 'bs4.element.Tag'>\n",
      "[<b>79</b>, <b>695</b>]\n",
      "<class 'bs4.element.Tag'>\n",
      "[<b>79</b>, <b>458</b>]\n",
      "<class 'bs4.element.Tag'>\n",
      "[<b>79</b>, <b>356</b>]\n",
      "<class 'bs4.element.Tag'>\n",
      "[<b>79</b>, <b>435</b>]\n",
      "<class 'bs4.element.Tag'>\n",
      "[<b>95</b>, <b>561</b>]\n",
      "<class 'bs4.element.Tag'>\n",
      "[<b>79</b>, <b>119</b>]\n",
      "<class 'bs4.element.Tag'>\n",
      "[<b>79</b>, <b>458</b>]\n",
      "<class 'bs4.element.Tag'>\n",
      "[<b>79</b>, <b>458</b>]\n",
      "<class 'bs4.element.Tag'>\n",
      "[<b>9</b>, <b>252</b>]\n",
      "<class 'bs4.element.Tag'>\n",
      "[<b>79</b>, <b>356</b>]\n",
      "<class 'bs4.element.Tag'>\n",
      "[<b>79</b>, <b>316</b>]\n",
      "<class 'bs4.element.Tag'>\n",
      "[<b>59</b>, <b>289</b>]\n"
     ]
    }
   ],
   "source": [
    "for price in soup.select(\"span[class='price']\"):\n",
    "    print(type(price))\n",
    "    print(price.select('b'))"
   ]
  },
  {
   "cell_type": "code",
   "execution_count": 26,
   "metadata": {},
   "outputs": [
    {
     "name": "stdout",
     "output_type": "stream",
     "text": [
      "<class 'bs4.BeautifulSoup'>\n"
     ]
    }
   ],
   "source": [
    "print(type(soup))"
   ]
  },
  {
   "cell_type": "code",
   "execution_count": 27,
   "metadata": {},
   "outputs": [
    {
     "name": "stdout",
     "output_type": "stream",
     "text": [
      "<class 'list'>\n"
     ]
    }
   ],
   "source": [
    "print(type(soup.select(\"span[class='price']\")))"
   ]
  },
  {
   "cell_type": "code",
   "execution_count": 28,
   "metadata": {},
   "outputs": [
    {
     "data": {
      "text/plain": [
       "25"
      ]
     },
     "execution_count": 28,
     "metadata": {},
     "output_type": "execute_result"
    }
   ],
   "source": [
    "len(soup.select(\"span[class='price']\"))"
   ]
  },
  {
   "cell_type": "code",
   "execution_count": 29,
   "metadata": {},
   "outputs": [
    {
     "name": "stdout",
     "output_type": "stream",
     "text": [
      "<span class=\"price\">\n",
      "\t                        \t\t\t\t\t\t\t\t\t\t\t\t\t\t\t\t優惠價: <strong><b>79</b> 折</strong>, <strong><b>458</b> 元</strong>\n",
      "<button class=\"btn_type01\" id=\"mid_cart\" onclick=\"redirect('http://search.books.com.tw/redirect/move/key/python/area/mid_cart/item/0010761759/page/1/cart/1/idx/1/cat/001/pdf/1');return false;\">放入購物車</button>\n",
      "<button class=\"btn_type01 btn_font1\" id=\"mid_epub\" onclick=\"rewopen('http://search.books.com.tw/redirect/move/key/python/area/mid_epub/item/0010761759/page/1/epub/1/idx/1/cat/001/pdf/1', '_blank');return false;\">試閱</button>\n",
      "</span>\n"
     ]
    }
   ],
   "source": [
    "print(soup.select(\"span[class='price']\")[0])"
   ]
  },
  {
   "cell_type": "code",
   "execution_count": 30,
   "metadata": {},
   "outputs": [
    {
     "name": "stdout",
     "output_type": "stream",
     "text": [
      "<class 'bs4.element.Tag'>\n"
     ]
    }
   ],
   "source": [
    "print(type(soup.select(\"span[class='price']\")[0]))"
   ]
  },
  {
   "cell_type": "code",
   "execution_count": 31,
   "metadata": {},
   "outputs": [
    {
     "name": "stdout",
     "output_type": "stream",
     "text": [
      "<class 'bs4.element.Tag'>\n",
      "[<b>79</b>, <b>458</b>]\n",
      "[<b>79</b>, <b>458</b>]\n",
      "<class 'list'>\n",
      "<b>79</b>\n",
      "79\n"
     ]
    }
   ],
   "source": [
    "print(type(soup.select(\"span[class='price']\")[0]))\n",
    "print(soup.select(\"span[class='price']\")[0].select('b'))\n",
    "pp=soup.select(\"span[class='price']\")[0]\n",
    "print(pp.select('b'))\n",
    "print(type(pp.select('b')))\n",
    "print(pp.select('b')[0])\n",
    "print(pp.select('b')[0].string)"
   ]
  },
  {
   "cell_type": "code",
   "execution_count": 32,
   "metadata": {
    "collapsed": true
   },
   "outputs": [],
   "source": [
    "i=0\n",
    "prices=pd.Series()\n",
    "for price in soup.select(\"span[class='price']\"):\n",
    "    if (i<books.size):\n",
    "        if len(price.select('b'))==1:\n",
    "            prices = prices.append(pd.Series(price.select('b')[0].string)).reset_index(drop=True)\n",
    "        elif len(price.select('b'))==2:\n",
    "            prices=prices.append(pd.Series(price.select('b')[1].string)).reset_index(drop=True)\n",
    "        else:\n",
    "            break\n",
    "    i=i+1"
   ]
  },
  {
   "cell_type": "code",
   "execution_count": 33,
   "metadata": {},
   "outputs": [
    {
     "data": {
      "text/plain": [
       "0     458\n",
       "1     552\n",
       "2     537\n",
       "3     379\n",
       "4     300\n",
       "5     308\n",
       "6     616\n",
       "7     514\n",
       "8     490\n",
       "9     616\n",
       "10    395\n",
       "11    411\n",
       "12    395\n",
       "13    695\n",
       "14    458\n",
       "15    356\n",
       "16    435\n",
       "17    561\n",
       "18    119\n",
       "19    458\n",
       "dtype: object"
      ]
     },
     "execution_count": 33,
     "metadata": {},
     "output_type": "execute_result"
    }
   ],
   "source": [
    "prices"
   ]
  },
  {
   "cell_type": "code",
   "execution_count": 34,
   "metadata": {},
   "outputs": [
    {
     "name": "stdout",
     "output_type": "stream",
     "text": [
      "<class 'pandas.core.series.Series'>\n"
     ]
    }
   ],
   "source": [
    "print(type(prices))\n"
   ]
  },
  {
   "cell_type": "code",
   "execution_count": 35,
   "metadata": {},
   "outputs": [
    {
     "name": "stdout",
     "output_type": "stream",
     "text": [
      "<class 'pandas.core.series.Series'>\n"
     ]
    }
   ],
   "source": [
    "print(type(books))"
   ]
  },
  {
   "cell_type": "code",
   "execution_count": 36,
   "metadata": {},
   "outputs": [
    {
     "data": {
      "text/plain": [
       "0                    Deep Learning：用Python進行深度學習的基礎理論實作\n",
       "1                               Python入門邁向高手之路王者歸來(附光碟)\n",
       "2                Python網頁程式交易APP實作：Web + MySQL + Django\n",
       "3                     Python初學特訓班(增訂版)(附250分鐘影音教學/範例程式)\n",
       "4                                        圖說演算法：使用Python\n",
       "5       Python零基礎入門班：一次打好程式設計與邏輯訓練基本功!(附120分鐘影音教學/範例程式)\n",
       "6                               精通 Python：運用簡單的套件進行現代運算\n",
       "7                                    金融科技實戰：Python與量化投資\n",
       "8                                            Python深度學習\n",
       "9                                        Python資料科學學習手冊\n",
       "10                           Python：期貨演算法交易實務121個關鍵技巧詳解\n",
       "11                                 特洛伊木馬病毒程式設計：使用Python\n",
       "12                         Python 自動化的樂趣：搞定重複瑣碎&單調無聊的工作\n",
       "13                                     Python 技術手冊(第三版)\n",
       "14                                        網站擷取：使用Python\n",
       "15                               Python架站特訓班：Django最強實戰\n",
       "16                     Python程式設計的樂趣：範例實作與專題研究的20堂程式設計課\n",
       "17    Python 資料運算與分析實戰：一次搞懂 NumPy•SciPy•Matplotlib•p...\n",
       "18                    輕課程 micro:bit 微型電腦帶著走：使用Python輕鬆玩\n",
       "19            Data Science from Scratch中文版：用Python學資料科學\n",
       "dtype: object"
      ]
     },
     "execution_count": 36,
     "metadata": {},
     "output_type": "execute_result"
    }
   ],
   "source": [
    "books"
   ]
  },
  {
   "cell_type": "code",
   "execution_count": 37,
   "metadata": {
    "collapsed": true
   },
   "outputs": [],
   "source": [
    "df=pd.DataFrame({'boook':books,'pprice':prices})"
   ]
  },
  {
   "cell_type": "code",
   "execution_count": 38,
   "metadata": {},
   "outputs": [
    {
     "data": {
      "text/html": [
       "<div>\n",
       "<style>\n",
       "    .dataframe thead tr:only-child th {\n",
       "        text-align: right;\n",
       "    }\n",
       "\n",
       "    .dataframe thead th {\n",
       "        text-align: left;\n",
       "    }\n",
       "\n",
       "    .dataframe tbody tr th {\n",
       "        vertical-align: top;\n",
       "    }\n",
       "</style>\n",
       "<table border=\"1\" class=\"dataframe\">\n",
       "  <thead>\n",
       "    <tr style=\"text-align: right;\">\n",
       "      <th></th>\n",
       "      <th>boook</th>\n",
       "      <th>pprice</th>\n",
       "    </tr>\n",
       "  </thead>\n",
       "  <tbody>\n",
       "    <tr>\n",
       "      <th>0</th>\n",
       "      <td>Deep Learning：用Python進行深度學習的基礎理論實作</td>\n",
       "      <td>458</td>\n",
       "    </tr>\n",
       "    <tr>\n",
       "      <th>1</th>\n",
       "      <td>Python入門邁向高手之路王者歸來(附光碟)</td>\n",
       "      <td>552</td>\n",
       "    </tr>\n",
       "    <tr>\n",
       "      <th>2</th>\n",
       "      <td>Python網頁程式交易APP實作：Web + MySQL + Django</td>\n",
       "      <td>537</td>\n",
       "    </tr>\n",
       "    <tr>\n",
       "      <th>3</th>\n",
       "      <td>Python初學特訓班(增訂版)(附250分鐘影音教學/範例程式)</td>\n",
       "      <td>379</td>\n",
       "    </tr>\n",
       "    <tr>\n",
       "      <th>4</th>\n",
       "      <td>圖說演算法：使用Python</td>\n",
       "      <td>300</td>\n",
       "    </tr>\n",
       "    <tr>\n",
       "      <th>5</th>\n",
       "      <td>Python零基礎入門班：一次打好程式設計與邏輯訓練基本功!(附120分鐘影音教學/範例程式)</td>\n",
       "      <td>308</td>\n",
       "    </tr>\n",
       "    <tr>\n",
       "      <th>6</th>\n",
       "      <td>精通 Python：運用簡單的套件進行現代運算</td>\n",
       "      <td>616</td>\n",
       "    </tr>\n",
       "    <tr>\n",
       "      <th>7</th>\n",
       "      <td>金融科技實戰：Python與量化投資</td>\n",
       "      <td>514</td>\n",
       "    </tr>\n",
       "    <tr>\n",
       "      <th>8</th>\n",
       "      <td>Python深度學習</td>\n",
       "      <td>490</td>\n",
       "    </tr>\n",
       "    <tr>\n",
       "      <th>9</th>\n",
       "      <td>Python資料科學學習手冊</td>\n",
       "      <td>616</td>\n",
       "    </tr>\n",
       "    <tr>\n",
       "      <th>10</th>\n",
       "      <td>Python：期貨演算法交易實務121個關鍵技巧詳解</td>\n",
       "      <td>395</td>\n",
       "    </tr>\n",
       "    <tr>\n",
       "      <th>11</th>\n",
       "      <td>特洛伊木馬病毒程式設計：使用Python</td>\n",
       "      <td>411</td>\n",
       "    </tr>\n",
       "    <tr>\n",
       "      <th>12</th>\n",
       "      <td>Python 自動化的樂趣：搞定重複瑣碎&amp;單調無聊的工作</td>\n",
       "      <td>395</td>\n",
       "    </tr>\n",
       "    <tr>\n",
       "      <th>13</th>\n",
       "      <td>Python 技術手冊(第三版)</td>\n",
       "      <td>695</td>\n",
       "    </tr>\n",
       "    <tr>\n",
       "      <th>14</th>\n",
       "      <td>網站擷取：使用Python</td>\n",
       "      <td>458</td>\n",
       "    </tr>\n",
       "    <tr>\n",
       "      <th>15</th>\n",
       "      <td>Python架站特訓班：Django最強實戰</td>\n",
       "      <td>356</td>\n",
       "    </tr>\n",
       "    <tr>\n",
       "      <th>16</th>\n",
       "      <td>Python程式設計的樂趣：範例實作與專題研究的20堂程式設計課</td>\n",
       "      <td>435</td>\n",
       "    </tr>\n",
       "    <tr>\n",
       "      <th>17</th>\n",
       "      <td>Python 資料運算與分析實戰：一次搞懂 NumPy•SciPy•Matplotlib•p...</td>\n",
       "      <td>561</td>\n",
       "    </tr>\n",
       "    <tr>\n",
       "      <th>18</th>\n",
       "      <td>輕課程 micro:bit 微型電腦帶著走：使用Python輕鬆玩</td>\n",
       "      <td>119</td>\n",
       "    </tr>\n",
       "    <tr>\n",
       "      <th>19</th>\n",
       "      <td>Data Science from Scratch中文版：用Python學資料科學</td>\n",
       "      <td>458</td>\n",
       "    </tr>\n",
       "  </tbody>\n",
       "</table>\n",
       "</div>"
      ],
      "text/plain": [
       "                                                boook pprice\n",
       "0                  Deep Learning：用Python進行深度學習的基礎理論實作    458\n",
       "1                             Python入門邁向高手之路王者歸來(附光碟)    552\n",
       "2              Python網頁程式交易APP實作：Web + MySQL + Django    537\n",
       "3                   Python初學特訓班(增訂版)(附250分鐘影音教學/範例程式)    379\n",
       "4                                      圖說演算法：使用Python    300\n",
       "5     Python零基礎入門班：一次打好程式設計與邏輯訓練基本功!(附120分鐘影音教學/範例程式)    308\n",
       "6                             精通 Python：運用簡單的套件進行現代運算    616\n",
       "7                                  金融科技實戰：Python與量化投資    514\n",
       "8                                          Python深度學習    490\n",
       "9                                      Python資料科學學習手冊    616\n",
       "10                         Python：期貨演算法交易實務121個關鍵技巧詳解    395\n",
       "11                               特洛伊木馬病毒程式設計：使用Python    411\n",
       "12                       Python 自動化的樂趣：搞定重複瑣碎&單調無聊的工作    395\n",
       "13                                   Python 技術手冊(第三版)    695\n",
       "14                                      網站擷取：使用Python    458\n",
       "15                             Python架站特訓班：Django最強實戰    356\n",
       "16                   Python程式設計的樂趣：範例實作與專題研究的20堂程式設計課    435\n",
       "17  Python 資料運算與分析實戰：一次搞懂 NumPy•SciPy•Matplotlib•p...    561\n",
       "18                  輕課程 micro:bit 微型電腦帶著走：使用Python輕鬆玩    119\n",
       "19          Data Science from Scratch中文版：用Python學資料科學    458"
      ]
     },
     "execution_count": 38,
     "metadata": {},
     "output_type": "execute_result"
    }
   ],
   "source": [
    "df"
   ]
  },
  {
   "cell_type": "code",
   "execution_count": 39,
   "metadata": {},
   "outputs": [
    {
     "data": {
      "text/html": [
       "<div>\n",
       "<style>\n",
       "    .dataframe thead tr:only-child th {\n",
       "        text-align: right;\n",
       "    }\n",
       "\n",
       "    .dataframe thead th {\n",
       "        text-align: left;\n",
       "    }\n",
       "\n",
       "    .dataframe tbody tr th {\n",
       "        vertical-align: top;\n",
       "    }\n",
       "</style>\n",
       "<table border=\"1\" class=\"dataframe\">\n",
       "  <thead>\n",
       "    <tr style=\"text-align: right;\">\n",
       "      <th></th>\n",
       "      <th>boook</th>\n",
       "      <th>pprice</th>\n",
       "    </tr>\n",
       "  </thead>\n",
       "  <tbody>\n",
       "    <tr>\n",
       "      <th>0</th>\n",
       "      <td>Deep Learning：用Python進行深度學習的基礎理論實作</td>\n",
       "      <td>458</td>\n",
       "    </tr>\n",
       "    <tr>\n",
       "      <th>1</th>\n",
       "      <td>Python入門邁向高手之路王者歸來(附光碟)</td>\n",
       "      <td>552</td>\n",
       "    </tr>\n",
       "    <tr>\n",
       "      <th>2</th>\n",
       "      <td>Python網頁程式交易APP實作：Web + MySQL + Django</td>\n",
       "      <td>537</td>\n",
       "    </tr>\n",
       "    <tr>\n",
       "      <th>3</th>\n",
       "      <td>Python初學特訓班(增訂版)(附250分鐘影音教學/範例程式)</td>\n",
       "      <td>379</td>\n",
       "    </tr>\n",
       "    <tr>\n",
       "      <th>4</th>\n",
       "      <td>圖說演算法：使用Python</td>\n",
       "      <td>300</td>\n",
       "    </tr>\n",
       "    <tr>\n",
       "      <th>5</th>\n",
       "      <td>Python零基礎入門班：一次打好程式設計與邏輯訓練基本功!(附120分鐘影音教學/範例程式)</td>\n",
       "      <td>308</td>\n",
       "    </tr>\n",
       "    <tr>\n",
       "      <th>6</th>\n",
       "      <td>精通 Python：運用簡單的套件進行現代運算</td>\n",
       "      <td>616</td>\n",
       "    </tr>\n",
       "    <tr>\n",
       "      <th>7</th>\n",
       "      <td>金融科技實戰：Python與量化投資</td>\n",
       "      <td>514</td>\n",
       "    </tr>\n",
       "    <tr>\n",
       "      <th>8</th>\n",
       "      <td>Python深度學習</td>\n",
       "      <td>490</td>\n",
       "    </tr>\n",
       "    <tr>\n",
       "      <th>9</th>\n",
       "      <td>Python資料科學學習手冊</td>\n",
       "      <td>616</td>\n",
       "    </tr>\n",
       "    <tr>\n",
       "      <th>10</th>\n",
       "      <td>Python：期貨演算法交易實務121個關鍵技巧詳解</td>\n",
       "      <td>395</td>\n",
       "    </tr>\n",
       "    <tr>\n",
       "      <th>11</th>\n",
       "      <td>特洛伊木馬病毒程式設計：使用Python</td>\n",
       "      <td>411</td>\n",
       "    </tr>\n",
       "    <tr>\n",
       "      <th>12</th>\n",
       "      <td>Python 自動化的樂趣：搞定重複瑣碎&amp;單調無聊的工作</td>\n",
       "      <td>395</td>\n",
       "    </tr>\n",
       "    <tr>\n",
       "      <th>13</th>\n",
       "      <td>Python 技術手冊(第三版)</td>\n",
       "      <td>695</td>\n",
       "    </tr>\n",
       "    <tr>\n",
       "      <th>14</th>\n",
       "      <td>網站擷取：使用Python</td>\n",
       "      <td>458</td>\n",
       "    </tr>\n",
       "    <tr>\n",
       "      <th>15</th>\n",
       "      <td>Python架站特訓班：Django最強實戰</td>\n",
       "      <td>356</td>\n",
       "    </tr>\n",
       "    <tr>\n",
       "      <th>16</th>\n",
       "      <td>Python程式設計的樂趣：範例實作與專題研究的20堂程式設計課</td>\n",
       "      <td>435</td>\n",
       "    </tr>\n",
       "    <tr>\n",
       "      <th>17</th>\n",
       "      <td>Python 資料運算與分析實戰：一次搞懂 NumPy•SciPy•Matplotlib•p...</td>\n",
       "      <td>561</td>\n",
       "    </tr>\n",
       "    <tr>\n",
       "      <th>18</th>\n",
       "      <td>輕課程 micro:bit 微型電腦帶著走：使用Python輕鬆玩</td>\n",
       "      <td>119</td>\n",
       "    </tr>\n",
       "    <tr>\n",
       "      <th>19</th>\n",
       "      <td>Data Science from Scratch中文版：用Python學資料科學</td>\n",
       "      <td>458</td>\n",
       "    </tr>\n",
       "  </tbody>\n",
       "</table>\n",
       "</div>"
      ],
      "text/plain": [
       "                                                boook pprice\n",
       "0                  Deep Learning：用Python進行深度學習的基礎理論實作    458\n",
       "1                             Python入門邁向高手之路王者歸來(附光碟)    552\n",
       "2              Python網頁程式交易APP實作：Web + MySQL + Django    537\n",
       "3                   Python初學特訓班(增訂版)(附250分鐘影音教學/範例程式)    379\n",
       "4                                      圖說演算法：使用Python    300\n",
       "5     Python零基礎入門班：一次打好程式設計與邏輯訓練基本功!(附120分鐘影音教學/範例程式)    308\n",
       "6                             精通 Python：運用簡單的套件進行現代運算    616\n",
       "7                                  金融科技實戰：Python與量化投資    514\n",
       "8                                          Python深度學習    490\n",
       "9                                      Python資料科學學習手冊    616\n",
       "10                         Python：期貨演算法交易實務121個關鍵技巧詳解    395\n",
       "11                               特洛伊木馬病毒程式設計：使用Python    411\n",
       "12                       Python 自動化的樂趣：搞定重複瑣碎&單調無聊的工作    395\n",
       "13                                   Python 技術手冊(第三版)    695\n",
       "14                                      網站擷取：使用Python    458\n",
       "15                             Python架站特訓班：Django最強實戰    356\n",
       "16                   Python程式設計的樂趣：範例實作與專題研究的20堂程式設計課    435\n",
       "17  Python 資料運算與分析實戰：一次搞懂 NumPy•SciPy•Matplotlib•p...    561\n",
       "18                  輕課程 micro:bit 微型電腦帶著走：使用Python輕鬆玩    119\n",
       "19          Data Science from Scratch中文版：用Python學資料科學    458"
      ]
     },
     "execution_count": 39,
     "metadata": {},
     "output_type": "execute_result"
    }
   ],
   "source": [
    "df[['boook','pprice']]"
   ]
  },
  {
   "cell_type": "code",
   "execution_count": null,
   "metadata": {
    "collapsed": true
   },
   "outputs": [],
   "source": []
  },
  {
   "cell_type": "code",
   "execution_count": null,
   "metadata": {
    "collapsed": true
   },
   "outputs": [],
   "source": []
  }
 ],
 "metadata": {
  "kernelspec": {
   "display_name": "Python 3",
   "language": "python",
   "name": "python3"
  },
  "language_info": {
   "codemirror_mode": {
    "name": "ipython",
    "version": 3
   },
   "file_extension": ".py",
   "mimetype": "text/x-python",
   "name": "python",
   "nbconvert_exporter": "python",
   "pygments_lexer": "ipython3",
   "version": "3.6.3"
  }
 },
 "nbformat": 4,
 "nbformat_minor": 2
}
