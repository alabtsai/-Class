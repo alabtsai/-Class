{
 "cells": [
  {
   "cell_type": "code",
   "execution_count": 1,
   "metadata": {},
   "outputs": [
    {
     "name": "stdout",
     "output_type": "stream",
     "text": [
      "[{\"\\ufeff\\u7a2e\\u985e\":\"\\u4e00\\u822c\\u571f\\u5730\",\"\\u7d1a\\u8ddd\":\"1\",\"\\u57fa\\u6e96\\u5730\\u50f9_\\u5143\":\"1,275,000\\u5143\\u4ee5\\u4e0b\",\"\\u7d2f\\u9032\\u5dee\\u984d_\\u5143\":\"0\",\"\\u7a05\\u7387\":\"0.01\"},{\"\\ufeff\\u7a2e\\u985e\":\"\\u4e00\\u822c\\u571f\\u5730\",\"\\u7d1a\\u8ddd\":\"2\",\"\\u57fa\\u6e96\\u5730\\u50f9_\\u5143\":\"1,275,001\\u5143~7,650,000\",\"\\u7d2f\\u9032\\u5dee\\u984d_\\u5143\":\"6375\",\"\\u7a05\\u7387\":\"0.015\"},{\"\\ufeff\\u7a2e\\u985e\":\"\\u4e00\\u822c\\u571f\\u5730\",\"\\u7d1a\\u8ddd\":\"3\",\"\\u57fa\\u6e96\\u5730\\u50f9_\\u5143\":\"7,650,001\\u5143~14,025,000\",\"\\u7d2f\\u9032\\u5dee\\u984d_\\u5143\":\"82875\",\"\\u7a05\\u7387\":\"0.025\"},{\"\\ufeff\\u7a2e\\u985e\":\"\\u4e00\\u822c\\u571f\\u5730\",\"\\u7d1a\\u8ddd\":\"4\",\"\\u57fa\\u6e96\\u5730\\u50f9_\\u5143\":\"14,025,001\\u5143~20,400,000\",\"\\u7d2f\\u9032\\u5dee\\u984d_\\u5143\":\"223125\",\"\\u7a05\\u7387\":\"0.035\"},{\"\\ufeff\\u7a2e\\u985e\":\"\\u4e00\\u822c\\u571f\\u5730\",\"\\u7d1a\\u8ddd\":\"5\",\"\\u57fa\\u6e96\\u5730\\u50f9_\\u5143\":\"20,400,001\\u5143~26,775,000\",\"\\u7d2f\\u9032\\u5dee\\u984d_\\u5143\":\"427125\",\"\\u7a05\\u7387\":\"0.045\"},{\"\\ufeff\\u7a2e\\u985e\":\"\\u4e00\\u822c\\u571f\\u5730\",\"\\u7d1a\\u8ddd\":\"6\",\"\\u57fa\\u6e96\\u5730\\u50f9_\\u5143\":\"26,775,001\\u5143 \\u4ee5\\u4e0a\",\"\\u7d2f\\u9032\\u5dee\\u984d_\\u5143\":\"694875\",\"\\u7a05\\u7387\":\"0.055\"},{\"\\ufeff\\u7a2e\\u985e\":\"\\u81ea\\u7528\\u4f4f\\u5b85\\u7528\\u5730\",\"\\u7d1a\\u8ddd\":\"\\u8ab2\\u7a05\\u7e3d\\u5730\\u50f9 * 2\\/1000 = \\u672c\\u5e74\\u61c9\\u7d0d\\u5730\\u50f9\\u7a05\\u984d\",\"\\u57fa\\u6e96\\u5730\\u50f9_\\u5143\":\"\",\"\\u7d2f\\u9032\\u5dee\\u984d_\\u5143\":\"\",\"\\u7a05\\u7387\":\"\"},{\"\\ufeff\\u7a2e\\u985e\":\"\\u5de5\\u696d\\u7528\\u5730\\u7b49\",\"\\u7d1a\\u8ddd\":\"\\u8ab2\\u7a05\\u7e3d\\u5730\\u50f9 * 10\\/1000 = \\u672c\\u5e74\\u61c9\\u7d0d\\u5730\\u50f9\\u7a05\\u984d\",\"\\u57fa\\u6e96\\u5730\\u50f9_\\u5143\":\"\",\"\\u7d2f\\u9032\\u5dee\\u984d_\\u5143\":\"\",\"\\u7a05\\u7387\":\"\"},{\"\\ufeff\\u7a2e\\u985e\":\"\\u516c\\u5171\\u8a2d\\u65bd\\u4fdd\\u7559\\u5730 \",\"\\u7d1a\\u8ddd\":\"\\u8ab2\\u7a05\\u7e3d\\u5730\\u50f9 * 6\\/1000 = \\u672c\\u5e74\\u61c9\\u7d0d\\u5730\\u50f9\\u7a05\\u984d\",\"\\u57fa\\u6e96\\u5730\\u50f9_\\u5143\":\"\",\"\\u7d2f\\u9032\\u5dee\\u984d_\\u5143\":\"\",\"\\u7a05\\u7387\":\"\"},{\"\\ufeff\\u7a2e\\u985e\":\"\\u9069\\u7528\\u671f\\u9593:105\\u5e74\\u5ea6\\u81f3106\\u5e74\\u5ea6\",\"\\u7d1a\\u8ddd\":\"\",\"\\u57fa\\u6e96\\u5730\\u50f9_\\u5143\":\"\",\"\\u7d2f\\u9032\\u5dee\\u984d_\\u5143\":\"\",\"\\u7a05\\u7387\":\"\"}]\n"
     ]
    }
   ],
   "source": [
    "import json\n",
    "import requests\n",
    "res=requests.get(\"http://opendataap2.e-land.gov.tw/resource/files/2017-12-11/041d72f5d5281ed00b090ed52a8e643e.json\")\n",
    "print(res.text)"
   ]
  },
  {
   "cell_type": "code",
   "execution_count": 2,
   "metadata": {},
   "outputs": [
    {
     "name": "stdout",
     "output_type": "stream",
     "text": [
      "{'Date': 'Wed, 18 Apr 2018 05:47:03 GMT', 'Server': 'Apache/2.4.7 (Ubuntu)', 'Last-Modified': 'Mon, 11 Dec 2017 09:12:32 GMT', 'ETag': '\"87d-5600cef325630\"', 'Accept-Ranges': 'bytes', 'Content-Length': '2173', 'Keep-Alive': 'timeout=5, max=100', 'Content-Type': 'application/json', 'Connection': 'keep-alive'}\n"
     ]
    }
   ],
   "source": [
    "print(res.headers)"
   ]
  },
  {
   "cell_type": "code",
   "execution_count": 3,
   "metadata": {},
   "outputs": [
    {
     "name": "stdout",
     "output_type": "stream",
     "text": [
      "[{'\\ufeff種類': '一般土地', '級距': '1', '基準地價_元': '1,275,000元以下', '累進差額_元': '0', '稅率': '0.01'}, {'\\ufeff種類': '一般土地', '級距': '2', '基準地價_元': '1,275,001元~7,650,000', '累進差額_元': '6375', '稅率': '0.015'}, {'\\ufeff種類': '一般土地', '級距': '3', '基準地價_元': '7,650,001元~14,025,000', '累進差額_元': '82875', '稅率': '0.025'}, {'\\ufeff種類': '一般土地', '級距': '4', '基準地價_元': '14,025,001元~20,400,000', '累進差額_元': '223125', '稅率': '0.035'}, {'\\ufeff種類': '一般土地', '級距': '5', '基準地價_元': '20,400,001元~26,775,000', '累進差額_元': '427125', '稅率': '0.045'}, {'\\ufeff種類': '一般土地', '級距': '6', '基準地價_元': '26,775,001元 以上', '累進差額_元': '694875', '稅率': '0.055'}, {'\\ufeff種類': '自用住宅用地', '級距': '課稅總地價 * 2/1000 = 本年應納地價稅額', '基準地價_元': '', '累進差額_元': '', '稅率': ''}, {'\\ufeff種類': '工業用地等', '級距': '課稅總地價 * 10/1000 = 本年應納地價稅額', '基準地價_元': '', '累進差額_元': '', '稅率': ''}, {'\\ufeff種類': '公共設施保留地 ', '級距': '課稅總地價 * 6/1000 = 本年應納地價稅額', '基準地價_元': '', '累進差額_元': '', '稅率': ''}, {'\\ufeff種類': '適用期間:105年度至106年度', '級距': '', '基準地價_元': '', '累進差額_元': '', '稅率': ''}]\n"
     ]
    }
   ],
   "source": [
    "result=json.loads(res.text)\n",
    "print(result)"
   ]
  },
  {
   "cell_type": "code",
   "execution_count": 4,
   "metadata": {},
   "outputs": [
    {
     "data": {
      "text/html": [
       "<div>\n",
       "<style scoped>\n",
       "    .dataframe tbody tr th:only-of-type {\n",
       "        vertical-align: middle;\n",
       "    }\n",
       "\n",
       "    .dataframe tbody tr th {\n",
       "        vertical-align: top;\n",
       "    }\n",
       "\n",
       "    .dataframe thead th {\n",
       "        text-align: right;\n",
       "    }\n",
       "</style>\n",
       "<table border=\"1\" class=\"dataframe\">\n",
       "  <thead>\n",
       "    <tr style=\"text-align: right;\">\n",
       "      <th></th>\n",
       "      <th>基準地價_元</th>\n",
       "      <th>稅率</th>\n",
       "      <th>級距</th>\n",
       "      <th>累進差額_元</th>\n",
       "      <th>﻿種類</th>\n",
       "    </tr>\n",
       "  </thead>\n",
       "  <tbody>\n",
       "    <tr>\n",
       "      <th>0</th>\n",
       "      <td>1,275,000元以下</td>\n",
       "      <td>0.01</td>\n",
       "      <td>1</td>\n",
       "      <td>0</td>\n",
       "      <td>一般土地</td>\n",
       "    </tr>\n",
       "    <tr>\n",
       "      <th>1</th>\n",
       "      <td>1,275,001元~7,650,000</td>\n",
       "      <td>0.015</td>\n",
       "      <td>2</td>\n",
       "      <td>6375</td>\n",
       "      <td>一般土地</td>\n",
       "    </tr>\n",
       "    <tr>\n",
       "      <th>2</th>\n",
       "      <td>7,650,001元~14,025,000</td>\n",
       "      <td>0.025</td>\n",
       "      <td>3</td>\n",
       "      <td>82875</td>\n",
       "      <td>一般土地</td>\n",
       "    </tr>\n",
       "    <tr>\n",
       "      <th>3</th>\n",
       "      <td>14,025,001元~20,400,000</td>\n",
       "      <td>0.035</td>\n",
       "      <td>4</td>\n",
       "      <td>223125</td>\n",
       "      <td>一般土地</td>\n",
       "    </tr>\n",
       "    <tr>\n",
       "      <th>4</th>\n",
       "      <td>20,400,001元~26,775,000</td>\n",
       "      <td>0.045</td>\n",
       "      <td>5</td>\n",
       "      <td>427125</td>\n",
       "      <td>一般土地</td>\n",
       "    </tr>\n",
       "    <tr>\n",
       "      <th>5</th>\n",
       "      <td>26,775,001元 以上</td>\n",
       "      <td>0.055</td>\n",
       "      <td>6</td>\n",
       "      <td>694875</td>\n",
       "      <td>一般土地</td>\n",
       "    </tr>\n",
       "    <tr>\n",
       "      <th>6</th>\n",
       "      <td></td>\n",
       "      <td></td>\n",
       "      <td>課稅總地價 * 2/1000 = 本年應納地價稅額</td>\n",
       "      <td></td>\n",
       "      <td>自用住宅用地</td>\n",
       "    </tr>\n",
       "    <tr>\n",
       "      <th>7</th>\n",
       "      <td></td>\n",
       "      <td></td>\n",
       "      <td>課稅總地價 * 10/1000 = 本年應納地價稅額</td>\n",
       "      <td></td>\n",
       "      <td>工業用地等</td>\n",
       "    </tr>\n",
       "    <tr>\n",
       "      <th>8</th>\n",
       "      <td></td>\n",
       "      <td></td>\n",
       "      <td>課稅總地價 * 6/1000 = 本年應納地價稅額</td>\n",
       "      <td></td>\n",
       "      <td>公共設施保留地</td>\n",
       "    </tr>\n",
       "    <tr>\n",
       "      <th>9</th>\n",
       "      <td></td>\n",
       "      <td></td>\n",
       "      <td></td>\n",
       "      <td></td>\n",
       "      <td>適用期間:105年度至106年度</td>\n",
       "    </tr>\n",
       "  </tbody>\n",
       "</table>\n",
       "</div>"
      ],
      "text/plain": [
       "                   基準地價_元     稅率                          級距  累進差額_元  \\\n",
       "0            1,275,000元以下   0.01                           1       0   \n",
       "1    1,275,001元~7,650,000  0.015                           2    6375   \n",
       "2   7,650,001元~14,025,000  0.025                           3   82875   \n",
       "3  14,025,001元~20,400,000  0.035                           4  223125   \n",
       "4  20,400,001元~26,775,000  0.045                           5  427125   \n",
       "5          26,775,001元 以上  0.055                           6  694875   \n",
       "6                                  課稅總地價 * 2/1000 = 本年應納地價稅額           \n",
       "7                                 課稅總地價 * 10/1000 = 本年應納地價稅額           \n",
       "8                                  課稅總地價 * 6/1000 = 本年應納地價稅額           \n",
       "9                                                                      \n",
       "\n",
       "                ﻿種類  \n",
       "0              一般土地  \n",
       "1              一般土地  \n",
       "2              一般土地  \n",
       "3              一般土地  \n",
       "4              一般土地  \n",
       "5              一般土地  \n",
       "6            自用住宅用地  \n",
       "7             工業用地等  \n",
       "8          公共設施保留地   \n",
       "9  適用期間:105年度至106年度  "
      ]
     },
     "execution_count": 4,
     "metadata": {},
     "output_type": "execute_result"
    }
   ],
   "source": [
    "import pandas as pd\n",
    "pd.DataFrame(result)"
   ]
  },
  {
   "cell_type": "code",
   "execution_count": null,
   "metadata": {},
   "outputs": [],
   "source": []
  }
 ],
 "metadata": {
  "kernelspec": {
   "display_name": "Python 3",
   "language": "python",
   "name": "python3"
  },
  "language_info": {
   "codemirror_mode": {
    "name": "ipython",
    "version": 3
   },
   "file_extension": ".py",
   "mimetype": "text/x-python",
   "name": "python",
   "nbconvert_exporter": "python",
   "pygments_lexer": "ipython3",
   "version": "3.6.4"
  }
 },
 "nbformat": 4,
 "nbformat_minor": 2
}
