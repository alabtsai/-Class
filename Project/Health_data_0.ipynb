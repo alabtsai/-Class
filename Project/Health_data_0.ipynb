{
 "cells": [
  {
   "cell_type": "markdown",
   "metadata": {},
   "source": [
    "## Pandas provides DataFrame\n",
    "## import pandas"
   ]
  },
  {
   "cell_type": "code",
   "execution_count": 1,
   "metadata": {
    "collapsed": true
   },
   "outputs": [],
   "source": [
    "import pandas as pd"
   ]
  },
  {
   "cell_type": "markdown",
   "metadata": {},
   "source": [
    "## read CSV file into DataFrame"
   ]
  },
  {
   "cell_type": "code",
   "execution_count": 4,
   "metadata": {
    "collapsed": true
   },
   "outputs": [],
   "source": [
    "df1=pd.read_csv(\"NHI_EnteroviralInfection.csv\")"
   ]
  },
  {
   "cell_type": "markdown",
   "metadata": {},
   "source": [
    "## data selection "
   ]
  },
  {
   "cell_type": "code",
   "execution_count": 10,
   "metadata": {},
   "outputs": [
    {
     "data": {
      "text/html": [
       "<div>\n",
       "<style>\n",
       "    .dataframe thead tr:only-child th {\n",
       "        text-align: right;\n",
       "    }\n",
       "\n",
       "    .dataframe thead th {\n",
       "        text-align: left;\n",
       "    }\n",
       "\n",
       "    .dataframe tbody tr th {\n",
       "        vertical-align: top;\n",
       "    }\n",
       "</style>\n",
       "<table border=\"1\" class=\"dataframe\">\n",
       "  <thead>\n",
       "    <tr style=\"text-align: right;\">\n",
       "      <th></th>\n",
       "      <th>年</th>\n",
       "      <th>週</th>\n",
       "      <th>就診類別</th>\n",
       "      <th>年齡別</th>\n",
       "      <th>縣市</th>\n",
       "      <th>腸病毒健保就診人次</th>\n",
       "      <th>健保就診總人次</th>\n",
       "    </tr>\n",
       "  </thead>\n",
       "  <tbody>\n",
       "    <tr>\n",
       "      <th>0</th>\n",
       "      <td>2008</td>\n",
       "      <td>14</td>\n",
       "      <td>住院</td>\n",
       "      <td>0-2</td>\n",
       "      <td>台中市</td>\n",
       "      <td>0</td>\n",
       "      <td>105</td>\n",
       "    </tr>\n",
       "    <tr>\n",
       "      <th>1</th>\n",
       "      <td>2008</td>\n",
       "      <td>14</td>\n",
       "      <td>住院</td>\n",
       "      <td>0-2</td>\n",
       "      <td>台北市</td>\n",
       "      <td>2</td>\n",
       "      <td>151</td>\n",
       "    </tr>\n",
       "    <tr>\n",
       "      <th>2</th>\n",
       "      <td>2008</td>\n",
       "      <td>14</td>\n",
       "      <td>住院</td>\n",
       "      <td>0-2</td>\n",
       "      <td>台東縣</td>\n",
       "      <td>0</td>\n",
       "      <td>14</td>\n",
       "    </tr>\n",
       "    <tr>\n",
       "      <th>3</th>\n",
       "      <td>2008</td>\n",
       "      <td>14</td>\n",
       "      <td>住院</td>\n",
       "      <td>0-2</td>\n",
       "      <td>台南市</td>\n",
       "      <td>0</td>\n",
       "      <td>20</td>\n",
       "    </tr>\n",
       "    <tr>\n",
       "      <th>4</th>\n",
       "      <td>2008</td>\n",
       "      <td>14</td>\n",
       "      <td>住院</td>\n",
       "      <td>0-2</td>\n",
       "      <td>宜蘭縣</td>\n",
       "      <td>0</td>\n",
       "      <td>44</td>\n",
       "    </tr>\n",
       "  </tbody>\n",
       "</table>\n",
       "</div>"
      ],
      "text/plain": [
       "      年   週 就診類別  年齡別   縣市  腸病毒健保就診人次  健保就診總人次\n",
       "0  2008  14   住院  0-2  台中市          0      105\n",
       "1  2008  14   住院  0-2  台北市          2      151\n",
       "2  2008  14   住院  0-2  台東縣          0       14\n",
       "3  2008  14   住院  0-2  台南市          0       20\n",
       "4  2008  14   住院  0-2  宜蘭縣          0       44"
      ]
     },
     "execution_count": 10,
     "metadata": {},
     "output_type": "execute_result"
    }
   ],
   "source": [
    "df1[:5]"
   ]
  },
  {
   "cell_type": "code",
   "execution_count": 9,
   "metadata": {},
   "outputs": [
    {
     "data": {
      "text/html": [
       "<div>\n",
       "<style>\n",
       "    .dataframe thead tr:only-child th {\n",
       "        text-align: right;\n",
       "    }\n",
       "\n",
       "    .dataframe thead th {\n",
       "        text-align: left;\n",
       "    }\n",
       "\n",
       "    .dataframe tbody tr th {\n",
       "        vertical-align: top;\n",
       "    }\n",
       "</style>\n",
       "<table border=\"1\" class=\"dataframe\">\n",
       "  <thead>\n",
       "    <tr style=\"text-align: right;\">\n",
       "      <th></th>\n",
       "      <th>年</th>\n",
       "      <th>週</th>\n",
       "      <th>就診類別</th>\n",
       "      <th>年齡別</th>\n",
       "      <th>縣市</th>\n",
       "    </tr>\n",
       "  </thead>\n",
       "  <tbody>\n",
       "    <tr>\n",
       "      <th>0</th>\n",
       "      <td>2008</td>\n",
       "      <td>14</td>\n",
       "      <td>住院</td>\n",
       "      <td>0-2</td>\n",
       "      <td>台中市</td>\n",
       "    </tr>\n",
       "    <tr>\n",
       "      <th>1</th>\n",
       "      <td>2008</td>\n",
       "      <td>14</td>\n",
       "      <td>住院</td>\n",
       "      <td>0-2</td>\n",
       "      <td>台北市</td>\n",
       "    </tr>\n",
       "    <tr>\n",
       "      <th>2</th>\n",
       "      <td>2008</td>\n",
       "      <td>14</td>\n",
       "      <td>住院</td>\n",
       "      <td>0-2</td>\n",
       "      <td>台東縣</td>\n",
       "    </tr>\n",
       "  </tbody>\n",
       "</table>\n",
       "</div>"
      ],
      "text/plain": [
       "      年   週 就診類別  年齡別   縣市\n",
       "0  2008  14   住院  0-2  台中市\n",
       "1  2008  14   住院  0-2  台北市\n",
       "2  2008  14   住院  0-2  台東縣"
      ]
     },
     "execution_count": 9,
     "metadata": {},
     "output_type": "execute_result"
    }
   ],
   "source": [
    "df1.iloc[:3, :5]"
   ]
  },
  {
   "cell_type": "code",
   "execution_count": 11,
   "metadata": {},
   "outputs": [
    {
     "data": {
      "text/plain": [
       "0         台中市\n",
       "1         台北市\n",
       "2         台東縣\n",
       "3         台南市\n",
       "4         宜蘭縣\n",
       "5         花蓮縣\n",
       "6         金門縣\n",
       "7         屏東縣\n",
       "8         苗栗縣\n",
       "9         桃園市\n",
       "10        高雄市\n",
       "11        基隆市\n",
       "12        雲林縣\n",
       "13        新北市\n",
       "14        新竹市\n",
       "15        新竹縣\n",
       "16        嘉義市\n",
       "17        嘉義縣\n",
       "18        彰化縣\n",
       "19        台中市\n",
       "20        台北市\n",
       "21        台東縣\n",
       "22        台南市\n",
       "23        宜蘭縣\n",
       "24        花蓮縣\n",
       "25        金門縣\n",
       "26        南投縣\n",
       "27        屏東縣\n",
       "28        苗栗縣\n",
       "29        桃園市\n",
       "         ... \n",
       "111667    基隆市\n",
       "111668    雲林縣\n",
       "111669    新北市\n",
       "111670    新竹市\n",
       "111671    新竹縣\n",
       "111672    嘉義市\n",
       "111673    嘉義縣\n",
       "111674    彰化縣\n",
       "111675    澎湖縣\n",
       "111676    台中市\n",
       "111677    台北市\n",
       "111678    台東縣\n",
       "111679    台南市\n",
       "111680    宜蘭縣\n",
       "111681    花蓮縣\n",
       "111682    金門縣\n",
       "111683    南投縣\n",
       "111684    屏東縣\n",
       "111685    苗栗縣\n",
       "111686    桃園市\n",
       "111687    高雄市\n",
       "111688    基隆市\n",
       "111689    雲林縣\n",
       "111690    新北市\n",
       "111691    新竹市\n",
       "111692    新竹縣\n",
       "111693    嘉義市\n",
       "111694    嘉義縣\n",
       "111695    彰化縣\n",
       "111696    澎湖縣\n",
       "Name: 縣市, Length: 111697, dtype: object"
      ]
     },
     "execution_count": 11,
     "metadata": {},
     "output_type": "execute_result"
    }
   ],
   "source": [
    "df1['縣市']"
   ]
  },
  {
   "cell_type": "code",
   "execution_count": null,
   "metadata": {
    "collapsed": true
   },
   "outputs": [],
   "source": []
  }
 ],
 "metadata": {
  "kernelspec": {
   "display_name": "Python 3",
   "language": "python",
   "name": "python3"
  },
  "language_info": {
   "codemirror_mode": {
    "name": "ipython",
    "version": 3
   },
   "file_extension": ".py",
   "mimetype": "text/x-python",
   "name": "python",
   "nbconvert_exporter": "python",
   "pygments_lexer": "ipython3",
   "version": "3.6.3"
  }
 },
 "nbformat": 4,
 "nbformat_minor": 2
}
