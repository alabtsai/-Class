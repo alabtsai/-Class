{
 "cells": [
  {
   "cell_type": "markdown",
   "metadata": {},
   "source": [
    "# Homework (posted on 3/21) \n",
    "\n",
    "+  This HK is due on 4/11\n",
    "\n",
    "+  上課教材網址：https://github.com/alabtsai/FGU-Class\n",
    "\n",
    "\n",
    "***\n",
    "\n",
    "# [1] 有關上課教材網址 cat_twice, print_twice , 及呼叫他們的 progam cell\n",
    "# 依序寫出 program cell 每一個執行的 statement "
   ]
  },
  {
   "cell_type": "markdown",
   "metadata": {},
   "source": [
    "# print(\"program begin here !\") "
   ]
  },
  {
   "cell_type": "markdown",
   "metadata": {},
   "source": [
    "#  ..... Your Homework...."
   ]
  },
  {
   "cell_type": "markdown",
   "metadata": {},
   "source": [
    "# print (\"program ends !!! bye \")"
   ]
  },
  {
   "cell_type": "markdown",
   "metadata": {},
   "source": [
    "\n",
    "\n"
   ]
  },
  {
   "cell_type": "markdown",
   "metadata": {},
   "source": [
    "***\n",
    "# [2] 請將 上述程式program cell ( cat_twice, print_twice) copy-paste 在 另一個\n",
    "# 檔案  xxxxx.py 並以命令字元執行 (結果是否與jupyter notebook 一致?)  "
   ]
  },
  {
   "cell_type": "markdown",
   "metadata": {},
   "source": [
    "# C:\\XXX\\XXX>python     xxxxx.py   (enter)"
   ]
  },
  {
   "cell_type": "code",
   "execution_count": null,
   "metadata": {},
   "outputs": [],
   "source": []
  }
 ],
 "metadata": {
  "kernelspec": {
   "display_name": "Python 3",
   "language": "python",
   "name": "python3"
  },
  "language_info": {
   "codemirror_mode": {
    "name": "ipython",
    "version": 3
   },
   "file_extension": ".py",
   "mimetype": "text/x-python",
   "name": "python",
   "nbconvert_exporter": "python",
   "pygments_lexer": "ipython3",
   "version": "3.6.4"
  }
 },
 "nbformat": 4,
 "nbformat_minor": 2
}
