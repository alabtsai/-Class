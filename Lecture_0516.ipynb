{
 "cells": [
  {
   "cell_type": "markdown",
   "metadata": {},
   "source": [
    "#  Today 05/16, we will 直接 用 requests module  抓取  json 檔案\n",
    "## import requests , 語法: requests.get(\"  http web site address  \" )\n",
    "## import json "
   ]
  },
  {
   "cell_type": "code",
   "execution_count": 32,
   "metadata": {},
   "outputs": [],
   "source": [
    "import json\n",
    "import requests\n",
    "res=requests.get(\"https://od.cdc.gov.tw/eic/NHI_EnteroviralInfection.json\")"
   ]
  },
  {
   "cell_type": "markdown",
   "metadata": {},
   "source": [
    "## 網頁資料 為 str 格式"
   ]
  },
  {
   "cell_type": "code",
   "execution_count": 33,
   "metadata": {},
   "outputs": [
    {
     "name": "stdout",
     "output_type": "stream",
     "text": [
      "<class 'str'>\n"
     ]
    }
   ],
   "source": [
    "print(type(res.text))"
   ]
  },
  {
   "cell_type": "markdown",
   "metadata": {},
   "source": [
    "## 用　json.loads 轉成 list "
   ]
  },
  {
   "cell_type": "code",
   "execution_count": 31,
   "metadata": {},
   "outputs": [
    {
     "name": "stdout",
     "output_type": "stream",
     "text": [
      "<class 'list'>\n"
     ]
    }
   ],
   "source": [
    "result=json.loads(res.text)\n",
    "print(type(result))"
   ]
  },
  {
   "cell_type": "code",
   "execution_count": 35,
   "metadata": {},
   "outputs": [
    {
     "data": {
      "text/plain": [
       "111959"
      ]
     },
     "execution_count": 35,
     "metadata": {},
     "output_type": "execute_result"
    }
   ],
   "source": [
    "len(result)"
   ]
  },
  {
   "cell_type": "markdown",
   "metadata": {},
   "source": [
    "## Each element in a list is 一筆資料\n",
    "## Each element is type dict"
   ]
  },
  {
   "cell_type": "code",
   "execution_count": 36,
   "metadata": {},
   "outputs": [
    {
     "data": {
      "text/plain": [
       "{'健保就診總人次': '105',\n",
       " '就診類別': '住院',\n",
       " '年': '2008',\n",
       " '年齡別': '0-2',\n",
       " '縣市': '台中市',\n",
       " '腸病毒健保就診人次': '0',\n",
       " '週': '14'}"
      ]
     },
     "execution_count": 36,
     "metadata": {},
     "output_type": "execute_result"
    }
   ],
   "source": [
    "result[0]"
   ]
  },
  {
   "cell_type": "code",
   "execution_count": 49,
   "metadata": {},
   "outputs": [
    {
     "name": "stdout",
     "output_type": "stream",
     "text": [
      "<class 'dict'>\n"
     ]
    }
   ],
   "source": [
    "print(type(result[0]))"
   ]
  },
  {
   "cell_type": "code",
   "execution_count": 56,
   "metadata": {},
   "outputs": [
    {
     "name": "stdout",
     "output_type": "stream",
     "text": [
      "check each element in the list , done !\n"
     ]
    }
   ],
   "source": [
    "for item in result:\n",
    "    if isinstance(item,dict):  \n",
    "        pass\n",
    "    else:\n",
    "        print('bad!')\n",
    "print(\"check each element in the list , done !\")"
   ]
  },
  {
   "cell_type": "code",
   "execution_count": 37,
   "metadata": {},
   "outputs": [
    {
     "data": {
      "text/plain": [
       "{'健保就診總人次': '151',\n",
       " '就診類別': '住院',\n",
       " '年': '2008',\n",
       " '年齡別': '0-2',\n",
       " '縣市': '台北市',\n",
       " '腸病毒健保就診人次': '2',\n",
       " '週': '14'}"
      ]
     },
     "execution_count": 37,
     "metadata": {},
     "output_type": "execute_result"
    }
   ],
   "source": [
    "result[1]"
   ]
  },
  {
   "cell_type": "markdown",
   "metadata": {},
   "source": [
    "## 要產生　DataFrame 記得　import pandas\n",
    "## How to create a DataFrame from the given many dicts in the list? \n",
    "## simply put that list into pd.DataFrame()"
   ]
  },
  {
   "cell_type": "code",
   "execution_count": 57,
   "metadata": {},
   "outputs": [],
   "source": [
    "import pandas as pd\n",
    "df=pd.DataFrame(result)"
   ]
  },
  {
   "cell_type": "markdown",
   "metadata": {},
   "source": [
    "## check the first 5 rows "
   ]
  },
  {
   "cell_type": "code",
   "execution_count": 45,
   "metadata": {},
   "outputs": [
    {
     "data": {
      "text/html": [
       "<div>\n",
       "<style scoped>\n",
       "    .dataframe tbody tr th:only-of-type {\n",
       "        vertical-align: middle;\n",
       "    }\n",
       "\n",
       "    .dataframe tbody tr th {\n",
       "        vertical-align: top;\n",
       "    }\n",
       "\n",
       "    .dataframe thead th {\n",
       "        text-align: right;\n",
       "    }\n",
       "</style>\n",
       "<table border=\"1\" class=\"dataframe\">\n",
       "  <thead>\n",
       "    <tr style=\"text-align: right;\">\n",
       "      <th></th>\n",
       "      <th>健保就診總人次</th>\n",
       "      <th>就診類別</th>\n",
       "      <th>年</th>\n",
       "      <th>年齡別</th>\n",
       "      <th>縣市</th>\n",
       "      <th>腸病毒健保就診人次</th>\n",
       "      <th>週</th>\n",
       "    </tr>\n",
       "  </thead>\n",
       "  <tbody>\n",
       "    <tr>\n",
       "      <th>0</th>\n",
       "      <td>105</td>\n",
       "      <td>住院</td>\n",
       "      <td>2008</td>\n",
       "      <td>0-2</td>\n",
       "      <td>台中市</td>\n",
       "      <td>0</td>\n",
       "      <td>14</td>\n",
       "    </tr>\n",
       "    <tr>\n",
       "      <th>1</th>\n",
       "      <td>151</td>\n",
       "      <td>住院</td>\n",
       "      <td>2008</td>\n",
       "      <td>0-2</td>\n",
       "      <td>台北市</td>\n",
       "      <td>2</td>\n",
       "      <td>14</td>\n",
       "    </tr>\n",
       "    <tr>\n",
       "      <th>2</th>\n",
       "      <td>14</td>\n",
       "      <td>住院</td>\n",
       "      <td>2008</td>\n",
       "      <td>0-2</td>\n",
       "      <td>台東縣</td>\n",
       "      <td>0</td>\n",
       "      <td>14</td>\n",
       "    </tr>\n",
       "    <tr>\n",
       "      <th>3</th>\n",
       "      <td>20</td>\n",
       "      <td>住院</td>\n",
       "      <td>2008</td>\n",
       "      <td>0-2</td>\n",
       "      <td>台南市</td>\n",
       "      <td>0</td>\n",
       "      <td>14</td>\n",
       "    </tr>\n",
       "    <tr>\n",
       "      <th>4</th>\n",
       "      <td>44</td>\n",
       "      <td>住院</td>\n",
       "      <td>2008</td>\n",
       "      <td>0-2</td>\n",
       "      <td>宜蘭縣</td>\n",
       "      <td>0</td>\n",
       "      <td>14</td>\n",
       "    </tr>\n",
       "  </tbody>\n",
       "</table>\n",
       "</div>"
      ],
      "text/plain": [
       "  健保就診總人次 就診類別     年  年齡別   縣市 腸病毒健保就診人次   週\n",
       "0     105   住院  2008  0-2  台中市         0  14\n",
       "1     151   住院  2008  0-2  台北市         2  14\n",
       "2      14   住院  2008  0-2  台東縣         0  14\n",
       "3      20   住院  2008  0-2  台南市         0  14\n",
       "4      44   住院  2008  0-2  宜蘭縣         0  14"
      ]
     },
     "execution_count": 45,
     "metadata": {},
     "output_type": "execute_result"
    }
   ],
   "source": [
    "df[:5]"
   ]
  },
  {
   "cell_type": "code",
   "execution_count": 58,
   "metadata": {},
   "outputs": [
    {
     "name": "stdout",
     "output_type": "stream",
     "text": [
      "<class 'pandas.core.frame.DataFrame'>\n",
      "RangeIndex: 111959 entries, 0 to 111958\n",
      "Data columns (total 7 columns):\n",
      "健保就診總人次      111959 non-null object\n",
      "就診類別         111959 non-null object\n",
      "年            111959 non-null object\n",
      "年齡別          111959 non-null object\n",
      "縣市           111959 non-null object\n",
      "腸病毒健保就診人次    111959 non-null object\n",
      "週            111959 non-null object\n",
      "dtypes: object(7)\n",
      "memory usage: 6.0+ MB\n"
     ]
    }
   ],
   "source": [
    "df.info()"
   ]
  },
  {
   "cell_type": "markdown",
   "metadata": {},
   "source": [
    "## Ques : 有沒有跟上周一樣呢 ?"
   ]
  },
  {
   "cell_type": "markdown",
   "metadata": {},
   "source": [
    "## DataFrame :  取欄"
   ]
  },
  {
   "cell_type": "code",
   "execution_count": 47,
   "metadata": {},
   "outputs": [
    {
     "data": {
      "text/plain": [
       "0         台中市\n",
       "1         台北市\n",
       "2         台東縣\n",
       "3         台南市\n",
       "4         宜蘭縣\n",
       "5         花蓮縣\n",
       "6         金門縣\n",
       "7         屏東縣\n",
       "8         苗栗縣\n",
       "9         桃園市\n",
       "10        高雄市\n",
       "11        基隆市\n",
       "12        雲林縣\n",
       "13        新北市\n",
       "14        新竹市\n",
       "15        新竹縣\n",
       "16        嘉義市\n",
       "17        嘉義縣\n",
       "18        彰化縣\n",
       "19        台中市\n",
       "20        台北市\n",
       "21        台東縣\n",
       "22        台南市\n",
       "23        宜蘭縣\n",
       "24        花蓮縣\n",
       "25        金門縣\n",
       "26        南投縣\n",
       "27        屏東縣\n",
       "28        苗栗縣\n",
       "29        桃園市\n",
       "         ... \n",
       "111929    雲林縣\n",
       "111930    新北市\n",
       "111931    新竹市\n",
       "111932    新竹縣\n",
       "111933    嘉義市\n",
       "111934    嘉義縣\n",
       "111935    彰化縣\n",
       "111936    澎湖縣\n",
       "111937    台中市\n",
       "111938    台北市\n",
       "111939    台東縣\n",
       "111940    台南市\n",
       "111941    宜蘭縣\n",
       "111942    花蓮縣\n",
       "111943    金門縣\n",
       "111944    南投縣\n",
       "111945    屏東縣\n",
       "111946    苗栗縣\n",
       "111947    桃園市\n",
       "111948    高雄市\n",
       "111949    基隆市\n",
       "111950    連江縣\n",
       "111951    雲林縣\n",
       "111952    新北市\n",
       "111953    新竹市\n",
       "111954    新竹縣\n",
       "111955    嘉義市\n",
       "111956    嘉義縣\n",
       "111957    彰化縣\n",
       "111958    澎湖縣\n",
       "Name: 縣市, Length: 111959, dtype: object"
      ]
     },
     "execution_count": 47,
     "metadata": {},
     "output_type": "execute_result"
    }
   ],
   "source": [
    "df['縣市']"
   ]
  },
  {
   "cell_type": "markdown",
   "metadata": {},
   "source": [
    "# Last week, we learned read_csv function."
   ]
  },
  {
   "cell_type": "markdown",
   "metadata": {},
   "source": [
    "## （1)  先抓　csv 進來工作目錄　(2)  用　read_csv 函式　讀成　DataFrame "
   ]
  },
  {
   "cell_type": "code",
   "execution_count": 42,
   "metadata": {},
   "outputs": [],
   "source": [
    "dfcsv=pd.read_csv(\"NHI_EnteroviralInfection.csv\")"
   ]
  },
  {
   "cell_type": "code",
   "execution_count": 43,
   "metadata": {},
   "outputs": [
    {
     "name": "stdout",
     "output_type": "stream",
     "text": [
      "<class 'pandas.core.frame.DataFrame'>\n",
      "RangeIndex: 111959 entries, 0 to 111958\n",
      "Data columns (total 7 columns):\n",
      "年            111959 non-null int64\n",
      "週            111959 non-null int64\n",
      "就診類別         111959 non-null object\n",
      "年齡別          111959 non-null object\n",
      "縣市           111959 non-null object\n",
      "腸病毒健保就診人次    111959 non-null int64\n",
      "健保就診總人次      111959 non-null int64\n",
      "dtypes: int64(4), object(3)\n",
      "memory usage: 6.0+ MB\n"
     ]
    }
   ],
   "source": [
    "dfcsv.info()"
   ]
  },
  {
   "cell_type": "code",
   "execution_count": 46,
   "metadata": {},
   "outputs": [
    {
     "data": {
      "text/html": [
       "<div>\n",
       "<style scoped>\n",
       "    .dataframe tbody tr th:only-of-type {\n",
       "        vertical-align: middle;\n",
       "    }\n",
       "\n",
       "    .dataframe tbody tr th {\n",
       "        vertical-align: top;\n",
       "    }\n",
       "\n",
       "    .dataframe thead th {\n",
       "        text-align: right;\n",
       "    }\n",
       "</style>\n",
       "<table border=\"1\" class=\"dataframe\">\n",
       "  <thead>\n",
       "    <tr style=\"text-align: right;\">\n",
       "      <th></th>\n",
       "      <th>年</th>\n",
       "      <th>週</th>\n",
       "      <th>就診類別</th>\n",
       "      <th>年齡別</th>\n",
       "      <th>縣市</th>\n",
       "      <th>腸病毒健保就診人次</th>\n",
       "      <th>健保就診總人次</th>\n",
       "    </tr>\n",
       "  </thead>\n",
       "  <tbody>\n",
       "    <tr>\n",
       "      <th>0</th>\n",
       "      <td>2008</td>\n",
       "      <td>14</td>\n",
       "      <td>住院</td>\n",
       "      <td>0-2</td>\n",
       "      <td>台中市</td>\n",
       "      <td>0</td>\n",
       "      <td>105</td>\n",
       "    </tr>\n",
       "    <tr>\n",
       "      <th>1</th>\n",
       "      <td>2008</td>\n",
       "      <td>14</td>\n",
       "      <td>住院</td>\n",
       "      <td>0-2</td>\n",
       "      <td>台北市</td>\n",
       "      <td>2</td>\n",
       "      <td>151</td>\n",
       "    </tr>\n",
       "    <tr>\n",
       "      <th>2</th>\n",
       "      <td>2008</td>\n",
       "      <td>14</td>\n",
       "      <td>住院</td>\n",
       "      <td>0-2</td>\n",
       "      <td>台東縣</td>\n",
       "      <td>0</td>\n",
       "      <td>14</td>\n",
       "    </tr>\n",
       "    <tr>\n",
       "      <th>3</th>\n",
       "      <td>2008</td>\n",
       "      <td>14</td>\n",
       "      <td>住院</td>\n",
       "      <td>0-2</td>\n",
       "      <td>台南市</td>\n",
       "      <td>0</td>\n",
       "      <td>20</td>\n",
       "    </tr>\n",
       "    <tr>\n",
       "      <th>4</th>\n",
       "      <td>2008</td>\n",
       "      <td>14</td>\n",
       "      <td>住院</td>\n",
       "      <td>0-2</td>\n",
       "      <td>宜蘭縣</td>\n",
       "      <td>0</td>\n",
       "      <td>44</td>\n",
       "    </tr>\n",
       "  </tbody>\n",
       "</table>\n",
       "</div>"
      ],
      "text/plain": [
       "      年   週 就診類別  年齡別   縣市  腸病毒健保就診人次  健保就診總人次\n",
       "0  2008  14   住院  0-2  台中市          0      105\n",
       "1  2008  14   住院  0-2  台北市          2      151\n",
       "2  2008  14   住院  0-2  台東縣          0       14\n",
       "3  2008  14   住院  0-2  台南市          0       20\n",
       "4  2008  14   住院  0-2  宜蘭縣          0       44"
      ]
     },
     "execution_count": 46,
     "metadata": {},
     "output_type": "execute_result"
    }
   ],
   "source": [
    "dfcsv[:5]"
   ]
  },
  {
   "cell_type": "code",
   "execution_count": null,
   "metadata": {},
   "outputs": [],
   "source": []
  }
 ],
 "metadata": {
  "kernelspec": {
   "display_name": "Python 3",
   "language": "python",
   "name": "python3"
  },
  "language_info": {
   "codemirror_mode": {
    "name": "ipython",
    "version": 3
   },
   "file_extension": ".py",
   "mimetype": "text/x-python",
   "name": "python",
   "nbconvert_exporter": "python",
   "pygments_lexer": "ipython3",
   "version": "3.6.4"
  }
 },
 "nbformat": 4,
 "nbformat_minor": 2
}
