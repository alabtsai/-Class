{
 "cells": [
  {
   "cell_type": "code",
   "execution_count": 25,
   "metadata": {},
   "outputs": [],
   "source": [
    "import numpy as np"
   ]
  },
  {
   "cell_type": "code",
   "execution_count": 2,
   "metadata": {},
   "outputs": [
    {
     "name": "stdout",
     "output_type": "stream",
     "text": [
      "1.5.0\n"
     ]
    }
   ],
   "source": [
    "import tensorflow as tf\n",
    "print(tf.__version__)"
   ]
  },
  {
   "cell_type": "code",
   "execution_count": 3,
   "metadata": {},
   "outputs": [],
   "source": [
    "seed=42\n",
    "np.random.seed(seed)"
   ]
  },
  {
   "cell_type": "markdown",
   "metadata": {},
   "source": [
    "### sigma * np.random.randn(...) + mu"
   ]
  },
  {
   "cell_type": "code",
   "execution_count": 18,
   "metadata": {},
   "outputs": [
    {
     "name": "stdout",
     "output_type": "stream",
     "text": [
      "[[ 1.46564877 -0.2257763   0.0675282  -1.42474819 -0.54438272]]\n"
     ]
    }
   ],
   "source": [
    "row1=np.random.randn(1, 5)\n",
    "print(row1)"
   ]
  },
  {
   "cell_type": "code",
   "execution_count": 19,
   "metadata": {},
   "outputs": [
    {
     "name": "stdout",
     "output_type": "stream",
     "text": [
      "[[ 0.11092259 -1.15099358  0.37569802 -0.60063869 -0.29169375]]\n"
     ]
    }
   ],
   "source": [
    "row2=np.random.randn(1, 5)\n",
    "print(row2)"
   ]
  },
  {
   "cell_type": "code",
   "execution_count": 21,
   "metadata": {},
   "outputs": [
    {
     "name": "stdout",
     "output_type": "stream",
     "text": [
      "[[ 1.46564877 -0.2257763   0.0675282  -1.42474819 -0.54438272]\n",
      " [ 0.11092259 -1.15099358  0.37569802 -0.60063869 -0.29169375]]\n",
      "(2, 5)\n"
     ]
    }
   ],
   "source": [
    "com=np.concatenate((row1, row2), axis=0)\n",
    "print(com)\n",
    "print(com.shape)"
   ]
  },
  {
   "cell_type": "code",
   "execution_count": 33,
   "metadata": {},
   "outputs": [],
   "source": [
    "row0=np.array([[0,0,0,0,0]])"
   ]
  },
  {
   "cell_type": "code",
   "execution_count": 36,
   "metadata": {},
   "outputs": [
    {
     "data": {
      "text/plain": [
       "(1, 5)"
      ]
     },
     "execution_count": 36,
     "metadata": {},
     "output_type": "execute_result"
    }
   ],
   "source": [
    "row0.shape"
   ]
  },
  {
   "cell_type": "code",
   "execution_count": 35,
   "metadata": {},
   "outputs": [
    {
     "data": {
      "text/plain": [
       "array([[0, 0, 0, 0, 0]])"
      ]
     },
     "execution_count": 35,
     "metadata": {},
     "output_type": "execute_result"
    }
   ],
   "source": [
    "row0"
   ]
  },
  {
   "cell_type": "code",
   "execution_count": 37,
   "metadata": {},
   "outputs": [],
   "source": [
    "row=np.random.randn(1, 5)"
   ]
  },
  {
   "cell_type": "code",
   "execution_count": 38,
   "metadata": {},
   "outputs": [],
   "source": [
    "com=np.concatenate((row0,row), axis=0)"
   ]
  },
  {
   "cell_type": "code",
   "execution_count": 39,
   "metadata": {},
   "outputs": [
    {
     "data": {
      "text/plain": [
       "array([[ 0.        ,  0.        ,  0.        ,  0.        ,  0.        ],\n",
       "       [ 0.73846658,  0.17136828, -0.11564828, -0.3011037 , -1.47852199]])"
      ]
     },
     "execution_count": 39,
     "metadata": {},
     "output_type": "execute_result"
    }
   ],
   "source": [
    "com"
   ]
  },
  {
   "cell_type": "code",
   "execution_count": 47,
   "metadata": {},
   "outputs": [
    {
     "name": "stdout",
     "output_type": "stream",
     "text": [
      "[[ 0.          0.          0.          0.          0.        ]\n",
      " [ 0.82718325  0.01300189  1.45353408 -0.26465683  2.72016917]]\n",
      "[[ 0.          0.          0.          0.          0.        ]\n",
      " [ 0.82718325  0.01300189  1.45353408 -0.26465683  2.72016917]\n",
      " [ 0.62566735 -0.85715756 -1.0708925   0.48247242 -0.22346279]]\n",
      "[[ 0.          0.          0.          0.          0.        ]\n",
      " [ 0.82718325  0.01300189  1.45353408 -0.26465683  2.72016917]\n",
      " [ 0.62566735 -0.85715756 -1.0708925   0.48247242 -0.22346279]\n",
      " [ 0.71400049  0.47323762 -0.07282891 -0.84679372 -1.51484722]]\n",
      "[[ 0.          0.          0.          0.          0.        ]\n",
      " [ 0.82718325  0.01300189  1.45353408 -0.26465683  2.72016917]\n",
      " [ 0.62566735 -0.85715756 -1.0708925   0.48247242 -0.22346279]\n",
      " [ 0.71400049  0.47323762 -0.07282891 -0.84679372 -1.51484722]\n",
      " [-0.44651495  0.85639879  0.21409374 -1.24573878  0.17318093]]\n",
      "[[ 0.          0.          0.          0.          0.        ]\n",
      " [ 0.82718325  0.01300189  1.45353408 -0.26465683  2.72016917]\n",
      " [ 0.62566735 -0.85715756 -1.0708925   0.48247242 -0.22346279]\n",
      " [ 0.71400049  0.47323762 -0.07282891 -0.84679372 -1.51484722]\n",
      " [-0.44651495  0.85639879  0.21409374 -1.24573878  0.17318093]\n",
      " [ 0.38531738 -0.88385744  0.15372511  0.05820872 -1.1429703 ]]\n"
     ]
    }
   ],
   "source": [
    "row0=np.array([[0,0,0,0,0]])\n",
    "for _ in range(5):\n",
    "    row=np.random.randn(1, 5)\n",
    "    row0=np.concatenate((row0,row), axis=0)\n",
    "    print(row0)"
   ]
  },
  {
   "cell_type": "code",
   "execution_count": 48,
   "metadata": {},
   "outputs": [],
   "source": [
    "with open(\"numpy_out_data\", 'w') as f:\n",
    "    for r in row0:\n",
    "        f.write(str(r))\n",
    "        f.write('\\n')"
   ]
  },
  {
   "cell_type": "code",
   "execution_count": 49,
   "metadata": {},
   "outputs": [
    {
     "data": {
      "text/plain": [
       "array([[ 0.        ,  0.        ,  0.        ,  0.        ,  0.        ],\n",
       "       [ 0.82718325,  0.01300189,  1.45353408, -0.26465683,  2.72016917],\n",
       "       [ 0.62566735, -0.85715756, -1.0708925 ,  0.48247242, -0.22346279],\n",
       "       [ 0.71400049,  0.47323762, -0.07282891, -0.84679372, -1.51484722],\n",
       "       [-0.44651495,  0.85639879,  0.21409374, -1.24573878,  0.17318093],\n",
       "       [ 0.38531738, -0.88385744,  0.15372511,  0.05820872, -1.1429703 ]])"
      ]
     },
     "execution_count": 49,
     "metadata": {},
     "output_type": "execute_result"
    }
   ],
   "source": [
    "row0"
   ]
  },
  {
   "cell_type": "code",
   "execution_count": 50,
   "metadata": {},
   "outputs": [],
   "source": [
    "import pandas as pd\n",
    "df=pd.DataFrame(row0)"
   ]
  },
  {
   "cell_type": "code",
   "execution_count": 51,
   "metadata": {},
   "outputs": [
    {
     "data": {
      "text/html": [
       "<div>\n",
       "<style scoped>\n",
       "    .dataframe tbody tr th:only-of-type {\n",
       "        vertical-align: middle;\n",
       "    }\n",
       "\n",
       "    .dataframe tbody tr th {\n",
       "        vertical-align: top;\n",
       "    }\n",
       "\n",
       "    .dataframe thead th {\n",
       "        text-align: right;\n",
       "    }\n",
       "</style>\n",
       "<table border=\"1\" class=\"dataframe\">\n",
       "  <thead>\n",
       "    <tr style=\"text-align: right;\">\n",
       "      <th></th>\n",
       "      <th>0</th>\n",
       "      <th>1</th>\n",
       "      <th>2</th>\n",
       "      <th>3</th>\n",
       "      <th>4</th>\n",
       "    </tr>\n",
       "  </thead>\n",
       "  <tbody>\n",
       "    <tr>\n",
       "      <th>0</th>\n",
       "      <td>0.000000</td>\n",
       "      <td>0.000000</td>\n",
       "      <td>0.000000</td>\n",
       "      <td>0.000000</td>\n",
       "      <td>0.000000</td>\n",
       "    </tr>\n",
       "    <tr>\n",
       "      <th>1</th>\n",
       "      <td>0.827183</td>\n",
       "      <td>0.013002</td>\n",
       "      <td>1.453534</td>\n",
       "      <td>-0.264657</td>\n",
       "      <td>2.720169</td>\n",
       "    </tr>\n",
       "    <tr>\n",
       "      <th>2</th>\n",
       "      <td>0.625667</td>\n",
       "      <td>-0.857158</td>\n",
       "      <td>-1.070892</td>\n",
       "      <td>0.482472</td>\n",
       "      <td>-0.223463</td>\n",
       "    </tr>\n",
       "    <tr>\n",
       "      <th>3</th>\n",
       "      <td>0.714000</td>\n",
       "      <td>0.473238</td>\n",
       "      <td>-0.072829</td>\n",
       "      <td>-0.846794</td>\n",
       "      <td>-1.514847</td>\n",
       "    </tr>\n",
       "    <tr>\n",
       "      <th>4</th>\n",
       "      <td>-0.446515</td>\n",
       "      <td>0.856399</td>\n",
       "      <td>0.214094</td>\n",
       "      <td>-1.245739</td>\n",
       "      <td>0.173181</td>\n",
       "    </tr>\n",
       "    <tr>\n",
       "      <th>5</th>\n",
       "      <td>0.385317</td>\n",
       "      <td>-0.883857</td>\n",
       "      <td>0.153725</td>\n",
       "      <td>0.058209</td>\n",
       "      <td>-1.142970</td>\n",
       "    </tr>\n",
       "  </tbody>\n",
       "</table>\n",
       "</div>"
      ],
      "text/plain": [
       "          0         1         2         3         4\n",
       "0  0.000000  0.000000  0.000000  0.000000  0.000000\n",
       "1  0.827183  0.013002  1.453534 -0.264657  2.720169\n",
       "2  0.625667 -0.857158 -1.070892  0.482472 -0.223463\n",
       "3  0.714000  0.473238 -0.072829 -0.846794 -1.514847\n",
       "4 -0.446515  0.856399  0.214094 -1.245739  0.173181\n",
       "5  0.385317 -0.883857  0.153725  0.058209 -1.142970"
      ]
     },
     "execution_count": 51,
     "metadata": {},
     "output_type": "execute_result"
    }
   ],
   "source": [
    "df"
   ]
  },
  {
   "cell_type": "code",
   "execution_count": 56,
   "metadata": {},
   "outputs": [],
   "source": [
    "df.to_csv('data_input_from_numpy.txt',sep=' ',index=False, header=False,float_format='%.3f')"
   ]
  },
  {
   "cell_type": "code",
   "execution_count": null,
   "metadata": {},
   "outputs": [],
   "source": []
  }
 ],
 "metadata": {
  "kernelspec": {
   "display_name": "Python 3",
   "language": "python",
   "name": "python3"
  },
  "language_info": {
   "codemirror_mode": {
    "name": "ipython",
    "version": 3
   },
   "file_extension": ".py",
   "mimetype": "text/x-python",
   "name": "python",
   "nbconvert_exporter": "python",
   "pygments_lexer": "ipython3",
   "version": "3.6.6"
  }
 },
 "nbformat": 4,
 "nbformat_minor": 2
}
