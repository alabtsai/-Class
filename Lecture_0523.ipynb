{
 "cells": [
  {
   "cell_type": "markdown",
   "metadata": {},
   "source": [
    "## Create a DatataFrame from a list of dicts"
   ]
  },
  {
   "cell_type": "code",
   "execution_count": 4,
   "metadata": {
    "collapsed": true
   },
   "outputs": [],
   "source": [
    "import pandas as pd"
   ]
  },
  {
   "cell_type": "code",
   "execution_count": 29,
   "metadata": {},
   "outputs": [],
   "source": [
    "dfmm=pd.DataFrame( [ {'key':'A', 'data':1, 'price':80} , \n",
    "                     {'key':'B', 'data':2, 'price':50} ,\n",
    "                     {'key':'C', 'data':3, 'price':90} ,                       \n",
    "                     {'key':'A', 'data':4, 'price':80} ,\n",
    "                     {'key':'B', 'data':5, 'price':70},\n",
    "                     {'key':'C', 'data':6, 'price':70},\n",
    "                   ]  \n",
    "                 )\n"
   ]
  },
  {
   "cell_type": "code",
   "execution_count": 30,
   "metadata": {},
   "outputs": [
    {
     "name": "stdout",
     "output_type": "stream",
     "text": [
      "   data key  price\n",
      "0     1   A     80\n",
      "1     2   B     50\n",
      "2     3   C     90\n",
      "3     4   A     80\n",
      "4     5   B     70\n",
      "5     6   C     70\n"
     ]
    }
   ],
   "source": [
    "print(dfmm)"
   ]
  },
  {
   "cell_type": "markdown",
   "metadata": {},
   "source": [
    "## review: take one column"
   ]
  },
  {
   "cell_type": "code",
   "execution_count": 31,
   "metadata": {},
   "outputs": [
    {
     "name": "stdout",
     "output_type": "stream",
     "text": [
      "<class 'pandas.core.series.Series'>\n"
     ]
    }
   ],
   "source": [
    "dff_ser1=dfmm['price']\n",
    "print(type(dff_ser1))"
   ]
  },
  {
   "cell_type": "markdown",
   "metadata": {},
   "source": [
    "## simple aggregation in pandas"
   ]
  },
  {
   "cell_type": "code",
   "execution_count": 32,
   "metadata": {},
   "outputs": [
    {
     "data": {
      "text/plain": [
       "440"
      ]
     },
     "execution_count": 32,
     "metadata": {},
     "output_type": "execute_result"
    }
   ],
   "source": [
    "dff_ser1.sum()"
   ]
  },
  {
   "cell_type": "code",
   "execution_count": 45,
   "metadata": {},
   "outputs": [
    {
     "data": {
      "text/plain": [
       "50"
      ]
     },
     "execution_count": 45,
     "metadata": {},
     "output_type": "execute_result"
    }
   ],
   "source": [
    "dff_ser1.min()"
   ]
  },
  {
   "cell_type": "code",
   "execution_count": 44,
   "metadata": {},
   "outputs": [
    {
     "data": {
      "text/plain": [
       "6"
      ]
     },
     "execution_count": 44,
     "metadata": {},
     "output_type": "execute_result"
    }
   ],
   "source": [
    "dff_ser1.count()"
   ]
  },
  {
   "cell_type": "code",
   "execution_count": 46,
   "metadata": {},
   "outputs": [
    {
     "data": {
      "text/plain": [
       "73.33333333333333"
      ]
     },
     "execution_count": 46,
     "metadata": {},
     "output_type": "execute_result"
    }
   ],
   "source": [
    "dff_ser1.mean()"
   ]
  },
  {
   "cell_type": "markdown",
   "metadata": {},
   "source": [
    "## GroupBy: Split,  apply , combine "
   ]
  },
  {
   "cell_type": "code",
   "execution_count": 33,
   "metadata": {},
   "outputs": [
    {
     "data": {
      "text/html": [
       "<div>\n",
       "<style>\n",
       "    .dataframe thead tr:only-child th {\n",
       "        text-align: right;\n",
       "    }\n",
       "\n",
       "    .dataframe thead th {\n",
       "        text-align: left;\n",
       "    }\n",
       "\n",
       "    .dataframe tbody tr th {\n",
       "        vertical-align: top;\n",
       "    }\n",
       "</style>\n",
       "<table border=\"1\" class=\"dataframe\">\n",
       "  <thead>\n",
       "    <tr style=\"text-align: right;\">\n",
       "      <th></th>\n",
       "      <th>data</th>\n",
       "      <th>price</th>\n",
       "    </tr>\n",
       "    <tr>\n",
       "      <th>key</th>\n",
       "      <th></th>\n",
       "      <th></th>\n",
       "    </tr>\n",
       "  </thead>\n",
       "  <tbody>\n",
       "    <tr>\n",
       "      <th>A</th>\n",
       "      <td>5</td>\n",
       "      <td>160</td>\n",
       "    </tr>\n",
       "    <tr>\n",
       "      <th>B</th>\n",
       "      <td>7</td>\n",
       "      <td>120</td>\n",
       "    </tr>\n",
       "    <tr>\n",
       "      <th>C</th>\n",
       "      <td>9</td>\n",
       "      <td>160</td>\n",
       "    </tr>\n",
       "  </tbody>\n",
       "</table>\n",
       "</div>"
      ],
      "text/plain": [
       "     data  price\n",
       "key             \n",
       "A       5    160\n",
       "B       7    120\n",
       "C       9    160"
      ]
     },
     "execution_count": 33,
     "metadata": {},
     "output_type": "execute_result"
    }
   ],
   "source": [
    "dfmm.groupby('key').sum()"
   ]
  },
  {
   "cell_type": "code",
   "execution_count": 34,
   "metadata": {},
   "outputs": [
    {
     "data": {
      "text/html": [
       "<div>\n",
       "<style>\n",
       "    .dataframe thead tr:only-child th {\n",
       "        text-align: right;\n",
       "    }\n",
       "\n",
       "    .dataframe thead th {\n",
       "        text-align: left;\n",
       "    }\n",
       "\n",
       "    .dataframe tbody tr th {\n",
       "        vertical-align: top;\n",
       "    }\n",
       "</style>\n",
       "<table border=\"1\" class=\"dataframe\">\n",
       "  <thead>\n",
       "    <tr style=\"text-align: right;\">\n",
       "      <th></th>\n",
       "      <th>data</th>\n",
       "      <th>price</th>\n",
       "    </tr>\n",
       "    <tr>\n",
       "      <th>key</th>\n",
       "      <th></th>\n",
       "      <th></th>\n",
       "    </tr>\n",
       "  </thead>\n",
       "  <tbody>\n",
       "    <tr>\n",
       "      <th>A</th>\n",
       "      <td>2.5</td>\n",
       "      <td>80.0</td>\n",
       "    </tr>\n",
       "    <tr>\n",
       "      <th>B</th>\n",
       "      <td>3.5</td>\n",
       "      <td>60.0</td>\n",
       "    </tr>\n",
       "    <tr>\n",
       "      <th>C</th>\n",
       "      <td>4.5</td>\n",
       "      <td>80.0</td>\n",
       "    </tr>\n",
       "  </tbody>\n",
       "</table>\n",
       "</div>"
      ],
      "text/plain": [
       "     data  price\n",
       "key             \n",
       "A     2.5   80.0\n",
       "B     3.5   60.0\n",
       "C     4.5   80.0"
      ]
     },
     "execution_count": 34,
     "metadata": {},
     "output_type": "execute_result"
    }
   ],
   "source": [
    "dfmm.groupby('key').mean()"
   ]
  },
  {
   "cell_type": "code",
   "execution_count": 35,
   "metadata": {},
   "outputs": [
    {
     "data": {
      "text/html": [
       "<div>\n",
       "<style>\n",
       "    .dataframe thead tr:only-child th {\n",
       "        text-align: right;\n",
       "    }\n",
       "\n",
       "    .dataframe thead th {\n",
       "        text-align: left;\n",
       "    }\n",
       "\n",
       "    .dataframe tbody tr th {\n",
       "        vertical-align: top;\n",
       "    }\n",
       "</style>\n",
       "<table border=\"1\" class=\"dataframe\">\n",
       "  <thead>\n",
       "    <tr style=\"text-align: right;\">\n",
       "      <th></th>\n",
       "      <th>data</th>\n",
       "      <th>price</th>\n",
       "    </tr>\n",
       "    <tr>\n",
       "      <th>key</th>\n",
       "      <th></th>\n",
       "      <th></th>\n",
       "    </tr>\n",
       "  </thead>\n",
       "  <tbody>\n",
       "    <tr>\n",
       "      <th>A</th>\n",
       "      <td>2</td>\n",
       "      <td>2</td>\n",
       "    </tr>\n",
       "    <tr>\n",
       "      <th>B</th>\n",
       "      <td>2</td>\n",
       "      <td>2</td>\n",
       "    </tr>\n",
       "    <tr>\n",
       "      <th>C</th>\n",
       "      <td>2</td>\n",
       "      <td>2</td>\n",
       "    </tr>\n",
       "  </tbody>\n",
       "</table>\n",
       "</div>"
      ],
      "text/plain": [
       "     data  price\n",
       "key             \n",
       "A       2      2\n",
       "B       2      2\n",
       "C       2      2"
      ]
     },
     "execution_count": 35,
     "metadata": {},
     "output_type": "execute_result"
    }
   ],
   "source": [
    "dfmm.groupby('key').count()"
   ]
  },
  {
   "cell_type": "markdown",
   "metadata": {
    "collapsed": true
   },
   "source": [
    "## example : analyze the data "
   ]
  },
  {
   "cell_type": "code",
   "execution_count": 18,
   "metadata": {
    "collapsed": true
   },
   "outputs": [],
   "source": [
    "import json\n",
    "import requests\n",
    "res=requests.get(\"https://od.cdc.gov.tw/eic/NHI_EnteroviralInfection.json\")"
   ]
  },
  {
   "cell_type": "markdown",
   "metadata": {},
   "source": [
    "## use  .text  to  obtain the text part "
   ]
  },
  {
   "cell_type": "code",
   "execution_count": 19,
   "metadata": {},
   "outputs": [
    {
     "name": "stdout",
     "output_type": "stream",
     "text": [
      "<class 'list'>\n"
     ]
    }
   ],
   "source": [
    "result=json.loads(res.text)\n",
    "print(type(result))"
   ]
  },
  {
   "cell_type": "markdown",
   "metadata": {},
   "source": [
    "## result is a list with 112173 elements"
   ]
  },
  {
   "cell_type": "code",
   "execution_count": 20,
   "metadata": {},
   "outputs": [
    {
     "data": {
      "text/plain": [
       "112173"
      ]
     },
     "execution_count": 20,
     "metadata": {},
     "output_type": "execute_result"
    }
   ],
   "source": [
    "len(result)"
   ]
  },
  {
   "cell_type": "markdown",
   "metadata": {},
   "source": [
    "## each element is a dict"
   ]
  },
  {
   "cell_type": "code",
   "execution_count": 21,
   "metadata": {},
   "outputs": [
    {
     "data": {
      "text/plain": [
       "{'健保就診總人次': '105',\n",
       " '就診類別': '住院',\n",
       " '年': '2008',\n",
       " '年齡別': '0-2',\n",
       " '縣市': '台中市',\n",
       " '腸病毒健保就診人次': '0',\n",
       " '週': '14'}"
      ]
     },
     "execution_count": 21,
     "metadata": {},
     "output_type": "execute_result"
    }
   ],
   "source": [
    "result[0]"
   ]
  },
  {
   "cell_type": "markdown",
   "metadata": {},
   "source": [
    "## you know how to transform the list of dicts into DataFrame"
   ]
  },
  {
   "cell_type": "code",
   "execution_count": 36,
   "metadata": {},
   "outputs": [],
   "source": [
    "import pandas as pd\n",
    "df=pd.DataFrame(result)"
   ]
  },
  {
   "cell_type": "code",
   "execution_count": 37,
   "metadata": {},
   "outputs": [
    {
     "name": "stdout",
     "output_type": "stream",
     "text": [
      "<class 'pandas.core.frame.DataFrame'>\n",
      "RangeIndex: 112173 entries, 0 to 112172\n",
      "Data columns (total 7 columns):\n",
      "健保就診總人次      112173 non-null object\n",
      "就診類別         112173 non-null object\n",
      "年            112173 non-null object\n",
      "年齡別          112173 non-null object\n",
      "縣市           112173 non-null object\n",
      "腸病毒健保就診人次    112173 non-null object\n",
      "週            112173 non-null object\n",
      "dtypes: object(7)\n",
      "memory usage: 6.0+ MB\n"
     ]
    }
   ],
   "source": [
    "df.info()"
   ]
  },
  {
   "cell_type": "markdown",
   "metadata": {},
   "source": [
    "## note : the type of 腸病毒健保就診人次 is string ! not int "
   ]
  },
  {
   "cell_type": "markdown",
   "metadata": {},
   "source": [
    "##  transform the string into integer"
   ]
  },
  {
   "cell_type": "code",
   "execution_count": 38,
   "metadata": {
    "collapsed": true
   },
   "outputs": [],
   "source": [
    "df['腸病毒健保就診人次'] = df['腸病毒健保就診人次'].astype(int)"
   ]
  },
  {
   "cell_type": "code",
   "execution_count": 39,
   "metadata": {},
   "outputs": [
    {
     "name": "stdout",
     "output_type": "stream",
     "text": [
      "<class 'pandas.core.frame.DataFrame'>\n",
      "RangeIndex: 112173 entries, 0 to 112172\n",
      "Data columns (total 7 columns):\n",
      "健保就診總人次      112173 non-null object\n",
      "就診類別         112173 non-null object\n",
      "年            112173 non-null object\n",
      "年齡別          112173 non-null object\n",
      "縣市           112173 non-null object\n",
      "腸病毒健保就診人次    112173 non-null int64\n",
      "週            112173 non-null object\n",
      "dtypes: int64(1), object(6)\n",
      "memory usage: 6.0+ MB\n"
     ]
    }
   ],
   "source": [
    "df.info()"
   ]
  },
  {
   "cell_type": "markdown",
   "metadata": {},
   "source": [
    "## 分析：每年Taiwan（2008~2018) 腸病毒健保就診人次多少?"
   ]
  },
  {
   "cell_type": "code",
   "execution_count": 40,
   "metadata": {},
   "outputs": [
    {
     "data": {
      "text/html": [
       "<div>\n",
       "<style>\n",
       "    .dataframe thead tr:only-child th {\n",
       "        text-align: right;\n",
       "    }\n",
       "\n",
       "    .dataframe thead th {\n",
       "        text-align: left;\n",
       "    }\n",
       "\n",
       "    .dataframe tbody tr th {\n",
       "        vertical-align: top;\n",
       "    }\n",
       "</style>\n",
       "<table border=\"1\" class=\"dataframe\">\n",
       "  <thead>\n",
       "    <tr style=\"text-align: right;\">\n",
       "      <th></th>\n",
       "      <th>腸病毒健保就診人次</th>\n",
       "    </tr>\n",
       "    <tr>\n",
       "      <th>年</th>\n",
       "      <th></th>\n",
       "    </tr>\n",
       "  </thead>\n",
       "  <tbody>\n",
       "    <tr>\n",
       "      <th>2008</th>\n",
       "      <td>360000</td>\n",
       "    </tr>\n",
       "    <tr>\n",
       "      <th>2009</th>\n",
       "      <td>270178</td>\n",
       "    </tr>\n",
       "    <tr>\n",
       "      <th>2010</th>\n",
       "      <td>855397</td>\n",
       "    </tr>\n",
       "    <tr>\n",
       "      <th>2011</th>\n",
       "      <td>409542</td>\n",
       "    </tr>\n",
       "    <tr>\n",
       "      <th>2012</th>\n",
       "      <td>483404</td>\n",
       "    </tr>\n",
       "    <tr>\n",
       "      <th>2013</th>\n",
       "      <td>578879</td>\n",
       "    </tr>\n",
       "    <tr>\n",
       "      <th>2014</th>\n",
       "      <td>503170</td>\n",
       "    </tr>\n",
       "    <tr>\n",
       "      <th>2015</th>\n",
       "      <td>535773</td>\n",
       "    </tr>\n",
       "    <tr>\n",
       "      <th>2016</th>\n",
       "      <td>590212</td>\n",
       "    </tr>\n",
       "    <tr>\n",
       "      <th>2017</th>\n",
       "      <td>455533</td>\n",
       "    </tr>\n",
       "    <tr>\n",
       "      <th>2018</th>\n",
       "      <td>90356</td>\n",
       "    </tr>\n",
       "  </tbody>\n",
       "</table>\n",
       "</div>"
      ],
      "text/plain": [
       "      腸病毒健保就診人次\n",
       "年              \n",
       "2008     360000\n",
       "2009     270178\n",
       "2010     855397\n",
       "2011     409542\n",
       "2012     483404\n",
       "2013     578879\n",
       "2014     503170\n",
       "2015     535773\n",
       "2016     590212\n",
       "2017     455533\n",
       "2018      90356"
      ]
     },
     "execution_count": 40,
     "metadata": {},
     "output_type": "execute_result"
    }
   ],
   "source": [
    "df.groupby('年')[['腸病毒健保就診人次']].sum()"
   ]
  },
  {
   "cell_type": "markdown",
   "metadata": {},
   "source": [
    "## Let's check the above one-line code : "
   ]
  },
  {
   "cell_type": "code",
   "execution_count": 41,
   "metadata": {},
   "outputs": [
    {
     "name": "stdout",
     "output_type": "stream",
     "text": [
      "112173\n"
     ]
    }
   ],
   "source": [
    "leng=len(df['縣市'])\n",
    "print(leng)"
   ]
  },
  {
   "cell_type": "code",
   "execution_count": 42,
   "metadata": {},
   "outputs": [
    {
     "name": "stdout",
     "output_type": "stream",
     "text": [
      "{'2008': 360000, '2009': 270178, '2010': 855397, '2011': 409542, '2012': 483404, '2013': 578879, '2014': 503170, '2015': 535773, '2016': 590212, '2017': 455533, '2018': 90356}\n"
     ]
    }
   ],
   "source": [
    "\n",
    "\n",
    "d=dict()\n",
    "for i in range(leng):\n",
    "    key=df['年'][i]\n",
    "    d[key]=0\n",
    "    \n",
    "for i in range(leng):\n",
    "        key=df['年'][i]\n",
    "        d[key]=d[key]+df['腸病毒健保就診人次'][i]\n",
    "print(d)"
   ]
  },
  {
   "cell_type": "markdown",
   "metadata": {},
   "source": [
    "## 樞紐分析\n",
    "## 不同縣市每年腸病毒就診類別(住院,門診)的總人次是多少 ? "
   ]
  },
  {
   "cell_type": "code",
   "execution_count": 43,
   "metadata": {},
   "outputs": [
    {
     "data": {
      "text/html": [
       "<div>\n",
       "<style>\n",
       "    .dataframe thead tr:only-child th {\n",
       "        text-align: right;\n",
       "    }\n",
       "\n",
       "    .dataframe thead th {\n",
       "        text-align: left;\n",
       "    }\n",
       "\n",
       "    .dataframe tbody tr th {\n",
       "        vertical-align: top;\n",
       "    }\n",
       "</style>\n",
       "<table border=\"1\" class=\"dataframe\">\n",
       "  <thead>\n",
       "    <tr style=\"text-align: right;\">\n",
       "      <th></th>\n",
       "      <th>縣市</th>\n",
       "      <th>南投縣</th>\n",
       "      <th>台中市</th>\n",
       "      <th>台北市</th>\n",
       "      <th>台南市</th>\n",
       "      <th>台東縣</th>\n",
       "      <th>嘉義市</th>\n",
       "      <th>嘉義縣</th>\n",
       "      <th>基隆市</th>\n",
       "      <th>宜蘭縣</th>\n",
       "      <th>屏東縣</th>\n",
       "      <th>...</th>\n",
       "      <th>新竹市</th>\n",
       "      <th>新竹縣</th>\n",
       "      <th>桃園市</th>\n",
       "      <th>澎湖縣</th>\n",
       "      <th>花蓮縣</th>\n",
       "      <th>苗栗縣</th>\n",
       "      <th>連江縣</th>\n",
       "      <th>金門縣</th>\n",
       "      <th>雲林縣</th>\n",
       "      <th>高雄市</th>\n",
       "    </tr>\n",
       "    <tr>\n",
       "      <th>年</th>\n",
       "      <th>就診類別</th>\n",
       "      <th></th>\n",
       "      <th></th>\n",
       "      <th></th>\n",
       "      <th></th>\n",
       "      <th></th>\n",
       "      <th></th>\n",
       "      <th></th>\n",
       "      <th></th>\n",
       "      <th></th>\n",
       "      <th></th>\n",
       "      <th></th>\n",
       "      <th></th>\n",
       "      <th></th>\n",
       "      <th></th>\n",
       "      <th></th>\n",
       "      <th></th>\n",
       "      <th></th>\n",
       "      <th></th>\n",
       "      <th></th>\n",
       "      <th></th>\n",
       "      <th></th>\n",
       "    </tr>\n",
       "  </thead>\n",
       "  <tbody>\n",
       "    <tr>\n",
       "      <th rowspan=\"2\" valign=\"top\">2008</th>\n",
       "      <th>住院</th>\n",
       "      <td>14</td>\n",
       "      <td>765</td>\n",
       "      <td>739</td>\n",
       "      <td>62</td>\n",
       "      <td>6</td>\n",
       "      <td>11</td>\n",
       "      <td>30</td>\n",
       "      <td>78</td>\n",
       "      <td>13</td>\n",
       "      <td>36</td>\n",
       "      <td>...</td>\n",
       "      <td>158</td>\n",
       "      <td>31</td>\n",
       "      <td>152</td>\n",
       "      <td>0</td>\n",
       "      <td>60</td>\n",
       "      <td>2</td>\n",
       "      <td>1</td>\n",
       "      <td>47</td>\n",
       "      <td>10</td>\n",
       "      <td>291</td>\n",
       "    </tr>\n",
       "    <tr>\n",
       "      <th>門診</th>\n",
       "      <td>10056</td>\n",
       "      <td>55128</td>\n",
       "      <td>26905</td>\n",
       "      <td>41456</td>\n",
       "      <td>2934</td>\n",
       "      <td>8274</td>\n",
       "      <td>4016</td>\n",
       "      <td>4760</td>\n",
       "      <td>7288</td>\n",
       "      <td>8292</td>\n",
       "      <td>...</td>\n",
       "      <td>7864</td>\n",
       "      <td>10312</td>\n",
       "      <td>34864</td>\n",
       "      <td>1526</td>\n",
       "      <td>2605</td>\n",
       "      <td>10261</td>\n",
       "      <td>81</td>\n",
       "      <td>1694</td>\n",
       "      <td>14893</td>\n",
       "      <td>34811</td>\n",
       "    </tr>\n",
       "    <tr>\n",
       "      <th rowspan=\"2\" valign=\"top\">2009</th>\n",
       "      <th>住院</th>\n",
       "      <td>153</td>\n",
       "      <td>986</td>\n",
       "      <td>820</td>\n",
       "      <td>115</td>\n",
       "      <td>59</td>\n",
       "      <td>186</td>\n",
       "      <td>237</td>\n",
       "      <td>124</td>\n",
       "      <td>297</td>\n",
       "      <td>136</td>\n",
       "      <td>...</td>\n",
       "      <td>243</td>\n",
       "      <td>29</td>\n",
       "      <td>728</td>\n",
       "      <td>0</td>\n",
       "      <td>130</td>\n",
       "      <td>18</td>\n",
       "      <td>0</td>\n",
       "      <td>17</td>\n",
       "      <td>8</td>\n",
       "      <td>620</td>\n",
       "    </tr>\n",
       "    <tr>\n",
       "      <th>門診</th>\n",
       "      <td>6645</td>\n",
       "      <td>46014</td>\n",
       "      <td>17825</td>\n",
       "      <td>24913</td>\n",
       "      <td>2806</td>\n",
       "      <td>6779</td>\n",
       "      <td>2948</td>\n",
       "      <td>4229</td>\n",
       "      <td>7042</td>\n",
       "      <td>7758</td>\n",
       "      <td>...</td>\n",
       "      <td>5540</td>\n",
       "      <td>7781</td>\n",
       "      <td>24582</td>\n",
       "      <td>2211</td>\n",
       "      <td>3159</td>\n",
       "      <td>7701</td>\n",
       "      <td>90</td>\n",
       "      <td>1458</td>\n",
       "      <td>11097</td>\n",
       "      <td>23736</td>\n",
       "    </tr>\n",
       "    <tr>\n",
       "      <th rowspan=\"2\" valign=\"top\">2010</th>\n",
       "      <th>住院</th>\n",
       "      <td>352</td>\n",
       "      <td>2327</td>\n",
       "      <td>2305</td>\n",
       "      <td>251</td>\n",
       "      <td>68</td>\n",
       "      <td>408</td>\n",
       "      <td>588</td>\n",
       "      <td>388</td>\n",
       "      <td>1279</td>\n",
       "      <td>228</td>\n",
       "      <td>...</td>\n",
       "      <td>545</td>\n",
       "      <td>220</td>\n",
       "      <td>1838</td>\n",
       "      <td>1</td>\n",
       "      <td>122</td>\n",
       "      <td>202</td>\n",
       "      <td>1</td>\n",
       "      <td>25</td>\n",
       "      <td>54</td>\n",
       "      <td>1557</td>\n",
       "    </tr>\n",
       "    <tr>\n",
       "      <th>門診</th>\n",
       "      <td>23468</td>\n",
       "      <td>137646</td>\n",
       "      <td>68862</td>\n",
       "      <td>72263</td>\n",
       "      <td>4521</td>\n",
       "      <td>19335</td>\n",
       "      <td>8712</td>\n",
       "      <td>13457</td>\n",
       "      <td>14426</td>\n",
       "      <td>19609</td>\n",
       "      <td>...</td>\n",
       "      <td>23046</td>\n",
       "      <td>26741</td>\n",
       "      <td>84853</td>\n",
       "      <td>2581</td>\n",
       "      <td>6415</td>\n",
       "      <td>19104</td>\n",
       "      <td>142</td>\n",
       "      <td>3098</td>\n",
       "      <td>30818</td>\n",
       "      <td>78846</td>\n",
       "    </tr>\n",
       "    <tr>\n",
       "      <th rowspan=\"2\" valign=\"top\">2011</th>\n",
       "      <th>住院</th>\n",
       "      <td>165</td>\n",
       "      <td>891</td>\n",
       "      <td>1110</td>\n",
       "      <td>142</td>\n",
       "      <td>63</td>\n",
       "      <td>189</td>\n",
       "      <td>339</td>\n",
       "      <td>207</td>\n",
       "      <td>783</td>\n",
       "      <td>138</td>\n",
       "      <td>...</td>\n",
       "      <td>277</td>\n",
       "      <td>96</td>\n",
       "      <td>1188</td>\n",
       "      <td>2</td>\n",
       "      <td>106</td>\n",
       "      <td>24</td>\n",
       "      <td>0</td>\n",
       "      <td>30</td>\n",
       "      <td>61</td>\n",
       "      <td>698</td>\n",
       "    </tr>\n",
       "    <tr>\n",
       "      <th>門診</th>\n",
       "      <td>8758</td>\n",
       "      <td>55265</td>\n",
       "      <td>34228</td>\n",
       "      <td>36128</td>\n",
       "      <td>2371</td>\n",
       "      <td>10101</td>\n",
       "      <td>5179</td>\n",
       "      <td>6580</td>\n",
       "      <td>6767</td>\n",
       "      <td>9455</td>\n",
       "      <td>...</td>\n",
       "      <td>10525</td>\n",
       "      <td>11189</td>\n",
       "      <td>45576</td>\n",
       "      <td>1117</td>\n",
       "      <td>3552</td>\n",
       "      <td>8617</td>\n",
       "      <td>20</td>\n",
       "      <td>1061</td>\n",
       "      <td>19495</td>\n",
       "      <td>34705</td>\n",
       "    </tr>\n",
       "    <tr>\n",
       "      <th rowspan=\"2\" valign=\"top\">2012</th>\n",
       "      <th>住院</th>\n",
       "      <td>128</td>\n",
       "      <td>1193</td>\n",
       "      <td>1256</td>\n",
       "      <td>212</td>\n",
       "      <td>68</td>\n",
       "      <td>149</td>\n",
       "      <td>264</td>\n",
       "      <td>206</td>\n",
       "      <td>583</td>\n",
       "      <td>199</td>\n",
       "      <td>...</td>\n",
       "      <td>327</td>\n",
       "      <td>93</td>\n",
       "      <td>1152</td>\n",
       "      <td>1</td>\n",
       "      <td>101</td>\n",
       "      <td>101</td>\n",
       "      <td>0</td>\n",
       "      <td>25</td>\n",
       "      <td>20</td>\n",
       "      <td>783</td>\n",
       "    </tr>\n",
       "    <tr>\n",
       "      <th>門診</th>\n",
       "      <td>8768</td>\n",
       "      <td>68450</td>\n",
       "      <td>44295</td>\n",
       "      <td>39727</td>\n",
       "      <td>2339</td>\n",
       "      <td>8245</td>\n",
       "      <td>3790</td>\n",
       "      <td>8448</td>\n",
       "      <td>9785</td>\n",
       "      <td>11674</td>\n",
       "      <td>...</td>\n",
       "      <td>13669</td>\n",
       "      <td>14022</td>\n",
       "      <td>48974</td>\n",
       "      <td>1036</td>\n",
       "      <td>4122</td>\n",
       "      <td>12364</td>\n",
       "      <td>27</td>\n",
       "      <td>905</td>\n",
       "      <td>15852</td>\n",
       "      <td>39225</td>\n",
       "    </tr>\n",
       "    <tr>\n",
       "      <th rowspan=\"2\" valign=\"top\">2013</th>\n",
       "      <th>住院</th>\n",
       "      <td>271</td>\n",
       "      <td>1759</td>\n",
       "      <td>1232</td>\n",
       "      <td>207</td>\n",
       "      <td>90</td>\n",
       "      <td>207</td>\n",
       "      <td>353</td>\n",
       "      <td>187</td>\n",
       "      <td>901</td>\n",
       "      <td>251</td>\n",
       "      <td>...</td>\n",
       "      <td>323</td>\n",
       "      <td>139</td>\n",
       "      <td>1310</td>\n",
       "      <td>0</td>\n",
       "      <td>146</td>\n",
       "      <td>51</td>\n",
       "      <td>3</td>\n",
       "      <td>29</td>\n",
       "      <td>22</td>\n",
       "      <td>1284</td>\n",
       "    </tr>\n",
       "    <tr>\n",
       "      <th>門診</th>\n",
       "      <td>15680</td>\n",
       "      <td>90260</td>\n",
       "      <td>45548</td>\n",
       "      <td>51344</td>\n",
       "      <td>3896</td>\n",
       "      <td>10392</td>\n",
       "      <td>5209</td>\n",
       "      <td>7438</td>\n",
       "      <td>10585</td>\n",
       "      <td>15220</td>\n",
       "      <td>...</td>\n",
       "      <td>14375</td>\n",
       "      <td>14156</td>\n",
       "      <td>52461</td>\n",
       "      <td>2435</td>\n",
       "      <td>6079</td>\n",
       "      <td>12122</td>\n",
       "      <td>257</td>\n",
       "      <td>3701</td>\n",
       "      <td>22491</td>\n",
       "      <td>53510</td>\n",
       "    </tr>\n",
       "    <tr>\n",
       "      <th rowspan=\"2\" valign=\"top\">2014</th>\n",
       "      <th>住院</th>\n",
       "      <td>169</td>\n",
       "      <td>1276</td>\n",
       "      <td>958</td>\n",
       "      <td>110</td>\n",
       "      <td>59</td>\n",
       "      <td>160</td>\n",
       "      <td>283</td>\n",
       "      <td>175</td>\n",
       "      <td>660</td>\n",
       "      <td>104</td>\n",
       "      <td>...</td>\n",
       "      <td>268</td>\n",
       "      <td>126</td>\n",
       "      <td>919</td>\n",
       "      <td>0</td>\n",
       "      <td>67</td>\n",
       "      <td>43</td>\n",
       "      <td>1</td>\n",
       "      <td>18</td>\n",
       "      <td>121</td>\n",
       "      <td>830</td>\n",
       "    </tr>\n",
       "    <tr>\n",
       "      <th>門診</th>\n",
       "      <td>12413</td>\n",
       "      <td>73386</td>\n",
       "      <td>45480</td>\n",
       "      <td>36193</td>\n",
       "      <td>2662</td>\n",
       "      <td>10491</td>\n",
       "      <td>6071</td>\n",
       "      <td>8024</td>\n",
       "      <td>11156</td>\n",
       "      <td>12167</td>\n",
       "      <td>...</td>\n",
       "      <td>14508</td>\n",
       "      <td>13611</td>\n",
       "      <td>52090</td>\n",
       "      <td>2318</td>\n",
       "      <td>3418</td>\n",
       "      <td>9667</td>\n",
       "      <td>76</td>\n",
       "      <td>2930</td>\n",
       "      <td>18663</td>\n",
       "      <td>42539</td>\n",
       "    </tr>\n",
       "    <tr>\n",
       "      <th rowspan=\"2\" valign=\"top\">2015</th>\n",
       "      <th>住院</th>\n",
       "      <td>146</td>\n",
       "      <td>1175</td>\n",
       "      <td>801</td>\n",
       "      <td>135</td>\n",
       "      <td>57</td>\n",
       "      <td>150</td>\n",
       "      <td>290</td>\n",
       "      <td>196</td>\n",
       "      <td>567</td>\n",
       "      <td>97</td>\n",
       "      <td>...</td>\n",
       "      <td>374</td>\n",
       "      <td>150</td>\n",
       "      <td>906</td>\n",
       "      <td>0</td>\n",
       "      <td>72</td>\n",
       "      <td>163</td>\n",
       "      <td>1</td>\n",
       "      <td>13</td>\n",
       "      <td>109</td>\n",
       "      <td>1072</td>\n",
       "    </tr>\n",
       "    <tr>\n",
       "      <th>門診</th>\n",
       "      <td>10953</td>\n",
       "      <td>80743</td>\n",
       "      <td>47070</td>\n",
       "      <td>39807</td>\n",
       "      <td>2792</td>\n",
       "      <td>9721</td>\n",
       "      <td>6311</td>\n",
       "      <td>9063</td>\n",
       "      <td>10962</td>\n",
       "      <td>14616</td>\n",
       "      <td>...</td>\n",
       "      <td>17465</td>\n",
       "      <td>14879</td>\n",
       "      <td>51818</td>\n",
       "      <td>946</td>\n",
       "      <td>5720</td>\n",
       "      <td>10564</td>\n",
       "      <td>69</td>\n",
       "      <td>1663</td>\n",
       "      <td>17658</td>\n",
       "      <td>47522</td>\n",
       "    </tr>\n",
       "    <tr>\n",
       "      <th rowspan=\"2\" valign=\"top\">2016</th>\n",
       "      <th>住院</th>\n",
       "      <td>277</td>\n",
       "      <td>1389</td>\n",
       "      <td>857</td>\n",
       "      <td>182</td>\n",
       "      <td>67</td>\n",
       "      <td>91</td>\n",
       "      <td>274</td>\n",
       "      <td>166</td>\n",
       "      <td>469</td>\n",
       "      <td>159</td>\n",
       "      <td>...</td>\n",
       "      <td>237</td>\n",
       "      <td>78</td>\n",
       "      <td>875</td>\n",
       "      <td>0</td>\n",
       "      <td>55</td>\n",
       "      <td>240</td>\n",
       "      <td>1</td>\n",
       "      <td>10</td>\n",
       "      <td>113</td>\n",
       "      <td>1052</td>\n",
       "    </tr>\n",
       "    <tr>\n",
       "      <th>門診</th>\n",
       "      <td>13942</td>\n",
       "      <td>96622</td>\n",
       "      <td>49049</td>\n",
       "      <td>51394</td>\n",
       "      <td>3403</td>\n",
       "      <td>8643</td>\n",
       "      <td>5977</td>\n",
       "      <td>8782</td>\n",
       "      <td>11312</td>\n",
       "      <td>13282</td>\n",
       "      <td>...</td>\n",
       "      <td>17471</td>\n",
       "      <td>13961</td>\n",
       "      <td>56366</td>\n",
       "      <td>2717</td>\n",
       "      <td>5488</td>\n",
       "      <td>12979</td>\n",
       "      <td>152</td>\n",
       "      <td>2507</td>\n",
       "      <td>17453</td>\n",
       "      <td>53973</td>\n",
       "    </tr>\n",
       "    <tr>\n",
       "      <th rowspan=\"2\" valign=\"top\">2017</th>\n",
       "      <th>住院</th>\n",
       "      <td>194</td>\n",
       "      <td>991</td>\n",
       "      <td>771</td>\n",
       "      <td>80</td>\n",
       "      <td>37</td>\n",
       "      <td>79</td>\n",
       "      <td>252</td>\n",
       "      <td>148</td>\n",
       "      <td>404</td>\n",
       "      <td>226</td>\n",
       "      <td>...</td>\n",
       "      <td>236</td>\n",
       "      <td>81</td>\n",
       "      <td>986</td>\n",
       "      <td>0</td>\n",
       "      <td>51</td>\n",
       "      <td>146</td>\n",
       "      <td>0</td>\n",
       "      <td>7</td>\n",
       "      <td>101</td>\n",
       "      <td>977</td>\n",
       "    </tr>\n",
       "    <tr>\n",
       "      <th>門診</th>\n",
       "      <td>9115</td>\n",
       "      <td>65744</td>\n",
       "      <td>44981</td>\n",
       "      <td>28147</td>\n",
       "      <td>3057</td>\n",
       "      <td>6296</td>\n",
       "      <td>4265</td>\n",
       "      <td>7399</td>\n",
       "      <td>10501</td>\n",
       "      <td>9741</td>\n",
       "      <td>...</td>\n",
       "      <td>13414</td>\n",
       "      <td>10801</td>\n",
       "      <td>49634</td>\n",
       "      <td>844</td>\n",
       "      <td>4384</td>\n",
       "      <td>9053</td>\n",
       "      <td>66</td>\n",
       "      <td>1122</td>\n",
       "      <td>13691</td>\n",
       "      <td>43440</td>\n",
       "    </tr>\n",
       "    <tr>\n",
       "      <th rowspan=\"2\" valign=\"top\">2018</th>\n",
       "      <th>住院</th>\n",
       "      <td>18</td>\n",
       "      <td>165</td>\n",
       "      <td>141</td>\n",
       "      <td>19</td>\n",
       "      <td>16</td>\n",
       "      <td>19</td>\n",
       "      <td>41</td>\n",
       "      <td>32</td>\n",
       "      <td>87</td>\n",
       "      <td>47</td>\n",
       "      <td>...</td>\n",
       "      <td>49</td>\n",
       "      <td>17</td>\n",
       "      <td>154</td>\n",
       "      <td>0</td>\n",
       "      <td>19</td>\n",
       "      <td>38</td>\n",
       "      <td>2</td>\n",
       "      <td>4</td>\n",
       "      <td>13</td>\n",
       "      <td>134</td>\n",
       "    </tr>\n",
       "    <tr>\n",
       "      <th>門診</th>\n",
       "      <td>1908</td>\n",
       "      <td>12191</td>\n",
       "      <td>8002</td>\n",
       "      <td>7311</td>\n",
       "      <td>741</td>\n",
       "      <td>1554</td>\n",
       "      <td>1275</td>\n",
       "      <td>2367</td>\n",
       "      <td>1805</td>\n",
       "      <td>1808</td>\n",
       "      <td>...</td>\n",
       "      <td>3258</td>\n",
       "      <td>2934</td>\n",
       "      <td>9073</td>\n",
       "      <td>162</td>\n",
       "      <td>880</td>\n",
       "      <td>1597</td>\n",
       "      <td>36</td>\n",
       "      <td>527</td>\n",
       "      <td>2580</td>\n",
       "      <td>8326</td>\n",
       "    </tr>\n",
       "  </tbody>\n",
       "</table>\n",
       "<p>22 rows × 22 columns</p>\n",
       "</div>"
      ],
      "text/plain": [
       "縣市           南投縣     台中市    台北市    台南市   台東縣    嘉義市   嘉義縣    基隆市    宜蘭縣  \\\n",
       "年    就診類別                                                                 \n",
       "2008 住院       14     765    739     62     6     11    30     78     13   \n",
       "     門診    10056   55128  26905  41456  2934   8274  4016   4760   7288   \n",
       "2009 住院      153     986    820    115    59    186   237    124    297   \n",
       "     門診     6645   46014  17825  24913  2806   6779  2948   4229   7042   \n",
       "2010 住院      352    2327   2305    251    68    408   588    388   1279   \n",
       "     門診    23468  137646  68862  72263  4521  19335  8712  13457  14426   \n",
       "2011 住院      165     891   1110    142    63    189   339    207    783   \n",
       "     門診     8758   55265  34228  36128  2371  10101  5179   6580   6767   \n",
       "2012 住院      128    1193   1256    212    68    149   264    206    583   \n",
       "     門診     8768   68450  44295  39727  2339   8245  3790   8448   9785   \n",
       "2013 住院      271    1759   1232    207    90    207   353    187    901   \n",
       "     門診    15680   90260  45548  51344  3896  10392  5209   7438  10585   \n",
       "2014 住院      169    1276    958    110    59    160   283    175    660   \n",
       "     門診    12413   73386  45480  36193  2662  10491  6071   8024  11156   \n",
       "2015 住院      146    1175    801    135    57    150   290    196    567   \n",
       "     門診    10953   80743  47070  39807  2792   9721  6311   9063  10962   \n",
       "2016 住院      277    1389    857    182    67     91   274    166    469   \n",
       "     門診    13942   96622  49049  51394  3403   8643  5977   8782  11312   \n",
       "2017 住院      194     991    771     80    37     79   252    148    404   \n",
       "     門診     9115   65744  44981  28147  3057   6296  4265   7399  10501   \n",
       "2018 住院       18     165    141     19    16     19    41     32     87   \n",
       "     門診     1908   12191   8002   7311   741   1554  1275   2367   1805   \n",
       "\n",
       "縣市           屏東縣  ...      新竹市    新竹縣    桃園市   澎湖縣   花蓮縣    苗栗縣  連江縣   金門縣  \\\n",
       "年    就診類別         ...                                                        \n",
       "2008 住院       36  ...      158     31    152     0    60      2    1    47   \n",
       "     門診     8292  ...     7864  10312  34864  1526  2605  10261   81  1694   \n",
       "2009 住院      136  ...      243     29    728     0   130     18    0    17   \n",
       "     門診     7758  ...     5540   7781  24582  2211  3159   7701   90  1458   \n",
       "2010 住院      228  ...      545    220   1838     1   122    202    1    25   \n",
       "     門診    19609  ...    23046  26741  84853  2581  6415  19104  142  3098   \n",
       "2011 住院      138  ...      277     96   1188     2   106     24    0    30   \n",
       "     門診     9455  ...    10525  11189  45576  1117  3552   8617   20  1061   \n",
       "2012 住院      199  ...      327     93   1152     1   101    101    0    25   \n",
       "     門診    11674  ...    13669  14022  48974  1036  4122  12364   27   905   \n",
       "2013 住院      251  ...      323    139   1310     0   146     51    3    29   \n",
       "     門診    15220  ...    14375  14156  52461  2435  6079  12122  257  3701   \n",
       "2014 住院      104  ...      268    126    919     0    67     43    1    18   \n",
       "     門診    12167  ...    14508  13611  52090  2318  3418   9667   76  2930   \n",
       "2015 住院       97  ...      374    150    906     0    72    163    1    13   \n",
       "     門診    14616  ...    17465  14879  51818   946  5720  10564   69  1663   \n",
       "2016 住院      159  ...      237     78    875     0    55    240    1    10   \n",
       "     門診    13282  ...    17471  13961  56366  2717  5488  12979  152  2507   \n",
       "2017 住院      226  ...      236     81    986     0    51    146    0     7   \n",
       "     門診     9741  ...    13414  10801  49634   844  4384   9053   66  1122   \n",
       "2018 住院       47  ...       49     17    154     0    19     38    2     4   \n",
       "     門診     1808  ...     3258   2934   9073   162   880   1597   36   527   \n",
       "\n",
       "縣市           雲林縣    高雄市  \n",
       "年    就診類別                \n",
       "2008 住院       10    291  \n",
       "     門診    14893  34811  \n",
       "2009 住院        8    620  \n",
       "     門診    11097  23736  \n",
       "2010 住院       54   1557  \n",
       "     門診    30818  78846  \n",
       "2011 住院       61    698  \n",
       "     門診    19495  34705  \n",
       "2012 住院       20    783  \n",
       "     門診    15852  39225  \n",
       "2013 住院       22   1284  \n",
       "     門診    22491  53510  \n",
       "2014 住院      121    830  \n",
       "     門診    18663  42539  \n",
       "2015 住院      109   1072  \n",
       "     門診    17658  47522  \n",
       "2016 住院      113   1052  \n",
       "     門診    17453  53973  \n",
       "2017 住院      101    977  \n",
       "     門診    13691  43440  \n",
       "2018 住院       13    134  \n",
       "     門診     2580   8326  \n",
       "\n",
       "[22 rows x 22 columns]"
      ]
     },
     "execution_count": 43,
     "metadata": {},
     "output_type": "execute_result"
    }
   ],
   "source": [
    "df.pivot_table(values='腸病毒健保就診人次',index=['年','就診類別'],columns='縣市',aggfunc='sum')"
   ]
  },
  {
   "cell_type": "markdown",
   "metadata": {},
   "source": [
    "## Let's check the above one-line code for YiLan : "
   ]
  },
  {
   "cell_type": "code",
   "execution_count": 47,
   "metadata": {},
   "outputs": [
    {
     "name": "stdout",
     "output_type": "stream",
     "text": [
      "{'2008': 7301, '2009': 7339, '2010': 15705, '2011': 7550, '2012': 10368, '2013': 11486, '2014': 11816, '2015': 11529, '2016': 11781, '2017': 10905, '2018': 1892}\n"
     ]
    }
   ],
   "source": [
    "d=dict()\n",
    "for i in range(leng):\n",
    "    key=df['年'][i]\n",
    "    d[key]=0\n",
    "    \n",
    "for i in range(leng):\n",
    "    if df['縣市'][i]=='宜蘭縣':\n",
    "        key=df['年'][i]\n",
    "        d[key]=d[key]+df['腸病毒健保就診人次'][i]\n",
    "print(d)"
   ]
  },
  {
   "cell_type": "code",
   "execution_count": 48,
   "metadata": {},
   "outputs": [
    {
     "data": {
      "text/plain": [
       "年\n",
       "2008     7301\n",
       "2009     7339\n",
       "2010    15705\n",
       "2011     7550\n",
       "2012    10368\n",
       "2013    11486\n",
       "2014    11816\n",
       "2015    11529\n",
       "2016    11781\n",
       "2017    10905\n",
       "2018     1892\n",
       "Name: 宜蘭縣, dtype: int64"
      ]
     },
     "execution_count": 48,
     "metadata": {},
     "output_type": "execute_result"
    }
   ],
   "source": [
    "dfm=df.pivot_table(values='腸病毒健保就診人次',index=['年'],columns='縣市',aggfunc='sum')\n",
    "dfm['宜蘭縣']"
   ]
  },
  {
   "cell_type": "markdown",
   "metadata": {
    "collapsed": true
   },
   "source": [
    "## example : the database of passengers on the Titanic"
   ]
  },
  {
   "cell_type": "code",
   "execution_count": 49,
   "metadata": {
    "collapsed": true
   },
   "outputs": [],
   "source": [
    "import seaborn as sns\n",
    "titanic=sns.load_dataset('titanic')"
   ]
  },
  {
   "cell_type": "code",
   "execution_count": 50,
   "metadata": {},
   "outputs": [
    {
     "name": "stdout",
     "output_type": "stream",
     "text": [
      "<class 'pandas.core.frame.DataFrame'>\n"
     ]
    }
   ],
   "source": [
    "print(type(titanic))"
   ]
  },
  {
   "cell_type": "code",
   "execution_count": 51,
   "metadata": {},
   "outputs": [
    {
     "name": "stdout",
     "output_type": "stream",
     "text": [
      "<class 'pandas.core.frame.DataFrame'>\n",
      "RangeIndex: 891 entries, 0 to 890\n",
      "Data columns (total 15 columns):\n",
      "survived       891 non-null int64\n",
      "pclass         891 non-null int64\n",
      "sex            891 non-null object\n",
      "age            714 non-null float64\n",
      "sibsp          891 non-null int64\n",
      "parch          891 non-null int64\n",
      "fare           891 non-null float64\n",
      "embarked       889 non-null object\n",
      "class          891 non-null category\n",
      "who            891 non-null object\n",
      "adult_male     891 non-null bool\n",
      "deck           203 non-null category\n",
      "embark_town    889 non-null object\n",
      "alive          891 non-null object\n",
      "alone          891 non-null bool\n",
      "dtypes: bool(2), category(2), float64(2), int64(4), object(5)\n",
      "memory usage: 80.6+ KB\n"
     ]
    }
   ],
   "source": [
    "titanic.info()"
   ]
  },
  {
   "cell_type": "code",
   "execution_count": 52,
   "metadata": {},
   "outputs": [
    {
     "data": {
      "text/html": [
       "<div>\n",
       "<style>\n",
       "    .dataframe thead tr:only-child th {\n",
       "        text-align: right;\n",
       "    }\n",
       "\n",
       "    .dataframe thead th {\n",
       "        text-align: left;\n",
       "    }\n",
       "\n",
       "    .dataframe tbody tr th {\n",
       "        vertical-align: top;\n",
       "    }\n",
       "</style>\n",
       "<table border=\"1\" class=\"dataframe\">\n",
       "  <thead>\n",
       "    <tr style=\"text-align: right;\">\n",
       "      <th></th>\n",
       "      <th>survived</th>\n",
       "      <th>pclass</th>\n",
       "      <th>sex</th>\n",
       "      <th>age</th>\n",
       "      <th>sibsp</th>\n",
       "      <th>parch</th>\n",
       "      <th>fare</th>\n",
       "      <th>embarked</th>\n",
       "      <th>class</th>\n",
       "      <th>who</th>\n",
       "      <th>adult_male</th>\n",
       "      <th>deck</th>\n",
       "      <th>embark_town</th>\n",
       "      <th>alive</th>\n",
       "      <th>alone</th>\n",
       "    </tr>\n",
       "  </thead>\n",
       "  <tbody>\n",
       "    <tr>\n",
       "      <th>0</th>\n",
       "      <td>0</td>\n",
       "      <td>3</td>\n",
       "      <td>male</td>\n",
       "      <td>22.0</td>\n",
       "      <td>1</td>\n",
       "      <td>0</td>\n",
       "      <td>7.2500</td>\n",
       "      <td>S</td>\n",
       "      <td>Third</td>\n",
       "      <td>man</td>\n",
       "      <td>True</td>\n",
       "      <td>NaN</td>\n",
       "      <td>Southampton</td>\n",
       "      <td>no</td>\n",
       "      <td>False</td>\n",
       "    </tr>\n",
       "    <tr>\n",
       "      <th>1</th>\n",
       "      <td>1</td>\n",
       "      <td>1</td>\n",
       "      <td>female</td>\n",
       "      <td>38.0</td>\n",
       "      <td>1</td>\n",
       "      <td>0</td>\n",
       "      <td>71.2833</td>\n",
       "      <td>C</td>\n",
       "      <td>First</td>\n",
       "      <td>woman</td>\n",
       "      <td>False</td>\n",
       "      <td>C</td>\n",
       "      <td>Cherbourg</td>\n",
       "      <td>yes</td>\n",
       "      <td>False</td>\n",
       "    </tr>\n",
       "    <tr>\n",
       "      <th>2</th>\n",
       "      <td>1</td>\n",
       "      <td>3</td>\n",
       "      <td>female</td>\n",
       "      <td>26.0</td>\n",
       "      <td>0</td>\n",
       "      <td>0</td>\n",
       "      <td>7.9250</td>\n",
       "      <td>S</td>\n",
       "      <td>Third</td>\n",
       "      <td>woman</td>\n",
       "      <td>False</td>\n",
       "      <td>NaN</td>\n",
       "      <td>Southampton</td>\n",
       "      <td>yes</td>\n",
       "      <td>True</td>\n",
       "    </tr>\n",
       "    <tr>\n",
       "      <th>3</th>\n",
       "      <td>1</td>\n",
       "      <td>1</td>\n",
       "      <td>female</td>\n",
       "      <td>35.0</td>\n",
       "      <td>1</td>\n",
       "      <td>0</td>\n",
       "      <td>53.1000</td>\n",
       "      <td>S</td>\n",
       "      <td>First</td>\n",
       "      <td>woman</td>\n",
       "      <td>False</td>\n",
       "      <td>C</td>\n",
       "      <td>Southampton</td>\n",
       "      <td>yes</td>\n",
       "      <td>False</td>\n",
       "    </tr>\n",
       "    <tr>\n",
       "      <th>4</th>\n",
       "      <td>0</td>\n",
       "      <td>3</td>\n",
       "      <td>male</td>\n",
       "      <td>35.0</td>\n",
       "      <td>0</td>\n",
       "      <td>0</td>\n",
       "      <td>8.0500</td>\n",
       "      <td>S</td>\n",
       "      <td>Third</td>\n",
       "      <td>man</td>\n",
       "      <td>True</td>\n",
       "      <td>NaN</td>\n",
       "      <td>Southampton</td>\n",
       "      <td>no</td>\n",
       "      <td>True</td>\n",
       "    </tr>\n",
       "    <tr>\n",
       "      <th>5</th>\n",
       "      <td>0</td>\n",
       "      <td>3</td>\n",
       "      <td>male</td>\n",
       "      <td>NaN</td>\n",
       "      <td>0</td>\n",
       "      <td>0</td>\n",
       "      <td>8.4583</td>\n",
       "      <td>Q</td>\n",
       "      <td>Third</td>\n",
       "      <td>man</td>\n",
       "      <td>True</td>\n",
       "      <td>NaN</td>\n",
       "      <td>Queenstown</td>\n",
       "      <td>no</td>\n",
       "      <td>True</td>\n",
       "    </tr>\n",
       "    <tr>\n",
       "      <th>6</th>\n",
       "      <td>0</td>\n",
       "      <td>1</td>\n",
       "      <td>male</td>\n",
       "      <td>54.0</td>\n",
       "      <td>0</td>\n",
       "      <td>0</td>\n",
       "      <td>51.8625</td>\n",
       "      <td>S</td>\n",
       "      <td>First</td>\n",
       "      <td>man</td>\n",
       "      <td>True</td>\n",
       "      <td>E</td>\n",
       "      <td>Southampton</td>\n",
       "      <td>no</td>\n",
       "      <td>True</td>\n",
       "    </tr>\n",
       "    <tr>\n",
       "      <th>7</th>\n",
       "      <td>0</td>\n",
       "      <td>3</td>\n",
       "      <td>male</td>\n",
       "      <td>2.0</td>\n",
       "      <td>3</td>\n",
       "      <td>1</td>\n",
       "      <td>21.0750</td>\n",
       "      <td>S</td>\n",
       "      <td>Third</td>\n",
       "      <td>child</td>\n",
       "      <td>False</td>\n",
       "      <td>NaN</td>\n",
       "      <td>Southampton</td>\n",
       "      <td>no</td>\n",
       "      <td>False</td>\n",
       "    </tr>\n",
       "    <tr>\n",
       "      <th>8</th>\n",
       "      <td>1</td>\n",
       "      <td>3</td>\n",
       "      <td>female</td>\n",
       "      <td>27.0</td>\n",
       "      <td>0</td>\n",
       "      <td>2</td>\n",
       "      <td>11.1333</td>\n",
       "      <td>S</td>\n",
       "      <td>Third</td>\n",
       "      <td>woman</td>\n",
       "      <td>False</td>\n",
       "      <td>NaN</td>\n",
       "      <td>Southampton</td>\n",
       "      <td>yes</td>\n",
       "      <td>False</td>\n",
       "    </tr>\n",
       "    <tr>\n",
       "      <th>9</th>\n",
       "      <td>1</td>\n",
       "      <td>2</td>\n",
       "      <td>female</td>\n",
       "      <td>14.0</td>\n",
       "      <td>1</td>\n",
       "      <td>0</td>\n",
       "      <td>30.0708</td>\n",
       "      <td>C</td>\n",
       "      <td>Second</td>\n",
       "      <td>child</td>\n",
       "      <td>False</td>\n",
       "      <td>NaN</td>\n",
       "      <td>Cherbourg</td>\n",
       "      <td>yes</td>\n",
       "      <td>False</td>\n",
       "    </tr>\n",
       "  </tbody>\n",
       "</table>\n",
       "</div>"
      ],
      "text/plain": [
       "   survived  pclass     sex   age  sibsp  parch     fare embarked   class  \\\n",
       "0         0       3    male  22.0      1      0   7.2500        S   Third   \n",
       "1         1       1  female  38.0      1      0  71.2833        C   First   \n",
       "2         1       3  female  26.0      0      0   7.9250        S   Third   \n",
       "3         1       1  female  35.0      1      0  53.1000        S   First   \n",
       "4         0       3    male  35.0      0      0   8.0500        S   Third   \n",
       "5         0       3    male   NaN      0      0   8.4583        Q   Third   \n",
       "6         0       1    male  54.0      0      0  51.8625        S   First   \n",
       "7         0       3    male   2.0      3      1  21.0750        S   Third   \n",
       "8         1       3  female  27.0      0      2  11.1333        S   Third   \n",
       "9         1       2  female  14.0      1      0  30.0708        C  Second   \n",
       "\n",
       "     who  adult_male deck  embark_town alive  alone  \n",
       "0    man        True  NaN  Southampton    no  False  \n",
       "1  woman       False    C    Cherbourg   yes  False  \n",
       "2  woman       False  NaN  Southampton   yes   True  \n",
       "3  woman       False    C  Southampton   yes  False  \n",
       "4    man        True  NaN  Southampton    no   True  \n",
       "5    man        True  NaN   Queenstown    no   True  \n",
       "6    man        True    E  Southampton    no   True  \n",
       "7  child       False  NaN  Southampton    no  False  \n",
       "8  woman       False  NaN  Southampton   yes  False  \n",
       "9  child       False  NaN    Cherbourg   yes  False  "
      ]
     },
     "execution_count": 52,
     "metadata": {},
     "output_type": "execute_result"
    }
   ],
   "source": [
    "titanic[:10]"
   ]
  },
  {
   "cell_type": "markdown",
   "metadata": {},
   "source": [
    "## ques 1: How many male  and  female  persons on titanic ? What's  the survival rate ?"
   ]
  },
  {
   "cell_type": "code",
   "execution_count": 54,
   "metadata": {},
   "outputs": [
    {
     "data": {
      "text/plain": [
       "sex\n",
       "female    314\n",
       "male      577\n",
       "Name: survived, dtype: int64"
      ]
     },
     "execution_count": 54,
     "metadata": {},
     "output_type": "execute_result"
    }
   ],
   "source": [
    "titanic.groupby('sex')['survived'].count()"
   ]
  },
  {
   "cell_type": "code",
   "execution_count": 55,
   "metadata": {},
   "outputs": [
    {
     "data": {
      "text/plain": [
       "sex\n",
       "female    233\n",
       "male      109\n",
       "Name: survived, dtype: int64"
      ]
     },
     "execution_count": 55,
     "metadata": {},
     "output_type": "execute_result"
    }
   ],
   "source": [
    "titanic.groupby('sex')['survived'].sum()"
   ]
  },
  {
   "cell_type": "code",
   "execution_count": 56,
   "metadata": {},
   "outputs": [
    {
     "data": {
      "text/plain": [
       "sex\n",
       "female    0.742038\n",
       "male      0.188908\n",
       "Name: survived, dtype: float64"
      ]
     },
     "execution_count": 56,
     "metadata": {},
     "output_type": "execute_result"
    }
   ],
   "source": [
    "titanic.groupby('sex')['survived'].mean()"
   ]
  },
  {
   "cell_type": "markdown",
   "metadata": {},
   "source": [
    "## female survival rate is 0.74 higher than male:0.188"
   ]
  },
  {
   "cell_type": "markdown",
   "metadata": {},
   "source": [
    "## ques 2: How many male persons bought first class?  They were rich to buy first class. What's their survival rate ?"
   ]
  },
  {
   "cell_type": "code",
   "execution_count": 29,
   "metadata": {},
   "outputs": [
    {
     "data": {
      "text/html": [
       "<div>\n",
       "<style>\n",
       "    .dataframe thead tr:only-child th {\n",
       "        text-align: right;\n",
       "    }\n",
       "\n",
       "    .dataframe thead th {\n",
       "        text-align: left;\n",
       "    }\n",
       "\n",
       "    .dataframe tbody tr th {\n",
       "        vertical-align: top;\n",
       "    }\n",
       "</style>\n",
       "<table border=\"1\" class=\"dataframe\">\n",
       "  <thead>\n",
       "    <tr style=\"text-align: right;\">\n",
       "      <th>class</th>\n",
       "      <th>First</th>\n",
       "      <th>Second</th>\n",
       "      <th>Third</th>\n",
       "    </tr>\n",
       "    <tr>\n",
       "      <th>sex</th>\n",
       "      <th></th>\n",
       "      <th></th>\n",
       "      <th></th>\n",
       "    </tr>\n",
       "  </thead>\n",
       "  <tbody>\n",
       "    <tr>\n",
       "      <th>female</th>\n",
       "      <td>94</td>\n",
       "      <td>76</td>\n",
       "      <td>144</td>\n",
       "    </tr>\n",
       "    <tr>\n",
       "      <th>male</th>\n",
       "      <td>122</td>\n",
       "      <td>108</td>\n",
       "      <td>347</td>\n",
       "    </tr>\n",
       "  </tbody>\n",
       "</table>\n",
       "</div>"
      ],
      "text/plain": [
       "class   First  Second  Third\n",
       "sex                         \n",
       "female     94      76    144\n",
       "male      122     108    347"
      ]
     },
     "execution_count": 29,
     "metadata": {},
     "output_type": "execute_result"
    }
   ],
   "source": [
    "titanic.pivot_table(values='survived', index='sex', columns='class',aggfunc='count')"
   ]
  },
  {
   "cell_type": "code",
   "execution_count": 30,
   "metadata": {},
   "outputs": [
    {
     "data": {
      "text/html": [
       "<div>\n",
       "<style>\n",
       "    .dataframe thead tr:only-child th {\n",
       "        text-align: right;\n",
       "    }\n",
       "\n",
       "    .dataframe thead th {\n",
       "        text-align: left;\n",
       "    }\n",
       "\n",
       "    .dataframe tbody tr th {\n",
       "        vertical-align: top;\n",
       "    }\n",
       "</style>\n",
       "<table border=\"1\" class=\"dataframe\">\n",
       "  <thead>\n",
       "    <tr style=\"text-align: right;\">\n",
       "      <th>class</th>\n",
       "      <th>First</th>\n",
       "      <th>Second</th>\n",
       "      <th>Third</th>\n",
       "    </tr>\n",
       "    <tr>\n",
       "      <th>sex</th>\n",
       "      <th></th>\n",
       "      <th></th>\n",
       "      <th></th>\n",
       "    </tr>\n",
       "  </thead>\n",
       "  <tbody>\n",
       "    <tr>\n",
       "      <th>female</th>\n",
       "      <td>91</td>\n",
       "      <td>70</td>\n",
       "      <td>72</td>\n",
       "    </tr>\n",
       "    <tr>\n",
       "      <th>male</th>\n",
       "      <td>45</td>\n",
       "      <td>17</td>\n",
       "      <td>47</td>\n",
       "    </tr>\n",
       "  </tbody>\n",
       "</table>\n",
       "</div>"
      ],
      "text/plain": [
       "class   First  Second  Third\n",
       "sex                         \n",
       "female     91      70     72\n",
       "male       45      17     47"
      ]
     },
     "execution_count": 30,
     "metadata": {},
     "output_type": "execute_result"
    }
   ],
   "source": [
    "titanic.pivot_table(values='survived', index='sex', columns='class',aggfunc='sum')"
   ]
  },
  {
   "cell_type": "code",
   "execution_count": 31,
   "metadata": {},
   "outputs": [
    {
     "data": {
      "text/html": [
       "<div>\n",
       "<style>\n",
       "    .dataframe thead tr:only-child th {\n",
       "        text-align: right;\n",
       "    }\n",
       "\n",
       "    .dataframe thead th {\n",
       "        text-align: left;\n",
       "    }\n",
       "\n",
       "    .dataframe tbody tr th {\n",
       "        vertical-align: top;\n",
       "    }\n",
       "</style>\n",
       "<table border=\"1\" class=\"dataframe\">\n",
       "  <thead>\n",
       "    <tr style=\"text-align: right;\">\n",
       "      <th>class</th>\n",
       "      <th>First</th>\n",
       "      <th>Second</th>\n",
       "      <th>Third</th>\n",
       "    </tr>\n",
       "    <tr>\n",
       "      <th>sex</th>\n",
       "      <th></th>\n",
       "      <th></th>\n",
       "      <th></th>\n",
       "    </tr>\n",
       "  </thead>\n",
       "  <tbody>\n",
       "    <tr>\n",
       "      <th>female</th>\n",
       "      <td>0.968085</td>\n",
       "      <td>0.921053</td>\n",
       "      <td>0.500000</td>\n",
       "    </tr>\n",
       "    <tr>\n",
       "      <th>male</th>\n",
       "      <td>0.368852</td>\n",
       "      <td>0.157407</td>\n",
       "      <td>0.135447</td>\n",
       "    </tr>\n",
       "  </tbody>\n",
       "</table>\n",
       "</div>"
      ],
      "text/plain": [
       "class      First    Second     Third\n",
       "sex                                 \n",
       "female  0.968085  0.921053  0.500000\n",
       "male    0.368852  0.157407  0.135447"
      ]
     },
     "execution_count": 31,
     "metadata": {},
     "output_type": "execute_result"
    }
   ],
   "source": [
    "titanic.pivot_table(values='survived', index='sex', columns='class',aggfunc='mean')"
   ]
  },
  {
   "cell_type": "markdown",
   "metadata": {},
   "source": [
    "## Jack was poor, he bought class three, which is only 0.13 survival rate !\n",
    "## Rose was rich, she was first class with 0.968 survial rate !!  \n",
    "## We must work hard to earn money !!"
   ]
  },
  {
   "cell_type": "code",
   "execution_count": null,
   "metadata": {
    "collapsed": true
   },
   "outputs": [],
   "source": []
  },
  {
   "cell_type": "code",
   "execution_count": null,
   "metadata": {
    "collapsed": true
   },
   "outputs": [],
   "source": []
  }
 ],
 "metadata": {
  "kernelspec": {
   "display_name": "Python 3",
   "language": "python",
   "name": "python3"
  },
  "language_info": {
   "codemirror_mode": {
    "name": "ipython",
    "version": 3
   },
   "file_extension": ".py",
   "mimetype": "text/x-python",
   "name": "python",
   "nbconvert_exporter": "python",
   "pygments_lexer": "ipython3",
   "version": "3.6.3"
  }
 },
 "nbformat": 4,
 "nbformat_minor": 2
}
