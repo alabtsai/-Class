{
 "cells": [
  {
   "cell_type": "markdown",
   "metadata": {},
   "source": [
    "## Matplotlib visualization"
   ]
  },
  {
   "cell_type": "code",
   "execution_count": 1,
   "metadata": {},
   "outputs": [],
   "source": [
    "import matplotlib.pyplot as plt"
   ]
  },
  {
   "cell_type": "markdown",
   "metadata": {},
   "source": [
    "## 作圖風格"
   ]
  },
  {
   "cell_type": "code",
   "execution_count": 2,
   "metadata": {},
   "outputs": [
    {
     "name": "stdout",
     "output_type": "stream",
     "text": [
      "['bmh', 'classic', 'dark_background', 'fast', 'fivethirtyeight', 'ggplot', 'grayscale', 'seaborn-bright', 'seaborn-colorblind', 'seaborn-dark-palette', 'seaborn-dark', 'seaborn-darkgrid', 'seaborn-deep', 'seaborn-muted', 'seaborn-notebook', 'seaborn-paper', 'seaborn-pastel', 'seaborn-poster', 'seaborn-talk', 'seaborn-ticks', 'seaborn-white', 'seaborn-whitegrid', 'seaborn', 'Solarize_Light2', '_classic_test']\n"
     ]
    }
   ],
   "source": [
    "print(plt.style.available)"
   ]
  },
  {
   "cell_type": "markdown",
   "metadata": {},
   "source": [
    "## 使用 ggplot 風格"
   ]
  },
  {
   "cell_type": "code",
   "execution_count": 3,
   "metadata": {},
   "outputs": [],
   "source": [
    "plt.style.use('ggplot')"
   ]
  },
  {
   "cell_type": "markdown",
   "metadata": {},
   "source": [
    "##  %matplotlin inline lead to static images embeded in the notebook"
   ]
  },
  {
   "cell_type": "code",
   "execution_count": 4,
   "metadata": {},
   "outputs": [],
   "source": [
    "%matplotlib inline"
   ]
  },
  {
   "cell_type": "markdown",
   "metadata": {},
   "source": [
    "## 更改全部中文字體"
   ]
  },
  {
   "cell_type": "markdown",
   "metadata": {},
   "source": [
    "## 中文字體: DFKai-SB(win10), Microsoft YaHei (Win7) \n",
    "##  Microsoft MHei(Windows), SimHei (Mac) "
   ]
  },
  {
   "cell_type": "code",
   "execution_count": 5,
   "metadata": {},
   "outputs": [],
   "source": [
    "plt.rcParams['font.family']='DFKai-SB'"
   ]
  },
  {
   "cell_type": "markdown",
   "metadata": {},
   "source": [
    "## Project example :\n",
    "## 新竹市不動產實價登錄資訊-買賣案件\n",
    "## https://data.gov.tw/dataset/67502\n",
    "## 鄉鎮市區、交易標的、土地區段位置/建物區段門牌、土地移轉總面積[平方公尺]、使用分區或編定、非都市土地使用分區、非都市土地使用地、交易年月、交易筆棟數、移轉層次、總樓層數、建物型態、主要用途、主要建材、建築完成年月、建物移轉總面積[平方公尺]、現況格局-房、現況格局-廳、現況格局-衛、現況格局-隔間、有無管理組織、總價[元]、單價[元/平方公尺]、車位...¶"
   ]
  },
  {
   "cell_type": "code",
   "execution_count": 6,
   "metadata": {},
   "outputs": [],
   "source": [
    "import pandas as pd"
   ]
  },
  {
   "cell_type": "code",
   "execution_count": 7,
   "metadata": {},
   "outputs": [],
   "source": [
    "df=pd.read_csv(\"hsin.csv\")"
   ]
  },
  {
   "cell_type": "code",
   "execution_count": 8,
   "metadata": {},
   "outputs": [
    {
     "name": "stdout",
     "output_type": "stream",
     "text": [
      "<class 'pandas.core.frame.DataFrame'>\n",
      "RangeIndex: 43456 entries, 0 to 43455\n",
      "Data columns (total 27 columns):\n",
      "P1LA_CF46         42881 non-null object\n",
      "P1MA_CASEFLAG     43456 non-null object\n",
      "P1MA_DD09         43456 non-null object\n",
      "P1LA_CArea        43456 non-null float64\n",
      "P1LA_C11_1        37214 non-null object\n",
      "P1LA_C12_1        5986 non-null object\n",
      "P1LA_C12_2        5794 non-null object\n",
      "(沒有資料行名稱)         43456 non-null int64\n",
      "(沒有資料行名稱)1        43456 non-null object\n",
      "P1JD_14_1         36516 non-null object\n",
      "P1LA_F13          37664 non-null object\n",
      "P1MA_BUILD5       43456 non-null object\n",
      "P1LA_F11          37566 non-null object\n",
      "P1LA_F12          37659 non-null object\n",
      "(沒有資料行名稱)2        35754 non-null float64\n",
      "P1LA_FArea        43456 non-null float64\n",
      "P1MA_BUILD1       35252 non-null object\n",
      "P1MA_BUILD2       34042 non-null object\n",
      "P1MA_BUILD3       35494 non-null object\n",
      "P1MA_BUILD4       43456 non-null object\n",
      "P1MA_MANAGE       43456 non-null object\n",
      "P1MA_TOTPRICE     43456 non-null int64\n",
      "MeanPrice         43456 non-null int64\n",
      "P1PA_PARK_1       21905 non-null object\n",
      "P1PA_PARKAREA     43456 non-null float64\n",
      "P1PA_PARKPRICE    43456 non-null int64\n",
      "P1MA_NOTE         43456 non-null object\n",
      "dtypes: float64(4), int64(4), object(19)\n",
      "memory usage: 9.0+ MB\n"
     ]
    }
   ],
   "source": [
    "df.info()"
   ]
  },
  {
   "cell_type": "markdown",
   "metadata": {},
   "source": [
    "## 參考 FGU-Class/Lecture_0509.ipynb\n",
    "## 看一下 first five rows"
   ]
  },
  {
   "cell_type": "code",
   "execution_count": 9,
   "metadata": {},
   "outputs": [
    {
     "data": {
      "text/html": [
       "<div>\n",
       "<style scoped>\n",
       "    .dataframe tbody tr th:only-of-type {\n",
       "        vertical-align: middle;\n",
       "    }\n",
       "\n",
       "    .dataframe tbody tr th {\n",
       "        vertical-align: top;\n",
       "    }\n",
       "\n",
       "    .dataframe thead th {\n",
       "        text-align: right;\n",
       "    }\n",
       "</style>\n",
       "<table border=\"1\" class=\"dataframe\">\n",
       "  <thead>\n",
       "    <tr style=\"text-align: right;\">\n",
       "      <th></th>\n",
       "      <th>P1LA_CF46</th>\n",
       "      <th>P1MA_CASEFLAG</th>\n",
       "      <th>P1MA_DD09</th>\n",
       "      <th>P1LA_CArea</th>\n",
       "      <th>P1LA_C11_1</th>\n",
       "      <th>P1LA_C12_1</th>\n",
       "      <th>P1LA_C12_2</th>\n",
       "      <th>(沒有資料行名稱)</th>\n",
       "      <th>(沒有資料行名稱)1</th>\n",
       "      <th>P1JD_14_1</th>\n",
       "      <th>...</th>\n",
       "      <th>P1MA_BUILD2</th>\n",
       "      <th>P1MA_BUILD3</th>\n",
       "      <th>P1MA_BUILD4</th>\n",
       "      <th>P1MA_MANAGE</th>\n",
       "      <th>P1MA_TOTPRICE</th>\n",
       "      <th>MeanPrice</th>\n",
       "      <th>P1PA_PARK_1</th>\n",
       "      <th>P1PA_PARKAREA</th>\n",
       "      <th>P1PA_PARKPRICE</th>\n",
       "      <th>P1MA_NOTE</th>\n",
       "    </tr>\n",
       "  </thead>\n",
       "  <tbody>\n",
       "    <tr>\n",
       "      <th>0</th>\n",
       "      <td>香山區</td>\n",
       "      <td>地+建</td>\n",
       "      <td>牛埔北路１９６巷1～30號</td>\n",
       "      <td>351.436</td>\n",
       "      <td>NaN</td>\n",
       "      <td>鄉村區</td>\n",
       "      <td>乙建351.436</td>\n",
       "      <td>10107</td>\n",
       "      <td>土地2建物1</td>\n",
       "      <td>A一層=49.29，二層=65.57</td>\n",
       "      <td>...</td>\n",
       "      <td>1廳</td>\n",
       "      <td>1衛</td>\n",
       "      <td>有隔間</td>\n",
       "      <td>無管理組織</td>\n",
       "      <td>8500000</td>\n",
       "      <td>244638</td>\n",
       "      <td>NaN</td>\n",
       "      <td>0.00</td>\n",
       "      <td>0</td>\n",
       "      <td>權利人有二人</td>\n",
       "    </tr>\n",
       "    <tr>\n",
       "      <th>1</th>\n",
       "      <td>東區</td>\n",
       "      <td>地+建</td>\n",
       "      <td>建功一路５３巷1～30號</td>\n",
       "      <td>22.200</td>\n",
       "      <td>住22.2</td>\n",
       "      <td>NaN</td>\n",
       "      <td>NaN</td>\n",
       "      <td>10106</td>\n",
       "      <td>土地1建物1</td>\n",
       "      <td>A三層=75.90</td>\n",
       "      <td>...</td>\n",
       "      <td>2廳</td>\n",
       "      <td>1衛</td>\n",
       "      <td>有隔間</td>\n",
       "      <td>無管理組織</td>\n",
       "      <td>5408000</td>\n",
       "      <td>235543</td>\n",
       "      <td>NaN</td>\n",
       "      <td>0.00</td>\n",
       "      <td>0</td>\n",
       "      <td>無</td>\n",
       "    </tr>\n",
       "    <tr>\n",
       "      <th>2</th>\n",
       "      <td>東區</td>\n",
       "      <td>土地</td>\n",
       "      <td>前溪段151～180地號</td>\n",
       "      <td>769.753</td>\n",
       "      <td>農769.753</td>\n",
       "      <td>特定農業區</td>\n",
       "      <td>NaN</td>\n",
       "      <td>10107</td>\n",
       "      <td>土地1</td>\n",
       "      <td>NaN</td>\n",
       "      <td>...</td>\n",
       "      <td>NaN</td>\n",
       "      <td>NaN</td>\n",
       "      <td>有隔間</td>\n",
       "      <td>無管理組織</td>\n",
       "      <td>13770000</td>\n",
       "      <td>59137</td>\n",
       "      <td>NaN</td>\n",
       "      <td>0.00</td>\n",
       "      <td>0</td>\n",
       "      <td>無</td>\n",
       "    </tr>\n",
       "    <tr>\n",
       "      <th>3</th>\n",
       "      <td>東區</td>\n",
       "      <td>地+建+車</td>\n",
       "      <td>中央路２４５巷31～60號</td>\n",
       "      <td>9.485</td>\n",
       "      <td>住9.485</td>\n",
       "      <td>NaN</td>\n",
       "      <td>NaN</td>\n",
       "      <td>10106</td>\n",
       "      <td>土地1建物1車位1</td>\n",
       "      <td>A四層=40.07</td>\n",
       "      <td>...</td>\n",
       "      <td>1廳</td>\n",
       "      <td>1衛</td>\n",
       "      <td>有隔間</td>\n",
       "      <td>有管理組織</td>\n",
       "      <td>6900000</td>\n",
       "      <td>260953</td>\n",
       "      <td>坡道平面</td>\n",
       "      <td>34.81</td>\n",
       "      <td>1450000</td>\n",
       "      <td>無</td>\n",
       "    </tr>\n",
       "    <tr>\n",
       "      <th>4</th>\n",
       "      <td>香山區</td>\n",
       "      <td>地+建</td>\n",
       "      <td>至善街３１巷1～30號</td>\n",
       "      <td>14.698</td>\n",
       "      <td>NaN</td>\n",
       "      <td>山坡地保育區</td>\n",
       "      <td>丙建14.698</td>\n",
       "      <td>10107</td>\n",
       "      <td>土地2建物1</td>\n",
       "      <td>A四層=17.00</td>\n",
       "      <td>...</td>\n",
       "      <td>NaN</td>\n",
       "      <td>1衛</td>\n",
       "      <td>有隔間</td>\n",
       "      <td>有管理組織</td>\n",
       "      <td>520000</td>\n",
       "      <td>60545</td>\n",
       "      <td>NaN</td>\n",
       "      <td>0.00</td>\n",
       "      <td>0</td>\n",
       "      <td>無</td>\n",
       "    </tr>\n",
       "  </tbody>\n",
       "</table>\n",
       "<p>5 rows × 27 columns</p>\n",
       "</div>"
      ],
      "text/plain": [
       "  P1LA_CF46 P1MA_CASEFLAG      P1MA_DD09  P1LA_CArea P1LA_C11_1 P1LA_C12_1  \\\n",
       "0       香山區           地+建  牛埔北路１９６巷1～30號     351.436        NaN        鄉村區   \n",
       "1        東區           地+建   建功一路５３巷1～30號      22.200      住22.2        NaN   \n",
       "2        東區            土地   前溪段151～180地號     769.753   農769.753      特定農業區   \n",
       "3        東區         地+建+車  中央路２４５巷31～60號       9.485     住9.485        NaN   \n",
       "4       香山區           地+建    至善街３１巷1～30號      14.698        NaN     山坡地保育區   \n",
       "\n",
       "  P1LA_C12_2  (沒有資料行名稱) (沒有資料行名稱)1           P1JD_14_1    ...    P1MA_BUILD2  \\\n",
       "0  乙建351.436      10107     土地2建物1  A一層=49.29，二層=65.57    ...             1廳   \n",
       "1        NaN      10106     土地1建物1           A三層=75.90    ...             2廳   \n",
       "2        NaN      10107        土地1                 NaN    ...            NaN   \n",
       "3        NaN      10106  土地1建物1車位1           A四層=40.07    ...             1廳   \n",
       "4   丙建14.698      10107     土地2建物1           A四層=17.00    ...            NaN   \n",
       "\n",
       "  P1MA_BUILD3 P1MA_BUILD4 P1MA_MANAGE  P1MA_TOTPRICE  MeanPrice P1PA_PARK_1  \\\n",
       "0          1衛         有隔間       無管理組織        8500000     244638         NaN   \n",
       "1          1衛         有隔間       無管理組織        5408000     235543         NaN   \n",
       "2         NaN         有隔間       無管理組織       13770000      59137         NaN   \n",
       "3          1衛         有隔間       有管理組織        6900000     260953        坡道平面   \n",
       "4          1衛         有隔間       有管理組織         520000      60545         NaN   \n",
       "\n",
       "  P1PA_PARKAREA P1PA_PARKPRICE P1MA_NOTE  \n",
       "0          0.00              0    權利人有二人  \n",
       "1          0.00              0         無  \n",
       "2          0.00              0         無  \n",
       "3         34.81        1450000         無  \n",
       "4          0.00              0         無  \n",
       "\n",
       "[5 rows x 27 columns]"
      ]
     },
     "execution_count": 9,
     "metadata": {},
     "output_type": "execute_result"
    }
   ],
   "source": [
    "df[:5]"
   ]
  },
  {
   "cell_type": "markdown",
   "metadata": {},
   "source": [
    "## 取欄"
   ]
  },
  {
   "cell_type": "code",
   "execution_count": 10,
   "metadata": {},
   "outputs": [],
   "source": [
    "dfmo=df[[\"P1LA_CF46\",\"(沒有資料行名稱)2\",\"P1LA_FArea\",\"P1MA_BUILD1\",\"P1MA_BUILD2\",\"P1MA_BUILD3\",\"P1MA_TOTPRICE\" ]]"
   ]
  },
  {
   "cell_type": "code",
   "execution_count": 11,
   "metadata": {},
   "outputs": [
    {
     "name": "stdout",
     "output_type": "stream",
     "text": [
      "<class 'pandas.core.frame.DataFrame'>\n",
      "RangeIndex: 43456 entries, 0 to 43455\n",
      "Data columns (total 7 columns):\n",
      "P1LA_CF46        42881 non-null object\n",
      "(沒有資料行名稱)2       35754 non-null float64\n",
      "P1LA_FArea       43456 non-null float64\n",
      "P1MA_BUILD1      35252 non-null object\n",
      "P1MA_BUILD2      34042 non-null object\n",
      "P1MA_BUILD3      35494 non-null object\n",
      "P1MA_TOTPRICE    43456 non-null int64\n",
      "dtypes: float64(2), int64(1), object(4)\n",
      "memory usage: 2.3+ MB\n"
     ]
    }
   ],
   "source": [
    "dfmo.info()"
   ]
  },
  {
   "cell_type": "code",
   "execution_count": 12,
   "metadata": {},
   "outputs": [
    {
     "data": {
      "text/html": [
       "<div>\n",
       "<style scoped>\n",
       "    .dataframe tbody tr th:only-of-type {\n",
       "        vertical-align: middle;\n",
       "    }\n",
       "\n",
       "    .dataframe tbody tr th {\n",
       "        vertical-align: top;\n",
       "    }\n",
       "\n",
       "    .dataframe thead th {\n",
       "        text-align: right;\n",
       "    }\n",
       "</style>\n",
       "<table border=\"1\" class=\"dataframe\">\n",
       "  <thead>\n",
       "    <tr style=\"text-align: right;\">\n",
       "      <th></th>\n",
       "      <th>P1LA_CF46</th>\n",
       "      <th>(沒有資料行名稱)2</th>\n",
       "      <th>P1LA_FArea</th>\n",
       "      <th>P1MA_BUILD1</th>\n",
       "      <th>P1MA_BUILD2</th>\n",
       "      <th>P1MA_BUILD3</th>\n",
       "      <th>P1MA_TOTPRICE</th>\n",
       "    </tr>\n",
       "  </thead>\n",
       "  <tbody>\n",
       "    <tr>\n",
       "      <th>0</th>\n",
       "      <td>香山區</td>\n",
       "      <td>7209.0</td>\n",
       "      <td>114.860</td>\n",
       "      <td>3房</td>\n",
       "      <td>1廳</td>\n",
       "      <td>1衛</td>\n",
       "      <td>8500000</td>\n",
       "    </tr>\n",
       "    <tr>\n",
       "      <th>1</th>\n",
       "      <td>東區</td>\n",
       "      <td>NaN</td>\n",
       "      <td>75.900</td>\n",
       "      <td>3房</td>\n",
       "      <td>2廳</td>\n",
       "      <td>1衛</td>\n",
       "      <td>5408000</td>\n",
       "    </tr>\n",
       "    <tr>\n",
       "      <th>2</th>\n",
       "      <td>東區</td>\n",
       "      <td>NaN</td>\n",
       "      <td>0.000</td>\n",
       "      <td>NaN</td>\n",
       "      <td>NaN</td>\n",
       "      <td>NaN</td>\n",
       "      <td>13770000</td>\n",
       "    </tr>\n",
       "    <tr>\n",
       "      <th>3</th>\n",
       "      <td>東區</td>\n",
       "      <td>10102.0</td>\n",
       "      <td>103.851</td>\n",
       "      <td>1房</td>\n",
       "      <td>1廳</td>\n",
       "      <td>1衛</td>\n",
       "      <td>6900000</td>\n",
       "    </tr>\n",
       "    <tr>\n",
       "      <th>4</th>\n",
       "      <td>香山區</td>\n",
       "      <td>8705.0</td>\n",
       "      <td>28.392</td>\n",
       "      <td>1房</td>\n",
       "      <td>NaN</td>\n",
       "      <td>1衛</td>\n",
       "      <td>520000</td>\n",
       "    </tr>\n",
       "  </tbody>\n",
       "</table>\n",
       "</div>"
      ],
      "text/plain": [
       "  P1LA_CF46  (沒有資料行名稱)2  P1LA_FArea P1MA_BUILD1 P1MA_BUILD2 P1MA_BUILD3  \\\n",
       "0       香山區      7209.0     114.860          3房          1廳          1衛   \n",
       "1        東區         NaN      75.900          3房          2廳          1衛   \n",
       "2        東區         NaN       0.000         NaN         NaN         NaN   \n",
       "3        東區     10102.0     103.851          1房          1廳          1衛   \n",
       "4       香山區      8705.0      28.392          1房         NaN          1衛   \n",
       "\n",
       "   P1MA_TOTPRICE  \n",
       "0        8500000  \n",
       "1        5408000  \n",
       "2       13770000  \n",
       "3        6900000  \n",
       "4         520000  "
      ]
     },
     "execution_count": 12,
     "metadata": {},
     "output_type": "execute_result"
    }
   ],
   "source": [
    "dfmo[:5]"
   ]
  },
  {
   "cell_type": "markdown",
   "metadata": {},
   "source": [
    "## 修改欄位名稱"
   ]
  },
  {
   "cell_type": "code",
   "execution_count": 13,
   "metadata": {},
   "outputs": [
    {
     "data": {
      "text/html": [
       "<div>\n",
       "<style scoped>\n",
       "    .dataframe tbody tr th:only-of-type {\n",
       "        vertical-align: middle;\n",
       "    }\n",
       "\n",
       "    .dataframe tbody tr th {\n",
       "        vertical-align: top;\n",
       "    }\n",
       "\n",
       "    .dataframe thead th {\n",
       "        text-align: right;\n",
       "    }\n",
       "</style>\n",
       "<table border=\"1\" class=\"dataframe\">\n",
       "  <thead>\n",
       "    <tr style=\"text-align: right;\">\n",
       "      <th></th>\n",
       "      <th>鄉鎮市區</th>\n",
       "      <th>建築完成年月</th>\n",
       "      <th>建物移轉總面積[平方公尺]</th>\n",
       "      <th>P1MA_BUILD1</th>\n",
       "      <th>P1MA_BUILD2</th>\n",
       "      <th>P1MA_BUILD3</th>\n",
       "      <th>P1MA_TOTPRICE</th>\n",
       "    </tr>\n",
       "  </thead>\n",
       "  <tbody>\n",
       "    <tr>\n",
       "      <th>0</th>\n",
       "      <td>香山區</td>\n",
       "      <td>7209.0</td>\n",
       "      <td>114.860</td>\n",
       "      <td>3房</td>\n",
       "      <td>1廳</td>\n",
       "      <td>1衛</td>\n",
       "      <td>8500000</td>\n",
       "    </tr>\n",
       "    <tr>\n",
       "      <th>1</th>\n",
       "      <td>東區</td>\n",
       "      <td>NaN</td>\n",
       "      <td>75.900</td>\n",
       "      <td>3房</td>\n",
       "      <td>2廳</td>\n",
       "      <td>1衛</td>\n",
       "      <td>5408000</td>\n",
       "    </tr>\n",
       "    <tr>\n",
       "      <th>2</th>\n",
       "      <td>東區</td>\n",
       "      <td>NaN</td>\n",
       "      <td>0.000</td>\n",
       "      <td>NaN</td>\n",
       "      <td>NaN</td>\n",
       "      <td>NaN</td>\n",
       "      <td>13770000</td>\n",
       "    </tr>\n",
       "    <tr>\n",
       "      <th>3</th>\n",
       "      <td>東區</td>\n",
       "      <td>10102.0</td>\n",
       "      <td>103.851</td>\n",
       "      <td>1房</td>\n",
       "      <td>1廳</td>\n",
       "      <td>1衛</td>\n",
       "      <td>6900000</td>\n",
       "    </tr>\n",
       "    <tr>\n",
       "      <th>4</th>\n",
       "      <td>香山區</td>\n",
       "      <td>8705.0</td>\n",
       "      <td>28.392</td>\n",
       "      <td>1房</td>\n",
       "      <td>NaN</td>\n",
       "      <td>1衛</td>\n",
       "      <td>520000</td>\n",
       "    </tr>\n",
       "    <tr>\n",
       "      <th>5</th>\n",
       "      <td>東區</td>\n",
       "      <td>7106.0</td>\n",
       "      <td>110.400</td>\n",
       "      <td>4房</td>\n",
       "      <td>2廳</td>\n",
       "      <td>1衛</td>\n",
       "      <td>5428000</td>\n",
       "    </tr>\n",
       "  </tbody>\n",
       "</table>\n",
       "</div>"
      ],
      "text/plain": [
       "  鄉鎮市區   建築完成年月  建物移轉總面積[平方公尺] P1MA_BUILD1 P1MA_BUILD2 P1MA_BUILD3  \\\n",
       "0  香山區   7209.0        114.860          3房          1廳          1衛   \n",
       "1   東區      NaN         75.900          3房          2廳          1衛   \n",
       "2   東區      NaN          0.000         NaN         NaN         NaN   \n",
       "3   東區  10102.0        103.851          1房          1廳          1衛   \n",
       "4  香山區   8705.0         28.392          1房         NaN          1衛   \n",
       "5   東區   7106.0        110.400          4房          2廳          1衛   \n",
       "\n",
       "   P1MA_TOTPRICE  \n",
       "0        8500000  \n",
       "1        5408000  \n",
       "2       13770000  \n",
       "3        6900000  \n",
       "4         520000  \n",
       "5        5428000  "
      ]
     },
     "execution_count": 13,
     "metadata": {},
     "output_type": "execute_result"
    }
   ],
   "source": [
    "dfmo=dfmo.rename(columns={'P1LA_CF46':'鄉鎮市區', \n",
    "                          '(沒有資料行名稱)2':'建築完成年月',\n",
    "                          'P1LA_FArea':'建物移轉總面積[平方公尺]' })\n",
    "dfmo[:6]"
   ]
  },
  {
   "cell_type": "markdown",
   "metadata": {},
   "source": [
    "## missing data is  Nan , type(Nan) is float "
   ]
  },
  {
   "cell_type": "code",
   "execution_count": 15,
   "metadata": {},
   "outputs": [
    {
     "name": "stdout",
     "output_type": "stream",
     "text": [
      "nan\n"
     ]
    },
    {
     "data": {
      "text/plain": [
       "float"
      ]
     },
     "execution_count": 15,
     "metadata": {},
     "output_type": "execute_result"
    }
   ],
   "source": [
    "print(dfmo.loc[2,\"P1MA_BUILD1\"])\n",
    "type(dfmo.loc[2,\"P1MA_BUILD1\"])"
   ]
  },
  {
   "cell_type": "markdown",
   "metadata": {},
   "source": [
    "## 有 data 為 str.  無data 為 float \n",
    "## 看一下 row index=5 , 欄位:\"P1MA_BUILD1\""
   ]
  },
  {
   "cell_type": "code",
   "execution_count": 16,
   "metadata": {},
   "outputs": [
    {
     "name": "stdout",
     "output_type": "stream",
     "text": [
      "4房\n"
     ]
    },
    {
     "data": {
      "text/plain": [
       "str"
      ]
     },
     "execution_count": 16,
     "metadata": {},
     "output_type": "execute_result"
    }
   ],
   "source": [
    "print(dfmo.loc[5,\"P1MA_BUILD1\"])\n",
    "type(dfmo.loc[5,\"P1MA_BUILD1\"])"
   ]
  },
  {
   "cell_type": "markdown",
   "metadata": {},
   "source": [
    "## 如何 將  string:'4房' 中 的 4 取出 轉為 int 呢?"
   ]
  },
  {
   "cell_type": "code",
   "execution_count": 17,
   "metadata": {},
   "outputs": [
    {
     "data": {
      "text/plain": [
       "'4'"
      ]
     },
     "execution_count": 17,
     "metadata": {},
     "output_type": "execute_result"
    }
   ],
   "source": [
    "dfmo.loc[5,\"P1MA_BUILD1\"][0:-1]"
   ]
  },
  {
   "cell_type": "code",
   "execution_count": 18,
   "metadata": {},
   "outputs": [
    {
     "data": {
      "text/plain": [
       "4"
      ]
     },
     "execution_count": 18,
     "metadata": {},
     "output_type": "execute_result"
    }
   ],
   "source": [
    "int(dfmo.loc[5,\"P1MA_BUILD1\"][0:-1])"
   ]
  },
  {
   "cell_type": "code",
   "execution_count": 19,
   "metadata": {},
   "outputs": [],
   "source": [
    "## review string sliceing "
   ]
  },
  {
   "cell_type": "code",
   "execution_count": 20,
   "metadata": {},
   "outputs": [],
   "source": [
    "a='3erq房'"
   ]
  },
  {
   "cell_type": "code",
   "execution_count": 21,
   "metadata": {},
   "outputs": [],
   "source": [
    "a=a[0:-1]"
   ]
  },
  {
   "cell_type": "code",
   "execution_count": 22,
   "metadata": {},
   "outputs": [
    {
     "data": {
      "text/plain": [
       "'3erq'"
      ]
     },
     "execution_count": 22,
     "metadata": {},
     "output_type": "execute_result"
    }
   ],
   "source": [
    "a"
   ]
  },
  {
   "cell_type": "code",
   "execution_count": 23,
   "metadata": {},
   "outputs": [
    {
     "data": {
      "text/plain": [
       "43456"
      ]
     },
     "execution_count": 23,
     "metadata": {},
     "output_type": "execute_result"
    }
   ],
   "source": [
    "len(dfmo['P1MA_BUILD1'])"
   ]
  },
  {
   "cell_type": "code",
   "execution_count": 24,
   "metadata": {},
   "outputs": [
    {
     "data": {
      "text/plain": [
       "43456"
      ]
     },
     "execution_count": 24,
     "metadata": {},
     "output_type": "execute_result"
    }
   ],
   "source": [
    "total_num_row=len(dfmo['P1MA_BUILD1'])\n",
    "total_num_row"
   ]
  },
  {
   "cell_type": "code",
   "execution_count": 27,
   "metadata": {},
   "outputs": [
    {
     "name": "stdout",
     "output_type": "stream",
     "text": [
      "The  P1MA_BUILD1 column has   35252  筆資料 and has  8204 NaN(空資料)\n",
      "total data: 43456\n"
     ]
    }
   ],
   "source": [
    "count=0\n",
    "t_room=[] # 空 list \n",
    "for i in range(total_num_row):\n",
    "    if isinstance(dfmo.loc[i,\"P1MA_BUILD1\"],str):# 如果 為 str 即有真正資料\n",
    "        t_room.append( int(dfmo.loc[i,\"P1MA_BUILD1\"][0:-1]) ) # list 加元素: append 參考 FGU-Class/Lecture_0418.ipyn \n",
    "        count=count+1\n",
    "    else:# 為 Nan \n",
    "        t_room.append( 0 )\n",
    "print(\"The  P1MA_BUILD1 column has  \",count, \" 筆資料\", \"and has \", total_num_row-count,\"NaN(空資料)\")\n",
    "print(\"total data:\",total_num_row )"
   ]
  },
  {
   "cell_type": "code",
   "execution_count": 28,
   "metadata": {},
   "outputs": [
    {
     "data": {
      "text/plain": [
       "[3, 3, 0, 1, 1, 4, 1, 1, 1, 4]"
      ]
     },
     "execution_count": 28,
     "metadata": {},
     "output_type": "execute_result"
    }
   ],
   "source": [
    "t_room[:10]"
   ]
  },
  {
   "cell_type": "code",
   "execution_count": 29,
   "metadata": {},
   "outputs": [
    {
     "data": {
      "text/plain": [
       "43456"
      ]
     },
     "execution_count": 29,
     "metadata": {},
     "output_type": "execute_result"
    }
   ],
   "source": [
    "len(t_room)"
   ]
  },
  {
   "cell_type": "markdown",
   "metadata": {},
   "source": [
    "## 參考 FGU-Class/Lecture_0509.ipynb\n",
    "## add a column"
   ]
  },
  {
   "cell_type": "code",
   "execution_count": 30,
   "metadata": {},
   "outputs": [],
   "source": [
    "dfmo['現況格局-房']=t_room"
   ]
  },
  {
   "cell_type": "code",
   "execution_count": 31,
   "metadata": {},
   "outputs": [
    {
     "data": {
      "text/html": [
       "<div>\n",
       "<style scoped>\n",
       "    .dataframe tbody tr th:only-of-type {\n",
       "        vertical-align: middle;\n",
       "    }\n",
       "\n",
       "    .dataframe tbody tr th {\n",
       "        vertical-align: top;\n",
       "    }\n",
       "\n",
       "    .dataframe thead th {\n",
       "        text-align: right;\n",
       "    }\n",
       "</style>\n",
       "<table border=\"1\" class=\"dataframe\">\n",
       "  <thead>\n",
       "    <tr style=\"text-align: right;\">\n",
       "      <th></th>\n",
       "      <th>鄉鎮市區</th>\n",
       "      <th>建築完成年月</th>\n",
       "      <th>建物移轉總面積[平方公尺]</th>\n",
       "      <th>P1MA_BUILD1</th>\n",
       "      <th>P1MA_BUILD2</th>\n",
       "      <th>P1MA_BUILD3</th>\n",
       "      <th>P1MA_TOTPRICE</th>\n",
       "      <th>現況格局-房</th>\n",
       "    </tr>\n",
       "  </thead>\n",
       "  <tbody>\n",
       "    <tr>\n",
       "      <th>0</th>\n",
       "      <td>香山區</td>\n",
       "      <td>7209.0</td>\n",
       "      <td>114.860</td>\n",
       "      <td>3房</td>\n",
       "      <td>1廳</td>\n",
       "      <td>1衛</td>\n",
       "      <td>8500000</td>\n",
       "      <td>3</td>\n",
       "    </tr>\n",
       "    <tr>\n",
       "      <th>1</th>\n",
       "      <td>東區</td>\n",
       "      <td>NaN</td>\n",
       "      <td>75.900</td>\n",
       "      <td>3房</td>\n",
       "      <td>2廳</td>\n",
       "      <td>1衛</td>\n",
       "      <td>5408000</td>\n",
       "      <td>3</td>\n",
       "    </tr>\n",
       "    <tr>\n",
       "      <th>2</th>\n",
       "      <td>東區</td>\n",
       "      <td>NaN</td>\n",
       "      <td>0.000</td>\n",
       "      <td>NaN</td>\n",
       "      <td>NaN</td>\n",
       "      <td>NaN</td>\n",
       "      <td>13770000</td>\n",
       "      <td>0</td>\n",
       "    </tr>\n",
       "    <tr>\n",
       "      <th>3</th>\n",
       "      <td>東區</td>\n",
       "      <td>10102.0</td>\n",
       "      <td>103.851</td>\n",
       "      <td>1房</td>\n",
       "      <td>1廳</td>\n",
       "      <td>1衛</td>\n",
       "      <td>6900000</td>\n",
       "      <td>1</td>\n",
       "    </tr>\n",
       "    <tr>\n",
       "      <th>4</th>\n",
       "      <td>香山區</td>\n",
       "      <td>8705.0</td>\n",
       "      <td>28.392</td>\n",
       "      <td>1房</td>\n",
       "      <td>NaN</td>\n",
       "      <td>1衛</td>\n",
       "      <td>520000</td>\n",
       "      <td>1</td>\n",
       "    </tr>\n",
       "    <tr>\n",
       "      <th>5</th>\n",
       "      <td>東區</td>\n",
       "      <td>7106.0</td>\n",
       "      <td>110.400</td>\n",
       "      <td>4房</td>\n",
       "      <td>2廳</td>\n",
       "      <td>1衛</td>\n",
       "      <td>5428000</td>\n",
       "      <td>4</td>\n",
       "    </tr>\n",
       "    <tr>\n",
       "      <th>6</th>\n",
       "      <td>東區</td>\n",
       "      <td>10102.0</td>\n",
       "      <td>65.804</td>\n",
       "      <td>1房</td>\n",
       "      <td>1廳</td>\n",
       "      <td>1衛</td>\n",
       "      <td>5300000</td>\n",
       "      <td>1</td>\n",
       "    </tr>\n",
       "    <tr>\n",
       "      <th>7</th>\n",
       "      <td>東區</td>\n",
       "      <td>10102.0</td>\n",
       "      <td>65.804</td>\n",
       "      <td>1房</td>\n",
       "      <td>1廳</td>\n",
       "      <td>1衛</td>\n",
       "      <td>5630000</td>\n",
       "      <td>1</td>\n",
       "    </tr>\n",
       "    <tr>\n",
       "      <th>8</th>\n",
       "      <td>東區</td>\n",
       "      <td>10102.0</td>\n",
       "      <td>88.335</td>\n",
       "      <td>1房</td>\n",
       "      <td>1廳</td>\n",
       "      <td>1衛</td>\n",
       "      <td>6550000</td>\n",
       "      <td>1</td>\n",
       "    </tr>\n",
       "    <tr>\n",
       "      <th>9</th>\n",
       "      <td>東區</td>\n",
       "      <td>5912.0</td>\n",
       "      <td>72.000</td>\n",
       "      <td>4房</td>\n",
       "      <td>1廳</td>\n",
       "      <td>2衛</td>\n",
       "      <td>5100000</td>\n",
       "      <td>4</td>\n",
       "    </tr>\n",
       "  </tbody>\n",
       "</table>\n",
       "</div>"
      ],
      "text/plain": [
       "  鄉鎮市區   建築完成年月  建物移轉總面積[平方公尺] P1MA_BUILD1 P1MA_BUILD2 P1MA_BUILD3  \\\n",
       "0  香山區   7209.0        114.860          3房          1廳          1衛   \n",
       "1   東區      NaN         75.900          3房          2廳          1衛   \n",
       "2   東區      NaN          0.000         NaN         NaN         NaN   \n",
       "3   東區  10102.0        103.851          1房          1廳          1衛   \n",
       "4  香山區   8705.0         28.392          1房         NaN          1衛   \n",
       "5   東區   7106.0        110.400          4房          2廳          1衛   \n",
       "6   東區  10102.0         65.804          1房          1廳          1衛   \n",
       "7   東區  10102.0         65.804          1房          1廳          1衛   \n",
       "8   東區  10102.0         88.335          1房          1廳          1衛   \n",
       "9   東區   5912.0         72.000          4房          1廳          2衛   \n",
       "\n",
       "   P1MA_TOTPRICE  現況格局-房  \n",
       "0        8500000       3  \n",
       "1        5408000       3  \n",
       "2       13770000       0  \n",
       "3        6900000       1  \n",
       "4         520000       1  \n",
       "5        5428000       4  \n",
       "6        5300000       1  \n",
       "7        5630000       1  \n",
       "8        6550000       1  \n",
       "9        5100000       4  "
      ]
     },
     "execution_count": 31,
     "metadata": {},
     "output_type": "execute_result"
    }
   ],
   "source": [
    "dfmo[:10]"
   ]
  },
  {
   "cell_type": "code",
   "execution_count": 32,
   "metadata": {},
   "outputs": [
    {
     "name": "stdout",
     "output_type": "stream",
     "text": [
      "<class 'pandas.core.frame.DataFrame'>\n",
      "RangeIndex: 43456 entries, 0 to 43455\n",
      "Data columns (total 8 columns):\n",
      "鄉鎮市區             42881 non-null object\n",
      "建築完成年月           35754 non-null float64\n",
      "建物移轉總面積[平方公尺]    43456 non-null float64\n",
      "P1MA_BUILD1      35252 non-null object\n",
      "P1MA_BUILD2      34042 non-null object\n",
      "P1MA_BUILD3      35494 non-null object\n",
      "P1MA_TOTPRICE    43456 non-null int64\n",
      "現況格局-房           43456 non-null int64\n",
      "dtypes: float64(2), int64(2), object(4)\n",
      "memory usage: 2.7+ MB\n"
     ]
    }
   ],
   "source": [
    "dfmo.info()"
   ]
  },
  {
   "cell_type": "markdown",
   "metadata": {},
   "source": [
    "## 比較 現況格局- 房 與 P1MA_BUILD1 欄位 : 是 否轉成 int 成功 ?\n",
    "## 刪除 P1MA_BUILD1 欄位 "
   ]
  },
  {
   "cell_type": "code",
   "execution_count": 33,
   "metadata": {},
   "outputs": [],
   "source": [
    "dfmo=dfmo.drop('P1MA_BUILD1',axis=1)"
   ]
  },
  {
   "cell_type": "code",
   "execution_count": 35,
   "metadata": {},
   "outputs": [
    {
     "data": {
      "text/html": [
       "<div>\n",
       "<style scoped>\n",
       "    .dataframe tbody tr th:only-of-type {\n",
       "        vertical-align: middle;\n",
       "    }\n",
       "\n",
       "    .dataframe tbody tr th {\n",
       "        vertical-align: top;\n",
       "    }\n",
       "\n",
       "    .dataframe thead th {\n",
       "        text-align: right;\n",
       "    }\n",
       "</style>\n",
       "<table border=\"1\" class=\"dataframe\">\n",
       "  <thead>\n",
       "    <tr style=\"text-align: right;\">\n",
       "      <th></th>\n",
       "      <th>鄉鎮市區</th>\n",
       "      <th>建築完成年月</th>\n",
       "      <th>建物移轉總面積[平方公尺]</th>\n",
       "      <th>P1MA_BUILD2</th>\n",
       "      <th>P1MA_BUILD3</th>\n",
       "      <th>P1MA_TOTPRICE</th>\n",
       "      <th>現況格局-房</th>\n",
       "    </tr>\n",
       "  </thead>\n",
       "  <tbody>\n",
       "    <tr>\n",
       "      <th>0</th>\n",
       "      <td>香山區</td>\n",
       "      <td>7209.0</td>\n",
       "      <td>114.860</td>\n",
       "      <td>1廳</td>\n",
       "      <td>1衛</td>\n",
       "      <td>8500000</td>\n",
       "      <td>3</td>\n",
       "    </tr>\n",
       "    <tr>\n",
       "      <th>1</th>\n",
       "      <td>東區</td>\n",
       "      <td>NaN</td>\n",
       "      <td>75.900</td>\n",
       "      <td>2廳</td>\n",
       "      <td>1衛</td>\n",
       "      <td>5408000</td>\n",
       "      <td>3</td>\n",
       "    </tr>\n",
       "    <tr>\n",
       "      <th>2</th>\n",
       "      <td>東區</td>\n",
       "      <td>NaN</td>\n",
       "      <td>0.000</td>\n",
       "      <td>NaN</td>\n",
       "      <td>NaN</td>\n",
       "      <td>13770000</td>\n",
       "      <td>0</td>\n",
       "    </tr>\n",
       "    <tr>\n",
       "      <th>3</th>\n",
       "      <td>東區</td>\n",
       "      <td>10102.0</td>\n",
       "      <td>103.851</td>\n",
       "      <td>1廳</td>\n",
       "      <td>1衛</td>\n",
       "      <td>6900000</td>\n",
       "      <td>1</td>\n",
       "    </tr>\n",
       "    <tr>\n",
       "      <th>4</th>\n",
       "      <td>香山區</td>\n",
       "      <td>8705.0</td>\n",
       "      <td>28.392</td>\n",
       "      <td>NaN</td>\n",
       "      <td>1衛</td>\n",
       "      <td>520000</td>\n",
       "      <td>1</td>\n",
       "    </tr>\n",
       "    <tr>\n",
       "      <th>5</th>\n",
       "      <td>東區</td>\n",
       "      <td>7106.0</td>\n",
       "      <td>110.400</td>\n",
       "      <td>2廳</td>\n",
       "      <td>1衛</td>\n",
       "      <td>5428000</td>\n",
       "      <td>4</td>\n",
       "    </tr>\n",
       "    <tr>\n",
       "      <th>6</th>\n",
       "      <td>東區</td>\n",
       "      <td>10102.0</td>\n",
       "      <td>65.804</td>\n",
       "      <td>1廳</td>\n",
       "      <td>1衛</td>\n",
       "      <td>5300000</td>\n",
       "      <td>1</td>\n",
       "    </tr>\n",
       "    <tr>\n",
       "      <th>7</th>\n",
       "      <td>東區</td>\n",
       "      <td>10102.0</td>\n",
       "      <td>65.804</td>\n",
       "      <td>1廳</td>\n",
       "      <td>1衛</td>\n",
       "      <td>5630000</td>\n",
       "      <td>1</td>\n",
       "    </tr>\n",
       "    <tr>\n",
       "      <th>8</th>\n",
       "      <td>東區</td>\n",
       "      <td>10102.0</td>\n",
       "      <td>88.335</td>\n",
       "      <td>1廳</td>\n",
       "      <td>1衛</td>\n",
       "      <td>6550000</td>\n",
       "      <td>1</td>\n",
       "    </tr>\n",
       "    <tr>\n",
       "      <th>9</th>\n",
       "      <td>東區</td>\n",
       "      <td>5912.0</td>\n",
       "      <td>72.000</td>\n",
       "      <td>1廳</td>\n",
       "      <td>2衛</td>\n",
       "      <td>5100000</td>\n",
       "      <td>4</td>\n",
       "    </tr>\n",
       "  </tbody>\n",
       "</table>\n",
       "</div>"
      ],
      "text/plain": [
       "  鄉鎮市區   建築完成年月  建物移轉總面積[平方公尺] P1MA_BUILD2 P1MA_BUILD3  P1MA_TOTPRICE  現況格局-房\n",
       "0  香山區   7209.0        114.860          1廳          1衛        8500000       3\n",
       "1   東區      NaN         75.900          2廳          1衛        5408000       3\n",
       "2   東區      NaN          0.000         NaN         NaN       13770000       0\n",
       "3   東區  10102.0        103.851          1廳          1衛        6900000       1\n",
       "4  香山區   8705.0         28.392         NaN          1衛         520000       1\n",
       "5   東區   7106.0        110.400          2廳          1衛        5428000       4\n",
       "6   東區  10102.0         65.804          1廳          1衛        5300000       1\n",
       "7   東區  10102.0         65.804          1廳          1衛        5630000       1\n",
       "8   東區  10102.0         88.335          1廳          1衛        6550000       1\n",
       "9   東區   5912.0         72.000          1廳          2衛        5100000       4"
      ]
     },
     "execution_count": 35,
     "metadata": {},
     "output_type": "execute_result"
    }
   ],
   "source": [
    "dfmo[:10]"
   ]
  },
  {
   "cell_type": "markdown",
   "metadata": {},
   "source": [
    "## 換轉 P1MA_BUILD2 ( 現況格局-廳  ) 成為 int  "
   ]
  },
  {
   "cell_type": "code",
   "execution_count": 37,
   "metadata": {},
   "outputs": [
    {
     "data": {
      "text/plain": [
       "43456"
      ]
     },
     "execution_count": 37,
     "metadata": {},
     "output_type": "execute_result"
    }
   ],
   "source": [
    "total_num_row=len(dfmo['P1MA_BUILD2'])\n",
    "total_num_row"
   ]
  },
  {
   "cell_type": "code",
   "execution_count": 38,
   "metadata": {},
   "outputs": [
    {
     "name": "stdout",
     "output_type": "stream",
     "text": [
      "The  P1MA_BUILD2  column has   34042  筆資料 and has  9414 NaN(空資料)\n",
      "total data: 43456\n"
     ]
    }
   ],
   "source": [
    "count=0\n",
    "t_living_room=[]\n",
    "for i in range(total_num_row):\n",
    "    if isinstance(dfmo.loc[i,\"P1MA_BUILD2\"],str):# 如果 為 str 即有真正資料\n",
    "        t_living_room.append( int(dfmo.loc[i,\"P1MA_BUILD2\"][0:-1]) )\n",
    "        count=count+1\n",
    "    else:# 為 Nan \n",
    "        t_living_room.append( 0 )\n",
    "print(\"The  P1MA_BUILD2  column has  \",count, \" 筆資料\", \"and has \", total_num_row-count,\"NaN(空資料)\")\n",
    "print(\"total data:\",total_num_row )"
   ]
  },
  {
   "cell_type": "code",
   "execution_count": 39,
   "metadata": {},
   "outputs": [
    {
     "data": {
      "text/plain": [
       "[1, 2, 0, 1, 0, 2, 1, 1, 1, 1]"
      ]
     },
     "execution_count": 39,
     "metadata": {},
     "output_type": "execute_result"
    }
   ],
   "source": [
    "t_living_room[:10]"
   ]
  },
  {
   "cell_type": "code",
   "execution_count": 40,
   "metadata": {},
   "outputs": [
    {
     "data": {
      "text/plain": [
       "43456"
      ]
     },
     "execution_count": 40,
     "metadata": {},
     "output_type": "execute_result"
    }
   ],
   "source": [
    "len(t_living_room)"
   ]
  },
  {
   "cell_type": "code",
   "execution_count": 41,
   "metadata": {},
   "outputs": [],
   "source": [
    "dfmo['現況格局-廳']=t_living_room"
   ]
  },
  {
   "cell_type": "code",
   "execution_count": 42,
   "metadata": {},
   "outputs": [
    {
     "data": {
      "text/html": [
       "<div>\n",
       "<style scoped>\n",
       "    .dataframe tbody tr th:only-of-type {\n",
       "        vertical-align: middle;\n",
       "    }\n",
       "\n",
       "    .dataframe tbody tr th {\n",
       "        vertical-align: top;\n",
       "    }\n",
       "\n",
       "    .dataframe thead th {\n",
       "        text-align: right;\n",
       "    }\n",
       "</style>\n",
       "<table border=\"1\" class=\"dataframe\">\n",
       "  <thead>\n",
       "    <tr style=\"text-align: right;\">\n",
       "      <th></th>\n",
       "      <th>鄉鎮市區</th>\n",
       "      <th>建築完成年月</th>\n",
       "      <th>建物移轉總面積[平方公尺]</th>\n",
       "      <th>P1MA_BUILD2</th>\n",
       "      <th>P1MA_BUILD3</th>\n",
       "      <th>P1MA_TOTPRICE</th>\n",
       "      <th>現況格局-房</th>\n",
       "      <th>現況格局-廳</th>\n",
       "    </tr>\n",
       "  </thead>\n",
       "  <tbody>\n",
       "    <tr>\n",
       "      <th>0</th>\n",
       "      <td>香山區</td>\n",
       "      <td>7209.0</td>\n",
       "      <td>114.860</td>\n",
       "      <td>1廳</td>\n",
       "      <td>1衛</td>\n",
       "      <td>8500000</td>\n",
       "      <td>3</td>\n",
       "      <td>1</td>\n",
       "    </tr>\n",
       "    <tr>\n",
       "      <th>1</th>\n",
       "      <td>東區</td>\n",
       "      <td>NaN</td>\n",
       "      <td>75.900</td>\n",
       "      <td>2廳</td>\n",
       "      <td>1衛</td>\n",
       "      <td>5408000</td>\n",
       "      <td>3</td>\n",
       "      <td>2</td>\n",
       "    </tr>\n",
       "    <tr>\n",
       "      <th>2</th>\n",
       "      <td>東區</td>\n",
       "      <td>NaN</td>\n",
       "      <td>0.000</td>\n",
       "      <td>NaN</td>\n",
       "      <td>NaN</td>\n",
       "      <td>13770000</td>\n",
       "      <td>0</td>\n",
       "      <td>0</td>\n",
       "    </tr>\n",
       "    <tr>\n",
       "      <th>3</th>\n",
       "      <td>東區</td>\n",
       "      <td>10102.0</td>\n",
       "      <td>103.851</td>\n",
       "      <td>1廳</td>\n",
       "      <td>1衛</td>\n",
       "      <td>6900000</td>\n",
       "      <td>1</td>\n",
       "      <td>1</td>\n",
       "    </tr>\n",
       "    <tr>\n",
       "      <th>4</th>\n",
       "      <td>香山區</td>\n",
       "      <td>8705.0</td>\n",
       "      <td>28.392</td>\n",
       "      <td>NaN</td>\n",
       "      <td>1衛</td>\n",
       "      <td>520000</td>\n",
       "      <td>1</td>\n",
       "      <td>0</td>\n",
       "    </tr>\n",
       "    <tr>\n",
       "      <th>5</th>\n",
       "      <td>東區</td>\n",
       "      <td>7106.0</td>\n",
       "      <td>110.400</td>\n",
       "      <td>2廳</td>\n",
       "      <td>1衛</td>\n",
       "      <td>5428000</td>\n",
       "      <td>4</td>\n",
       "      <td>2</td>\n",
       "    </tr>\n",
       "    <tr>\n",
       "      <th>6</th>\n",
       "      <td>東區</td>\n",
       "      <td>10102.0</td>\n",
       "      <td>65.804</td>\n",
       "      <td>1廳</td>\n",
       "      <td>1衛</td>\n",
       "      <td>5300000</td>\n",
       "      <td>1</td>\n",
       "      <td>1</td>\n",
       "    </tr>\n",
       "    <tr>\n",
       "      <th>7</th>\n",
       "      <td>東區</td>\n",
       "      <td>10102.0</td>\n",
       "      <td>65.804</td>\n",
       "      <td>1廳</td>\n",
       "      <td>1衛</td>\n",
       "      <td>5630000</td>\n",
       "      <td>1</td>\n",
       "      <td>1</td>\n",
       "    </tr>\n",
       "    <tr>\n",
       "      <th>8</th>\n",
       "      <td>東區</td>\n",
       "      <td>10102.0</td>\n",
       "      <td>88.335</td>\n",
       "      <td>1廳</td>\n",
       "      <td>1衛</td>\n",
       "      <td>6550000</td>\n",
       "      <td>1</td>\n",
       "      <td>1</td>\n",
       "    </tr>\n",
       "    <tr>\n",
       "      <th>9</th>\n",
       "      <td>東區</td>\n",
       "      <td>5912.0</td>\n",
       "      <td>72.000</td>\n",
       "      <td>1廳</td>\n",
       "      <td>2衛</td>\n",
       "      <td>5100000</td>\n",
       "      <td>4</td>\n",
       "      <td>1</td>\n",
       "    </tr>\n",
       "  </tbody>\n",
       "</table>\n",
       "</div>"
      ],
      "text/plain": [
       "  鄉鎮市區   建築完成年月  建物移轉總面積[平方公尺] P1MA_BUILD2 P1MA_BUILD3  P1MA_TOTPRICE  現況格局-房  \\\n",
       "0  香山區   7209.0        114.860          1廳          1衛        8500000       3   \n",
       "1   東區      NaN         75.900          2廳          1衛        5408000       3   \n",
       "2   東區      NaN          0.000         NaN         NaN       13770000       0   \n",
       "3   東區  10102.0        103.851          1廳          1衛        6900000       1   \n",
       "4  香山區   8705.0         28.392         NaN          1衛         520000       1   \n",
       "5   東區   7106.0        110.400          2廳          1衛        5428000       4   \n",
       "6   東區  10102.0         65.804          1廳          1衛        5300000       1   \n",
       "7   東區  10102.0         65.804          1廳          1衛        5630000       1   \n",
       "8   東區  10102.0         88.335          1廳          1衛        6550000       1   \n",
       "9   東區   5912.0         72.000          1廳          2衛        5100000       4   \n",
       "\n",
       "   現況格局-廳  \n",
       "0       1  \n",
       "1       2  \n",
       "2       0  \n",
       "3       1  \n",
       "4       0  \n",
       "5       2  \n",
       "6       1  \n",
       "7       1  \n",
       "8       1  \n",
       "9       1  "
      ]
     },
     "execution_count": 42,
     "metadata": {},
     "output_type": "execute_result"
    }
   ],
   "source": [
    "dfmo[:10]"
   ]
  },
  {
   "cell_type": "code",
   "execution_count": 45,
   "metadata": {},
   "outputs": [
    {
     "name": "stdout",
     "output_type": "stream",
     "text": [
      "<class 'pandas.core.frame.DataFrame'>\n",
      "RangeIndex: 43456 entries, 0 to 43455\n",
      "Data columns (total 7 columns):\n",
      "鄉鎮市區             42881 non-null object\n",
      "建築完成年月           35754 non-null float64\n",
      "建物移轉總面積[平方公尺]    43456 non-null float64\n",
      "P1MA_BUILD3      35494 non-null object\n",
      "P1MA_TOTPRICE    43456 non-null int64\n",
      "現況格局-房           43456 non-null int64\n",
      "現況格局-廳           43456 non-null int64\n",
      "dtypes: float64(2), int64(3), object(2)\n",
      "memory usage: 2.3+ MB\n"
     ]
    }
   ],
   "source": [
    "dfmo.info()"
   ]
  },
  {
   "cell_type": "code",
   "execution_count": 43,
   "metadata": {},
   "outputs": [],
   "source": [
    "dfmo=dfmo.drop('P1MA_BUILD2',axis=1)"
   ]
  },
  {
   "cell_type": "code",
   "execution_count": 44,
   "metadata": {},
   "outputs": [
    {
     "data": {
      "text/html": [
       "<div>\n",
       "<style scoped>\n",
       "    .dataframe tbody tr th:only-of-type {\n",
       "        vertical-align: middle;\n",
       "    }\n",
       "\n",
       "    .dataframe tbody tr th {\n",
       "        vertical-align: top;\n",
       "    }\n",
       "\n",
       "    .dataframe thead th {\n",
       "        text-align: right;\n",
       "    }\n",
       "</style>\n",
       "<table border=\"1\" class=\"dataframe\">\n",
       "  <thead>\n",
       "    <tr style=\"text-align: right;\">\n",
       "      <th></th>\n",
       "      <th>鄉鎮市區</th>\n",
       "      <th>建築完成年月</th>\n",
       "      <th>建物移轉總面積[平方公尺]</th>\n",
       "      <th>P1MA_BUILD3</th>\n",
       "      <th>P1MA_TOTPRICE</th>\n",
       "      <th>現況格局-房</th>\n",
       "      <th>現況格局-廳</th>\n",
       "    </tr>\n",
       "  </thead>\n",
       "  <tbody>\n",
       "    <tr>\n",
       "      <th>0</th>\n",
       "      <td>香山區</td>\n",
       "      <td>7209.0</td>\n",
       "      <td>114.860</td>\n",
       "      <td>1衛</td>\n",
       "      <td>8500000</td>\n",
       "      <td>3</td>\n",
       "      <td>1</td>\n",
       "    </tr>\n",
       "    <tr>\n",
       "      <th>1</th>\n",
       "      <td>東區</td>\n",
       "      <td>NaN</td>\n",
       "      <td>75.900</td>\n",
       "      <td>1衛</td>\n",
       "      <td>5408000</td>\n",
       "      <td>3</td>\n",
       "      <td>2</td>\n",
       "    </tr>\n",
       "    <tr>\n",
       "      <th>2</th>\n",
       "      <td>東區</td>\n",
       "      <td>NaN</td>\n",
       "      <td>0.000</td>\n",
       "      <td>NaN</td>\n",
       "      <td>13770000</td>\n",
       "      <td>0</td>\n",
       "      <td>0</td>\n",
       "    </tr>\n",
       "    <tr>\n",
       "      <th>3</th>\n",
       "      <td>東區</td>\n",
       "      <td>10102.0</td>\n",
       "      <td>103.851</td>\n",
       "      <td>1衛</td>\n",
       "      <td>6900000</td>\n",
       "      <td>1</td>\n",
       "      <td>1</td>\n",
       "    </tr>\n",
       "    <tr>\n",
       "      <th>4</th>\n",
       "      <td>香山區</td>\n",
       "      <td>8705.0</td>\n",
       "      <td>28.392</td>\n",
       "      <td>1衛</td>\n",
       "      <td>520000</td>\n",
       "      <td>1</td>\n",
       "      <td>0</td>\n",
       "    </tr>\n",
       "  </tbody>\n",
       "</table>\n",
       "</div>"
      ],
      "text/plain": [
       "  鄉鎮市區   建築完成年月  建物移轉總面積[平方公尺] P1MA_BUILD3  P1MA_TOTPRICE  現況格局-房  現況格局-廳\n",
       "0  香山區   7209.0        114.860          1衛        8500000       3       1\n",
       "1   東區      NaN         75.900          1衛        5408000       3       2\n",
       "2   東區      NaN          0.000         NaN       13770000       0       0\n",
       "3   東區  10102.0        103.851          1衛        6900000       1       1\n",
       "4  香山區   8705.0         28.392          1衛         520000       1       0"
      ]
     },
     "execution_count": 44,
     "metadata": {},
     "output_type": "execute_result"
    }
   ],
   "source": [
    "dfmo[:5]"
   ]
  },
  {
   "cell_type": "markdown",
   "metadata": {},
   "source": [
    "## 換轉 P1MA_BUILD3 ( 現況格局-衛) 成為 int"
   ]
  },
  {
   "cell_type": "code",
   "execution_count": 49,
   "metadata": {},
   "outputs": [
    {
     "data": {
      "text/plain": [
       "43456"
      ]
     },
     "execution_count": 49,
     "metadata": {},
     "output_type": "execute_result"
    }
   ],
   "source": [
    "total_num_row=len(dfmo['P1MA_BUILD3'])\n",
    "total_num_row"
   ]
  },
  {
   "cell_type": "code",
   "execution_count": 50,
   "metadata": {},
   "outputs": [
    {
     "name": "stdout",
     "output_type": "stream",
     "text": [
      "The  P1MA_BUILD3  column has   35494  筆資料 and has  7962 NaN(空資料)\n",
      "total data: 43456\n"
     ]
    }
   ],
   "source": [
    "count=0\n",
    "t_bath_room=[]\n",
    "for i in range(total_num_row):\n",
    "    if isinstance(dfmo.loc[i,\"P1MA_BUILD3\"],str):# 如果 為 str 即有真正資料\n",
    "        t_bath_room.append( int(dfmo.loc[i,\"P1MA_BUILD3\"][0:-1]) )\n",
    "        count=count+1\n",
    "    else:# 為 Nan \n",
    "        t_bath_room.append( 0 )\n",
    "print(\"The  P1MA_BUILD3  column has  \",count, \" 筆資料\", \"and has \", total_num_row-count,\"NaN(空資料)\")\n",
    "print(\"total data:\",total_num_row )"
   ]
  },
  {
   "cell_type": "code",
   "execution_count": 52,
   "metadata": {},
   "outputs": [
    {
     "name": "stdout",
     "output_type": "stream",
     "text": [
      "[1, 1, 0, 1, 1, 1, 1, 1, 1, 2]\n",
      "43456\n"
     ]
    }
   ],
   "source": [
    "print( t_bath_room[:10] ) \n",
    "print(len(t_bath_room) )\n",
    "dfmo['現況格局-衛']=t_bath_room"
   ]
  },
  {
   "cell_type": "code",
   "execution_count": 53,
   "metadata": {},
   "outputs": [
    {
     "data": {
      "text/html": [
       "<div>\n",
       "<style scoped>\n",
       "    .dataframe tbody tr th:only-of-type {\n",
       "        vertical-align: middle;\n",
       "    }\n",
       "\n",
       "    .dataframe tbody tr th {\n",
       "        vertical-align: top;\n",
       "    }\n",
       "\n",
       "    .dataframe thead th {\n",
       "        text-align: right;\n",
       "    }\n",
       "</style>\n",
       "<table border=\"1\" class=\"dataframe\">\n",
       "  <thead>\n",
       "    <tr style=\"text-align: right;\">\n",
       "      <th></th>\n",
       "      <th>鄉鎮市區</th>\n",
       "      <th>建築完成年月</th>\n",
       "      <th>建物移轉總面積[平方公尺]</th>\n",
       "      <th>P1MA_BUILD3</th>\n",
       "      <th>P1MA_TOTPRICE</th>\n",
       "      <th>現況格局-房</th>\n",
       "      <th>現況格局-廳</th>\n",
       "      <th>現況格局-衛</th>\n",
       "    </tr>\n",
       "  </thead>\n",
       "  <tbody>\n",
       "    <tr>\n",
       "      <th>0</th>\n",
       "      <td>香山區</td>\n",
       "      <td>7209.0</td>\n",
       "      <td>114.860</td>\n",
       "      <td>1衛</td>\n",
       "      <td>8500000</td>\n",
       "      <td>3</td>\n",
       "      <td>1</td>\n",
       "      <td>1</td>\n",
       "    </tr>\n",
       "    <tr>\n",
       "      <th>1</th>\n",
       "      <td>東區</td>\n",
       "      <td>NaN</td>\n",
       "      <td>75.900</td>\n",
       "      <td>1衛</td>\n",
       "      <td>5408000</td>\n",
       "      <td>3</td>\n",
       "      <td>2</td>\n",
       "      <td>1</td>\n",
       "    </tr>\n",
       "    <tr>\n",
       "      <th>2</th>\n",
       "      <td>東區</td>\n",
       "      <td>NaN</td>\n",
       "      <td>0.000</td>\n",
       "      <td>NaN</td>\n",
       "      <td>13770000</td>\n",
       "      <td>0</td>\n",
       "      <td>0</td>\n",
       "      <td>0</td>\n",
       "    </tr>\n",
       "    <tr>\n",
       "      <th>3</th>\n",
       "      <td>東區</td>\n",
       "      <td>10102.0</td>\n",
       "      <td>103.851</td>\n",
       "      <td>1衛</td>\n",
       "      <td>6900000</td>\n",
       "      <td>1</td>\n",
       "      <td>1</td>\n",
       "      <td>1</td>\n",
       "    </tr>\n",
       "    <tr>\n",
       "      <th>4</th>\n",
       "      <td>香山區</td>\n",
       "      <td>8705.0</td>\n",
       "      <td>28.392</td>\n",
       "      <td>1衛</td>\n",
       "      <td>520000</td>\n",
       "      <td>1</td>\n",
       "      <td>0</td>\n",
       "      <td>1</td>\n",
       "    </tr>\n",
       "    <tr>\n",
       "      <th>5</th>\n",
       "      <td>東區</td>\n",
       "      <td>7106.0</td>\n",
       "      <td>110.400</td>\n",
       "      <td>1衛</td>\n",
       "      <td>5428000</td>\n",
       "      <td>4</td>\n",
       "      <td>2</td>\n",
       "      <td>1</td>\n",
       "    </tr>\n",
       "    <tr>\n",
       "      <th>6</th>\n",
       "      <td>東區</td>\n",
       "      <td>10102.0</td>\n",
       "      <td>65.804</td>\n",
       "      <td>1衛</td>\n",
       "      <td>5300000</td>\n",
       "      <td>1</td>\n",
       "      <td>1</td>\n",
       "      <td>1</td>\n",
       "    </tr>\n",
       "    <tr>\n",
       "      <th>7</th>\n",
       "      <td>東區</td>\n",
       "      <td>10102.0</td>\n",
       "      <td>65.804</td>\n",
       "      <td>1衛</td>\n",
       "      <td>5630000</td>\n",
       "      <td>1</td>\n",
       "      <td>1</td>\n",
       "      <td>1</td>\n",
       "    </tr>\n",
       "    <tr>\n",
       "      <th>8</th>\n",
       "      <td>東區</td>\n",
       "      <td>10102.0</td>\n",
       "      <td>88.335</td>\n",
       "      <td>1衛</td>\n",
       "      <td>6550000</td>\n",
       "      <td>1</td>\n",
       "      <td>1</td>\n",
       "      <td>1</td>\n",
       "    </tr>\n",
       "    <tr>\n",
       "      <th>9</th>\n",
       "      <td>東區</td>\n",
       "      <td>5912.0</td>\n",
       "      <td>72.000</td>\n",
       "      <td>2衛</td>\n",
       "      <td>5100000</td>\n",
       "      <td>4</td>\n",
       "      <td>1</td>\n",
       "      <td>2</td>\n",
       "    </tr>\n",
       "  </tbody>\n",
       "</table>\n",
       "</div>"
      ],
      "text/plain": [
       "  鄉鎮市區   建築完成年月  建物移轉總面積[平方公尺] P1MA_BUILD3  P1MA_TOTPRICE  現況格局-房  現況格局-廳  \\\n",
       "0  香山區   7209.0        114.860          1衛        8500000       3       1   \n",
       "1   東區      NaN         75.900          1衛        5408000       3       2   \n",
       "2   東區      NaN          0.000         NaN       13770000       0       0   \n",
       "3   東區  10102.0        103.851          1衛        6900000       1       1   \n",
       "4  香山區   8705.0         28.392          1衛         520000       1       0   \n",
       "5   東區   7106.0        110.400          1衛        5428000       4       2   \n",
       "6   東區  10102.0         65.804          1衛        5300000       1       1   \n",
       "7   東區  10102.0         65.804          1衛        5630000       1       1   \n",
       "8   東區  10102.0         88.335          1衛        6550000       1       1   \n",
       "9   東區   5912.0         72.000          2衛        5100000       4       1   \n",
       "\n",
       "   現況格局-衛  \n",
       "0       1  \n",
       "1       1  \n",
       "2       0  \n",
       "3       1  \n",
       "4       1  \n",
       "5       1  \n",
       "6       1  \n",
       "7       1  \n",
       "8       1  \n",
       "9       2  "
      ]
     },
     "execution_count": 53,
     "metadata": {},
     "output_type": "execute_result"
    }
   ],
   "source": [
    "dfmo[:10]"
   ]
  },
  {
   "cell_type": "code",
   "execution_count": 54,
   "metadata": {},
   "outputs": [
    {
     "name": "stdout",
     "output_type": "stream",
     "text": [
      "<class 'pandas.core.frame.DataFrame'>\n",
      "RangeIndex: 43456 entries, 0 to 43455\n",
      "Data columns (total 8 columns):\n",
      "鄉鎮市區             42881 non-null object\n",
      "建築完成年月           35754 non-null float64\n",
      "建物移轉總面積[平方公尺]    43456 non-null float64\n",
      "P1MA_BUILD3      35494 non-null object\n",
      "P1MA_TOTPRICE    43456 non-null int64\n",
      "現況格局-房           43456 non-null int64\n",
      "現況格局-廳           43456 non-null int64\n",
      "現況格局-衛           43456 non-null int64\n",
      "dtypes: float64(2), int64(4), object(2)\n",
      "memory usage: 2.7+ MB\n"
     ]
    }
   ],
   "source": [
    "dfmo.info()"
   ]
  },
  {
   "cell_type": "code",
   "execution_count": 55,
   "metadata": {},
   "outputs": [],
   "source": [
    "dfmo=dfmo.drop('P1MA_BUILD3',axis=1)"
   ]
  },
  {
   "cell_type": "code",
   "execution_count": 56,
   "metadata": {},
   "outputs": [
    {
     "data": {
      "text/html": [
       "<div>\n",
       "<style scoped>\n",
       "    .dataframe tbody tr th:only-of-type {\n",
       "        vertical-align: middle;\n",
       "    }\n",
       "\n",
       "    .dataframe tbody tr th {\n",
       "        vertical-align: top;\n",
       "    }\n",
       "\n",
       "    .dataframe thead th {\n",
       "        text-align: right;\n",
       "    }\n",
       "</style>\n",
       "<table border=\"1\" class=\"dataframe\">\n",
       "  <thead>\n",
       "    <tr style=\"text-align: right;\">\n",
       "      <th></th>\n",
       "      <th>鄉鎮市區</th>\n",
       "      <th>建築完成年月</th>\n",
       "      <th>建物移轉總面積[平方公尺]</th>\n",
       "      <th>P1MA_TOTPRICE</th>\n",
       "      <th>現況格局-房</th>\n",
       "      <th>現況格局-廳</th>\n",
       "      <th>現況格局-衛</th>\n",
       "    </tr>\n",
       "  </thead>\n",
       "  <tbody>\n",
       "    <tr>\n",
       "      <th>0</th>\n",
       "      <td>香山區</td>\n",
       "      <td>7209.0</td>\n",
       "      <td>114.860</td>\n",
       "      <td>8500000</td>\n",
       "      <td>3</td>\n",
       "      <td>1</td>\n",
       "      <td>1</td>\n",
       "    </tr>\n",
       "    <tr>\n",
       "      <th>1</th>\n",
       "      <td>東區</td>\n",
       "      <td>NaN</td>\n",
       "      <td>75.900</td>\n",
       "      <td>5408000</td>\n",
       "      <td>3</td>\n",
       "      <td>2</td>\n",
       "      <td>1</td>\n",
       "    </tr>\n",
       "    <tr>\n",
       "      <th>2</th>\n",
       "      <td>東區</td>\n",
       "      <td>NaN</td>\n",
       "      <td>0.000</td>\n",
       "      <td>13770000</td>\n",
       "      <td>0</td>\n",
       "      <td>0</td>\n",
       "      <td>0</td>\n",
       "    </tr>\n",
       "    <tr>\n",
       "      <th>3</th>\n",
       "      <td>東區</td>\n",
       "      <td>10102.0</td>\n",
       "      <td>103.851</td>\n",
       "      <td>6900000</td>\n",
       "      <td>1</td>\n",
       "      <td>1</td>\n",
       "      <td>1</td>\n",
       "    </tr>\n",
       "    <tr>\n",
       "      <th>4</th>\n",
       "      <td>香山區</td>\n",
       "      <td>8705.0</td>\n",
       "      <td>28.392</td>\n",
       "      <td>520000</td>\n",
       "      <td>1</td>\n",
       "      <td>0</td>\n",
       "      <td>1</td>\n",
       "    </tr>\n",
       "  </tbody>\n",
       "</table>\n",
       "</div>"
      ],
      "text/plain": [
       "  鄉鎮市區   建築完成年月  建物移轉總面積[平方公尺]  P1MA_TOTPRICE  現況格局-房  現況格局-廳  現況格局-衛\n",
       "0  香山區   7209.0        114.860        8500000       3       1       1\n",
       "1   東區      NaN         75.900        5408000       3       2       1\n",
       "2   東區      NaN          0.000       13770000       0       0       0\n",
       "3   東區  10102.0        103.851        6900000       1       1       1\n",
       "4  香山區   8705.0         28.392         520000       1       0       1"
      ]
     },
     "execution_count": 56,
     "metadata": {},
     "output_type": "execute_result"
    }
   ],
   "source": [
    "dfmo[:5]"
   ]
  },
  {
   "cell_type": "code",
   "execution_count": 57,
   "metadata": {},
   "outputs": [
    {
     "name": "stdout",
     "output_type": "stream",
     "text": [
      "<class 'pandas.core.frame.DataFrame'>\n",
      "RangeIndex: 43456 entries, 0 to 43455\n",
      "Data columns (total 7 columns):\n",
      "鄉鎮市區             42881 non-null object\n",
      "建築完成年月           35754 non-null float64\n",
      "建物移轉總面積[平方公尺]    43456 non-null float64\n",
      "P1MA_TOTPRICE    43456 non-null int64\n",
      "現況格局-房           43456 non-null int64\n",
      "現況格局-廳           43456 non-null int64\n",
      "現況格局-衛           43456 non-null int64\n",
      "dtypes: float64(2), int64(4), object(1)\n",
      "memory usage: 2.3+ MB\n"
     ]
    }
   ],
   "source": [
    "dfmo.info()"
   ]
  },
  {
   "cell_type": "markdown",
   "metadata": {},
   "source": [
    "## 修改欄位名稱"
   ]
  },
  {
   "cell_type": "code",
   "execution_count": 62,
   "metadata": {},
   "outputs": [
    {
     "data": {
      "text/html": [
       "<div>\n",
       "<style scoped>\n",
       "    .dataframe tbody tr th:only-of-type {\n",
       "        vertical-align: middle;\n",
       "    }\n",
       "\n",
       "    .dataframe tbody tr th {\n",
       "        vertical-align: top;\n",
       "    }\n",
       "\n",
       "    .dataframe thead th {\n",
       "        text-align: right;\n",
       "    }\n",
       "</style>\n",
       "<table border=\"1\" class=\"dataframe\">\n",
       "  <thead>\n",
       "    <tr style=\"text-align: right;\">\n",
       "      <th></th>\n",
       "      <th>鄉鎮市區</th>\n",
       "      <th>建築完成年月</th>\n",
       "      <th>建物移轉總面積[平方公尺]</th>\n",
       "      <th>總價[元]</th>\n",
       "      <th>現況格局-房</th>\n",
       "      <th>現況格局-廳</th>\n",
       "      <th>現況格局-衛</th>\n",
       "    </tr>\n",
       "  </thead>\n",
       "  <tbody>\n",
       "    <tr>\n",
       "      <th>0</th>\n",
       "      <td>香山區</td>\n",
       "      <td>7209.0</td>\n",
       "      <td>114.860</td>\n",
       "      <td>8500000</td>\n",
       "      <td>3</td>\n",
       "      <td>1</td>\n",
       "      <td>1</td>\n",
       "    </tr>\n",
       "    <tr>\n",
       "      <th>1</th>\n",
       "      <td>東區</td>\n",
       "      <td>NaN</td>\n",
       "      <td>75.900</td>\n",
       "      <td>5408000</td>\n",
       "      <td>3</td>\n",
       "      <td>2</td>\n",
       "      <td>1</td>\n",
       "    </tr>\n",
       "    <tr>\n",
       "      <th>2</th>\n",
       "      <td>東區</td>\n",
       "      <td>NaN</td>\n",
       "      <td>0.000</td>\n",
       "      <td>13770000</td>\n",
       "      <td>0</td>\n",
       "      <td>0</td>\n",
       "      <td>0</td>\n",
       "    </tr>\n",
       "    <tr>\n",
       "      <th>3</th>\n",
       "      <td>東區</td>\n",
       "      <td>10102.0</td>\n",
       "      <td>103.851</td>\n",
       "      <td>6900000</td>\n",
       "      <td>1</td>\n",
       "      <td>1</td>\n",
       "      <td>1</td>\n",
       "    </tr>\n",
       "    <tr>\n",
       "      <th>4</th>\n",
       "      <td>香山區</td>\n",
       "      <td>8705.0</td>\n",
       "      <td>28.392</td>\n",
       "      <td>520000</td>\n",
       "      <td>1</td>\n",
       "      <td>0</td>\n",
       "      <td>1</td>\n",
       "    </tr>\n",
       "    <tr>\n",
       "      <th>5</th>\n",
       "      <td>東區</td>\n",
       "      <td>7106.0</td>\n",
       "      <td>110.400</td>\n",
       "      <td>5428000</td>\n",
       "      <td>4</td>\n",
       "      <td>2</td>\n",
       "      <td>1</td>\n",
       "    </tr>\n",
       "    <tr>\n",
       "      <th>6</th>\n",
       "      <td>東區</td>\n",
       "      <td>10102.0</td>\n",
       "      <td>65.804</td>\n",
       "      <td>5300000</td>\n",
       "      <td>1</td>\n",
       "      <td>1</td>\n",
       "      <td>1</td>\n",
       "    </tr>\n",
       "    <tr>\n",
       "      <th>7</th>\n",
       "      <td>東區</td>\n",
       "      <td>10102.0</td>\n",
       "      <td>65.804</td>\n",
       "      <td>5630000</td>\n",
       "      <td>1</td>\n",
       "      <td>1</td>\n",
       "      <td>1</td>\n",
       "    </tr>\n",
       "    <tr>\n",
       "      <th>8</th>\n",
       "      <td>東區</td>\n",
       "      <td>10102.0</td>\n",
       "      <td>88.335</td>\n",
       "      <td>6550000</td>\n",
       "      <td>1</td>\n",
       "      <td>1</td>\n",
       "      <td>1</td>\n",
       "    </tr>\n",
       "    <tr>\n",
       "      <th>9</th>\n",
       "      <td>東區</td>\n",
       "      <td>5912.0</td>\n",
       "      <td>72.000</td>\n",
       "      <td>5100000</td>\n",
       "      <td>4</td>\n",
       "      <td>1</td>\n",
       "      <td>2</td>\n",
       "    </tr>\n",
       "  </tbody>\n",
       "</table>\n",
       "</div>"
      ],
      "text/plain": [
       "  鄉鎮市區   建築完成年月  建物移轉總面積[平方公尺]     總價[元]  現況格局-房  現況格局-廳  現況格局-衛\n",
       "0  香山區   7209.0        114.860   8500000       3       1       1\n",
       "1   東區      NaN         75.900   5408000       3       2       1\n",
       "2   東區      NaN          0.000  13770000       0       0       0\n",
       "3   東區  10102.0        103.851   6900000       1       1       1\n",
       "4  香山區   8705.0         28.392    520000       1       0       1\n",
       "5   東區   7106.0        110.400   5428000       4       2       1\n",
       "6   東區  10102.0         65.804   5300000       1       1       1\n",
       "7   東區  10102.0         65.804   5630000       1       1       1\n",
       "8   東區  10102.0         88.335   6550000       1       1       1\n",
       "9   東區   5912.0         72.000   5100000       4       1       2"
      ]
     },
     "execution_count": 62,
     "metadata": {},
     "output_type": "execute_result"
    }
   ],
   "source": [
    "dfmo=dfmo.rename(      columns={  'P1MA_TOTPRICE'  :  '總價[元]'  }     )\n",
    "dfmo[:10]"
   ]
  },
  {
   "cell_type": "code",
   "execution_count": 83,
   "metadata": {},
   "outputs": [
    {
     "data": {
      "text/plain": [
       "Text(0,0.5,'總價[元]')"
      ]
     },
     "execution_count": 83,
     "metadata": {},
     "output_type": "execute_result"
    },
    {
     "data": {
      "image/png": "[encoded data removed]",
      "text/plain": [
       "<matplotlib.figure.Figure at 0x206925d76a0>"
      ]
     },
     "metadata": {},
     "output_type": "display_data"
    }
   ],
   "source": [
    "dfmo.plot(kind='scatter',x='建物移轉總面積[平方公尺]'  ,y='總價[元]' , figsize=(6,4))\n",
    "plt.xlim(0,10000)\n",
    "plt.ylim(0,0.5*1e9)\n",
    "plt.title('中低度正相關 : r=0.3 ',color='black',size=20)\n",
    "plt.xlabel('建物移轉總面積[平方公尺]',size=20,color='black')\n",
    "plt.ylabel('總價[元]',color='black',size=20)"
   ]
  },
  {
   "cell_type": "code",
   "execution_count": 84,
   "metadata": {},
   "outputs": [
    {
     "data": {
      "text/plain": [
       "Text(0,0.5,'現況格局-衛')"
      ]
     },
     "execution_count": 84,
     "metadata": {},
     "output_type": "execute_result"
    },
    {
     "data": {
      "image/png": "[encoded data removed]",
      "text/plain": [
       "<matplotlib.figure.Figure at 0x20692616588>"
      ]
     },
     "metadata": {},
     "output_type": "display_data"
    }
   ],
   "source": [
    "dfmo.plot(kind='scatter',x='現況格局-房'  ,y='現況格局-衛' , figsize=(6,4))\n",
    "plt.title('高度正相關: r=0.9',color='black',size=20)\n",
    "plt.xlabel('現況格局-房',size=20,color='black')\n",
    "plt.ylabel('現況格局-衛',color='black',size=20)"
   ]
  },
  {
   "cell_type": "code",
   "execution_count": 85,
   "metadata": {},
   "outputs": [
    {
     "data": {
      "text/plain": [
       "Text(0,0.5,'總價[元]')"
      ]
     },
     "execution_count": 85,
     "metadata": {},
     "output_type": "execute_result"
    },
    {
     "data": {
      "image/png": "[encoded data removed]",
      "text/plain": [
       "<matplotlib.figure.Figure at 0x2069266d6d8>"
      ]
     },
     "metadata": {},
     "output_type": "display_data"
    }
   ],
   "source": [
    "dfmo.plot(kind='scatter',x='現況格局-房'  ,y='總價[元]' , figsize=(6,4))\n",
    "plt.title('低度正相關: r=0',color='black',size=20)\n",
    "plt.xlabel('現況格局-房',size=20,color='black')\n",
    "plt.ylabel('總價[元]',color='black',size=20)"
   ]
  },
  {
   "cell_type": "markdown",
   "metadata": {},
   "source": [
    "## 取出欲做　correlation coefficient 的欄位"
   ]
  },
  {
   "cell_type": "code",
   "execution_count": 71,
   "metadata": {},
   "outputs": [],
   "source": [
    "dfmo_conv=dfmo[[\"現況格局-房\",\"建物移轉總面積[平方公尺]\",\"現況格局-廳\",\"現況格局-衛\",\"總價[元]\"]]"
   ]
  },
  {
   "cell_type": "code",
   "execution_count": 72,
   "metadata": {},
   "outputs": [
    {
     "data": {
      "text/html": [
       "<div>\n",
       "<style scoped>\n",
       "    .dataframe tbody tr th:only-of-type {\n",
       "        vertical-align: middle;\n",
       "    }\n",
       "\n",
       "    .dataframe tbody tr th {\n",
       "        vertical-align: top;\n",
       "    }\n",
       "\n",
       "    .dataframe thead th {\n",
       "        text-align: right;\n",
       "    }\n",
       "</style>\n",
       "<table border=\"1\" class=\"dataframe\">\n",
       "  <thead>\n",
       "    <tr style=\"text-align: right;\">\n",
       "      <th></th>\n",
       "      <th>現況格局-房</th>\n",
       "      <th>建物移轉總面積[平方公尺]</th>\n",
       "      <th>現況格局-廳</th>\n",
       "      <th>現況格局-衛</th>\n",
       "      <th>總價[元]</th>\n",
       "    </tr>\n",
       "  </thead>\n",
       "  <tbody>\n",
       "    <tr>\n",
       "      <th>0</th>\n",
       "      <td>3</td>\n",
       "      <td>114.860</td>\n",
       "      <td>1</td>\n",
       "      <td>1</td>\n",
       "      <td>8500000</td>\n",
       "    </tr>\n",
       "    <tr>\n",
       "      <th>1</th>\n",
       "      <td>3</td>\n",
       "      <td>75.900</td>\n",
       "      <td>2</td>\n",
       "      <td>1</td>\n",
       "      <td>5408000</td>\n",
       "    </tr>\n",
       "    <tr>\n",
       "      <th>2</th>\n",
       "      <td>0</td>\n",
       "      <td>0.000</td>\n",
       "      <td>0</td>\n",
       "      <td>0</td>\n",
       "      <td>13770000</td>\n",
       "    </tr>\n",
       "    <tr>\n",
       "      <th>3</th>\n",
       "      <td>1</td>\n",
       "      <td>103.851</td>\n",
       "      <td>1</td>\n",
       "      <td>1</td>\n",
       "      <td>6900000</td>\n",
       "    </tr>\n",
       "    <tr>\n",
       "      <th>4</th>\n",
       "      <td>1</td>\n",
       "      <td>28.392</td>\n",
       "      <td>0</td>\n",
       "      <td>1</td>\n",
       "      <td>520000</td>\n",
       "    </tr>\n",
       "    <tr>\n",
       "      <th>5</th>\n",
       "      <td>4</td>\n",
       "      <td>110.400</td>\n",
       "      <td>2</td>\n",
       "      <td>1</td>\n",
       "      <td>5428000</td>\n",
       "    </tr>\n",
       "    <tr>\n",
       "      <th>6</th>\n",
       "      <td>1</td>\n",
       "      <td>65.804</td>\n",
       "      <td>1</td>\n",
       "      <td>1</td>\n",
       "      <td>5300000</td>\n",
       "    </tr>\n",
       "    <tr>\n",
       "      <th>7</th>\n",
       "      <td>1</td>\n",
       "      <td>65.804</td>\n",
       "      <td>1</td>\n",
       "      <td>1</td>\n",
       "      <td>5630000</td>\n",
       "    </tr>\n",
       "    <tr>\n",
       "      <th>8</th>\n",
       "      <td>1</td>\n",
       "      <td>88.335</td>\n",
       "      <td>1</td>\n",
       "      <td>1</td>\n",
       "      <td>6550000</td>\n",
       "    </tr>\n",
       "    <tr>\n",
       "      <th>9</th>\n",
       "      <td>4</td>\n",
       "      <td>72.000</td>\n",
       "      <td>1</td>\n",
       "      <td>2</td>\n",
       "      <td>5100000</td>\n",
       "    </tr>\n",
       "  </tbody>\n",
       "</table>\n",
       "</div>"
      ],
      "text/plain": [
       "   現況格局-房  建物移轉總面積[平方公尺]  現況格局-廳  現況格局-衛     總價[元]\n",
       "0       3        114.860       1       1   8500000\n",
       "1       3         75.900       2       1   5408000\n",
       "2       0          0.000       0       0  13770000\n",
       "3       1        103.851       1       1   6900000\n",
       "4       1         28.392       0       1    520000\n",
       "5       4        110.400       2       1   5428000\n",
       "6       1         65.804       1       1   5300000\n",
       "7       1         65.804       1       1   5630000\n",
       "8       1         88.335       1       1   6550000\n",
       "9       4         72.000       1       2   5100000"
      ]
     },
     "execution_count": 72,
     "metadata": {},
     "output_type": "execute_result"
    }
   ],
   "source": [
    "dfmo_conv[:10]"
   ]
  },
  {
   "cell_type": "code",
   "execution_count": 80,
   "metadata": {},
   "outputs": [],
   "source": [
    "corr_matrix=dfmo_conv.corr()"
   ]
  },
  {
   "cell_type": "code",
   "execution_count": 81,
   "metadata": {},
   "outputs": [
    {
     "name": "stdout",
     "output_type": "stream",
     "text": [
      "                 現況格局-房  建物移轉總面積[平方公尺]    現況格局-廳    現況格局-衛     總價[元]\n",
      "現況格局-房         1.000000       0.087764  0.527007  0.909033  0.036570\n",
      "建物移轉總面積[平方公尺]  0.087764       1.000000  0.067843  0.079066  0.310652\n",
      "現況格局-廳         0.527007       0.067843  1.000000  0.377910 -0.022321\n",
      "現況格局-衛         0.909033       0.079066  0.377910  1.000000  0.047050\n",
      "總價[元]          0.036570       0.310652 -0.022321  0.047050  1.000000\n"
     ]
    }
   ],
   "source": [
    "print(corr_matrix)"
   ]
  },
  {
   "cell_type": "code",
   "execution_count": null,
   "metadata": {},
   "outputs": [],
   "source": []
  }
 ],
 "metadata": {
  "kernelspec": {
   "display_name": "Python 3",
   "language": "python",
   "name": "python3"
  },
  "language_info": {
   "codemirror_mode": {
    "name": "ipython",
    "version": 3
   },
   "file_extension": ".py",
   "mimetype": "text/x-python",
   "name": "python",
   "nbconvert_exporter": "python",
   "pygments_lexer": "ipython3",
   "version": "3.6.4"
  }
 },
 "nbformat": 4,
 "nbformat_minor": 2
}
